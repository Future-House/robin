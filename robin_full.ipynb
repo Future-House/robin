{
 "cells": [
  {
   "cell_type": "markdown",
   "metadata": {},
   "source": [
    "# Robin"
   ]
  },
  {
   "cell_type": "code",
   "execution_count": null,
   "metadata": {},
   "outputs": [],
   "source": [
    "import logging\n",
    "\n",
    "from robin.analyses import data_analysis\n",
    "from robin.assays import experimental_assay\n",
    "from robin.candidates import therapeutic_candidates\n",
    "from robin.configuration import RobinConfiguration"
   ]
  },
  {
   "cell_type": "markdown",
   "metadata": {},
   "source": [
    "## Robin Set Up"
   ]
  },
  {
   "cell_type": "code",
   "execution_count": null,
   "metadata": {},
   "outputs": [],
   "source": [
    "config = RobinConfiguration(\n",
    "    disease_name=\"dry age-related macular degeneration\",\n",
    "    num_queries=5,\n",
    "    num_assays=10,\n",
    "    num_candidates=30,\n",
    ")\n",
    "\n",
    "logger = logging.getLogger(\"robin\")\n",
    "logger.setLevel(logging.INFO)"
   ]
  },
  {
   "cell_type": "markdown",
   "metadata": {},
   "source": [
    "# Initial therapeutics hypothesis generation"
   ]
  },
  {
   "cell_type": "markdown",
   "metadata": {},
   "source": [
    "### Experimental assay generation"
   ]
  },
  {
   "cell_type": "code",
   "execution_count": null,
   "metadata": {},
   "outputs": [
    {
     "name": "stdout",
     "output_type": "stream",
     "text": [
      "2025-05-28 16:51:31,844 - robin.assays - INFO - Starting selection of a relevant experimental assay.\n",
      "2025-05-28 16:51:31,844 - robin.assays - INFO - ————————————————————————————————————————————————————\n",
      "2025-05-28 16:51:31,845 - robin.assays - INFO - \n",
      "Step 1: Formulating relevant queries for literature search...\n",
      "2025-05-28 16:51:56,566 - robin.assays - INFO - Generated Queries:\n",
      "2025-05-28 16:51:56,567 - robin.assays - INFO - 1. Search for cellular mechanisms of RPE degeneration in dry age-related macular degeneration, focusing on oxidative stress–induced mitochondrial dysfunction, complement activation, lipofuscin accumulation, NLRP3 inflammasome engagement, and their relevance for cell culture endpoint selection \n",
      "2025-05-28 16:51:56,567 - robin.assays - INFO - 2.  Identify in vitro RPE cell culture models used for dry age-related macular degeneration research, including primary human RPE, ARPE-19, induced pluripotent stem cell–derived RPE, and 3D retinal organoids, and characterize their advantages, limitations, and phenotype fidelity \n",
      "2025-05-28 16:51:56,567 - robin.assays - INFO - 3.  Survey mechanistic cell culture assays for monitoring autophagy flux, lysosomal function, and lipofuscin accumulation in RPE cells under oxidative or lipid overload stress conditions, including relevant fluorescent probes, quantitative image analysis methods, and assay validation metrics \n",
      "2025-05-28 16:51:56,567 - robin.assays - INFO - 4.  Compile methodologies for quantifying complement activation and inflammasome signaling in retinal pigment epithelium cell cultures, including detection of C3a/C5a anaphylatoxins, membrane attack complex deposition, caspase-1 enzymatic assays, and IL-1β/IL-18 cytokine release measurements \n",
      "2025-05-28 16:51:56,568 - robin.assays - INFO - 5.  Explore current high-content and high-throughput drug screening approaches using RPE-based in vitro platforms for dry age-related macular degeneration, focusing on multiparametric readouts such as reactive oxygen species production, mitochondrial membrane potential, phagocytosis of photoreceptor outer segments, and automation compatibility for lead optimization\n",
      "2025-05-28 16:51:56,568 - robin.assays - INFO - \n",
      "Step 2: Conducting literature search with FutureHouse platform...\n",
      "2025-05-28 16:51:57,308 - robin.utils - INFO - Starting literature search for 5 queries using job-futurehouse-paperqa2.\n",
      "2025-05-28 16:58:59,917 - robin.utils - INFO - FutureHouse client call completed for 5 tasks.\n",
      "2025-05-28 16:58:59,918 - robin.utils - INFO - Finished processing 5 job-futurehouse-paperqa2 tasks.\n",
      "2025-05-28 16:58:59,930 - robin.utils - INFO - Successfully wrote: query_1_search.txt to: robin_output/dry_age-related_macular_degeneration_2025-05-28_16-51/experimental_assay_literature_reviews/query_1_search.txt\n",
      "2025-05-28 16:58:59,932 - robin.utils - INFO - Successfully wrote: query_2_identify.txt to: robin_output/dry_age-related_macular_degeneration_2025-05-28_16-51/experimental_assay_literature_reviews/query_2_identify.txt\n",
      "2025-05-28 16:58:59,933 - robin.utils - INFO - Successfully wrote: query_3_survey.txt to: robin_output/dry_age-related_macular_degeneration_2025-05-28_16-51/experimental_assay_literature_reviews/query_3_survey.txt\n",
      "2025-05-28 16:58:59,934 - robin.utils - INFO - Successfully wrote: query_4_compile.txt to: robin_output/dry_age-related_macular_degeneration_2025-05-28_16-51/experimental_assay_literature_reviews/query_4_compile.txt\n",
      "2025-05-28 16:58:59,935 - robin.utils - INFO - Successfully wrote: query_5_explore.txt to: robin_output/dry_age-related_macular_degeneration_2025-05-28_16-51/experimental_assay_literature_reviews/query_5_explore.txt\n",
      "2025-05-28 16:58:59,935 - robin.assays - INFO - \n",
      "Step 3: Generating ideas for relevant experimental assays...\n",
      "2025-05-28 16:59:28,831 - robin.assays - INFO - Strategy: Mitochondrial membrane potential assay<|>Reasoning: Assessment of mitochondrial membrane p...\n",
      "2025-05-28 16:59:28,832 - robin.assays - INFO - Strategy: Mitophagy flux assay<|>Reasoning: Quantifying the turnover of damaged mitochondria via mit...\n",
      "2025-05-28 16:59:28,833 - robin.assays - INFO - Strategy: Reactive oxygen species measurement<|>Reasoning: Fluorescent probes such as MitoSOX (mitoc...\n",
      "2025-05-28 16:59:28,833 - robin.assays - INFO - Strategy: Complement activation assay<|>Reasoning: ELISA-based quantification of C3a and C5a in RPE ...\n",
      "2025-05-28 16:59:28,834 - robin.assays - INFO - Strategy: MAC deposition assay<|>Reasoning: Immunofluorescent detection of membrane attack complex (...\n",
      "2025-05-28 16:59:28,834 - robin.assays - INFO - Strategy: Inflammasome activation assay<|>Reasoning: Measurement of caspase-1 activity combined with...\n",
      "2025-05-28 16:59:28,835 - robin.assays - INFO - Strategy: Lipofuscin accumulation assay<|>Reasoning: Autofluorescence imaging at 405/488 nm excitati...\n",
      "2025-05-28 16:59:28,837 - robin.assays - INFO - Strategy: Autophagy flux assay<|>Reasoning: The tandem RFP-GFP-LC3 reporter system distinguishes aut...\n",
      "2025-05-28 16:59:28,838 - robin.assays - INFO - Strategy: Lysosomal function assay<|>Reasoning: Combined use of LysoSensor to monitor pH shifts and ...\n",
      "2025-05-28 16:59:28,838 - robin.assays - INFO - Strategy: Phagocytosis assay<|>Reasoning: Measurement of pHrodo-labeled photoreceptor outer segment ...\n",
      "2025-05-28 16:59:28,846 - robin.assays - INFO - Successfully exported to robin_output/dry_age-related_macular_degeneration_2025-05-28_16-51/experimental_assay_summary.txt\n",
      "2025-05-28 16:59:28,846 - robin.assays - INFO - \n",
      "Step 4: Detailed investigation and evaluation for each assay...\n",
      "2025-05-28 16:59:29,429 - robin.utils - INFO - Starting literature search for 10 queries using job-futurehouse-paperqa2.\n",
      "2025-05-28 17:14:27,719 - robin.utils - INFO - FutureHouse client call completed for 10 tasks.\n",
      "2025-05-28 17:14:27,719 - robin.utils - INFO - Finished processing 10 job-futurehouse-paperqa2 tasks.\n",
      "2025-05-28 17:14:27,734 - robin.utils - INFO - Successfully wrote: assay_hypothesis_1_mitochondrial.txt to: robin_output/dry_age-related_macular_degeneration_2025-05-28_16-51/experimental_assay_detailed_hypotheses/assay_hypothesis_1_mitochondrial.txt\n",
      "2025-05-28 17:14:27,735 - robin.utils - INFO - Successfully wrote: assay_hypothesis_2_mitophagy.txt to: robin_output/dry_age-related_macular_degeneration_2025-05-28_16-51/experimental_assay_detailed_hypotheses/assay_hypothesis_2_mitophagy.txt\n",
      "2025-05-28 17:14:27,737 - robin.utils - INFO - Successfully wrote: assay_hypothesis_3_reactive.txt to: robin_output/dry_age-related_macular_degeneration_2025-05-28_16-51/experimental_assay_detailed_hypotheses/assay_hypothesis_3_reactive.txt\n",
      "2025-05-28 17:14:27,739 - robin.utils - INFO - Successfully wrote: assay_hypothesis_4_complement.txt to: robin_output/dry_age-related_macular_degeneration_2025-05-28_16-51/experimental_assay_detailed_hypotheses/assay_hypothesis_4_complement.txt\n",
      "2025-05-28 17:14:27,740 - robin.utils - INFO - Successfully wrote: assay_hypothesis_5_mac.txt to: robin_output/dry_age-related_macular_degeneration_2025-05-28_16-51/experimental_assay_detailed_hypotheses/assay_hypothesis_5_mac.txt\n",
      "2025-05-28 17:14:27,742 - robin.utils - INFO - Successfully wrote: assay_hypothesis_6_inflammasome.txt to: robin_output/dry_age-related_macular_degeneration_2025-05-28_16-51/experimental_assay_detailed_hypotheses/assay_hypothesis_6_inflammasome.txt\n",
      "2025-05-28 17:14:27,743 - robin.utils - INFO - Successfully wrote: assay_hypothesis_7_lipofuscin.txt to: robin_output/dry_age-related_macular_degeneration_2025-05-28_16-51/experimental_assay_detailed_hypotheses/assay_hypothesis_7_lipofuscin.txt\n",
      "2025-05-28 17:14:27,744 - robin.utils - INFO - Successfully wrote: assay_hypothesis_8_autophagy.txt to: robin_output/dry_age-related_macular_degeneration_2025-05-28_16-51/experimental_assay_detailed_hypotheses/assay_hypothesis_8_autophagy.txt\n",
      "2025-05-28 17:14:27,747 - robin.utils - INFO - Successfully wrote: assay_hypothesis_9_lysosomal.txt to: robin_output/dry_age-related_macular_degeneration_2025-05-28_16-51/experimental_assay_detailed_hypotheses/assay_hypothesis_9_lysosomal.txt\n",
      "2025-05-28 17:14:27,749 - robin.utils - INFO - Successfully wrote: assay_hypothesis_10_phagocytosis.txt to: robin_output/dry_age-related_macular_degeneration_2025-05-28_16-51/experimental_assay_detailed_hypotheses/assay_hypothesis_10_phagocytosis.txt\n",
      "2025-05-28 17:14:27,749 - robin.assays - INFO - \n",
      "Step 5: Selecting the top experimental assay...\n",
      "2025-05-28 17:14:27,750 - robin.utils - INFO - Starting comparisons for 45 pairs with max concurrency 100...\n"
     ]
    },
    {
     "name": "stderr",
     "output_type": "stream",
     "text": [
      "Comparing Hypotheses: 100%|██████████| 45/45 [00:32<00:00,  1.38it/s]"
     ]
    },
    {
     "name": "stdout",
     "output_type": "stream",
     "text": [
      "2025-05-28 17:15:00,411 - robin.utils - INFO - \n",
      "Finished processing pairs.\n",
      "2025-05-28 17:15:00,414 - robin.utils - INFO -  - Successful comparisons: 45\n",
      "2025-05-28 17:15:00,416 - robin.utils - INFO -  - Errors encountered: 0\n",
      "2025-05-28 17:15:00,434 - robin.utils - INFO - Successfully saved 45 results to robin_output/dry_age-related_macular_degeneration_2025-05-28_16-51/experimental_assay_ranking_results.csv\n",
      "2025-05-28 17:15:00,457 - robin.assays - INFO - Experimental Assay Selected: Phagocytosis assay\n"
     ]
    },
    {
     "name": "stderr",
     "output_type": "stream",
     "text": [
      "\n"
     ]
    },
    {
     "name": "stdout",
     "output_type": "stream",
     "text": [
      "2025-05-28 17:15:05,385 - robin.assays - INFO - Candidate Generation Goal: Use a high-throughput fluorescence-based RPE phagocytosis assay to identify novel compounds that enhance photoreceptor outer segment clearance, thereby restoring RPE function and preventing progression of dry age-related macular degeneration.\n"
     ]
    }
   ],
   "source": [
    "candidate_generation_goal = await experimental_assay(configuration=config)"
   ]
  },
  {
   "cell_type": "markdown",
   "metadata": {},
   "source": [
    "### Therapeutic candidate generation"
   ]
  },
  {
   "cell_type": "code",
   "execution_count": null,
   "metadata": {},
   "outputs": [
    {
     "name": "stdout",
     "output_type": "stream",
     "text": [
      "2025-05-28 17:59:09,704 - robin.candidates - INFO - Starting generation of 30 therapeutic candidates.\n",
      "2025-05-28 17:59:09,705 - robin.candidates - INFO - ———————————————————————————————————————————————————————————————\n",
      "2025-05-28 17:59:09,706 - robin.candidates - INFO - \n",
      "Step 1: Formulating relevant queries for literature search...\n",
      "2025-05-28 17:59:23,653 - robin.candidates - INFO - Generated Queries:\n",
      "2025-05-28 17:59:23,654 - robin.candidates - INFO - 1. Literature on high-throughput fluorescence-based RPE phagocytosis assays for screening small molecules or biologics that enhance photoreceptor outer segment clearance in primary human RPE or iPSC-derived RPE under oxidative stress conditions modeling dry AMD, including assay optimization, sensitivity, and validation metrics\n",
      "2025-05-28 17:59:23,654 - robin.candidates - INFO - 2. Studies reporting small molecule screening hits that improve RPE phagocytic capacity in disease-relevant animal models of dry AMD, such as Cfh⁻/⁻ mice or sodium iodate-induced RPE degeneration, with emphasis on target identification, dose–response, and functional restoration of outer segment ingestion\n",
      "2025-05-28 17:59:23,654 - robin.candidates - INFO - 3. Investigations of molecular targets and signaling pathways regulating RPE phagocytosis in health and dry AMD contexts, including MerTK, MFGE8, αvβ5 integrin receptors, and their upstream regulators, with genetic and pharmacological validation of pathway modulation improving outer segment clearance in RPE cells\n",
      "2025-05-28 17:59:23,654 - robin.candidates - INFO - 4. Pharmacokinetics, biodistribution, and safety profiles of candidate small molecules or repurposed drugs shown to enhance RPE phagocytosis or autophagy in preclinical models of retinal degeneration, including ADME characteristics relevant to ocular delivery and blood–retinal barrier penetration\n",
      "2025-05-28 17:59:23,654 - robin.candidates - INFO - 5. Emerging novel chemical scaffolds or repurposed FDA-approved drugs with mechanistic specificity for stimulating RPE phagocytosis or autophagy, with data on target engagement, off-target profiling, and neuroprotective effects on photoreceptor survival in dry AMD-relevant systems\n",
      "2025-05-28 17:59:23,655 - robin.candidates - INFO - 6. Comprehensive reviews and primary research on the pathophysiological mechanisms underlying dry age-related macular degeneration, focusing on RPE dysfunction, lipofuscin accumulation, oxidative stress pathways, and impaired clearance of photoreceptor outer segments in human donor tissues and cell models\n",
      "2025-05-28 17:59:23,655 - robin.candidates - INFO - 7. Genetic and functional evidence linking complement system dysregulation, inflammasome activation, and NLRP3-mediated inflammatory pathways to RPE cell death and disease progression in dry AMD patients, including GWAS studies, patient genotype–phenotype correlations, and mechanistic cell culture assays\n",
      "2025-05-28 17:59:23,655 - robin.candidates - INFO - 8. Experimental studies detailing the role of mitochondrial dysfunction, lysosomal impairment, and autophagy–lysosome pathway deficits in RPE cells derived from dry AMD patients, including demonstration of causality via rescue experiments using genetic modulation or small molecule enhancers of autophagy\n",
      "2025-05-28 17:59:23,655 - robin.candidates - INFO - 9. Characterization of photoreceptor outer segment shedding, opsin degradation, and RPE phagosome maturation defects in animal and organoid models of dry AMD, with emphasis on molecular markers, time-course analyses, and correlation with retinal morphology and function in vivo\n",
      "2025-05-28 17:59:23,656 - robin.candidates - INFO - 10. Investigations into the interplay between complement-mediated sub-RPE deposit formation (drusen), local inflammatory milieu, and consequent impairment of RPE phagocytic and autophagic processes in early versus late dry AMD stages, with focus on therapeutic window identification\n",
      "2025-05-28 17:59:23,656 - robin.candidates - INFO - \n",
      "Step 2: Conducting literature search with FutureHouse platform...\n",
      "2025-05-28 17:59:26,461 - robin.utils - INFO - Starting literature search for 10 queries using job-futurehouse-paperqa2.\n",
      "2025-05-28 18:14:36,297 - robin.utils - INFO - Finished processing 10 tasks.\n",
      "Successfully wrote: query_1_literature.txt to: robin_output/dry_age-related_macular_degeneration_2025-05-28_17-58/therapeutic_candidate_literature_reviews/query_1_literature.txt\n",
      "Successfully wrote: query_2_studies.txt to: robin_output/dry_age-related_macular_degeneration_2025-05-28_17-58/therapeutic_candidate_literature_reviews/query_2_studies.txt\n",
      "Successfully wrote: query_3_investigations.txt to: robin_output/dry_age-related_macular_degeneration_2025-05-28_17-58/therapeutic_candidate_literature_reviews/query_3_investigations.txt\n",
      "Successfully wrote: query_4_pharmacokinetics.txt to: robin_output/dry_age-related_macular_degeneration_2025-05-28_17-58/therapeutic_candidate_literature_reviews/query_4_pharmacokinetics.txt\n",
      "Successfully wrote: query_5_emerging.txt to: robin_output/dry_age-related_macular_degeneration_2025-05-28_17-58/therapeutic_candidate_literature_reviews/query_5_emerging.txt\n",
      "Successfully wrote: query_6_comprehensive.txt to: robin_output/dry_age-related_macular_degeneration_2025-05-28_17-58/therapeutic_candidate_literature_reviews/query_6_comprehensive.txt\n",
      "Successfully wrote: query_7_genetic.txt to: robin_output/dry_age-related_macular_degeneration_2025-05-28_17-58/therapeutic_candidate_literature_reviews/query_7_genetic.txt\n",
      "Successfully wrote: query_8_experimental.txt to: robin_output/dry_age-related_macular_degeneration_2025-05-28_17-58/therapeutic_candidate_literature_reviews/query_8_experimental.txt\n",
      "Successfully wrote: query_9_characterization.txt to: robin_output/dry_age-related_macular_degeneration_2025-05-28_17-58/therapeutic_candidate_literature_reviews/query_9_characterization.txt\n",
      "Successfully wrote: query_10_investigations.txt to: robin_output/dry_age-related_macular_degeneration_2025-05-28_17-58/therapeutic_candidate_literature_reviews/query_10_investigations.txt\n",
      "2025-05-28 18:14:36,312 - robin.candidates - INFO - \n",
      "Step 3: Generating 30 ideas for therapeutic candidates...\n",
      "2025-05-28 18:16:03,428 - robin.candidates - INFO - \n",
      "Successfully parsed 30 candidate ideas.\n",
      "2025-05-28 18:16:03,429 - robin.candidates - INFO - Candidate: SR9009 (4-(2-chlorophenyl)-N-(pyridin-4-ylmethyl)thieno[3,2-d]pyrimidin-2-amine; Sigma-Al...\n",
      "2025-05-28 18:16:03,430 - robin.candidates - INFO - Candidate: SR9011 (agonist of REV-ERBα/β; Cayman Chemical Cat# 17307)<|>Hypothesis: SR9011-mediated ...\n",
      "2025-05-28 18:16:03,430 - robin.candidates - INFO - Candidate: Pegcetacoplan (APL-2; Apellis Pharmaceuticals)<|>Hypothesis: Local delivery of pegcetacop...\n",
      "2025-05-28 18:16:03,430 - robin.candidates - INFO - Candidate: Avacincaptad pegol (Zimura; Iveric Bio)<|>Hypothesis: Intravitreal avacincaptad pegol, an...\n",
      "2025-05-28 18:16:03,431 - robin.candidates - INFO - Candidate: Eculizumab (Soliris; Alexion Pharmaceuticals)<|>Hypothesis: Systemic (or intravitreal) ad...\n",
      "2025-05-28 18:16:03,432 - robin.candidates - INFO - Candidate: Anakinra (Kineret; Swedish Orphan Biovitrum)<|>Hypothesis: Intravitreal or periocular Ana...\n",
      "2025-05-28 18:16:03,432 - robin.candidates - INFO - Candidate: Canakinumab (Ilaris; Novartis)<|>Hypothesis: Systemic administration of Canakinumab, an a...\n",
      "2025-05-28 18:16:03,433 - robin.candidates - INFO - Candidate: MCC950 (CP-456,773; Sigma-Aldrich Cat# 538185)<|>Hypothesis: MCC950, a selective NLRP3 in...\n",
      "2025-05-28 18:16:03,433 - robin.candidates - INFO - Candidate: Dapansutrile (OLD1177; Ifm Tree)<|>Hypothesis: Dapansutrile, an orally bioavailable NLRP3 ...\n",
      "2025-05-28 18:16:03,434 - robin.candidates - INFO - Candidate: AZ10606120 (P2X7 receptor antagonist; Tocris Cat# 2528)<|>Hypothesis: Inhibition of P2X7 ...\n",
      "2025-05-28 18:16:03,434 - robin.candidates - INFO - Candidate: AICAR (5-aminoimidazole-4-carboxamide ribonucleotide; Sigma-Aldrich Cat# A1897)<|>Hypothe...\n",
      "2025-05-28 18:16:03,435 - robin.candidates - INFO - Candidate: Metformin (Glucophage; generic)<|>Hypothesis: Metformin-mediated complex I inhibition wil...\n",
      "2025-05-28 18:16:03,435 - robin.candidates - INFO - Candidate: Rapamycin (Sirolimus; Pfizer)<|>Hypothesis: mTOR inhibition by rapamycin in RPE cells wil...\n",
      "2025-05-28 18:16:03,436 - robin.candidates - INFO - Candidate: Trehalose (Sigma-Aldrich Cat# T9531)<|>Hypothesis: Trehalose will activate TFEB in RPE ce...\n",
      "2025-05-28 18:16:03,437 - robin.candidates - INFO - Candidate: Resveratrol (Sigma-Aldrich Cat# R5010)<|>Hypothesis: SIRT1 activation by resveratrol in R...\n",
      "2025-05-28 18:16:03,438 - robin.candidates - INFO - Candidate: Nicotinamide Mononucleotide (NMN; Cayman Chemical Cat# 39762)<|>Hypothesis: Supplementati...\n",
      "2025-05-28 18:16:03,438 - robin.candidates - INFO - Candidate: Elamipretide (SS-31; Stealth BioTherapeutics)<|>Hypothesis: Mitochondria-targeted peptide...\n",
      "2025-05-28 18:16:03,439 - robin.candidates - INFO - Candidate: Humanin (Sequel Bio; synthetic Humanin analog HN-S14G)<|>Hypothesis: Administration of mi...\n",
      "2025-05-28 18:16:03,439 - robin.candidates - INFO - Candidate: SkQ1 (Visomitin; Plantex)<|>Hypothesis: Mitochondria-targeted antioxidant SkQ1 will local...\n",
      "2025-05-28 18:16:03,440 - robin.candidates - INFO - Candidate: Recombinant human Gas6 (R&D Systems Cat# 885-GS-050)<|>Hypothesis: Exogenous Gas6 will ac...\n",
      "2025-05-28 18:16:03,440 - robin.candidates - INFO - Candidate: Recombinant human MFG-E8 (Milk fat globule-EGF factor 8; Sino Biological Cat# 10051-H08H)...\n",
      "2025-05-28 18:16:03,440 - robin.candidates - INFO - Candidate: ZLN005 (PGC-1α transcriptional activator; MedChemExpress Cat# HY-12491)<|>Hypothesis: Act...\n",
      "2025-05-28 18:16:03,441 - robin.candidates - INFO - Candidate: SRT1720 (SIRT1 activator; Cayman Chemical Cat# 12054)<|>Hypothesis: SRT1720-induced SIRT1...\n",
      "2025-05-28 18:16:03,441 - robin.candidates - INFO - Candidate: Bardoxolone methyl (CDDO-Me; Reata Pharmaceuticals)<|>Hypothesis: Bardoxolone methyl will...\n",
      "2025-05-28 18:16:03,442 - robin.candidates - INFO - Candidate: Omaveloxolone (RTA 408; Reata Pharmaceuticals)<|>Hypothesis: Omaveloxolone-mediated NRF2 ...\n",
      "2025-05-28 18:16:03,442 - robin.candidates - INFO - Candidate: Sulforaphane (Sigma-Aldrich Cat# S4441)<|>Hypothesis: Sulforaphane will activate NRF2 in ...\n",
      "2025-05-28 18:16:03,442 - robin.candidates - INFO - Candidate: Fenofibrate (Tricor; AbbVie)<|>Hypothesis: PPARα activation by fenofibrate in RPE will up...\n",
      "2025-05-28 18:16:03,443 - robin.candidates - INFO - Candidate: MitoQ (mitoquinone; Aviva Systems Biology Cat# OX1125)<|>Hypothesis: MitoQ will accumulat...\n",
      "2025-05-28 18:16:03,443 - robin.candidates - INFO - Candidate: β-Lapachone (NQO1 substrate; Santa Cruz Cat# sc-204290)<|>Hypothesis: β-Lapachone–mediate...\n",
      "2025-05-28 18:16:03,443 - robin.candidates - INFO - Candidate: T0901317 (LXR agonist; Cayman Chemical Cat# 35320)<|>Hypothesis: Activation of liver X re...\n",
      "2025-05-28 18:16:03,455 - robin.candidates - INFO - Successfully exported to robin_output/dry_age-related_macular_degeneration_2025-05-28_17-58/therapeutic_candidates_summary.txt\n",
      "2025-05-28 18:16:03,455 - robin.candidates - INFO - \n",
      "Step 4: Detailed investigation and evaluation for candidates...\n",
      "2025-05-28 18:16:03,944 - robin.utils - INFO - Starting literature search for 30 queries using job-futurehouse-paperqa2-deep.\n",
      "2025-05-28 18:45:16,722 - robin.utils - INFO - Finished processing 30 tasks.\n",
      "Successfully wrote: therapeutic_candidate_1_sr9009.txt to: robin_output/dry_age-related_macular_degeneration_2025-05-28_17-58/therapeutic_candidate_detailed_hypotheses/therapeutic_candidate_1_sr9009.txt\n",
      "Successfully wrote: therapeutic_candidate_2_sr9011.txt to: robin_output/dry_age-related_macular_degeneration_2025-05-28_17-58/therapeutic_candidate_detailed_hypotheses/therapeutic_candidate_2_sr9011.txt\n",
      "Successfully wrote: therapeutic_candidate_3_pegcetacoplan.txt to: robin_output/dry_age-related_macular_degeneration_2025-05-28_17-58/therapeutic_candidate_detailed_hypotheses/therapeutic_candidate_3_pegcetacoplan.txt\n",
      "Successfully wrote: therapeutic_candidate_4_avacincaptad.txt to: robin_output/dry_age-related_macular_degeneration_2025-05-28_17-58/therapeutic_candidate_detailed_hypotheses/therapeutic_candidate_4_avacincaptad.txt\n",
      "Successfully wrote: therapeutic_candidate_5_eculizumab.txt to: robin_output/dry_age-related_macular_degeneration_2025-05-28_17-58/therapeutic_candidate_detailed_hypotheses/therapeutic_candidate_5_eculizumab.txt\n",
      "Successfully wrote: therapeutic_candidate_6_anakinra.txt to: robin_output/dry_age-related_macular_degeneration_2025-05-28_17-58/therapeutic_candidate_detailed_hypotheses/therapeutic_candidate_6_anakinra.txt\n",
      "Successfully wrote: therapeutic_candidate_7_canakinumab.txt to: robin_output/dry_age-related_macular_degeneration_2025-05-28_17-58/therapeutic_candidate_detailed_hypotheses/therapeutic_candidate_7_canakinumab.txt\n",
      "Successfully wrote: therapeutic_candidate_8_mcc950.txt to: robin_output/dry_age-related_macular_degeneration_2025-05-28_17-58/therapeutic_candidate_detailed_hypotheses/therapeutic_candidate_8_mcc950.txt\n",
      "Successfully wrote: therapeutic_candidate_9_dapansutrile.txt to: robin_output/dry_age-related_macular_degeneration_2025-05-28_17-58/therapeutic_candidate_detailed_hypotheses/therapeutic_candidate_9_dapansutrile.txt\n",
      "Successfully wrote: therapeutic_candidate_10_az10606120.txt to: robin_output/dry_age-related_macular_degeneration_2025-05-28_17-58/therapeutic_candidate_detailed_hypotheses/therapeutic_candidate_10_az10606120.txt\n",
      "Successfully wrote: therapeutic_candidate_11_aicar.txt to: robin_output/dry_age-related_macular_degeneration_2025-05-28_17-58/therapeutic_candidate_detailed_hypotheses/therapeutic_candidate_11_aicar.txt\n",
      "Successfully wrote: therapeutic_candidate_12_metformin.txt to: robin_output/dry_age-related_macular_degeneration_2025-05-28_17-58/therapeutic_candidate_detailed_hypotheses/therapeutic_candidate_12_metformin.txt\n",
      "Successfully wrote: therapeutic_candidate_13_rapamycin.txt to: robin_output/dry_age-related_macular_degeneration_2025-05-28_17-58/therapeutic_candidate_detailed_hypotheses/therapeutic_candidate_13_rapamycin.txt\n",
      "Successfully wrote: therapeutic_candidate_14_trehalose.txt to: robin_output/dry_age-related_macular_degeneration_2025-05-28_17-58/therapeutic_candidate_detailed_hypotheses/therapeutic_candidate_14_trehalose.txt\n",
      "Successfully wrote: therapeutic_candidate_15_resveratrol.txt to: robin_output/dry_age-related_macular_degeneration_2025-05-28_17-58/therapeutic_candidate_detailed_hypotheses/therapeutic_candidate_15_resveratrol.txt\n",
      "Successfully wrote: therapeutic_candidate_16_nicotinamide.txt to: robin_output/dry_age-related_macular_degeneration_2025-05-28_17-58/therapeutic_candidate_detailed_hypotheses/therapeutic_candidate_16_nicotinamide.txt\n",
      "Successfully wrote: therapeutic_candidate_17_elamipretide.txt to: robin_output/dry_age-related_macular_degeneration_2025-05-28_17-58/therapeutic_candidate_detailed_hypotheses/therapeutic_candidate_17_elamipretide.txt\n",
      "Successfully wrote: therapeutic_candidate_18_humanin.txt to: robin_output/dry_age-related_macular_degeneration_2025-05-28_17-58/therapeutic_candidate_detailed_hypotheses/therapeutic_candidate_18_humanin.txt\n",
      "Successfully wrote: therapeutic_candidate_19_skq1.txt to: robin_output/dry_age-related_macular_degeneration_2025-05-28_17-58/therapeutic_candidate_detailed_hypotheses/therapeutic_candidate_19_skq1.txt\n",
      "Successfully wrote: therapeutic_candidate_20_recombinant.txt to: robin_output/dry_age-related_macular_degeneration_2025-05-28_17-58/therapeutic_candidate_detailed_hypotheses/therapeutic_candidate_20_recombinant.txt\n",
      "Successfully wrote: therapeutic_candidate_21_recombinant.txt to: robin_output/dry_age-related_macular_degeneration_2025-05-28_17-58/therapeutic_candidate_detailed_hypotheses/therapeutic_candidate_21_recombinant.txt\n",
      "Successfully wrote: therapeutic_candidate_22_zln005.txt to: robin_output/dry_age-related_macular_degeneration_2025-05-28_17-58/therapeutic_candidate_detailed_hypotheses/therapeutic_candidate_22_zln005.txt\n",
      "Successfully wrote: therapeutic_candidate_23_srt1720.txt to: robin_output/dry_age-related_macular_degeneration_2025-05-28_17-58/therapeutic_candidate_detailed_hypotheses/therapeutic_candidate_23_srt1720.txt\n",
      "Successfully wrote: therapeutic_candidate_24_bardoxolone.txt to: robin_output/dry_age-related_macular_degeneration_2025-05-28_17-58/therapeutic_candidate_detailed_hypotheses/therapeutic_candidate_24_bardoxolone.txt\n",
      "Successfully wrote: therapeutic_candidate_25_omaveloxolone.txt to: robin_output/dry_age-related_macular_degeneration_2025-05-28_17-58/therapeutic_candidate_detailed_hypotheses/therapeutic_candidate_25_omaveloxolone.txt\n",
      "Successfully wrote: therapeutic_candidate_26_sulforaphane.txt to: robin_output/dry_age-related_macular_degeneration_2025-05-28_17-58/therapeutic_candidate_detailed_hypotheses/therapeutic_candidate_26_sulforaphane.txt\n",
      "Successfully wrote: therapeutic_candidate_27_fenofibrate.txt to: robin_output/dry_age-related_macular_degeneration_2025-05-28_17-58/therapeutic_candidate_detailed_hypotheses/therapeutic_candidate_27_fenofibrate.txt\n",
      "Successfully wrote: therapeutic_candidate_28_mitoq.txt to: robin_output/dry_age-related_macular_degeneration_2025-05-28_17-58/therapeutic_candidate_detailed_hypotheses/therapeutic_candidate_28_mitoq.txt\n",
      "Successfully wrote: therapeutic_candidate_29_βlapachone.txt to: robin_output/dry_age-related_macular_degeneration_2025-05-28_17-58/therapeutic_candidate_detailed_hypotheses/therapeutic_candidate_29_βlapachone.txt\n",
      "Successfully wrote: therapeutic_candidate_30_t0901317.txt to: robin_output/dry_age-related_macular_degeneration_2025-05-28_17-58/therapeutic_candidate_detailed_hypotheses/therapeutic_candidate_30_t0901317.txt\n",
      "2025-05-28 18:47:03,392 - robin.candidates - INFO - \n",
      "Step 5: Ranking the strength of the therapeutic candidates...\n",
      "2025-05-28 18:47:03,393 - robin.utils - INFO - Processing file: therapeutic_candidate_8_mcc950.txt...\n",
      "2025-05-28 18:47:03,395 - robin.utils - INFO - Processing file: therapeutic_candidate_6_anakinra.txt...\n",
      "2025-05-28 18:47:03,400 - robin.utils - INFO - Processing file: therapeutic_candidate_18_humanin.txt...\n",
      "2025-05-28 18:47:03,404 - robin.utils - INFO - Processing file: therapeutic_candidate_28_mitoq.txt...\n",
      "2025-05-28 18:47:03,410 - robin.utils - INFO - Processing file: therapeutic_candidate_29_βlapachone.txt...\n",
      "2025-05-28 18:47:03,427 - robin.utils - INFO - Processing file: therapeutic_candidate_16_nicotinamide.txt...\n",
      "2025-05-28 18:47:03,431 - robin.utils - INFO - Processing file: therapeutic_candidate_9_dapansutrile.txt...\n",
      "2025-05-28 18:47:03,432 - robin.utils - INFO - Processing file: therapeutic_candidate_27_fenofibrate.txt...\n",
      "2025-05-28 18:47:03,446 - robin.utils - INFO - Processing file: therapeutic_candidate_24_bardoxolone.txt...\n",
      "2025-05-28 18:47:03,449 - robin.utils - INFO - Processing file: therapeutic_candidate_12_metformin.txt...\n",
      "2025-05-28 18:47:03,450 - robin.utils - INFO - Processing file: therapeutic_candidate_3_pegcetacoplan.txt...\n",
      "2025-05-28 18:47:03,451 - robin.utils - INFO - Processing file: therapeutic_candidate_4_avacincaptad.txt...\n",
      "2025-05-28 18:47:03,451 - robin.utils - INFO - Processing file: therapeutic_candidate_30_t0901317.txt...\n",
      "2025-05-28 18:47:03,453 - robin.utils - INFO - Processing file: therapeutic_candidate_22_zln005.txt...\n",
      "2025-05-28 18:47:03,455 - robin.utils - INFO - Processing file: therapeutic_candidate_21_recombinant.txt...\n",
      "2025-05-28 18:47:03,456 - robin.utils - INFO - Processing file: therapeutic_candidate_11_aicar.txt...\n",
      "2025-05-28 18:47:03,457 - robin.utils - INFO - Processing file: therapeutic_candidate_23_srt1720.txt...\n",
      "2025-05-28 18:47:03,458 - robin.utils - INFO - Processing file: therapeutic_candidate_19_skq1.txt...\n",
      "2025-05-28 18:47:03,459 - robin.utils - INFO - Processing file: therapeutic_candidate_13_rapamycin.txt...\n",
      "2025-05-28 18:47:03,459 - robin.utils - INFO - Processing file: therapeutic_candidate_25_omaveloxolone.txt...\n",
      "2025-05-28 18:47:03,461 - robin.utils - INFO - Processing file: therapeutic_candidate_10_az10606120.txt...\n",
      "2025-05-28 18:47:03,461 - robin.utils - INFO - Processing file: therapeutic_candidate_17_elamipretide.txt...\n",
      "2025-05-28 18:47:03,462 - robin.utils - INFO - Processing file: therapeutic_candidate_7_canakinumab.txt...\n",
      "2025-05-28 18:47:03,462 - robin.utils - INFO - Processing file: therapeutic_candidate_5_eculizumab.txt...\n",
      "2025-05-28 18:47:03,463 - robin.utils - INFO - Processing file: therapeutic_candidate_14_trehalose.txt...\n",
      "2025-05-28 18:47:03,463 - robin.utils - INFO - Processing file: therapeutic_candidate_20_recombinant.txt...\n",
      "2025-05-28 18:47:03,464 - robin.utils - INFO - Processing file: therapeutic_candidate_15_resveratrol.txt...\n",
      "2025-05-28 18:47:03,464 - robin.utils - INFO - Processing file: therapeutic_candidate_2_sr9011.txt...\n",
      "2025-05-28 18:47:03,465 - robin.utils - INFO - Processing file: therapeutic_candidate_1_sr9009.txt...\n",
      "2025-05-28 18:47:03,465 - robin.utils - INFO - Processing file: therapeutic_candidate_26_sulforaphane.txt...\n",
      "2025-05-28 18:47:03,467 - robin.utils - INFO - Starting comparisons for 300 pairs with max concurrency 100...\n"
     ]
    },
    {
     "name": "stderr",
     "output_type": "stream",
     "text": [
      "Comparing Hypotheses:  16%|█▌        | 48/300 [00:11<00:15, 16.64it/s]"
     ]
    },
    {
     "name": "stdout",
     "output_type": "stream",
     "text": [
      "2025-05-28 18:47:15,660 - robin.utils - ERROR - \n",
      "JSON Decode Error for pair (21, 22) (Index 27)\n",
      "Raw Content: {\n",
      "    \"Analysis\": \"Both candidates address key components of dry AMD pathology but differ markedly in the strength of evidence, mechanism specificity, safety profile, and translational readiness. Elamipretide (SS-31) directly targets mitochondrial dysfunction in RPE cells—a central, upstream driver of dry AMD—through high-affinity cardiolipin binding that stabilizes cristae, improves ATP generation, and reduces ROS. This MoA is well supported by in vitro RPE models, AMD cybrid data, and multiple in vivo studies demonstrating functional retinal improvements. Importantly, early-phase clinical trials (ReCLAIM) in dry AMD have established safety, tolerability, and preliminary visual acuity benefits, underscoring direct relevance. Drug delivery via systemic or periocular routes has achieved retinal bioavailability, and ongoing SAR optimization enhances mitochondrial uptake.  \n",
      "Canakinumab, in contrast, is a systemic anti–IL-1β antibody with robust efficacy in systemic autoinflammatory diseases and an excellent safety record. Its rationale in dry AMD rests on preclinical evidence of NLRP3 inflammasome activation and IL-1β–driven RPE inflammation. However, clinical data in AMD are limited to a Phase I wet AMD trial; there are no completed efficacy studies in dry AMD. While neutralizing IL-1β may reduce parainflammation and downstream NF-κB activation, IL-18 and other inflammasome mediators remain active, and the multifactorial nature of AMD likely requires more than single-cytokine blockade. Systemic immunosuppression risks, uncertain ocular penetration, and the indirect nature of the intervention pose translational challenges. Thus, although canakinumab is clinically proven in other indications, its direct relevance and evidence in dry AMD are less compelling than elamipretide’s targeted mitochondrial approach.\",\n",
      "    \"Reasoning\": \"Elamipretide (ID 21) is selected as the superior candidate because it addresses a core, upstream pathology—mitochondrial dysfunction—in RPE degeneration with a clear, well-characterized MoA. It has direct preclinical and early clinical evidence in dry AMD, demonstrating both target engagement and functional benefit. Its safety profile in ocular studies is favorable, and delivery methods have been validated for retinal uptake. Canakinumab (ID 22), while safe and effective in systemic inflammatory diseases, lacks direct clinical efficacy data in dry AMD, targets a downstream inflammatory mediator (IL-1β) without blocking other inflammasome products, and carries risks inherent to systemic immunomodulation. Given the prioritized criteria—strength of evidence, mechanistic specificity, safety, and feasibility—elamipretide offers a higher probability of successful translation into a viable dry AMD therapy.\",\n",
      "    \"Winner\": \"(Elamipretide, 21)\",\n",
      "    \"Loser\": \"(Canakinumab, 22)\"\n",
      "}\n",
      "Traceback (most recent call last):\n",
      "  File \"/Users/benjaminchang/Desktop/hypocrow-local-internal/robin/utils.py\", line 968, in process_comparison_pair\n",
      "    evaluation_result = json.loads(json_string)\n",
      "                        ^^^^^^^^^^^^^^^^^^^^^^^\n",
      "  File \"/Users/benjaminchang/miniconda3/envs/poplar/lib/python3.12/json/__init__.py\", line 346, in loads\n",
      "    return _default_decoder.decode(s)\n",
      "           ^^^^^^^^^^^^^^^^^^^^^^^^^^\n",
      "  File \"/Users/benjaminchang/miniconda3/envs/poplar/lib/python3.12/json/decoder.py\", line 338, in decode\n",
      "    obj, end = self.raw_decode(s, idx=_w(s, 0).end())\n",
      "               ^^^^^^^^^^^^^^^^^^^^^^^^^^^^^^^^^^^^^^\n",
      "  File \"/Users/benjaminchang/miniconda3/envs/poplar/lib/python3.12/json/decoder.py\", line 354, in raw_decode\n",
      "    obj, end = self.scan_once(s, idx)\n",
      "               ^^^^^^^^^^^^^^^^^^^^^^\n",
      "json.decoder.JSONDecodeError: Invalid control character at: line 2 column 882 (char 883)\n"
     ]
    },
    {
     "name": "stderr",
     "output_type": "stream",
     "text": [
      "Comparing Hypotheses:  38%|███▊      | 113/300 [00:21<00:29,  6.33it/s]"
     ]
    },
    {
     "name": "stdout",
     "output_type": "stream",
     "text": [
      "2025-05-28 18:47:24,898 - robin.utils - ERROR - \n",
      "JSON Decode Error for pair (5, 18) (Index 129)\n",
      "Raw Content: {\n",
      "    \"Analysis\": \"Candidate 1 (NMN) and Candidate 2 (Rapamycin) both target key pathologies of dry AMD, but differ significantly in existing evidence, specificity, safety and translational readiness. NMN directly replenishes NAD+ in aging RPE cells, restoring SIRT1/PGC-1α signaling, mitochondrial biogenesis, oxidative stress defenses and autophagy. Preclinical data include ARPE-19 and primary RPE studies showing rescue of senescence markers, mitochondrial function and RPE gene expression, plus in vivo rodent models demonstrating BRB penetration, NAD+ restoration, reduced inflammation and preserved RPE integrity. Early human PK and safety data confirm tolerability and NAD+ boosting, though no AMD trials yet. MoA is clear, central to AMD pathology (mitochondrial dysfunction, oxidative stress, impaired autophagy), highly specific, and the safety profile is excellent for an endogenous metabolite. Delivery is feasible orally or systemically, with evidence of retinal targeting.\n",
      "\n",
      "Rapamycin inhibits mTORC1 to induce autophagy, addressing POS debris accumulation and lipofuscin buildup. It has a deep clinical history (organ transplantation, oncology) and some ocular trials (intravitreal/subconjunctival) in AMD-related conditions. Preclinical ARPE-19 and nonhuman primate studies support autophagy induction, but clinical trials in geographic atrophy were terminated or produced safety signals (retinal thinning, VA decrease). MoA is plausible but less specific—mTOR regulates many processes, and overinhibition may impair necessary RPE metabolism and regeneration. Rapamycin’s immunosuppressive profile raises off-target risks. While intravitreal delivery can concentrate drug in the eye, the narrow therapeutic window and mixed clinical outcomes diminish confidence. Further mechanistic clarity on MerTK/αvβ5 phagocytosis and in vivo dry AMD models is needed before clinical advancement.\",\n",
      "    \"Reasoning\": \"NMN is superior because it targets a foundational metabolic deficiency in dry AMD—NAD+ depletion—with a well-articulated, multi-pronged MoA addressing mitochondrial dysfunction, oxidative stress and autophagy within RPE cells. Its preclinical evidence is both robust and directly relevant to dry AMD, and its clinical safety profile in humans is favorable. By contrast, rapamycin’s mTOR inhibition, while mechanistically attractive for inducing autophagy, carries significant translational risk: pleiotropic effects, immunosuppression, adverse ocular signals in clinical trials, and a narrow dosing window. NMN’s endogenous nature, specificity, strong RPE penetration data and lack of serious safety concerns make it the candidate with a higher probability of successful experimental outcome and eventual therapy translation.\",\n",
      "    \"Winner\": \"(Nicotinamide Mononucleotide (NMN), 5)\",\n",
      "    \"Loser\": \"(Rapamycin (Sirolimus), 18)\"\n",
      "}\n",
      "Traceback (most recent call last):\n",
      "  File \"/Users/benjaminchang/Desktop/hypocrow-local-internal/robin/utils.py\", line 968, in process_comparison_pair\n",
      "    evaluation_result = json.loads(json_string)\n",
      "                        ^^^^^^^^^^^^^^^^^^^^^^^\n",
      "  File \"/Users/benjaminchang/miniconda3/envs/poplar/lib/python3.12/json/__init__.py\", line 346, in loads\n",
      "    return _default_decoder.decode(s)\n",
      "           ^^^^^^^^^^^^^^^^^^^^^^^^^^\n",
      "  File \"/Users/benjaminchang/miniconda3/envs/poplar/lib/python3.12/json/decoder.py\", line 338, in decode\n",
      "    obj, end = self.raw_decode(s, idx=_w(s, 0).end())\n",
      "               ^^^^^^^^^^^^^^^^^^^^^^^^^^^^^^^^^^^^^^\n",
      "  File \"/Users/benjaminchang/miniconda3/envs/poplar/lib/python3.12/json/decoder.py\", line 354, in raw_decode\n",
      "    obj, end = self.scan_once(s, idx)\n",
      "               ^^^^^^^^^^^^^^^^^^^^^^\n",
      "json.decoder.JSONDecodeError: Invalid control character at: line 2 column 986 (char 987)\n"
     ]
    },
    {
     "name": "stderr",
     "output_type": "stream",
     "text": [
      "Comparing Hypotheses: 100%|██████████| 300/300 [00:49<00:00,  6.04it/s]"
     ]
    },
    {
     "name": "stdout",
     "output_type": "stream",
     "text": [
      "2025-05-28 18:47:53,243 - robin.utils - INFO - \n",
      "Finished processing pairs.\n",
      "2025-05-28 18:47:53,243 - robin.utils - INFO -  - Successful comparisons: 298\n",
      "2025-05-28 18:47:53,244 - robin.utils - INFO -  - Errors encountered: 2\n",
      "2025-05-28 18:47:53,372 - robin.utils - INFO - Successfully saved 298 results to robin_output/dry_age-related_macular_degeneration_2025-05-28_17-58/therapeutic_candidate_ranking_results.csv\n",
      "2025-05-28 18:47:53,373 - robin.candidates - INFO - Processing ranking output from: robin_output/dry_age-related_macular_degeneration_2025-05-28_17-58/therapeutic_candidate_ranking_results.csv\n",
      "2025-05-28 18:47:53,425 - robin.candidates - INFO - Calling choix.ilsr_pairwise with n_items=30 and 298 games.\n",
      "2025-05-28 18:47:53,436 - robin.candidates - INFO - Therapeutic candidate generation finished! Saved final rankings to robin_output/dry_age-related_macular_degeneration_2025-05-28_17-58/ranked_therapeutic_candidates.csv\n"
     ]
    },
    {
     "name": "stderr",
     "output_type": "stream",
     "text": [
      "\n"
     ]
    }
   ],
   "source": [
    "await therapeutic_candidates(\n",
    "    candidate_generation_goal=candidate_generation_goal, configuration=config\n",
    ")"
   ]
  },
  {
   "cell_type": "markdown",
   "metadata": {},
   "source": [
    "# Therapeutic hypothesis generation with experimental data"
   ]
  },
  {
   "cell_type": "markdown",
   "metadata": {},
   "source": [
    "### [NOTE] Running this part of Robin requires access to the Finch data analysis agent, which is currently in a closed beta. Sign up to be a beta tester here: [bit.ly/finchbeta](www.bit.ly/finchbeta)."
   ]
  },
  {
   "cell_type": "code",
   "execution_count": null,
   "metadata": {},
   "outputs": [],
   "source": [
    "data_path = \"AG4/\"  # Input either a data folder or file path\n",
    "data_analysis_type = \"flow_cytometry\"  # select from 'flow_cytometry' or 'RNA_seq'"
   ]
  },
  {
   "cell_type": "markdown",
   "metadata": {},
   "source": [
    "### Experimental data analysis"
   ]
  },
  {
   "cell_type": "code",
   "execution_count": null,
   "metadata": {},
   "outputs": [
    {
     "name": "stdout",
     "output_type": "stream",
     "text": [
      "2025-05-29 11:39:12,329 - robin.tortoise - INFO - Running step 1/2: job-futurehouse-data-analysis-crow-high\n",
      "2025-05-29 11:39:12,330 - robin.tortoise - INFO - Uploading file AG4/ as flow_250508/\n",
      "2025-05-29 11:39:24,113 - robin.tortoise - INFO - Running 5 tasks\n"
     ]
    },
    {
     "name": "stderr",
     "output_type": "stream",
     "text": [
      "Gathering: 100% 5/5 [00:00<00:00,  7.28it/s]\n",
      "Waiting for tasks to finish: 100% 5/5 [12:21<00:00, 148.30s/it]"
     ]
    },
    {
     "name": "stdout",
     "output_type": "stream",
     "text": [
      "2025-05-29 11:51:46,333 - robin.tortoise - INFO - Task success rate: 100.0%\n",
      "2025-05-29 11:51:46,336 - robin.tortoise - INFO - Downloading file flow_results.csv to robin_output/dry_age-related_macular_degeneration_2025-05-29_11-39/data_analysis/d20ee48e/flow_results/flow_results_0.csv\n"
     ]
    },
    {
     "name": "stderr",
     "output_type": "stream",
     "text": [
      "\n"
     ]
    },
    {
     "name": "stdout",
     "output_type": "stream",
     "text": [
      "2025-05-29 11:51:46,569 - robin.tortoise - INFO - Downloading file flow_results.csv to robin_output/dry_age-related_macular_degeneration_2025-05-29_11-39/data_analysis/d20ee48e/flow_results/flow_results_1.csv\n",
      "2025-05-29 11:51:46,706 - futurehouse_client.clients.rest_client - ERROR - Error downloading file flow_results.csv for job job-futurehouse-data-analysis-crow-high, trajectory_id b4c6ff60-dcda-463e-8129-925efd3e6a83\n",
      "Traceback (most recent call last):\n",
      "  File \"/Users/benjaminchang/miniconda3/envs/poplar/lib/python3.12/site-packages/futurehouse_client/clients/rest_client.py\", line 1387, in download_file\n",
      "    raise FileNotFoundError(f\"File not found or is empty: {file_path}\")\n",
      "FileNotFoundError: File not found or is empty: flow_results.csv\n",
      "2025-05-29 11:51:46,710 - robin.tortoise - ERROR - Error downloading flow_results.csv from task b4c6ff60-dcda-463e-8129-925efd3e6a83.\n",
      "Traceback (most recent call last):\n",
      "  File \"/Users/benjaminchang/miniconda3/envs/poplar/lib/python3.12/site-packages/futurehouse_client/clients/rest_client.py\", line 1387, in download_file\n",
      "    raise FileNotFoundError(f\"File not found or is empty: {file_path}\")\n",
      "FileNotFoundError: File not found or is empty: flow_results.csv\n",
      "\n",
      "The above exception was the direct cause of the following exception:\n",
      "\n",
      "Traceback (most recent call last):\n",
      "  File \"/Users/benjaminchang/Desktop/hypocrow-local-internal/robin/tortoise.py\", line 267, in run_pipeline\n",
      "    self.client.download_file(\n",
      "  File \"/Users/benjaminchang/miniconda3/envs/poplar/lib/python3.12/site-packages/tenacity/__init__.py\", line 336, in wrapped_f\n",
      "    return copy(f, *args, **kw)\n",
      "           ^^^^^^^^^^^^^^^^^^^^\n",
      "  File \"/Users/benjaminchang/miniconda3/envs/poplar/lib/python3.12/site-packages/tenacity/__init__.py\", line 475, in __call__\n",
      "    do = self.iter(retry_state=retry_state)\n",
      "         ^^^^^^^^^^^^^^^^^^^^^^^^^^^^^^^^^^\n",
      "  File \"/Users/benjaminchang/miniconda3/envs/poplar/lib/python3.12/site-packages/tenacity/__init__.py\", line 376, in iter\n",
      "    result = action(retry_state)\n",
      "             ^^^^^^^^^^^^^^^^^^^\n",
      "  File \"/Users/benjaminchang/miniconda3/envs/poplar/lib/python3.12/site-packages/tenacity/__init__.py\", line 398, in <lambda>\n",
      "    self._add_action_func(lambda rs: rs.outcome.result())\n",
      "                                     ^^^^^^^^^^^^^^^^^^^\n",
      "  File \"/Users/benjaminchang/miniconda3/envs/poplar/lib/python3.12/concurrent/futures/_base.py\", line 449, in result\n",
      "    return self.__get_result()\n",
      "           ^^^^^^^^^^^^^^^^^^^\n",
      "  File \"/Users/benjaminchang/miniconda3/envs/poplar/lib/python3.12/concurrent/futures/_base.py\", line 401, in __get_result\n",
      "    raise self._exception\n",
      "  File \"/Users/benjaminchang/miniconda3/envs/poplar/lib/python3.12/site-packages/tenacity/__init__.py\", line 478, in __call__\n",
      "    result = fn(*args, **kwargs)\n",
      "             ^^^^^^^^^^^^^^^^^^^\n",
      "  File \"/Users/benjaminchang/miniconda3/envs/poplar/lib/python3.12/site-packages/futurehouse_client/clients/rest_client.py\", line 1417, in download_file\n",
      "    raise RestClientError(f\"Error downloading file: {e!s}\") from e\n",
      "futurehouse_client.clients.rest_client.RestClientError: Error downloading file: File not found or is empty: flow_results.csv\n",
      "2025-05-29 11:51:46,716 - robin.tortoise - INFO - Downloading file flow_results.csv to robin_output/dry_age-related_macular_degeneration_2025-05-29_11-39/data_analysis/d20ee48e/flow_results/flow_results_2.csv\n",
      "2025-05-29 11:51:46,918 - robin.tortoise - INFO - Downloading file flow_results.csv to robin_output/dry_age-related_macular_degeneration_2025-05-29_11-39/data_analysis/d20ee48e/flow_results/flow_results_3.csv\n",
      "2025-05-29 11:51:47,081 - futurehouse_client.clients.rest_client - ERROR - Error downloading file flow_results.csv for job job-futurehouse-data-analysis-crow-high, trajectory_id 5a043c81-3adb-4547-957c-38cd6641f018\n",
      "Traceback (most recent call last):\n",
      "  File \"/Users/benjaminchang/miniconda3/envs/poplar/lib/python3.12/site-packages/futurehouse_client/clients/rest_client.py\", line 1387, in download_file\n",
      "    raise FileNotFoundError(f\"File not found or is empty: {file_path}\")\n",
      "FileNotFoundError: File not found or is empty: flow_results.csv\n",
      "2025-05-29 11:51:47,083 - robin.tortoise - ERROR - Error downloading flow_results.csv from task 5a043c81-3adb-4547-957c-38cd6641f018.\n",
      "Traceback (most recent call last):\n",
      "  File \"/Users/benjaminchang/miniconda3/envs/poplar/lib/python3.12/site-packages/futurehouse_client/clients/rest_client.py\", line 1387, in download_file\n",
      "    raise FileNotFoundError(f\"File not found or is empty: {file_path}\")\n",
      "FileNotFoundError: File not found or is empty: flow_results.csv\n",
      "\n",
      "The above exception was the direct cause of the following exception:\n",
      "\n",
      "Traceback (most recent call last):\n",
      "  File \"/Users/benjaminchang/Desktop/hypocrow-local-internal/robin/tortoise.py\", line 267, in run_pipeline\n",
      "    self.client.download_file(\n",
      "  File \"/Users/benjaminchang/miniconda3/envs/poplar/lib/python3.12/site-packages/tenacity/__init__.py\", line 336, in wrapped_f\n",
      "    return copy(f, *args, **kw)\n",
      "           ^^^^^^^^^^^^^^^^^^^^\n",
      "  File \"/Users/benjaminchang/miniconda3/envs/poplar/lib/python3.12/site-packages/tenacity/__init__.py\", line 475, in __call__\n",
      "    do = self.iter(retry_state=retry_state)\n",
      "         ^^^^^^^^^^^^^^^^^^^^^^^^^^^^^^^^^^\n",
      "  File \"/Users/benjaminchang/miniconda3/envs/poplar/lib/python3.12/site-packages/tenacity/__init__.py\", line 376, in iter\n",
      "    result = action(retry_state)\n",
      "             ^^^^^^^^^^^^^^^^^^^\n",
      "  File \"/Users/benjaminchang/miniconda3/envs/poplar/lib/python3.12/site-packages/tenacity/__init__.py\", line 398, in <lambda>\n",
      "    self._add_action_func(lambda rs: rs.outcome.result())\n",
      "                                     ^^^^^^^^^^^^^^^^^^^\n",
      "  File \"/Users/benjaminchang/miniconda3/envs/poplar/lib/python3.12/concurrent/futures/_base.py\", line 449, in result\n",
      "    return self.__get_result()\n",
      "           ^^^^^^^^^^^^^^^^^^^\n",
      "  File \"/Users/benjaminchang/miniconda3/envs/poplar/lib/python3.12/concurrent/futures/_base.py\", line 401, in __get_result\n",
      "    raise self._exception\n",
      "  File \"/Users/benjaminchang/miniconda3/envs/poplar/lib/python3.12/site-packages/tenacity/__init__.py\", line 478, in __call__\n",
      "    result = fn(*args, **kwargs)\n",
      "             ^^^^^^^^^^^^^^^^^^^\n",
      "  File \"/Users/benjaminchang/miniconda3/envs/poplar/lib/python3.12/site-packages/futurehouse_client/clients/rest_client.py\", line 1417, in download_file\n",
      "    raise RestClientError(f\"Error downloading file: {e!s}\") from e\n",
      "futurehouse_client.clients.rest_client.RestClientError: Error downloading file: File not found or is empty: flow_results.csv\n",
      "2025-05-29 11:51:47,085 - robin.tortoise - INFO - Downloading file flow_results.csv to robin_output/dry_age-related_macular_degeneration_2025-05-29_11-39/data_analysis/d20ee48e/flow_results/flow_results_4.csv\n",
      "2025-05-29 11:51:47,301 - robin.tortoise - INFO - Completed step 1/2\n",
      "2025-05-29 11:51:47,302 - robin.tortoise - INFO - Running step 2/2: job-futurehouse-data-analysis-crow-high\n",
      "2025-05-29 11:51:47,302 - robin.tortoise - INFO - Uploading file robin_output/dry_age-related_macular_degeneration_2025-05-29_11-39/data_analysis/d20ee48e/flow_results as flow_results/\n",
      "2025-05-29 11:51:58,196 - robin.tortoise - INFO - Running 1 task\n"
     ]
    },
    {
     "name": "stderr",
     "output_type": "stream",
     "text": [
      "Gathering: 100% 1/1 [00:00<00:00,  5.22it/s]\n",
      "Waiting for tasks to finish: 100% 1/1 [04:06<00:00, 246.27s/it]"
     ]
    },
    {
     "name": "stdout",
     "output_type": "stream",
     "text": [
      "2025-05-29 11:56:04,661 - robin.tortoise - INFO - Task success rate: 100.0%\n",
      "2025-05-29 11:56:04,663 - robin.tortoise - INFO - Downloading file consensus_results.csv to robin_output/dry_age-related_macular_degeneration_2025-05-29_11-39/data_analysis/cedcd4d6/consensus_results.csv\n"
     ]
    },
    {
     "name": "stderr",
     "output_type": "stream",
     "text": [
      "\n"
     ]
    },
    {
     "name": "stdout",
     "output_type": "stream",
     "text": [
      "2025-05-29 11:56:04,894 - robin.tortoise - INFO - Completed step 2/2\n",
      "2025-05-29 11:56:04,895 - robin.tortoise - INFO - Saving all results to robin_output/dry_age-related_macular_degeneration_2025-05-29_11-39/data_analysis/results_20250529_115604.json\n",
      "2025-05-29 11:56:05,035 - robin.tortoise - INFO - Results successfully saved to robin_output/dry_age-related_macular_degeneration_2025-05-29_11-39/data_analysis/results_20250529_115604.json\n",
      "2025-05-29 11:56:05,036 - robin.analyses - INFO - View the final volcano plot at: https://platform.futurehouse.org/trajectories/95a7f2d4-4d9e-4456-b3ac-ae550c5e3086\n",
      "2025-05-29 11:56:05,037 - robin.analyses - INFO - The full path to the consensus results CSV is: /Users/benjaminchang/Desktop/hypocrow-local-internal/robin_output/dry_age-related_macular_degeneration_2025-05-29_11-39/data_analysis/cedcd4d6/consensus_results.csv\n",
      "2025-05-29 11:56:05,045 - robin.analyses - INFO - Sending data review prompt to LLM.\n",
      "2025-05-29 11:56:18,730 - robin.analyses - INFO - Received LLM response for data review: ['List of drugs tested in data: DMSO control, AICAR, AICAR + TUDCA, Exendin-4, Fingolimod, MFGE8, TUDCA, Y-27632', 'Summary of Key Findings and Insights: Y-27632 produced the strongest enhancement of RPE phagocytosis (mean intensity ~4.82, nearly five-fold over DMSO), followed by Exendin-4 and Fingolimod (~2.32 and ~2.30, respectively), and MFGE8 (~2.18). AICAR (~1.86) and TUDCA (~1.96) each boosted phagocytosis modestly above control, but the combination AICAR + TUDCA unexpectedly showed only a slight increase (~1.15), suggesting potential antagonism or pathway crosstalk. Negative controls without cells, beads, or DAPI confirmed assay specificity, with intensities well below 1.', 'Specific Questions Raised:  \\n1. What is the dose–response relationship for Y-27632 in enhancing RPE phagocytosis, and is its effect saturable or toxic at higher concentrations?  \\n2. Does the antagonistic effect of AICAR + TUDCA arise from competition between AMPK activation and ER stress modulation pathways?  \\n3. Through which receptor(s) and second-messenger systems do Exendin-4 and Fingolimod enhance outer segment clearance in RPE cells?  \\n4. Can MFGE8’s opsonization mechanism be synergized with small-molecule treatments to further boost phagocytosis?  \\n5. Are the observed effects maintained in primary human RPE or in vivo AMD models?', 'Mechanistic Insights:  \\n- Y-27632 likely enhances phagocytosis by inhibiting Rho-associated kinase (ROCK), promoting actin cytoskeleton remodeling and engulfment.  \\n- Exendin-4 may act via GLP-1 receptor–mediated cAMP/PKA signaling to upregulate phagocytic machinery.  \\n- Fingolimod’s S1P receptor modulation could influence membrane dynamics and phagosome formation.  \\n- AICAR activates AMPK, potentially enhancing energy homeostasis and autophagic clearance of outer segments.  \\n- TUDCA reduces ER stress and may improve vesicular trafficking involved in phagosome–lysosome fusion.  \\n- MFGE8 serves as an opsonin bridging photoreceptor debris to integrin receptors on RPE, facilitating uptake.']\n"
     ]
    }
   ],
   "source": [
    "experimental_insights = await data_analysis(\n",
    "    data_path=data_path,\n",
    "    data_analysis_type=data_analysis_type,\n",
    "    goal=candidate_generation_goal,\n",
    "    configuration=config,\n",
    ")"
   ]
  },
  {
   "cell_type": "markdown",
   "metadata": {},
   "source": [
    "### Therapeutic candidate generation"
   ]
  },
  {
   "cell_type": "code",
   "execution_count": null,
   "metadata": {},
   "outputs": [
    {
     "name": "stdout",
     "output_type": "stream",
     "text": [
      "2025-05-29 11:56:35,914 - robin.candidates - INFO - Starting generation of 30 therapeutic candidates.\n",
      "2025-05-29 11:56:35,914 - robin.candidates - INFO - ———————————————————————————————————————————————————————————————\n",
      "2025-05-29 11:56:35,914 - robin.candidates - INFO - \n",
      "Step 1: Formulating relevant queries for literature search...\n",
      "2025-05-29 11:57:04,332 - robin.candidates - INFO - Generated Queries:\n",
      "2025-05-29 11:57:04,334 - robin.candidates - INFO - 1. Studies reporting high-throughput fluorescence-based screening assays in retinal pigment epithelium phagocytosis evaluating novel small-molecule enhancers of photoreceptor outer segment clearance with robust target validation, mechanistic pathway confirmation, primary human RPE efficacy, and in vivo dry AMD animal model outcomes\n",
      "2025-05-29 11:57:04,334 - robin.candidates - INFO - 2. Publications characterizing small-molecule modulators of key phagocytic pathways in retinal pigment epithelium, including cytoskeleton remodeling, integrin engagement or autophagy induction, with biochemical target engagement assays, efficacy testing in primary human RPE or iPSC-derived RPE, and pharmacokinetic safety profiles\n",
      "2025-05-29 11:57:04,335 - robin.candidates - INFO - 3. Literature on repurposed drug candidates and chemical libraries demonstrating enhancement of RPE phagocytosis in high-content imaging or fluorescence-based assays, including documentation of engagement of defined molecular targets, ADME and ocular toxicity data in preclinical or early-phase clinical studies of ocular applications\n",
      "2025-05-29 11:57:04,335 - robin.candidates - INFO - 4. Research articles exploring combination treatment strategies that synergize small molecules with biological opsonins to boost photoreceptor outer segment uptake in RPE cells, focusing on mechanistic confirmation of receptor-ligand interactions, additive phagocytosis enhancement in vitro, and tolerability in ocular safety models\n",
      "2025-05-29 11:57:04,336 - robin.candidates - INFO - 5. Comprehensive reviews and original studies on preclinical and clinical-stage compounds targeting RPE phagocytic machinery, summarizing their mechanism specificity, in vivo efficacy in rodent or nonhuman primate models of dry age-related macular degeneration, and pharmacodynamic biomarker and tissue distribution data\n",
      "2025-05-29 11:57:04,338 - robin.candidates - INFO - 6. Genetic, functional, and transcriptomic analyses identifying dysregulated RPE phagocytosis pathways in dry age-related macular degeneration, with emphasis on causative roles of ROCK, AMPK, sphingosine-1-phosphate signaling, ER stress pathways from human genome-wide association studies, patient-derived RPE models, and knockout animals\n",
      "2025-05-29 11:57:04,338 - robin.candidates - INFO - 7. Investigations into the roles of autophagy, lysosomal biogenesis, endosomal trafficking, and phagosome–lysosome fusion in retinal pigment epithelium outer segment clearance, including mechanistic studies in patient-specific stem cell models and in vivo validation in dry AMD rodent or primate models\n",
      "2025-05-29 11:57:04,339 - robin.candidates - INFO - 8. Studies elucidating the interplay between chronic inflammation, complement activation, oxidative stress, and impaired RPE phagocytosis in the pathogenesis of dry age-related macular degeneration, detailing molecular mediators, feedback loops, and potential intervention points validated in animal or ex vivo human retinal tissues\n",
      "2025-05-29 11:57:04,340 - robin.candidates - INFO - 9. Characterization of receptor-mediated efferocytosis mechanisms in RPE cells, including integrins, TAM family receptors (MerTK, Axl), bridging molecules such as MFG-E8, and their dysregulation in dry AMD, based on gene editing, overexpression, and ligand-blocking studies in vitro and in AMD animal models\n",
      "2025-05-29 11:57:04,340 - robin.candidates - INFO - 10. Ocular pharmacokinetics, biodistribution, and safety assessment studies for small molecules designed to enhance RPE phagocytosis, focusing on blood–retina barrier permeability, vitreous and subretinal space concentrations, metabolic stability, and tolerability in large-animal or human ocular delivery investigations\n",
      "2025-05-29 11:57:04,341 - robin.candidates - INFO - \n",
      "Step 2: Conducting literature search with FutureHouse platform...\n",
      "2025-05-29 11:57:04,945 - robin.utils - INFO - Starting literature search for 10 queries using job-futurehouse-paperqa2.\n",
      "2025-05-29 12:08:16,632 - robin.utils - INFO - Finished processing 10 tasks.\n",
      "Successfully wrote: query_1_studies.txt to: robin_output/dry_age-related_macular_degeneration_2025-05-29_11-39_experimental/therapeutic_candidate_literature_reviews/query_1_studies.txt\n",
      "Successfully wrote: query_2_publications.txt to: robin_output/dry_age-related_macular_degeneration_2025-05-29_11-39_experimental/therapeutic_candidate_literature_reviews/query_2_publications.txt\n",
      "Successfully wrote: query_3_literature.txt to: robin_output/dry_age-related_macular_degeneration_2025-05-29_11-39_experimental/therapeutic_candidate_literature_reviews/query_3_literature.txt\n",
      "Successfully wrote: query_4_research.txt to: robin_output/dry_age-related_macular_degeneration_2025-05-29_11-39_experimental/therapeutic_candidate_literature_reviews/query_4_research.txt\n",
      "Successfully wrote: query_5_comprehensive.txt to: robin_output/dry_age-related_macular_degeneration_2025-05-29_11-39_experimental/therapeutic_candidate_literature_reviews/query_5_comprehensive.txt\n",
      "Successfully wrote: query_6_genetic.txt to: robin_output/dry_age-related_macular_degeneration_2025-05-29_11-39_experimental/therapeutic_candidate_literature_reviews/query_6_genetic.txt\n",
      "Successfully wrote: query_7_investigations.txt to: robin_output/dry_age-related_macular_degeneration_2025-05-29_11-39_experimental/therapeutic_candidate_literature_reviews/query_7_investigations.txt\n",
      "Successfully wrote: query_8_studies.txt to: robin_output/dry_age-related_macular_degeneration_2025-05-29_11-39_experimental/therapeutic_candidate_literature_reviews/query_8_studies.txt\n",
      "Successfully wrote: query_9_characterization.txt to: robin_output/dry_age-related_macular_degeneration_2025-05-29_11-39_experimental/therapeutic_candidate_literature_reviews/query_9_characterization.txt\n",
      "Successfully wrote: query_10_ocular.txt to: robin_output/dry_age-related_macular_degeneration_2025-05-29_11-39_experimental/therapeutic_candidate_literature_reviews/query_10_ocular.txt\n",
      "2025-05-29 12:08:16,646 - robin.candidates - INFO - \n",
      "Step 3: Generating 30 ideas for therapeutic candidates...\n",
      "2025-05-29 12:10:27,204 - robin.candidates - INFO - \n",
      "Successfully parsed 30 candidate ideas.\n",
      "2025-05-29 12:10:27,205 - robin.candidates - INFO - Candidate: Siponimod (Mayzent®, catalog SML0766, Sigma-Aldrich)<|>Hypothesis: Siponimod, a selective...\n",
      "2025-05-29 12:10:27,205 - robin.candidates - INFO - Candidate: Liraglutide (Victoza®, catalog L4400, Sigma-Aldrich)<|>Hypothesis: Liraglutide, a long-ac...\n",
      "2025-05-29 12:10:27,206 - robin.candidates - INFO - Candidate: Roflumilast (Daliresp®, catalog R6520, Sigma-Aldrich)<|>Hypothesis: Roflumilast, a select...\n",
      "2025-05-29 12:10:27,206 - robin.candidates - INFO - Candidate: Rolipram (catalog R0343, Sigma-Aldrich)<|>Hypothesis: Rolipram, a prototypical PDE4 inhib...\n",
      "2025-05-29 12:10:27,207 - robin.candidates - INFO - Candidate: Fenofibrate (Tricor®, catalog F6020, Sigma-Aldrich)<|>Hypothesis: Fenofibrate, a PPARα ag...\n",
      "2025-05-29 12:10:27,207 - robin.candidates - INFO - Candidate: Metformin (Glucophage®, catalog D150959, Sigma-Aldrich)<|>Hypothesis: Metformin activates...\n",
      "2025-05-29 12:10:27,208 - robin.candidates - INFO - Candidate: Rapamycin (Sirolimus, catalog R0395, Sigma-Aldrich)<|>Hypothesis: Rapamycin inhibits mTOR...\n",
      "2025-05-29 12:10:27,208 - robin.candidates - INFO - Candidate: Bardoxolone methyl (CDDO-Me, catalog S1498, Selleck Chemicals)<|>Hypothesis: Bardoxolone ...\n",
      "2025-05-29 12:10:27,209 - robin.candidates - INFO - Candidate: Sulforaphane (catalog S4441, Sigma-Aldrich)<|>Hypothesis: Sulforaphane, a dietary isothio...\n",
      "2025-05-29 12:10:27,209 - robin.candidates - INFO - Candidate: PRE-084 (catalog 2697, Tocris)<|>Hypothesis: PRE-084, a sigma-1 receptor agonist, enhance...\n",
      "2025-05-29 12:10:27,209 - robin.candidates - INFO - Candidate: T0901317 (catalog SML0693, Sigma-Aldrich)<|>Hypothesis: T0901317, a liver X receptor (LXR...\n",
      "2025-05-29 12:10:27,210 - robin.candidates - INFO - Candidate: Dimethyl fumarate (Tecfidera®, catalog 46795, Sigma-Aldrich)<|>Hypothesis: Dimethyl fumar...\n",
      "2025-05-29 12:10:27,210 - robin.candidates - INFO - Candidate: Pioglitazone (Actos®, catalog PZ004, Sigma-Aldrich)<|>Hypothesis: Pioglitazone, a PPARγ a...\n",
      "2025-05-29 12:10:27,210 - robin.candidates - INFO - Candidate: Sitagliptin (Januvia®, catalog S4023, Sigma-Aldrich)<|>Hypothesis: Sitagliptin, a DPP-4 i...\n",
      "2025-05-29 12:10:27,211 - robin.candidates - INFO - Candidate: Plerixafor (AMD3100, catalog 516516, Sigma-Aldrich)<|>Hypothesis: Plerixafor, a CXCR4 ant...\n",
      "2025-05-29 12:10:27,211 - robin.candidates - INFO - Candidate: Recombinant human Gas6 (catalog 886-G6, R&D Systems)<|>Hypothesis: Recombinant Gas6 engag...\n",
      "2025-05-29 12:10:27,211 - robin.candidates - INFO - Candidate: Recombinant human Protein S (Pros1, catalog 8856-PS, R&D Systems)<|>Hypothesis: Recombina...\n",
      "2025-05-29 12:10:27,212 - robin.candidates - INFO - Candidate: Magrolimab (Hu5F9-G4, clinical grade antibody)<|>Hypothesis: Magrolimab, an anti-CD47 mon...\n",
      "2025-05-29 12:10:27,212 - robin.candidates - INFO - Candidate: ALX148 (Evorpacept, engineered SIRPα-Fc decoy)<|>Hypothesis: ALX148, a high-affinity SIRP...\n",
      "2025-05-29 12:10:27,212 - robin.candidates - INFO - Candidate: Forskolin (catalog F6886, Sigma-Aldrich)<|>Hypothesis: Forskolin, an adenylate cyclase ac...\n",
      "2025-05-29 12:10:27,213 - robin.candidates - INFO - Candidate: Cilostazol (Pletal®, catalog C1910, Sigma-Aldrich)<|>Hypothesis: Cilostazol, a PDE3 inhib...\n",
      "2025-05-29 12:10:27,213 - robin.candidates - INFO - Candidate: Simvastatin (Zocor®, catalog S6196, Sigma-Aldrich)<|>Hypothesis: Simvastatin, a lipophili...\n",
      "2025-05-29 12:10:27,213 - robin.candidates - INFO - Candidate: Probucol (catalog P9425, Sigma-Aldrich)<|>Hypothesis: Probucol, an antioxidant and lipid-...\n",
      "2025-05-29 12:10:27,213 - robin.candidates - INFO - Candidate: N-Acetylcysteine (NAC, catalog A7250, Sigma-Aldrich)<|>Hypothesis: N-Acetylcysteine reple...\n",
      "2025-05-29 12:10:27,214 - robin.candidates - INFO - Candidate: Ebselen (catalog E1014, Sigma-Aldrich)<|>Hypothesis: Ebselen, a glutathione peroxidase mi...\n",
      "2025-05-29 12:10:27,214 - robin.candidates - INFO - Candidate: Trehalose (catalog T9531, Sigma-Aldrich)<|>Hypothesis: Trehalose, an autophagy inducer, s...\n",
      "2025-05-29 12:10:27,214 - robin.candidates - INFO - Candidate: Nicotinamide riboside (catalog N2004, Sigma-Aldrich)<|>Hypothesis: Nicotinamide riboside ...\n",
      "2025-05-29 12:10:27,214 - robin.candidates - INFO - Candidate: Resveratrol (catalog R5010, Sigma-Aldrich)<|>Hypothesis: Resveratrol, a polyphenolic SIRT...\n",
      "2025-05-29 12:10:27,215 - robin.candidates - INFO - Candidate: Mdivi-1 (catalog M0199, Sigma-Aldrich)<|>Hypothesis: Mdivi-1, a mitochondrial division in...\n",
      "2025-05-29 12:10:27,215 - robin.candidates - INFO - Candidate: MCC950 (catalog vac-32588, InvivoGen)<|>Hypothesis: MCC950, a specific NLRP3 inflammasome...\n",
      "2025-05-29 12:10:27,230 - robin.candidates - INFO - Successfully exported to robin_output/dry_age-related_macular_degeneration_2025-05-29_11-39_experimental/therapeutic_candidates_summary.txt\n",
      "2025-05-29 12:10:27,231 - robin.candidates - INFO - \n",
      "Step 4: Detailed investigation and evaluation for candidates...\n",
      "2025-05-29 12:10:27,877 - robin.utils - INFO - Starting literature search for 30 queries using job-futurehouse-paperqa2-deep.\n",
      "2025-05-29 12:42:22,304 - robin.utils - INFO - Finished processing 30 tasks.\n",
      "Successfully wrote: therapeutic_candidate_1_siponimod.txt to: robin_output/dry_age-related_macular_degeneration_2025-05-29_11-39_experimental/therapeutic_candidate_detailed_hypotheses/therapeutic_candidate_1_siponimod.txt\n",
      "Successfully wrote: therapeutic_candidate_2_liraglutide.txt to: robin_output/dry_age-related_macular_degeneration_2025-05-29_11-39_experimental/therapeutic_candidate_detailed_hypotheses/therapeutic_candidate_2_liraglutide.txt\n",
      "Successfully wrote: therapeutic_candidate_3_roflumilast.txt to: robin_output/dry_age-related_macular_degeneration_2025-05-29_11-39_experimental/therapeutic_candidate_detailed_hypotheses/therapeutic_candidate_3_roflumilast.txt\n",
      "Successfully wrote: therapeutic_candidate_4_rolipram.txt to: robin_output/dry_age-related_macular_degeneration_2025-05-29_11-39_experimental/therapeutic_candidate_detailed_hypotheses/therapeutic_candidate_4_rolipram.txt\n",
      "Successfully wrote: therapeutic_candidate_5_fenofibrate.txt to: robin_output/dry_age-related_macular_degeneration_2025-05-29_11-39_experimental/therapeutic_candidate_detailed_hypotheses/therapeutic_candidate_5_fenofibrate.txt\n",
      "Successfully wrote: therapeutic_candidate_6_metformin.txt to: robin_output/dry_age-related_macular_degeneration_2025-05-29_11-39_experimental/therapeutic_candidate_detailed_hypotheses/therapeutic_candidate_6_metformin.txt\n",
      "Successfully wrote: therapeutic_candidate_7_rapamycin.txt to: robin_output/dry_age-related_macular_degeneration_2025-05-29_11-39_experimental/therapeutic_candidate_detailed_hypotheses/therapeutic_candidate_7_rapamycin.txt\n",
      "Successfully wrote: therapeutic_candidate_8_bardoxolone.txt to: robin_output/dry_age-related_macular_degeneration_2025-05-29_11-39_experimental/therapeutic_candidate_detailed_hypotheses/therapeutic_candidate_8_bardoxolone.txt\n",
      "Successfully wrote: therapeutic_candidate_9_sulforaphane.txt to: robin_output/dry_age-related_macular_degeneration_2025-05-29_11-39_experimental/therapeutic_candidate_detailed_hypotheses/therapeutic_candidate_9_sulforaphane.txt\n",
      "Successfully wrote: therapeutic_candidate_10_pre.txt to: robin_output/dry_age-related_macular_degeneration_2025-05-29_11-39_experimental/therapeutic_candidate_detailed_hypotheses/therapeutic_candidate_10_pre.txt\n",
      "Successfully wrote: therapeutic_candidate_11_t0901317.txt to: robin_output/dry_age-related_macular_degeneration_2025-05-29_11-39_experimental/therapeutic_candidate_detailed_hypotheses/therapeutic_candidate_11_t0901317.txt\n",
      "Successfully wrote: therapeutic_candidate_12_dimethyl.txt to: robin_output/dry_age-related_macular_degeneration_2025-05-29_11-39_experimental/therapeutic_candidate_detailed_hypotheses/therapeutic_candidate_12_dimethyl.txt\n",
      "Successfully wrote: therapeutic_candidate_13_pioglitazone.txt to: robin_output/dry_age-related_macular_degeneration_2025-05-29_11-39_experimental/therapeutic_candidate_detailed_hypotheses/therapeutic_candidate_13_pioglitazone.txt\n",
      "Successfully wrote: therapeutic_candidate_14_sitagliptin.txt to: robin_output/dry_age-related_macular_degeneration_2025-05-29_11-39_experimental/therapeutic_candidate_detailed_hypotheses/therapeutic_candidate_14_sitagliptin.txt\n",
      "Successfully wrote: therapeutic_candidate_15_plerixafor.txt to: robin_output/dry_age-related_macular_degeneration_2025-05-29_11-39_experimental/therapeutic_candidate_detailed_hypotheses/therapeutic_candidate_15_plerixafor.txt\n",
      "Successfully wrote: therapeutic_candidate_16_recombinant.txt to: robin_output/dry_age-related_macular_degeneration_2025-05-29_11-39_experimental/therapeutic_candidate_detailed_hypotheses/therapeutic_candidate_16_recombinant.txt\n",
      "Successfully wrote: therapeutic_candidate_17_recombinant.txt to: robin_output/dry_age-related_macular_degeneration_2025-05-29_11-39_experimental/therapeutic_candidate_detailed_hypotheses/therapeutic_candidate_17_recombinant.txt\n",
      "Successfully wrote: therapeutic_candidate_18_magrolimab.txt to: robin_output/dry_age-related_macular_degeneration_2025-05-29_11-39_experimental/therapeutic_candidate_detailed_hypotheses/therapeutic_candidate_18_magrolimab.txt\n",
      "Successfully wrote: therapeutic_candidate_19_alx148.txt to: robin_output/dry_age-related_macular_degeneration_2025-05-29_11-39_experimental/therapeutic_candidate_detailed_hypotheses/therapeutic_candidate_19_alx148.txt\n",
      "Successfully wrote: therapeutic_candidate_20_forskolin.txt to: robin_output/dry_age-related_macular_degeneration_2025-05-29_11-39_experimental/therapeutic_candidate_detailed_hypotheses/therapeutic_candidate_20_forskolin.txt\n",
      "Successfully wrote: therapeutic_candidate_21_cilostazol.txt to: robin_output/dry_age-related_macular_degeneration_2025-05-29_11-39_experimental/therapeutic_candidate_detailed_hypotheses/therapeutic_candidate_21_cilostazol.txt\n",
      "Successfully wrote: therapeutic_candidate_22_simvastatin.txt to: robin_output/dry_age-related_macular_degeneration_2025-05-29_11-39_experimental/therapeutic_candidate_detailed_hypotheses/therapeutic_candidate_22_simvastatin.txt\n",
      "Successfully wrote: therapeutic_candidate_23_probucol.txt to: robin_output/dry_age-related_macular_degeneration_2025-05-29_11-39_experimental/therapeutic_candidate_detailed_hypotheses/therapeutic_candidate_23_probucol.txt\n",
      "Successfully wrote: therapeutic_candidate_24_n.txt to: robin_output/dry_age-related_macular_degeneration_2025-05-29_11-39_experimental/therapeutic_candidate_detailed_hypotheses/therapeutic_candidate_24_n.txt\n",
      "Successfully wrote: therapeutic_candidate_25_ebselen.txt to: robin_output/dry_age-related_macular_degeneration_2025-05-29_11-39_experimental/therapeutic_candidate_detailed_hypotheses/therapeutic_candidate_25_ebselen.txt\n",
      "Successfully wrote: therapeutic_candidate_26_trehalose.txt to: robin_output/dry_age-related_macular_degeneration_2025-05-29_11-39_experimental/therapeutic_candidate_detailed_hypotheses/therapeutic_candidate_26_trehalose.txt\n",
      "Successfully wrote: therapeutic_candidate_27_nicotinamide.txt to: robin_output/dry_age-related_macular_degeneration_2025-05-29_11-39_experimental/therapeutic_candidate_detailed_hypotheses/therapeutic_candidate_27_nicotinamide.txt\n",
      "Successfully wrote: therapeutic_candidate_28_resveratrol.txt to: robin_output/dry_age-related_macular_degeneration_2025-05-29_11-39_experimental/therapeutic_candidate_detailed_hypotheses/therapeutic_candidate_28_resveratrol.txt\n",
      "Successfully wrote: therapeutic_candidate_29_mdivi.txt to: robin_output/dry_age-related_macular_degeneration_2025-05-29_11-39_experimental/therapeutic_candidate_detailed_hypotheses/therapeutic_candidate_29_mdivi.txt\n",
      "Successfully wrote: therapeutic_candidate_30_mcc950.txt to: robin_output/dry_age-related_macular_degeneration_2025-05-29_11-39_experimental/therapeutic_candidate_detailed_hypotheses/therapeutic_candidate_30_mcc950.txt\n",
      "2025-05-29 12:44:35,834 - robin.candidates - INFO - \n",
      "Step 5: Ranking the strength of the therapeutic candidates...\n",
      "2025-05-29 12:44:35,835 - robin.utils - INFO - Processing file: therapeutic_candidate_1_siponimod.txt...\n",
      "2025-05-29 12:44:35,837 - robin.utils - INFO - Processing file: therapeutic_candidate_17_recombinant.txt...\n",
      "2025-05-29 12:44:35,842 - robin.utils - INFO - Processing file: therapeutic_candidate_20_forskolin.txt...\n",
      "2025-05-29 12:44:35,850 - robin.utils - INFO - Processing file: therapeutic_candidate_29_mdivi.txt...\n",
      "2025-05-29 12:44:35,855 - robin.utils - INFO - Processing file: therapeutic_candidate_6_metformin.txt...\n",
      "2025-05-29 12:44:35,858 - robin.utils - INFO - Processing file: therapeutic_candidate_19_alx148.txt...\n",
      "2025-05-29 12:44:35,863 - robin.utils - INFO - Processing file: therapeutic_candidate_27_nicotinamide.txt...\n",
      "2025-05-29 12:44:35,868 - robin.utils - INFO - Processing file: therapeutic_candidate_3_roflumilast.txt...\n",
      "2025-05-29 12:44:35,870 - robin.utils - INFO - Processing file: therapeutic_candidate_30_mcc950.txt...\n",
      "2025-05-29 12:44:35,872 - robin.utils - INFO - Processing file: therapeutic_candidate_5_fenofibrate.txt...\n",
      "2025-05-29 12:44:35,874 - robin.utils - INFO - Processing file: therapeutic_candidate_26_trehalose.txt...\n",
      "2025-05-29 12:44:35,887 - robin.utils - INFO - Processing file: therapeutic_candidate_22_simvastatin.txt...\n",
      "2025-05-29 12:44:35,895 - robin.utils - INFO - Processing file: therapeutic_candidate_8_bardoxolone.txt...\n",
      "2025-05-29 12:44:35,899 - robin.utils - INFO - Processing file: therapeutic_candidate_2_liraglutide.txt...\n",
      "2025-05-29 12:44:35,901 - robin.utils - INFO - Processing file: therapeutic_candidate_16_recombinant.txt...\n",
      "2025-05-29 12:44:35,905 - robin.utils - INFO - Processing file: therapeutic_candidate_9_sulforaphane.txt...\n",
      "2025-05-29 12:44:35,906 - robin.utils - INFO - Processing file: therapeutic_candidate_11_t0901317.txt...\n",
      "2025-05-29 12:44:35,907 - robin.utils - INFO - Processing file: therapeutic_candidate_12_dimethyl.txt...\n",
      "2025-05-29 12:44:35,908 - robin.utils - INFO - Processing file: therapeutic_candidate_24_n.txt...\n",
      "2025-05-29 12:44:35,916 - robin.utils - INFO - Processing file: therapeutic_candidate_15_plerixafor.txt...\n",
      "2025-05-29 12:44:35,920 - robin.utils - INFO - Processing file: therapeutic_candidate_18_magrolimab.txt...\n",
      "2025-05-29 12:44:35,921 - robin.utils - INFO - Processing file: therapeutic_candidate_10_pre.txt...\n",
      "2025-05-29 12:44:35,922 - robin.utils - INFO - Processing file: therapeutic_candidate_7_rapamycin.txt...\n",
      "2025-05-29 12:44:35,923 - robin.utils - INFO - Processing file: therapeutic_candidate_25_ebselen.txt...\n",
      "2025-05-29 12:44:35,925 - robin.utils - INFO - Processing file: therapeutic_candidate_14_sitagliptin.txt...\n",
      "2025-05-29 12:44:35,926 - robin.utils - INFO - Processing file: therapeutic_candidate_21_cilostazol.txt...\n",
      "2025-05-29 12:44:35,927 - robin.utils - INFO - Processing file: therapeutic_candidate_23_probucol.txt...\n",
      "2025-05-29 12:44:35,929 - robin.utils - INFO - Processing file: therapeutic_candidate_13_pioglitazone.txt...\n",
      "2025-05-29 12:44:35,931 - robin.utils - INFO - Processing file: therapeutic_candidate_28_resveratrol.txt...\n",
      "2025-05-29 12:44:35,936 - robin.utils - INFO - Processing file: therapeutic_candidate_4_rolipram.txt...\n",
      "2025-05-29 12:44:35,939 - robin.utils - INFO - Starting comparisons for 300 pairs with max concurrency 100...\n"
     ]
    },
    {
     "name": "stderr",
     "output_type": "stream",
     "text": [
      "Comparing Hypotheses:  22%|██▏       | 66/300 [00:13<00:24,  9.37it/s]"
     ]
    },
    {
     "name": "stdout",
     "output_type": "stream",
     "text": [
      "2025-05-29 12:44:49,578 - robin.utils - ERROR - \n",
      "JSON Decode Error for pair (10, 24) (Index 21)\n",
      "Raw Content: ```json\n",
      "{\n",
      "    \"Analysis\": \"Both candidates offer repurposing strategies with favorable safety profiles, but they differ substantially in direct mechanistic support and disease relevance. Candidate 1 (Trehalose) has multiple peer-reviewed studies showing direct activation of TFEB, upregulation of autophagy markers (LC3-II, p62 turnover), and improved RPE function under oxidative stress—key pathological drivers in dry AMD. Preclinical efficacy in RPE cell models and APOE-deficient AMD-like mice supports its direct relevance. Its known biocompatibility and existing ophthalmic use as a topical osmoprotectant bolster safety and ocular tolerability, although retinal bioavailability and dosing require optimization. The mechanism (TFEB-mediated lysosomal biogenesis) is upstream of debris clearance and directly targets RPE proteostasis.\n",
      "\n",
      "Candidate 2 (Sitagliptin) benefits from decades of systemic safety data and regulatory approval. Its MoA—DPP-4 inhibition to prolong GLP-1 signaling—has demonstrated anti-inflammatory, neuroprotective, and barrier-stabilizing effects in diabetic retinopathy models. However, evidence in dry AMD is largely extrapolated. Direct data on GLP-1R-mediated upregulation of MERTK/integrins in RPE cells and demonstration of improved photoreceptor outer-segment phagocytosis in dry AMD models are limited. Ocular penetration remains incompletely characterized, and some DPP-4 inhibitors can provoke vascular leakage in retina. The DR models differ in etiology from dry AMD (vascular vs. atrophic pathology), raising translational gaps.\n",
      "\n",
      "Trehalose’s mechanism is more directly tied to core AMD pathology (autophagic clearance of drusen precursors), with robust preclinical data in relevant models. Sitagliptin’s mechanism is plausible but indirect and less validated in the dry AMD context, with unknown risks of off-target vascular effects. Therefore, Trehalose has higher probability of experimental success and translational relevance despite PK optimization needs.\",\n",
      "    \"Reasoning\": \"Trehalose (ID 10) wins because it directly addresses key dry AMD pathology—impaired RPE autophagy and debris accumulation—through well-documented TFEB activation and lysosomal biogenesis in RPE models and AMD-like animals, with a strong safety profile. In contrast, Sitagliptin (ID 24), while safe systemically, relies on an indirect incretin pathway with limited dry AMD-specific efficacy data, uncertain retinal bioavailability, and potential vascular side effects, making its translational risk higher.\",\n",
      "    \"Winner\": \"(Trehalose, 10)\",\n",
      "    \"Loser\": \"(Sitagliptin, 24)\"\n",
      "}\n",
      "```\n",
      "Traceback (most recent call last):\n",
      "  File \"/Users/benjaminchang/Desktop/hypocrow-local-internal/robin/utils.py\", line 968, in process_comparison_pair\n",
      "    _validate_llm_evaluation_keys(\n",
      "                        ^^^^^^^^^^^\n",
      "  File \"/Users/benjaminchang/miniconda3/envs/poplar/lib/python3.12/json/__init__.py\", line 346, in loads\n",
      "    return _default_decoder.decode(s)\n",
      "           ^^^^^^^^^^^^^^^^^^^^^^^^^^\n",
      "  File \"/Users/benjaminchang/miniconda3/envs/poplar/lib/python3.12/json/decoder.py\", line 338, in decode\n",
      "    obj, end = self.raw_decode(s, idx=_w(s, 0).end())\n",
      "               ^^^^^^^^^^^^^^^^^^^^^^^^^^^^^^^^^^^^^^\n",
      "  File \"/Users/benjaminchang/miniconda3/envs/poplar/lib/python3.12/json/decoder.py\", line 354, in raw_decode\n",
      "    obj, end = self.scan_once(s, idx)\n",
      "               ^^^^^^^^^^^^^^^^^^^^^^\n",
      "json.decoder.JSONDecodeError: Invalid control character at: line 2 column 830 (char 831)\n"
     ]
    },
    {
     "name": "stderr",
     "output_type": "stream",
     "text": [
      "Comparing Hypotheses:  79%|███████▊  | 236/300 [00:33<00:04, 14.52it/s]"
     ]
    },
    {
     "name": "stdout",
     "output_type": "stream",
     "text": [
      "2025-05-29 12:45:09,630 - robin.utils - ERROR - \n",
      "JSON Decode Error for pair (4, 23) (Index 103)\n",
      "Raw Content: {\"Analysis\":\"Candidate 1 (Metformin) boasts extensive clinical history, safety data, and epidemiological and preclinical evidence directly linked to AMD or retinal physiology. Its mechanism—AMPK activation to restore RPE energy homeostasis, enhance autophagy, promote mitochondrial biogenesis, and reduce oxidative stress and inflammation—is well articulated and highly relevant to the core pathobiology of dry AMD. Multiple in vitro RPE models and animal studies support its efficacy in preserving retinal architecture and function, and one phase II trial in geographic atrophy provides some emerging clinical validation. Key concerns remain around ocular pharmacokinetics and the extent of retinal bioavailability at systemic doses, but these are addressable in translational studies.\n",
      "\n",
      "Candidate 2 (Ebselen) offers a compelling redox‐based mechanism: GPx‐mimetic activity, catalytic peroxide clearance, thiol protection of lysosomal enzymes, and anti‐inflammatory effects. Its favorable lipophilicity suggests ocular penetration, and its safety in CNS and psychiatric trials is encouraging. However, no direct AMD or RPE‐specific preclinical models have been reported, and ocular PK/PD data are lacking. Off‐target thiol reactivity may carry risk in RPE cells. The mechanistic rationale, though plausible, remains indirect with no AMD‐specific animal data or clinical evidence. Before translation, substantial preclinical work is needed to demonstrate efficacy in validated AMD models and to define dosing and toxicity in ocular tissues.\",\"Reasoning\":\"Metformin clearly leads in relevance of evidence and translation readiness. It has direct RPE‐cell and animal data in dry AMD context, epidemiological support, and an established safety/tolerability profile, making it immediately actionable for AMD trials. Ebselen’s mechanism, while scientifically interesting, lacks direct AMD data, suffers from off‐target risk, and requires foundational preclinical validation. Thus, Metformin (ID 4) has a higher probability of success and clinical translation for dry AMD.\",\"Winner\":\"(Metformin, 4)\",\"Loser\":\"(Ebselen, 23)\"}\n",
      "Traceback (most recent call last):\n",
      "  File \"/Users/benjaminchang/Desktop/hypocrow-local-internal/robin/utils.py\", line 968, in process_comparison_pair\n",
      "    _validate_llm_evaluation_keys(\n",
      "                        ^^^^^^^^^^^\n",
      "  File \"/Users/benjaminchang/miniconda3/envs/poplar/lib/python3.12/json/__init__.py\", line 346, in loads\n",
      "    return _default_decoder.decode(s)\n",
      "           ^^^^^^^^^^^^^^^^^^^^^^^^^^\n",
      "  File \"/Users/benjaminchang/miniconda3/envs/poplar/lib/python3.12/json/decoder.py\", line 338, in decode\n",
      "    obj, end = self.raw_decode(s, idx=_w(s, 0).end())\n",
      "               ^^^^^^^^^^^^^^^^^^^^^^^^^^^^^^^^^^^^^^\n",
      "  File \"/Users/benjaminchang/miniconda3/envs/poplar/lib/python3.12/json/decoder.py\", line 354, in raw_decode\n",
      "    obj, end = self.scan_once(s, idx)\n",
      "               ^^^^^^^^^^^^^^^^^^^^^^\n",
      "json.decoder.JSONDecodeError: Invalid control character at: line 1 column 787 (char 786)\n"
     ]
    },
    {
     "name": "stderr",
     "output_type": "stream",
     "text": [
      "Comparing Hypotheses: 100%|██████████| 300/300 [00:49<00:00,  6.01it/s]"
     ]
    },
    {
     "name": "stdout",
     "output_type": "stream",
     "text": [
      "2025-05-29 12:45:25,876 - robin.utils - INFO - \n",
      "Finished processing pairs.\n",
      "2025-05-29 12:45:25,876 - robin.utils - INFO -  - Successful comparisons: 298\n",
      "2025-05-29 12:45:25,877 - robin.utils - INFO -  - Errors encountered: 2\n",
      "2025-05-29 12:45:26,004 - robin.utils - INFO - Successfully saved 298 results to robin_output/dry_age-related_macular_degeneration_2025-05-29_11-39_experimental/therapeutic_candidate_ranking_results.csv\n",
      "2025-05-29 12:45:26,005 - robin.candidates - INFO - Processing ranking output from: robin_output/dry_age-related_macular_degeneration_2025-05-29_11-39_experimental/therapeutic_candidate_ranking_results.csv\n",
      "2025-05-29 12:45:26,065 - robin.candidates - INFO - Calling choix.ilsr_pairwise with n_items=30 and 298 games.\n"
     ]
    },
    {
     "name": "stderr",
     "output_type": "stream",
     "text": [
      "\n"
     ]
    },
    {
     "name": "stdout",
     "output_type": "stream",
     "text": [
      "2025-05-29 12:45:26,081 - robin.candidates - INFO - Therapeutic candidate generation finished! Saved final rankings to robin_output/dry_age-related_macular_degeneration_2025-05-29_11-39_experimental/ranked_therapeutic_candidates.csv\n"
     ]
    }
   ],
   "source": [
    "await therapeutic_candidates(\n",
    "    candidate_generation_goal=candidate_generation_goal,\n",
    "    configuration=config,\n",
    "    experimental_insights=experimental_insights,\n",
    ")"
   ]
  }
 ],
 "metadata": {
  "kernelspec": {
   "display_name": "poplar",
   "language": "python",
   "name": "python3"
  },
  "language_info": {
   "codemirror_mode": {
    "name": "ipython",
    "version": 3
   },
   "file_extension": ".py",
   "mimetype": "text/x-python",
   "name": "python",
   "nbconvert_exporter": "python",
   "pygments_lexer": "ipython3"
  }
 },
 "nbformat": 4,
 "nbformat_minor": 2
}
