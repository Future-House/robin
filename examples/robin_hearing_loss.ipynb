{
 "cells": [
  {
   "cell_type": "markdown",
   "metadata": {},
   "source": [
    "# Robin: Hypothesis Generation for Drug Repurposing"
   ]
  },
  {
   "cell_type": "code",
   "execution_count": null,
   "metadata": {},
   "outputs": [],
   "source": [
    "import logging\n",
    "\n",
    "from robin.assays import experimental_assay\n",
    "from robin.candidates import therapeutic_candidates\n",
    "from robin.configuration import RobinConfiguration"
   ]
  },
  {
   "cell_type": "markdown",
   "metadata": {},
   "source": [
    "## Robin Set Up"
   ]
  },
  {
   "cell_type": "code",
   "execution_count": null,
   "metadata": {},
   "outputs": [],
   "source": [
    "config = RobinConfiguration(\n",
    "    disease_name=\"Age-Related Hearing Loss\",\n",
    "    num_assays=10,\n",
    "    num_candidates=30,\n",
    "    num_queries=5,\n",
    ")\n",
    "\n",
    "logger = logging.getLogger(\"robin\")\n",
    "logger.setLevel(logging.INFO)"
   ]
  },
  {
   "cell_type": "markdown",
   "metadata": {},
   "source": [
    "# Initial therapeutic hypothesis generation"
   ]
  },
  {
   "cell_type": "markdown",
   "metadata": {},
   "source": [
    "### Experimental assay generation"
   ]
  },
  {
   "cell_type": "code",
   "execution_count": null,
   "metadata": {},
   "outputs": [
    {
     "name": "stdout",
     "output_type": "stream",
     "text": [
      "Starting selection of a relevant experimental assay.\n",
      "————————————————————————————————————————————————————\n",
      "\n",
      "Step 1: Formulating relevant queries for literature search...\n",
      "Generated Queries:\n",
      "1. Identify and characterize the primary cellular and molecular mechanisms contributing to cochlear hair cell senescence and apoptosis in age-related hearing loss, including oxidative stress pathways, mitochondrial dysfunction, pro-inflammatory signaling, and DNA damage responses\n",
      "2. Survey available in vitro cochlear cell culture models, including immortalized hair cell lines, primary organ of Corti explants, stem-cell-derived inner ear organoids, and co-culture systems, detailing their advantages, limitations, and suitability for mechanistic drug screening assays\n",
      "3. Compile potential phenotypic and molecular biomarkers of early-stage age-related hair cell degeneration measurable in cell culture assays, such as reactive oxygen species levels, mitochondrial membrane potential, synaptic ribbon integrity, apoptotic markers, and key transcription factor expression\n",
      "4. Review bulk and single-cell transcriptomic, proteomic, and metabolomic profiling studies of aged versus young cochlear tissues to identify conserved targets and signaling networks that can serve as readouts in mechanistic high-content cell-based assays\n",
      "5. Investigate assay technologies and high-throughput screening platforms suitable for evaluating drug-induced modulation of cochlear hair cell viability and function, including live-cell imaging, electrophysiological assays, high-content imaging, luminescent and fluorescent reporters, and microfluidic culture systems\n",
      "\n",
      "Step 2: Conducting literature search with FutureHouse platform...\n",
      "Successfully wrote: query_1_identify.txt to: robin_notebook/Age-Related_Hearing_Loss_2025-05-15_13-27/experimental_assay_literature_reviews/query_1_identify.txt\n",
      "Successfully wrote: query_2_survey.txt to: robin_notebook/Age-Related_Hearing_Loss_2025-05-15_13-27/experimental_assay_literature_reviews/query_2_survey.txt\n",
      "Successfully wrote: query_3_compile.txt to: robin_notebook/Age-Related_Hearing_Loss_2025-05-15_13-27/experimental_assay_literature_reviews/query_3_compile.txt\n",
      "Successfully wrote: query_4_review.txt to: robin_notebook/Age-Related_Hearing_Loss_2025-05-15_13-27/experimental_assay_literature_reviews/query_4_review.txt\n",
      "Successfully wrote: query_5_investigate.txt to: robin_notebook/Age-Related_Hearing_Loss_2025-05-15_13-27/experimental_assay_literature_reviews/query_5_investigate.txt\n",
      "\n",
      "Step 3: Generating ideas for relevant experimental assays...\n",
      "Strategy: Oxidative Stress Modulation<|>Reasoning: Screen small molecules for their ability to reduc...\n",
      "Strategy: Mitochondrial Rescue<|>Reasoning: Evaluate compounds for preservation of mitochondrial mem...\n",
      "Strategy: Apoptosis Inhibition<|>Reasoning: Use a caspase-3/7 luminescent reporter in primary organ ...\n",
      "Strategy: Inflammatory Signaling Blockade<|>Reasoning: Implement an NF-κB promoter–driven luciferase...\n",
      "Strategy: DNA Repair Enhancement<|>Reasoning: Employ a γH2AX fluorescent reporter in a 2D hair cell–...\n",
      "Strategy: Synaptic Maintenance<|>Reasoning: Use high-content imaging to count CtBP2-positive synapti...\n",
      "Strategy: Mechanotransduction Preservation<|>Reasoning: Monitor uptake of the FM1-43 dye in cochlear...\n",
      "Strategy: Cytokine Release Profiling<|>Reasoning: Leverage a microfluidic co-culture system of hair ...\n",
      "Strategy: Metabolic Support<|>Reasoning: Screen NAD+ precursors or glycolysis modulators in hair cel...\n",
      "Strategy: High-Content Phenotypic Screening<|>Reasoning: Combine automated immunofluorescence for My...\n",
      "Successfully exported to robin_notebook/Age-Related_Hearing_Loss_2025-05-15_13-27/experimental_assay_summary.txt\n",
      "\n",
      "Step 4: Detailed investigation and evaluation for each assay...\n",
      "Successfully wrote: assay_hypothesis_1_oxidative.txt to: robin_notebook/Age-Related_Hearing_Loss_2025-05-15_13-27/experimental_assay_detailed_hypotheses/assay_hypothesis_1_oxidative.txt\n",
      "Successfully wrote: assay_hypothesis_2_mitochondrial.txt to: robin_notebook/Age-Related_Hearing_Loss_2025-05-15_13-27/experimental_assay_detailed_hypotheses/assay_hypothesis_2_mitochondrial.txt\n",
      "Successfully wrote: assay_hypothesis_3_apoptosis.txt to: robin_notebook/Age-Related_Hearing_Loss_2025-05-15_13-27/experimental_assay_detailed_hypotheses/assay_hypothesis_3_apoptosis.txt\n",
      "Successfully wrote: assay_hypothesis_4_inflammatory.txt to: robin_notebook/Age-Related_Hearing_Loss_2025-05-15_13-27/experimental_assay_detailed_hypotheses/assay_hypothesis_4_inflammatory.txt\n",
      "Successfully wrote: assay_hypothesis_5_dna.txt to: robin_notebook/Age-Related_Hearing_Loss_2025-05-15_13-27/experimental_assay_detailed_hypotheses/assay_hypothesis_5_dna.txt\n",
      "Successfully wrote: assay_hypothesis_6_synaptic.txt to: robin_notebook/Age-Related_Hearing_Loss_2025-05-15_13-27/experimental_assay_detailed_hypotheses/assay_hypothesis_6_synaptic.txt\n",
      "Successfully wrote: assay_hypothesis_7_mechanotransduction.txt to: robin_notebook/Age-Related_Hearing_Loss_2025-05-15_13-27/experimental_assay_detailed_hypotheses/assay_hypothesis_7_mechanotransduction.txt\n",
      "Successfully wrote: assay_hypothesis_8_cytokine.txt to: robin_notebook/Age-Related_Hearing_Loss_2025-05-15_13-27/experimental_assay_detailed_hypotheses/assay_hypothesis_8_cytokine.txt\n",
      "Successfully wrote: assay_hypothesis_9_metabolic.txt to: robin_notebook/Age-Related_Hearing_Loss_2025-05-15_13-27/experimental_assay_detailed_hypotheses/assay_hypothesis_9_metabolic.txt\n",
      "Successfully wrote: assay_hypothesis_10_high.txt to: robin_notebook/Age-Related_Hearing_Loss_2025-05-15_13-27/experimental_assay_detailed_hypotheses/assay_hypothesis_10_high.txt\n",
      "\n",
      "Step 5: Selecting the top experimental assay...\n",
      "Starting comparisons for 45 pairs with max concurrency 100...\n"
     ]
    },
    {
     "name": "stderr",
     "output_type": "stream",
     "text": [
      "Comparing Hypotheses: 100%|██████████| 45/45 [00:15<00:00,  2.97it/s]\n"
     ]
    },
    {
     "name": "stdout",
     "output_type": "stream",
     "text": [
      "\n",
      "Finished processing pairs.\n",
      " - Successful comparisons: 45\n",
      " - Errors encountered: 0\n",
      "Successfully saved 45 results to robin_notebook/Age-Related_Hearing_Loss_2025-05-15_13-27/experimental_assay_ranking_results.csv\n",
      "Experimental Assay Selected: Mechanotransduction Preservation\n",
      "Candidate Generation Goal: Screen a diverse small-molecule library using the Mechanotransduction Preservation assay to identify compounds that maintain or restore cochlear hair cell mechanotransduction in models of age-related hearing loss\n"
     ]
    }
   ],
   "source": [
    "candidate_generation_goal = await experimental_assay(configuration=config)"
   ]
  },
  {
   "cell_type": "markdown",
   "metadata": {},
   "source": [
    "### Therapeutic candidate generation"
   ]
  },
  {
   "cell_type": "code",
   "execution_count": null,
   "metadata": {},
   "outputs": [
    {
     "name": "stdout",
     "output_type": "stream",
     "text": [
      "Starting generation of 30 therapeutic candidates.\n",
      "———————————————————————————————————————————————————————————————\n",
      "\n",
      "Step 1: Formulating relevant queries for literature search...\n",
      "Generated Queries:\n",
      "1. Studies of small-molecule screening campaigns employing mechanotransduction assays in cochlear hair cell models of ARHL, including libraries tested, screening parameters, hit validation, target deconvolution, and performance in ex vivo organ of Corti cultures \n",
      "2.  Reports on repurposed FDA-approved compounds or advanced chemical probes evaluated for preservation or restoration of cochlear hair cell mechanotransduction in aged mouse and rat models of ARHL, with target engagement assays, functional rescue readouts, dose–response curves, and preliminary safety data \n",
      "3.  Systematic reviews or meta-analyses of pharmacologic interventions aimed at modulating hair cell mechanotransduction channels (e.g., TMC1/TMC2 regulators), including evidence of functional rescue, direct binding assays, electrophysiological confirmation, and pharmacokinetic profiling in preclinical studies \n",
      "4.  Preclinical ADME/Toxicology and safety characterization of candidate small molecules that preserve or enhance cochlear hair cell mechanotransduction: inner ear distribution studies, blood–labyrinth barrier permeability, systemic exposure metrics, organ toxicity assessments, and any available human tolerability data \n",
      "5.  Mechanistic screening strategies integrating high-throughput electrophysiological, calcium imaging, and molecular readouts in small-molecule libraries targeting hair cell mechanotransduction preservation in ARHL models: assay development, validation criteria, throughput metrics, and hit triage workflows \n",
      "6.  Comprehensive reviews of molecular pathways implicated in age-related cochlear hair cell mechanotransduction decline, focusing on oxidative stress, mitochondrial bioenergetics dysfunction, ion channel dysregulation, cytoskeletal remodeling, and altered membrane lipid composition with in vivo aging model evidence \n",
      "7.  Studies delineating genetic and functional validation of core mechanotransduction components (e.g., TMC1, LHFPL5, MYO7A, PCDH15) in ARHL pathogenesis, including knockout/knockin mouse models, hair cell electrophysiology, single-cell transcriptomics, and rescue experiments by gene or small-molecule intervention \n",
      "8.  Research on the role of inflammatory signaling pathways (e.g., NF-κB, NLRP3 inflammasome, TNFα) in cochlear hair cell mechanotransduction impairment during aging: target expression changes, downstream effects on channel gating, pharmacological modulation, and reversibility in ex vivo and in vivo models \n",
      "9.  Investigations of age-related alterations in cochlear hair cell membrane biophysics, including lipid raft composition, membrane stiffness, and mechanotransducer channel gating properties, with potential identification of small molecules that modulate membrane fluidity to restore transduction \n",
      "10.  In vivo and ex vivo studies of calcium homeostasis dysregulation in aged cochlear hair cells: altered expression or function of TRPV channels, PMCA, SERCA pumps, buffering proteins, impact on mechanotransduction adaptation, and pharmacological rescue strategies\n",
      "\n",
      "Step 2: Conducting literature search with FutureHouse platform...\n",
      "Successfully wrote: query_1_studies.txt to: robin_notebook/Age-Related_Hearing_Loss_2025-05-15_13-27/therapeutic_candidate_literature_reviews/query_1_studies.txt\n",
      "Successfully wrote: query_2_reports.txt to: robin_notebook/Age-Related_Hearing_Loss_2025-05-15_13-27/therapeutic_candidate_literature_reviews/query_2_reports.txt\n",
      "Successfully wrote: query_3_systematic.txt to: robin_notebook/Age-Related_Hearing_Loss_2025-05-15_13-27/therapeutic_candidate_literature_reviews/query_3_systematic.txt\n",
      "Successfully wrote: query_4_preclinical.txt to: robin_notebook/Age-Related_Hearing_Loss_2025-05-15_13-27/therapeutic_candidate_literature_reviews/query_4_preclinical.txt\n",
      "Successfully wrote: query_5_mechanistic.txt to: robin_notebook/Age-Related_Hearing_Loss_2025-05-15_13-27/therapeutic_candidate_literature_reviews/query_5_mechanistic.txt\n",
      "Successfully wrote: query_6_comprehensive.txt to: robin_notebook/Age-Related_Hearing_Loss_2025-05-15_13-27/therapeutic_candidate_literature_reviews/query_6_comprehensive.txt\n",
      "Successfully wrote: query_7_studies.txt to: robin_notebook/Age-Related_Hearing_Loss_2025-05-15_13-27/therapeutic_candidate_literature_reviews/query_7_studies.txt\n",
      "Successfully wrote: query_8_research.txt to: robin_notebook/Age-Related_Hearing_Loss_2025-05-15_13-27/therapeutic_candidate_literature_reviews/query_8_research.txt\n",
      "Successfully wrote: query_9_investigations.txt to: robin_notebook/Age-Related_Hearing_Loss_2025-05-15_13-27/therapeutic_candidate_literature_reviews/query_9_investigations.txt\n",
      "Successfully wrote: query_10_in.txt to: robin_notebook/Age-Related_Hearing_Loss_2025-05-15_13-27/therapeutic_candidate_literature_reviews/query_10_in.txt\n",
      "\n",
      "Step 3: Generating 30 ideas for therapeutic candidates...\n",
      "\n",
      "Successfully parsed 30 candidate ideas.\n",
      "Candidate: MCC950<|>Hypothesis: MCC950, a selective small-molecule inhibitor of the NLRP3 inflammaso...\n",
      "Candidate: BAY 11-7082<|>Hypothesis: BAY 11-7082 (Sigma #B5556), an irreversible inhibitor of IκBα p...\n",
      "Candidate: Etanercept<|>Hypothesis: Etanercept, a soluble TNFα receptor fusion protein (Enbrel®), wi...\n",
      "Candidate: Anakinra<|>Hypothesis: Anakinra, an IL-1 receptor antagonist (Kineret®), will preserve co...\n",
      "Candidate: Rapamycin<|>Hypothesis: Rapamycin (sirolimus, LC Laboratories #R-5000), an mTORC1 inhibit...\n",
      "Candidate: Metformin<|>Hypothesis: Metformin (Sigma #D150959), by activating AMPK in cochlear hair c...\n",
      "Candidate: Nicotinamide Riboside<|>Hypothesis: Nicotinamide riboside (NR, ChromaDex #NR-500) will bo...\n",
      "Candidate: SRT1720<|>Hypothesis: SRT1720 (Sigma #SML1078), a potent allosteric SIRT1 activator, will...\n",
      "Candidate: MitoQ<|>Hypothesis: MitoQ (mitoquinone, Invitrogen #M360) will accumulate in hair cell mi...\n",
      "Candidate: Edaravone<|>Hypothesis: Edaravone (Radicut®, Mitsubishi Tanabe Pharma), a free-radical sc...\n",
      "Candidate: SKQ1<|>Hypothesis: SKQ1 (plastoquinonyl decyltriphenylphosphonium, Sigma #54980) will tar...\n",
      "Candidate: Apocynin<|>Hypothesis: Apocynin (Sigma #A7085), an NADPH oxidase (NOX) inhibitor, will re...\n",
      "Candidate: Trehalose<|>Hypothesis: Trehalose (Sigma #T9531), an mTOR-independent autophagy enhancer,...\n",
      "Candidate: Q-VD-OPh<|>Hypothesis: Q-VD-OPh (quinolyl-valyl-OPh, SelleckChem #S7861), a broad-spectru...\n",
      "Candidate: Retigabine<|>Hypothesis: Retigabine (ezogabine, Trobalt®), a KCNQ2/3 channel opener, will...\n",
      "Candidate: NS1619<|>Hypothesis: NS1619 (Sigma #N100), a BK channel opener, will accelerate hair cell...\n",
      "Candidate: AICAR<|>Hypothesis: AICAR (5-aminoimidazole-4-carboxamide ribonucleotide, Sigma #A9978) w...\n",
      "Candidate: N-acetylcysteine<|>Hypothesis: N-acetylcysteine (NAC, Sigma #A7250) will replenish intrac...\n",
      "Candidate: Olaparib<|>Hypothesis: Olaparib (Lynparza®), a PARP1 inhibitor, will prevent NAD⁺ depleti...\n",
      "Candidate: CDN1163<|>Hypothesis: CDN1163 (Tocris #6276), a small-molecule activator of SERCA2, will ...\n",
      "Candidate: Capsazepine<|>Hypothesis: Capsazepine (Sigma #C191), a TRPV1 antagonist, will inhibit exc...\n",
      "Candidate: Dasatinib<|>Hypothesis: Dasatinib (Sprycel®), a broad-spectrum tyrosine kinase inhibitor ...\n",
      "Candidate: Quercetin<|>Hypothesis: Quercetin (Sigma #Q4951), a flavonoid with senolytic and antioxid...\n",
      "Candidate: Fisetin<|>Hypothesis: Fisetin (Sigma #F4046), a flavonol senolytic and antioxidant, will ...\n",
      "Candidate: Resveratrol<|>Hypothesis: Resveratrol (Sigma #R5010), a polyphenol SIRT1 activator and an...\n",
      "Candidate: Sildenafil<|>Hypothesis: Sildenafil (Viagra®), a PDE5 inhibitor, will elevate cochlear cG...\n",
      "Candidate: Rolipram<|>Hypothesis: Rolipram (Sigma #R6520), a PDE4 inhibitor, will elevate cAMP in co...\n",
      "Candidate: S-Nitroso-N-acetylpenicillamine (SNAP)<|>Hypothesis: SNAP (Sigma #N3398), a nitric oxide ...\n",
      "Candidate: GSK2606414<|>Hypothesis: GSK2606414 (SelleckChem #S7303), a PERK inhibitor, will attenuat...\n",
      "Candidate: Tauroursodeoxycholic Acid (TUDCA)<|>Hypothesis: TUDCA (Sigma #T0261), a bile acid ER-stre...\n",
      "Successfully exported to robin_notebook/Age-Related_Hearing_Loss_2025-05-15_13-27/therapeutic_candidates_summary.txt\n",
      "\n",
      "Step 4: Detailed investigation and evaluation for candidates...\n"
     ]
    },
    {
     "name": "stderr",
     "output_type": "stream",
     "text": [
      "Task 1319aa8b-d2f1-44af-9d76-0c0d25b704e8 failed with status: fail\n",
      "Task 1319aa8b-d2f1-44af-9d76-0c0d25b704e8 for query 'You are a expert drug development team leader focused on validating **drug candidates**. Your task is to evaluate promising repurposed drugs or therapeutic candidates for Age-Related Hearing Loss proposed by your research team. \n",
      "        Given the following therapeutic candidate, do a comprehensive literature review to evaluate if this therapeutic candidate has potential for Age-Related Hearing Loss. Search relevant literature across \n",
      "        biomedical, clinical, and biochemical literature about the disease or proposed therapeutic. This must be very detailed and comprehensive, as it will determine the direction of the team.Candidate: BAY 11-7082\n",
      "Hypothesis: BAY 11-7082 (Sigma #B5556), an irreversible inhibitor of IκBα phosphorylation, will preserve cochlear hair cell mechanotransduction during aging by blocking NF-κB nuclear translocation, reducing pro-inflammatory cytokine expression and preventing transcriptional downregulation of key MET channel subunits.\n",
      "Reasoning: Chronic NF-κB activation in aged cochlea leads to reduced expression of ion transporters and MET complex proteins, exacerbating mechanotransduction decline (Bazard et al., Cells 2021). BAY 11-7082 has shown efficacy in ex vivo cochlear explants at 1–5 μM to inhibit LPS-induced NF-κB DNA binding. By selectively targeting IKK activity, BAY 11-7082 downregulates TNFα, IL-6, and NLRP3 transcripts, mitigating secondary oxidative stress that disrupts TMC1/TMC2 gating. Its known cell permeability, stability in culture, and prior use in rodent inflammation models facilitate translational repurposing to ARHL.Provide your response in the following format, like an evaluation for a scientific proposal:\n",
      "    Overview of Therapeutic Candidate: Explain the natural or synthetic origins of this therapeutic candidate, including how it was synthesized or discovered. Explain which class of therapeutic compounds this belongs to, and how this class of compounds has previously been used in general. \n",
      "    Therapeutic History: Summarize previous biochemical, clinical or veterinary uses of this drug or drug class, if any. Examine to see if the therapeutic candidate has ever been used for treating Age-Related Hearing Loss or any similar disease.\n",
      "    Mechanism of Action: Explain the known mechanism(s) of action of this compound to the full extent of molecular detail that is known. Explain the biochemistry and molecular interactions of the therapeutic candidate in any relevant literature.\n",
      "    Expected Effect: Explain the expected effect of this compound in the assay proposed and the mechanism by which it will act. If the drug is acting on proteins, reference literature which shows this gene is expressed in the cell type being assayed.  \n",
      "    Overall Evaluation: Give your overall thoughts on this therapeutic candidate. Include strengths and weaknesses of this therapeutic candidate for treating Age-Related Hearing Loss.' ended with status: fail\n"
     ]
    },
    {
     "name": "stdout",
     "output_type": "stream",
     "text": [
      "Successfully wrote: therapeutic_candidate_1_mcc950.txt to: robin_notebook/Age-Related_Hearing_Loss_2025-05-15_13-27/therapeutic_candidate_detailed_hypotheses/therapeutic_candidate_1_mcc950.txt\n",
      "Successfully wrote: therapeutic_candidate_2_bay.txt to: robin_notebook/Age-Related_Hearing_Loss_2025-05-15_13-27/therapeutic_candidate_detailed_hypotheses/therapeutic_candidate_2_bay.txt\n",
      "Successfully wrote: therapeutic_candidate_3_etanercept.txt to: robin_notebook/Age-Related_Hearing_Loss_2025-05-15_13-27/therapeutic_candidate_detailed_hypotheses/therapeutic_candidate_3_etanercept.txt\n",
      "Successfully wrote: therapeutic_candidate_4_anakinra.txt to: robin_notebook/Age-Related_Hearing_Loss_2025-05-15_13-27/therapeutic_candidate_detailed_hypotheses/therapeutic_candidate_4_anakinra.txt\n",
      "Successfully wrote: therapeutic_candidate_5_rapamycin.txt to: robin_notebook/Age-Related_Hearing_Loss_2025-05-15_13-27/therapeutic_candidate_detailed_hypotheses/therapeutic_candidate_5_rapamycin.txt\n",
      "Successfully wrote: therapeutic_candidate_6_metformin.txt to: robin_notebook/Age-Related_Hearing_Loss_2025-05-15_13-27/therapeutic_candidate_detailed_hypotheses/therapeutic_candidate_6_metformin.txt\n",
      "Successfully wrote: therapeutic_candidate_7_nicotinamide.txt to: robin_notebook/Age-Related_Hearing_Loss_2025-05-15_13-27/therapeutic_candidate_detailed_hypotheses/therapeutic_candidate_7_nicotinamide.txt\n",
      "Successfully wrote: therapeutic_candidate_8_srt1720.txt to: robin_notebook/Age-Related_Hearing_Loss_2025-05-15_13-27/therapeutic_candidate_detailed_hypotheses/therapeutic_candidate_8_srt1720.txt\n",
      "Successfully wrote: therapeutic_candidate_9_mitoq.txt to: robin_notebook/Age-Related_Hearing_Loss_2025-05-15_13-27/therapeutic_candidate_detailed_hypotheses/therapeutic_candidate_9_mitoq.txt\n",
      "Successfully wrote: therapeutic_candidate_10_edaravone.txt to: robin_notebook/Age-Related_Hearing_Loss_2025-05-15_13-27/therapeutic_candidate_detailed_hypotheses/therapeutic_candidate_10_edaravone.txt\n",
      "Successfully wrote: therapeutic_candidate_11_skq1.txt to: robin_notebook/Age-Related_Hearing_Loss_2025-05-15_13-27/therapeutic_candidate_detailed_hypotheses/therapeutic_candidate_11_skq1.txt\n",
      "Successfully wrote: therapeutic_candidate_12_apocynin.txt to: robin_notebook/Age-Related_Hearing_Loss_2025-05-15_13-27/therapeutic_candidate_detailed_hypotheses/therapeutic_candidate_12_apocynin.txt\n",
      "Successfully wrote: therapeutic_candidate_13_trehalose.txt to: robin_notebook/Age-Related_Hearing_Loss_2025-05-15_13-27/therapeutic_candidate_detailed_hypotheses/therapeutic_candidate_13_trehalose.txt\n",
      "Successfully wrote: therapeutic_candidate_14_q.txt to: robin_notebook/Age-Related_Hearing_Loss_2025-05-15_13-27/therapeutic_candidate_detailed_hypotheses/therapeutic_candidate_14_q.txt\n",
      "Successfully wrote: therapeutic_candidate_15_retigabine.txt to: robin_notebook/Age-Related_Hearing_Loss_2025-05-15_13-27/therapeutic_candidate_detailed_hypotheses/therapeutic_candidate_15_retigabine.txt\n",
      "Successfully wrote: therapeutic_candidate_16_ns1619.txt to: robin_notebook/Age-Related_Hearing_Loss_2025-05-15_13-27/therapeutic_candidate_detailed_hypotheses/therapeutic_candidate_16_ns1619.txt\n",
      "Successfully wrote: therapeutic_candidate_17_aicar.txt to: robin_notebook/Age-Related_Hearing_Loss_2025-05-15_13-27/therapeutic_candidate_detailed_hypotheses/therapeutic_candidate_17_aicar.txt\n",
      "Successfully wrote: therapeutic_candidate_18_n.txt to: robin_notebook/Age-Related_Hearing_Loss_2025-05-15_13-27/therapeutic_candidate_detailed_hypotheses/therapeutic_candidate_18_n.txt\n",
      "Successfully wrote: therapeutic_candidate_19_olaparib.txt to: robin_notebook/Age-Related_Hearing_Loss_2025-05-15_13-27/therapeutic_candidate_detailed_hypotheses/therapeutic_candidate_19_olaparib.txt\n",
      "Successfully wrote: therapeutic_candidate_20_cdn1163.txt to: robin_notebook/Age-Related_Hearing_Loss_2025-05-15_13-27/therapeutic_candidate_detailed_hypotheses/therapeutic_candidate_20_cdn1163.txt\n",
      "Successfully wrote: therapeutic_candidate_21_capsazepine.txt to: robin_notebook/Age-Related_Hearing_Loss_2025-05-15_13-27/therapeutic_candidate_detailed_hypotheses/therapeutic_candidate_21_capsazepine.txt\n",
      "Successfully wrote: therapeutic_candidate_22_dasatinib.txt to: robin_notebook/Age-Related_Hearing_Loss_2025-05-15_13-27/therapeutic_candidate_detailed_hypotheses/therapeutic_candidate_22_dasatinib.txt\n",
      "Successfully wrote: therapeutic_candidate_23_quercetin.txt to: robin_notebook/Age-Related_Hearing_Loss_2025-05-15_13-27/therapeutic_candidate_detailed_hypotheses/therapeutic_candidate_23_quercetin.txt\n",
      "Successfully wrote: therapeutic_candidate_24_fisetin.txt to: robin_notebook/Age-Related_Hearing_Loss_2025-05-15_13-27/therapeutic_candidate_detailed_hypotheses/therapeutic_candidate_24_fisetin.txt\n",
      "Successfully wrote: therapeutic_candidate_25_resveratrol.txt to: robin_notebook/Age-Related_Hearing_Loss_2025-05-15_13-27/therapeutic_candidate_detailed_hypotheses/therapeutic_candidate_25_resveratrol.txt\n",
      "Successfully wrote: therapeutic_candidate_26_sildenafil.txt to: robin_notebook/Age-Related_Hearing_Loss_2025-05-15_13-27/therapeutic_candidate_detailed_hypotheses/therapeutic_candidate_26_sildenafil.txt\n",
      "Successfully wrote: therapeutic_candidate_27_rolipram.txt to: robin_notebook/Age-Related_Hearing_Loss_2025-05-15_13-27/therapeutic_candidate_detailed_hypotheses/therapeutic_candidate_27_rolipram.txt\n",
      "Successfully wrote: therapeutic_candidate_28_s.txt to: robin_notebook/Age-Related_Hearing_Loss_2025-05-15_13-27/therapeutic_candidate_detailed_hypotheses/therapeutic_candidate_28_s.txt\n",
      "Successfully wrote: therapeutic_candidate_29_gsk2606414.txt to: robin_notebook/Age-Related_Hearing_Loss_2025-05-15_13-27/therapeutic_candidate_detailed_hypotheses/therapeutic_candidate_29_gsk2606414.txt\n",
      "Successfully wrote: therapeutic_candidate_30_tauroursodeoxycholic.txt to: robin_notebook/Age-Related_Hearing_Loss_2025-05-15_13-27/therapeutic_candidate_detailed_hypotheses/therapeutic_candidate_30_tauroursodeoxycholic.txt\n",
      "\n",
      "Step 5: Ranking the strength of the therapeutic candidates...\n",
      "Processing file: therapeutic_candidate_19_olaparib.txt...\n",
      "Processing file: therapeutic_candidate_11_skq1.txt...\n",
      "Processing file: therapeutic_candidate_30_tauroursodeoxycholic.txt...\n",
      "Processing file: therapeutic_candidate_22_dasatinib.txt...\n",
      "Processing file: therapeutic_candidate_5_rapamycin.txt...\n",
      "Processing file: therapeutic_candidate_6_metformin.txt...\n",
      "Processing file: therapeutic_candidate_25_resveratrol.txt...\n",
      "Processing file: therapeutic_candidate_9_mitoq.txt...\n",
      "Processing file: therapeutic_candidate_21_capsazepine.txt...\n",
      "Processing file: therapeutic_candidate_26_sildenafil.txt...\n",
      "Processing file: therapeutic_candidate_1_mcc950.txt...\n",
      "Processing file: therapeutic_candidate_3_etanercept.txt...\n",
      "Processing file: therapeutic_candidate_20_cdn1163.txt...\n",
      "Processing file: therapeutic_candidate_7_nicotinamide.txt...\n",
      "Processing file: therapeutic_candidate_16_ns1619.txt...\n",
      "Processing file: therapeutic_candidate_29_gsk2606414.txt...\n",
      "Processing file: therapeutic_candidate_27_rolipram.txt...\n",
      "Processing file: therapeutic_candidate_8_srt1720.txt...\n",
      "Processing file: therapeutic_candidate_2_bay.txt...\n",
      "  - Could not find text between 'Proposal for' and 'Overview' in therapeutic_candidate_2_bay.txt\n",
      "Processing file: therapeutic_candidate_23_quercetin.txt...\n",
      "Processing file: therapeutic_candidate_17_aicar.txt...\n",
      "Processing file: therapeutic_candidate_28_s.txt...\n",
      "Processing file: therapeutic_candidate_18_n.txt...\n",
      "Processing file: therapeutic_candidate_24_fisetin.txt...\n",
      "Processing file: therapeutic_candidate_10_edaravone.txt...\n",
      "Processing file: therapeutic_candidate_13_trehalose.txt...\n",
      "Processing file: therapeutic_candidate_15_retigabine.txt...\n",
      "Processing file: therapeutic_candidate_12_apocynin.txt...\n",
      "Processing file: therapeutic_candidate_14_q.txt...\n",
      "Processing file: therapeutic_candidate_4_anakinra.txt...\n",
      "Starting comparisons for 300 pairs with max concurrency 100...\n"
     ]
    },
    {
     "name": "stderr",
     "output_type": "stream",
     "text": [
      "Comparing Hypotheses:   6%|▌         | 18/300 [00:08<00:35,  8.01it/s]"
     ]
    },
    {
     "name": "stdout",
     "output_type": "stream",
     "text": [
      "\n",
      "JSON Decode Error for pair (2, 14) (Index 81): Invalid control character at: line 1 column 939 (char 938)\n",
      "Raw Content: {\"Analysis\":\"TUDCA (Candidate 2) brings a robust, multi-layered evidentiary foundation directly relevant to ARHL: documented in vitro protection of cochlear hair cells against ER‐stress‐induced apoptosis, preservation of stereocilia, and mitigation of mitochondrial dysfunction. Its mechanism—chemical chaperoning, UPR modulation (CHOP inhibition), ER Ca²⁺ stabilization, anti-inflammatory signaling via TGR5, and mitochondrial-ER crosstalk preservation—aligns closely with key drivers of age-related hair cell degeneration. Critically, TUDCA has a well‐characterized safety and tolerability profile in humans (cholestatic liver disease, neurodegeneration models) and evidence of blood–brain and likely blood–labyrinth barrier permeability, reducing translational risk. Although in vivo ARHL data are pending, the proposed preclinical plan (PK in cochlea, dosing curves, long‐term hearing function assays) is straightforward and feasible.\n",
      "\n",
      "NS1619 (Candidate 14) offers a clear MoA as a BK channel opener with proof‐of‐concept in peroxisome-deficiency hearing models, and a rationale for improving hair cell repolarization and limiting Ca²⁺ overload. However, its supporting evidence in ARHL is limited: no direct in vivo presbycusis studies, sparse human safety data, known off-target effects (mitochondrial depolarization, L-type Ca²⁺ channel inhibition), and uncertain PK/inner‐ear delivery. While novel and mechanistically interesting, NS1619’s narrower target engagement may not address the multifactorial pathology of ARHL, and its risk profile in chronic administration remains uncharacterized.\",\"Reasoning\":\"Between the two, TUDCA offers stronger, directly relevant preclinical evidence in cochlear hair cells, a well-defined, disease-aligned mechanism addressing core ARHL pathologies, and an established human safety record—all of which de-risk early development steps and support rapid translation. NS1619, despite a plausible ion-channel-based approach, lacks comprehensive ARHL data, carries off-target liabilities, and requires extensive safety and PK optimization before serious advancement. Therefore, TUDCA presents a higher probability of successful experimental outcomes and eventual clinical translation for Age-Related Hearing Loss.\",\"Winner\":\"(Tauroursodeoxycholic Acid, 2)\",\"Loser\":\"(NS1619, 14)\"}\n"
     ]
    },
    {
     "name": "stderr",
     "output_type": "stream",
     "text": [
      "Comparing Hypotheses:  72%|███████▏  | 215/300 [00:30<00:11,  7.48it/s]"
     ]
    },
    {
     "name": "stdout",
     "output_type": "stream",
     "text": [
      "\n",
      "JSON Decode Error for pair (4, 26) (Index 88): Invalid control character at: line 2 column 1026 (char 1027)\n",
      "Raw Content: {\n",
      "  \"Analysis\": \"Both candidates present scientifically plausible mechanisms for addressing age-related hearing loss (ARHL), but they differ substantially in the strength of supporting evidence, translational readiness, and safety considerations. Rapamycin (Candidate 4) benefits from robust in vivo preclinical data directly demonstrating delayed ARHL progression, preserved hair cell function, and improved auditory thresholds in multiple rodent models (C57BL/6J, UMHET4). Its mechanism—mTORC1 inhibition to induce autophagy and mitophagy—targets a well-established upstream contributor to cochlear aging (mitochondrial dysfunction, ROS accumulation). Clinical experience with rapamycin provides extensive pharmacokinetic, dosing, and safety data, facilitating trial design for repurposing, although immunosuppression and potential off-target mTORC2 effects require careful dose optimization. The proposed delivery (oral or dietary) is feasible, and methodological plans for dose titration and monitoring are straightforward.\n",
      "\n",
      "Retigabine (Candidate 26) offers an innovative approach by opening KCNQ channels to maintain endocochlear potential, stabilizing the ionic gradient essential for mechanoelectrical transduction. Its MoA is clear and specific—binding to the S5 hydrophobic pocket on KCNQ channels and shifting activation to hyperpolarized potentials—but evidence is limited to in vitro assays rescuing mutant KCNQ4 activity and no published in vivo ARHL efficacy studies. Although retigabine has an established safety and PK profile in epilepsy, its known CNS side effects (somnolence, dizziness), retinal pigmentation, and urinary retention raise significant concerns for chronic use in an elderly population. Also, systemic exposure vs. cochlear selectivity is unproven, and no preclinical models have confirmed improved EP or hair cell function in aged subjects. The need for novel analogues or localized delivery further complicates feasibility. Thus, retigabine’s mechanistic novelty is offset by weak direct ARHL evidence and significant translational challenges.\",\n",
      "  \"Reasoning\": \"Rapamycin is the superior candidate based on a stronger and more relevant evidence base: multiple in vivo ARHL studies demonstrating functional benefit, a well-characterized MoA directly targeting central aging pathways in the cochlea, and extensive clinical pharmacology data to inform safe dosing. Although immunosuppressive risk exists, it is manageable via dose titration and focused monitoring. In contrast, retigabine, while mechanistically compelling for ionic homeostasis, lacks any in vivo ARHL efficacy data, faces pronounced systemic side effects in the target elderly population, and requires significant medicinal chemistry or delivery innovations before translation. Consequently, rapamycin presents a clearer path to clinical testing and eventual therapy.\",\n",
      "  \"Winner\": \"(Rapamycin, 4)\",\n",
      "  \"Loser\": \"(Retigabine, 26)\"\n",
      "}\n"
     ]
    },
    {
     "name": "stderr",
     "output_type": "stream",
     "text": [
      "Comparing Hypotheses: 100%|██████████| 300/300 [00:55<00:00,  5.40it/s]"
     ]
    },
    {
     "name": "stdout",
     "output_type": "stream",
     "text": [
      "\n",
      "Finished processing pairs.\n",
      " - Successful comparisons: 298\n",
      " - Errors encountered: 2\n",
      "Successfully saved 298 results to robin_notebook/Age-Related_Hearing_Loss_2025-05-15_13-27/therapeutic_candidate_ranking_results.csv\n",
      "Therapeutic candidate generation finished! Saved final rankings to robin_notebook/Age-Related_Hearing_Loss_2025-05-15_13-27/ranked_therapeutic_candidates.csv\n"
     ]
    },
    {
     "name": "stderr",
     "output_type": "stream",
     "text": [
      "\n"
     ]
    }
   ],
   "source": [
    "await therapeutic_candidates(\n",
    "    candidate_generation_goal=candidate_generation_goal, configuration=config\n",
    ")"
   ]
  }
 ],
 "metadata": {
  "kernelspec": {
   "display_name": "poplar",
   "language": "python",
   "name": "python3"
  },
  "language_info": {
   "codemirror_mode": {
    "name": "ipython",
    "version": 3
   },
   "file_extension": ".py",
   "mimetype": "text/x-python",
   "name": "python",
   "nbconvert_exporter": "python",
   "pygments_lexer": "ipython3"
  }
 },
 "nbformat": 4,
 "nbformat_minor": 2
}
