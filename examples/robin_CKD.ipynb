{
 "cells": [
  {
   "cell_type": "markdown",
   "metadata": {},
   "source": [
    "# Robin: Hypothesis Generation for Drug Repurposing"
   ]
  },
  {
   "cell_type": "code",
   "execution_count": null,
   "metadata": {},
   "outputs": [],
   "source": [
    "import logging\n",
    "\n",
    "from robin.assays import experimental_assay\n",
    "from robin.candidates import therapeutic_candidates\n",
    "from robin.configuration import RobinConfiguration"
   ]
  },
  {
   "cell_type": "markdown",
   "metadata": {},
   "source": [
    "## Robin Set Up"
   ]
  },
  {
   "cell_type": "code",
   "execution_count": null,
   "metadata": {},
   "outputs": [],
   "source": [
    "config = RobinConfiguration(\n",
    "    disease_name=\"Chronic Kidney Disease\",\n",
    "    num_assays=10,\n",
    "    num_candidates=30,\n",
    "    num_queries=5,\n",
    ")\n",
    "\n",
    "logger = logging.getLogger(\"robin\")\n",
    "logger.setLevel(logging.INFO)"
   ]
  },
  {
   "cell_type": "markdown",
   "metadata": {},
   "source": [
    "# Initial therapeutic hypothesis generation"
   ]
  },
  {
   "cell_type": "markdown",
   "metadata": {},
   "source": [
    "### Experimental assay generation"
   ]
  },
  {
   "cell_type": "code",
   "execution_count": null,
   "metadata": {},
   "outputs": [
    {
     "name": "stdout",
     "output_type": "stream",
     "text": [
      "Starting selection of a relevant experimental assay.\n",
      "————————————————————————————————————————————————————\n",
      "\n",
      "Step 1: Formulating relevant queries for literature search...\n",
      "Generated Queries:\n",
      "1. Chronic Kidney Disease pathophysiology focusing on intracellular signaling pathways in renal tubular epithelial cells, including TGF-beta/Smad, mTOR, ROS-mediated oxidative stress, mitochondrial dysfunction, inflammasome activation, and autophagy/apoptosis interplay in CKD progression\n",
      "2. In vitro cell culture models of CKD evaluating fibrogenesis endpoints in human renal proximal tubule epithelial cells or glomerular mesangial cells, comparison of 2D vs 3D culture systems, organoid platforms, use of co-cultures, shear stress to mimic microenvironment\n",
      "3. High-content, high-throughput assay strategies for screening anti-fibrotic compounds in renal cell culture, including reporter constructs for TGF-beta signalling, collagen deposition assays, hydroxyproline assays, immunofluorescence quantification of alpha-SMA, ECM remodelling metrics\n",
      "4. Mechanistic exploration of altered transporter activities and metabolic dysfunction in CKD models in vitro, focusing on sodium-glucose cotransporters, organic cation/anion transporters, mitochondrial bioenergetics, glycolytic vs oxidative metabolic shifts in tubular cells\n",
      "5. In vitro assessment of inflammatory cytokine networks and immune cell interactions in CKD, exploring IL-1, IL-6, TNF-alpha signalling in renal cell types, co-culture with macrophages, chemokine-driven fibrotic responses, NF-kB activation assays\n",
      "\n",
      "Step 2: Conducting literature search with FutureHouse platform...\n",
      "Successfully wrote: query_1_chronic.txt to: robin_notebook/Chronic_Kidney_Disease_2025-05-15_09-31/experimental_assay_literature_reviews/query_1_chronic.txt\n",
      "Successfully wrote: query_2_in.txt to: robin_notebook/Chronic_Kidney_Disease_2025-05-15_09-31/experimental_assay_literature_reviews/query_2_in.txt\n",
      "Successfully wrote: query_3_high.txt to: robin_notebook/Chronic_Kidney_Disease_2025-05-15_09-31/experimental_assay_literature_reviews/query_3_high.txt\n",
      "Successfully wrote: query_4_mechanistic.txt to: robin_notebook/Chronic_Kidney_Disease_2025-05-15_09-31/experimental_assay_literature_reviews/query_4_mechanistic.txt\n",
      "Successfully wrote: query_5_in.txt to: robin_notebook/Chronic_Kidney_Disease_2025-05-15_09-31/experimental_assay_literature_reviews/query_5_in.txt\n",
      "\n",
      "Step 3: Generating ideas for relevant experimental assays...\n",
      "Strategy: TGF-beta/Smad Reporter Assay<|>Reasoning: A luciferase reporter under control of Smad‐resp...\n",
      "Strategy: Reactive Oxygen Species Quantification<|>Reasoning: Using the cell-permeant probe H2DCFDA ...\n",
      "Strategy: Mitochondrial Membrane Potential Assay<|>Reasoning: TMRM or JC-1 dyes enable high-content ...\n",
      "Strategy: Autophagy Flux Assay<|>Reasoning: Stable expression of an mCherry-GFP-LC3 reporter in rena...\n",
      "Strategy: Inflammasome Activation Assay<|>Reasoning: Measurement of caspase‐1 activity and IL-1β rel...\n",
      "Strategy: 3D Collagen Deposition Assay<|>Reasoning: Embedding RPTEC in a collagen-I hydrogel and qua...\n",
      "Strategy: SGLT2 Uptake Assay<|>Reasoning: Fluorescent glucose analog (2-NBDG) uptake in RPTEC monola...\n",
      "Strategy: Metabolic Flux (Seahorse) Assay<|>Reasoning: Measurement of oxygen consumption rate (OCR) ...\n",
      "Strategy: TEER Barrier Integrity Assay<|>Reasoning: Transepithelial electrical resistance (TEER) acr...\n",
      "Strategy: Macrophage-TEC Co-culture NF-κB Reporter<|>Reasoning: A transwell co-culture of primary ma...\n",
      "Successfully exported to robin_notebook/Chronic_Kidney_Disease_2025-05-15_09-31/experimental_assay_summary.txt\n",
      "\n",
      "Step 4: Detailed investigation and evaluation for each assay...\n",
      "Successfully wrote: assay_hypothesis_1_tgf.txt to: robin_notebook/Chronic_Kidney_Disease_2025-05-15_09-31/experimental_assay_detailed_hypotheses/assay_hypothesis_1_tgf.txt\n",
      "Successfully wrote: assay_hypothesis_2_reactive.txt to: robin_notebook/Chronic_Kidney_Disease_2025-05-15_09-31/experimental_assay_detailed_hypotheses/assay_hypothesis_2_reactive.txt\n",
      "Successfully wrote: assay_hypothesis_3_mitochondrial.txt to: robin_notebook/Chronic_Kidney_Disease_2025-05-15_09-31/experimental_assay_detailed_hypotheses/assay_hypothesis_3_mitochondrial.txt\n",
      "Successfully wrote: assay_hypothesis_4_autophagy.txt to: robin_notebook/Chronic_Kidney_Disease_2025-05-15_09-31/experimental_assay_detailed_hypotheses/assay_hypothesis_4_autophagy.txt\n",
      "Successfully wrote: assay_hypothesis_5_inflammasome.txt to: robin_notebook/Chronic_Kidney_Disease_2025-05-15_09-31/experimental_assay_detailed_hypotheses/assay_hypothesis_5_inflammasome.txt\n",
      "Successfully wrote: assay_hypothesis_6_3d.txt to: robin_notebook/Chronic_Kidney_Disease_2025-05-15_09-31/experimental_assay_detailed_hypotheses/assay_hypothesis_6_3d.txt\n",
      "Successfully wrote: assay_hypothesis_7_sglt2.txt to: robin_notebook/Chronic_Kidney_Disease_2025-05-15_09-31/experimental_assay_detailed_hypotheses/assay_hypothesis_7_sglt2.txt\n",
      "Successfully wrote: assay_hypothesis_8_metabolic.txt to: robin_notebook/Chronic_Kidney_Disease_2025-05-15_09-31/experimental_assay_detailed_hypotheses/assay_hypothesis_8_metabolic.txt\n",
      "Successfully wrote: assay_hypothesis_9_teer.txt to: robin_notebook/Chronic_Kidney_Disease_2025-05-15_09-31/experimental_assay_detailed_hypotheses/assay_hypothesis_9_teer.txt\n",
      "Successfully wrote: assay_hypothesis_10_macrophage.txt to: robin_notebook/Chronic_Kidney_Disease_2025-05-15_09-31/experimental_assay_detailed_hypotheses/assay_hypothesis_10_macrophage.txt\n",
      "\n",
      "Step 5: Selecting the top experimental assay...\n",
      "Starting comparisons for 45 pairs with max concurrency 100...\n"
     ]
    },
    {
     "name": "stderr",
     "output_type": "stream",
     "text": [
      "Comparing Hypotheses: 100%|██████████| 45/45 [00:17<00:00,  2.59it/s]\n"
     ]
    },
    {
     "name": "stdout",
     "output_type": "stream",
     "text": [
      "\n",
      "Finished processing pairs.\n",
      " - Successful comparisons: 45\n",
      " - Errors encountered: 0\n",
      "Successfully saved 45 results to robin_notebook/Chronic_Kidney_Disease_2025-05-15_09-31/experimental_assay_ranking_results.csv\n",
      "Experimental Assay Selected: Inflammasome Activation Assay\n",
      "Candidate Generation Goal: Use the Inflammasome Activation Assay to screen a diverse small-molecule library and identify novel inhibitors of inflammasome activation in CKD-relevant renal cells as potential therapeutic candidates.\n"
     ]
    }
   ],
   "source": [
    "candidate_generation_goal = await experimental_assay(configuration=config)"
   ]
  },
  {
   "cell_type": "markdown",
   "metadata": {},
   "source": [
    "### Therapeutic candidate generation"
   ]
  },
  {
   "cell_type": "code",
   "execution_count": null,
   "metadata": {},
   "outputs": [
    {
     "name": "stdout",
     "output_type": "stream",
     "text": [
      "Starting generation of 30 therapeutic candidates.\n",
      "———————————————————————————————————————————————————————————————\n",
      "\n",
      "Step 1: Formulating relevant queries for literature search...\n",
      "Generated Queries:\n",
      "1. Chronic kidney disease relevant small-molecule library screens utilizing inflammasome activation assays in human proximal tubular epithelial cells or podocytes, with reported hit compounds inhibiting NLRP3 assembly, IL-1β release, and downstream pyroptosis: what are the key studies and leads identified? \n",
      "2.  Preclinical pharmacokinetics and safety profiles of novel NLRP3 inflammasome inhibitors evaluated in rodent models of chronic kidney disease, including ADME, renal clearance, tissue distribution, and toxicity assessments relevant to drug development. \n",
      "3.  Target validation and mechanistic confirmation studies for small-molecule inflammasome inhibitors in CKD models: evidence of direct binding to NLRP3 or upstream regulators, modulation of ASC oligomerization, caspase-1 activation, and impact on renal inflammation and fibrosis. \n",
      "4.  Efficacy of repurposed small molecules originally developed for other inflammatory diseases as NLRP3 inflammasome inhibitors in chronic kidney disease models, ranking candidates by potency, cell-based assay IC50, and in vivo efficacy in animal models mimicking CKD progression. \n",
      "5.  High-throughput screening methodologies and assay design considerations for identifying novel inflammasome inhibitors in CKD-relevant renal cells, including fluorescence/luminescence readouts for ASC speck formation, IL-1β secretion, and caspase-1 activity in proximal tubular cells. \n",
      "6.  Dysregulation of NLRP3 inflammasome pathway and related cytokines (IL-1β, IL-18) in human chronic kidney disease patient samples and animal models, including expression patterns in glomeruli, interstitium, and tubular epithelial cells, correlation with disease severity. \n",
      "7.  Molecular mechanisms driving chronic kidney disease progression: role of tubular epithelial cell pyroptosis, mitochondrial dysfunction, ROS generation, and inflammasome activation in tubulointerstitial fibrosis and loss of renal function. \n",
      "8.  Genetic and functional studies linking inflammasome components (NLRP3, ASC, caspase-1) to CKD pathophysiology, including GWAS data, gene knockout/knockdown models, and rescue experiments demonstrating causative involvement in renal inflammation. \n",
      "9.  Cross-talk between metabolic disturbances (hyperglycemia, uremic toxins, dyslipidemia) and inflammasome activation in CKD: mechanisms by which diabetic and uremic milieu trigger NLRP3 in renal cells, and consequences for fibrosis and immune cell infiltration. \n",
      "10.  Emerging biomarkers of inflammasome activation in chronic kidney disease patients: circulating IL-1β, IL-18, ASC specks, caspase-1 activity, and their prognostic value for disease progression and therapeutic response.\n",
      "\n",
      "Step 2: Conducting literature search with FutureHouse platform...\n",
      "Successfully wrote: query_1_chronic.txt to: robin_notebook/Chronic_Kidney_Disease_2025-05-15_09-31/therapeutic_candidate_literature_reviews/query_1_chronic.txt\n",
      "Successfully wrote: query_2_preclinical.txt to: robin_notebook/Chronic_Kidney_Disease_2025-05-15_09-31/therapeutic_candidate_literature_reviews/query_2_preclinical.txt\n",
      "Successfully wrote: query_3_target.txt to: robin_notebook/Chronic_Kidney_Disease_2025-05-15_09-31/therapeutic_candidate_literature_reviews/query_3_target.txt\n",
      "Successfully wrote: query_4_efficacy.txt to: robin_notebook/Chronic_Kidney_Disease_2025-05-15_09-31/therapeutic_candidate_literature_reviews/query_4_efficacy.txt\n",
      "Successfully wrote: query_5_high.txt to: robin_notebook/Chronic_Kidney_Disease_2025-05-15_09-31/therapeutic_candidate_literature_reviews/query_5_high.txt\n",
      "Successfully wrote: query_6_dysregulation.txt to: robin_notebook/Chronic_Kidney_Disease_2025-05-15_09-31/therapeutic_candidate_literature_reviews/query_6_dysregulation.txt\n",
      "Successfully wrote: query_7_molecular.txt to: robin_notebook/Chronic_Kidney_Disease_2025-05-15_09-31/therapeutic_candidate_literature_reviews/query_7_molecular.txt\n",
      "Successfully wrote: query_8_genetic.txt to: robin_notebook/Chronic_Kidney_Disease_2025-05-15_09-31/therapeutic_candidate_literature_reviews/query_8_genetic.txt\n",
      "Successfully wrote: query_9_cross.txt to: robin_notebook/Chronic_Kidney_Disease_2025-05-15_09-31/therapeutic_candidate_literature_reviews/query_9_cross.txt\n",
      "Successfully wrote: query_10_emerging.txt to: robin_notebook/Chronic_Kidney_Disease_2025-05-15_09-31/therapeutic_candidate_literature_reviews/query_10_emerging.txt\n",
      "\n",
      "Step 3: Generating 30 ideas for therapeutic candidates...\n"
     ]
    },
    {
     "name": "stderr",
     "output_type": "stream",
     "text": [
      "Skipping malformed block not starting with <CANDIDATE START>: <CANDIDATE_START>\n",
      "CANDIDATE: Necrosulfonamide (Sigma-Aldrich, catalog #SML1583)\n",
      "HYPOTHESIS: Necrosul...\n",
      "Skipping malformed block not starting with <CANDIDATE START>: <CANDIDATE_START>\n",
      "CANDIDATE: GKT137831 (Setanaxib; MedChemExpress, catalog #HY-10408)\n",
      "HYPOTHESIS: GK...\n",
      "Skipping malformed block not starting with <CANDIDATE START>: <CANDIDATE_START>\n",
      "CANDIDATE: Bardoxolone methyl (CDDO-Me; Reata Pharmaceuticals)\n",
      "HYPOTHESIS: Bardoxo...\n",
      "Skipping malformed block not starting with <CANDIDATE START>: <CANDIDATE_START>\n",
      "CANDIDATE: Dimethyl fumarate (Tecfidera; Biogen)\n",
      "HYPOTHESIS: Dimethyl fumarate mod...\n",
      "Skipping malformed block not starting with <CANDIDATE START>: <CANDIDATE_START>\n",
      "CANDIDATE: Metformin (Sigma-Aldrich, catalog #PHR1084)\n",
      "HYPOTHESIS: Metformin activ...\n",
      "Skipping malformed block not starting with <CANDIDATE START>: <CANDIDATE_START>\n",
      "CANDIDATE: AICAR (5-Aminoimidazole-4-carboxamide ribonucleoside; Sigma-Aldrich, ca...\n",
      "Skipping malformed block not starting with <CANDIDATE START>: <CANDIDATE_START>\n",
      "CANDIDATE: Pioglitazone (Sigma-Aldrich, catalog #PHR1258)\n",
      "HYPOTHESIS: Pioglitazone...\n",
      "Skipping malformed block not starting with <CANDIDATE START>: <CANDIDATE_START>\n",
      "CANDIDATE: Rosiglitazone (Sigma-Aldrich, catalog #R2404)\n",
      "HYPOTHESIS: Rosiglitazone...\n",
      "Skipping malformed block not starting with <CANDIDATE START>: <CANDIDATE_START>\n",
      "CANDIDATE: Anakinra (Kineret®; Sobi)\n",
      "HYPOTHESIS: Anakinra is a recombinant IL-1 re...\n",
      "Skipping malformed block not starting with <CANDIDATE START>: <CANDIDATE_START>\n",
      "CANDIDATE: Canakinumab (Ilaris®; Novartis)\n",
      "HYPOTHESIS: Canakinumab is a human mono...\n",
      "Skipping malformed block not starting with <CANDIDATE START>: <CANDIDATE_START>\n",
      "CANDIDATE: Rilonacept (Arcalyst®; Regeneron)\n",
      "HYPOTHESIS: Rilonacept is a soluble d...\n",
      "Skipping malformed block not starting with <CANDIDATE START>: <CANDIDATE_START>\n",
      "CANDIDATE: GSK1070806 (anti-IL-18 mAb; GSK)\n",
      "HYPOTHESIS: GSK1070806 is a high‐affin...\n",
      "Skipping malformed block not starting with <CANDIDATE START>: <CANDIDATE_START>\n",
      "CANDIDATE: Tadekinig alfa (IL-18BP; AB2 Biotherapeutics)\n",
      "HYPOTHESIS: Tadekinig alf...\n",
      "Skipping malformed block not starting with <CANDIDATE START>: <CANDIDATE_START>\n",
      "CANDIDATE: PROTAC-NLRP3-01 (custom synthesized, PROTAC linking MCC950 warhead to t...\n",
      "Skipping malformed block not starting with <CANDIDATE START>: <CANDIDATE_START>\n",
      "CANDIDATE: GSDMD-ASO (antisense oligonucleotide; Ionis Pharmaceuticals)\n",
      "HYPOTHESIS...\n",
      "Skipping malformed block not starting with <CANDIDATE START>: <CANDIDATE_START>\n",
      "CANDIDATE: miR-223 mimic (Dharmacon, catalog #C-300000-07)\n",
      "HYPOTHESIS: miR-223 mim...\n",
      "Skipping malformed block not starting with <CANDIDATE START>: <CANDIDATE_START>\n",
      "CANDIDATE: Recombinant human Klotho protein (R&D Systems, catalog #P6035)\n",
      "HYPOTHES...\n",
      "Skipping malformed block not starting with <CANDIDATE START>: <CANDIDATE_START>\n",
      "CANDIDATE: SRT1720 (SIRT1 activator; Selleckchem, catalog #S7042)\n",
      "HYPOTHESIS: SRT1...\n",
      "Skipping malformed block not starting with <CANDIDATE START>: <CANDIDATE_START>\n",
      "CANDIDATE: Puerarin (Sigma-Aldrich, catalog #P9522)\n",
      "HYPOTHESIS: Puerarin, an isofl...\n",
      "Skipping malformed block not starting with <CANDIDATE START>: <CANDIDATE_START>\n",
      "CANDIDATE: Salvianolic acid B (MedChemExpress, catalog #HY-N0556)\n",
      "HYPOTHESIS: Salv...\n"
     ]
    },
    {
     "name": "stdout",
     "output_type": "stream",
     "text": [
      "\n",
      "Successfully parsed 10 candidate ideas.\n",
      "Candidate: CY-09 (Selleckchem, catalog #S8614)<|>Hypothesis: CY-09 binds the Walker A motif in the N...\n",
      "Candidate: OLT1177 (Dapansutrile; InvivoGen, catalog #tlrl-olt1177)<|>Hypothesis: OLT1177 selectivel...\n",
      "Candidate: Oridonin (Sigma-Aldrich, catalog #O2015)<|>Hypothesis: Oridonin covalently binds cysteine...\n",
      "Candidate: Tranilast (MedChemExpress, catalog #HY-50819)<|>Hypothesis: Tranilast disrupts NLRP3–ASC ...\n",
      "Candidate: INF4E (Tocris, catalog #5903)<|>Hypothesis: INF4E binds to the NACHT domain ATP‐binding s...\n",
      "Candidate: MCC950 (CP-456,773; Sigma-Aldrich, catalog #SML 2233)<|>Hypothesis: MCC950 binds to the W...\n",
      "Candidate: VX-765 (Belnacasan; InvivoGen, catalog #tlrl-vg765)<|>Hypothesis: VX-765 is an orally bio...\n",
      "Candidate: Disulfiram (Sigma-Aldrich, catalog #D9773)<|>Hypothesis: Disulfiram and its metabolite di...\n",
      "Candidate: A-438079 (Tocris, catalog #2947)<|>Hypothesis: A-438079 is a selective P2X7 receptor anta...\n",
      "Candidate: Brilliant Blue G (BBG; Sigma-Aldrich, catalog #B0770)<|>Hypothesis: BBG non‐competitively...\n",
      "Successfully exported to robin_notebook/Chronic_Kidney_Disease_2025-05-15_09-31/therapeutic_candidates_summary.txt\n",
      "\n",
      "Step 4: Detailed investigation and evaluation for candidates...\n",
      "Successfully wrote: therapeutic_candidate_1_cy.txt to: robin_notebook/Chronic_Kidney_Disease_2025-05-15_09-31/therapeutic_candidate_detailed_hypotheses/therapeutic_candidate_1_cy.txt\n",
      "Successfully wrote: therapeutic_candidate_2_olt1177.txt to: robin_notebook/Chronic_Kidney_Disease_2025-05-15_09-31/therapeutic_candidate_detailed_hypotheses/therapeutic_candidate_2_olt1177.txt\n",
      "Successfully wrote: therapeutic_candidate_3_oridonin.txt to: robin_notebook/Chronic_Kidney_Disease_2025-05-15_09-31/therapeutic_candidate_detailed_hypotheses/therapeutic_candidate_3_oridonin.txt\n",
      "Successfully wrote: therapeutic_candidate_4_tranilast.txt to: robin_notebook/Chronic_Kidney_Disease_2025-05-15_09-31/therapeutic_candidate_detailed_hypotheses/therapeutic_candidate_4_tranilast.txt\n",
      "Successfully wrote: therapeutic_candidate_5_inf4e.txt to: robin_notebook/Chronic_Kidney_Disease_2025-05-15_09-31/therapeutic_candidate_detailed_hypotheses/therapeutic_candidate_5_inf4e.txt\n",
      "Successfully wrote: therapeutic_candidate_6_mcc950.txt to: robin_notebook/Chronic_Kidney_Disease_2025-05-15_09-31/therapeutic_candidate_detailed_hypotheses/therapeutic_candidate_6_mcc950.txt\n",
      "Successfully wrote: therapeutic_candidate_7_vx.txt to: robin_notebook/Chronic_Kidney_Disease_2025-05-15_09-31/therapeutic_candidate_detailed_hypotheses/therapeutic_candidate_7_vx.txt\n",
      "Successfully wrote: therapeutic_candidate_8_disulfiram.txt to: robin_notebook/Chronic_Kidney_Disease_2025-05-15_09-31/therapeutic_candidate_detailed_hypotheses/therapeutic_candidate_8_disulfiram.txt\n",
      "Successfully wrote: therapeutic_candidate_9_a.txt to: robin_notebook/Chronic_Kidney_Disease_2025-05-15_09-31/therapeutic_candidate_detailed_hypotheses/therapeutic_candidate_9_a.txt\n",
      "Successfully wrote: therapeutic_candidate_10_brilliant.txt to: robin_notebook/Chronic_Kidney_Disease_2025-05-15_09-31/therapeutic_candidate_detailed_hypotheses/therapeutic_candidate_10_brilliant.txt\n",
      "\n",
      "Step 5: Ranking the strength of the therapeutic candidates...\n",
      "Processing file: therapeutic_candidate_8_disulfiram.txt...\n",
      "Processing file: therapeutic_candidate_10_brilliant.txt...\n",
      "Processing file: therapeutic_candidate_9_a.txt...\n",
      "Processing file: therapeutic_candidate_4_tranilast.txt...\n",
      "Processing file: therapeutic_candidate_5_inf4e.txt...\n",
      "Processing file: therapeutic_candidate_7_vx.txt...\n",
      "Processing file: therapeutic_candidate_3_oridonin.txt...\n",
      "Processing file: therapeutic_candidate_1_cy.txt...\n",
      "Processing file: therapeutic_candidate_2_olt1177.txt...\n",
      "Processing file: therapeutic_candidate_6_mcc950.txt...\n",
      "Starting comparisons for 45 pairs with max concurrency 100...\n"
     ]
    },
    {
     "name": "stderr",
     "output_type": "stream",
     "text": [
      "Comparing Hypotheses: 100%|██████████| 45/45 [00:18<00:00,  2.48it/s]"
     ]
    },
    {
     "name": "stdout",
     "output_type": "stream",
     "text": [
      "\n",
      "Finished processing pairs.\n",
      " - Successful comparisons: 45\n",
      " - Errors encountered: 0\n",
      "Successfully saved 45 results to robin_notebook/Chronic_Kidney_Disease_2025-05-15_09-31/therapeutic_candidate_ranking_results.csv\n",
      "Therapeutic candidate generation finished! Saved final rankings to robin_notebook/Chronic_Kidney_Disease_2025-05-15_09-31/ranked_therapeutic_candidates.csv\n"
     ]
    },
    {
     "name": "stderr",
     "output_type": "stream",
     "text": [
      "\n"
     ]
    }
   ],
   "source": [
    "await therapeutic_candidates(\n",
    "    candidate_generation_goal=candidate_generation_goal, configuration=config\n",
    ")"
   ]
  }
 ],
 "metadata": {
  "kernelspec": {
   "display_name": "poplar",
   "language": "python",
   "name": "python3"
  },
  "language_info": {
   "codemirror_mode": {
    "name": "ipython",
    "version": 3
   },
   "file_extension": ".py",
   "mimetype": "text/x-python",
   "name": "python",
   "nbconvert_exporter": "python",
   "pygments_lexer": "ipython3"
  }
 },
 "nbformat": 4,
 "nbformat_minor": 2
}
