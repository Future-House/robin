{
 "cells": [
  {
   "cell_type": "markdown",
   "metadata": {},
   "source": [
    "# Robin: Hypothesis Generation for Drug Repurposing"
   ]
  },
  {
   "cell_type": "code",
   "execution_count": null,
   "metadata": {},
   "outputs": [],
   "source": [
    "import logging\n",
    "\n",
    "from robin.assays import experimental_assay\n",
    "from robin.candidates import therapeutic_candidates\n",
    "from robin.configuration import RobinConfiguration"
   ]
  },
  {
   "cell_type": "markdown",
   "metadata": {},
   "source": [
    "## Robin Set Up"
   ]
  },
  {
   "cell_type": "code",
   "execution_count": null,
   "metadata": {},
   "outputs": [],
   "source": [
    "config = RobinConfiguration(\n",
    "    disease_name=\"Idiopathic Pulmonary Fibrosis\",\n",
    "    num_assays=10,\n",
    "    num_candidates=30,\n",
    "    num_queries=5,\n",
    ")\n",
    "\n",
    "logger = logging.getLogger(\"robin\")\n",
    "logger.setLevel(logging.INFO)"
   ]
  },
  {
   "cell_type": "markdown",
   "metadata": {},
   "source": [
    "# Initial therapeutic hypothesis generation"
   ]
  },
  {
   "cell_type": "markdown",
   "metadata": {},
   "source": [
    "### Experimental assay generation"
   ]
  },
  {
   "cell_type": "code",
   "execution_count": null,
   "metadata": {},
   "outputs": [
    {
     "name": "stdout",
     "output_type": "stream",
     "text": [
      "Starting selection of a relevant experimental assay.\n",
      "————————————————————————————————————————————————————\n",
      "\n",
      "Step 1: Formulating relevant queries for literature search...\n",
      "Generated Queries:\n",
      "1. Idiopathic pulmonary fibrosis cell signalling cascade fibroblast activation alveolar epithelial type II cell injury apoptosis regeneration mechanical stiffness TGF-β1 canonical and non-canonical pathways and crosstalk, potential targets for cell-based assay readouts\n",
      "2. In vitro models of IPF including primary human lung fibroblasts, alveolar epithelial type II cell lines, co-culture systems, organotypic alveolosphere assays, hydrogel stiffness modulation, mechanical stretch, 3D biomimetic scaffolds: protocols, advantages and limitations\n",
      "3. Assay development for IPF drug screening: quantitative readouts for myofibroblast differentiation, collagen I and III deposition, α-SMA expression, ECM remodeling assays (Sircol, immunofluorescence, hydroxyproline), high-content imaging, traction force microscopy, and contractility using bioengineered substrates\n",
      "4. Biomarkers and multi-omics profiling in early IPF pathogenesis: transcriptomic, proteomic, phosphoproteomic signatures in TGF-β–stimulated fibroblasts and injured alveolar epithelial cells, candidate biomarkers for phenotypic screening and target engagement in cell-based assays\n",
      "5. Cell culture assay optimization: critical media components, serum-free vs defined conditions, TGF-β dose and kinetics, pro-fibrotic cytokine cocktails, oxygen tension, reactive oxygen species measurement, live-cell imaging platforms, automation and standardization strategies for high-throughput IPF assays\n",
      "\n",
      "Step 2: Conducting literature search with FutureHouse platform...\n",
      "Successfully wrote: query_1_idiopathic.txt to: robin_notebook/Idiopathic_Pulmonary_Fibrosis_2025-05-15_09-23/experimental_assay_literature_reviews/query_1_idiopathic.txt\n",
      "Successfully wrote: query_2_in.txt to: robin_notebook/Idiopathic_Pulmonary_Fibrosis_2025-05-15_09-23/experimental_assay_literature_reviews/query_2_in.txt\n",
      "Successfully wrote: query_3_assay.txt to: robin_notebook/Idiopathic_Pulmonary_Fibrosis_2025-05-15_09-23/experimental_assay_literature_reviews/query_3_assay.txt\n",
      "Successfully wrote: query_4_biomarkers.txt to: robin_notebook/Idiopathic_Pulmonary_Fibrosis_2025-05-15_09-23/experimental_assay_literature_reviews/query_4_biomarkers.txt\n",
      "Successfully wrote: query_5_cell.txt to: robin_notebook/Idiopathic_Pulmonary_Fibrosis_2025-05-15_09-23/experimental_assay_literature_reviews/query_5_cell.txt\n",
      "\n",
      "Step 3: Generating ideas for relevant experimental assays...\n",
      "Strategy: Epithelial Apoptosis Assay<|>Reasoning: Quantifying caspase-3/7 activity in alveolar type ...\n",
      "Strategy: SMAD Reporter Assay<|>Reasoning: A fibroblast line stably expressing a SMAD2/3-responsive ...\n",
      "Strategy: p38 MAPK Phosphorylation ELISA<|>Reasoning: Non-canonical TGF-β signaling via p38 MAPK con...\n",
      "Strategy: α-SMA Immunofluorescence<|>Reasoning: Immunostaining and high-content imaging of α-smooth ...\n",
      "Strategy: Soluble Collagen Sircol Assay<|>Reasoning: The Sircol dye-binding assay quantifies soluble...\n",
      "Strategy: Traction Force Microscopy<|>Reasoning: Measuring cell-generated forces on fluorescent micr...\n",
      "Strategy: YAP/TAZ Localization Assay<|>Reasoning: Culturing fibroblasts on tunable-stiffness hydroge...\n",
      "Strategy: EMT Co-culture Assay<|>Reasoning: A co-culture of ATII cells and fibroblasts measures epit...\n",
      "Strategy: 3D Collagen Gel Contraction<|>Reasoning: Embedding fibroblasts in floating 3D collagen gel...\n",
      "Strategy: ROS Imaging under Stretch<|>Reasoning: Applying cyclic mechanical stretch to alveolar epit...\n",
      "Successfully exported to robin_notebook/Idiopathic_Pulmonary_Fibrosis_2025-05-15_09-23/experimental_assay_summary.txt\n",
      "\n",
      "Step 4: Detailed investigation and evaluation for each assay...\n",
      "Successfully wrote: assay_hypothesis_1_epithelial.txt to: robin_notebook/Idiopathic_Pulmonary_Fibrosis_2025-05-15_09-23/experimental_assay_detailed_hypotheses/assay_hypothesis_1_epithelial.txt\n",
      "Successfully wrote: assay_hypothesis_2_smad.txt to: robin_notebook/Idiopathic_Pulmonary_Fibrosis_2025-05-15_09-23/experimental_assay_detailed_hypotheses/assay_hypothesis_2_smad.txt\n",
      "Successfully wrote: assay_hypothesis_3_p38.txt to: robin_notebook/Idiopathic_Pulmonary_Fibrosis_2025-05-15_09-23/experimental_assay_detailed_hypotheses/assay_hypothesis_3_p38.txt\n",
      "Successfully wrote: assay_hypothesis_4_αsma.txt to: robin_notebook/Idiopathic_Pulmonary_Fibrosis_2025-05-15_09-23/experimental_assay_detailed_hypotheses/assay_hypothesis_4_αsma.txt\n",
      "Successfully wrote: assay_hypothesis_5_soluble.txt to: robin_notebook/Idiopathic_Pulmonary_Fibrosis_2025-05-15_09-23/experimental_assay_detailed_hypotheses/assay_hypothesis_5_soluble.txt\n",
      "Successfully wrote: assay_hypothesis_6_traction.txt to: robin_notebook/Idiopathic_Pulmonary_Fibrosis_2025-05-15_09-23/experimental_assay_detailed_hypotheses/assay_hypothesis_6_traction.txt\n",
      "Successfully wrote: assay_hypothesis_7_yap.txt to: robin_notebook/Idiopathic_Pulmonary_Fibrosis_2025-05-15_09-23/experimental_assay_detailed_hypotheses/assay_hypothesis_7_yap.txt\n",
      "Successfully wrote: assay_hypothesis_8_emt.txt to: robin_notebook/Idiopathic_Pulmonary_Fibrosis_2025-05-15_09-23/experimental_assay_detailed_hypotheses/assay_hypothesis_8_emt.txt\n",
      "Successfully wrote: assay_hypothesis_9_3d.txt to: robin_notebook/Idiopathic_Pulmonary_Fibrosis_2025-05-15_09-23/experimental_assay_detailed_hypotheses/assay_hypothesis_9_3d.txt\n",
      "Successfully wrote: assay_hypothesis_10_ros.txt to: robin_notebook/Idiopathic_Pulmonary_Fibrosis_2025-05-15_09-23/experimental_assay_detailed_hypotheses/assay_hypothesis_10_ros.txt\n",
      "\n",
      "Step 5: Selecting the top experimental assay...\n",
      "Starting comparisons for 45 pairs with max concurrency 100...\n"
     ]
    },
    {
     "name": "stderr",
     "output_type": "stream",
     "text": [
      "Comparing Hypotheses: 100%|██████████| 45/45 [00:15<00:00,  2.90it/s]\n"
     ]
    },
    {
     "name": "stdout",
     "output_type": "stream",
     "text": [
      "\n",
      "Finished processing pairs.\n",
      " - Successful comparisons: 45\n",
      " - Errors encountered: 0\n",
      "Successfully saved 45 results to robin_notebook/Idiopathic_Pulmonary_Fibrosis_2025-05-15_09-23/experimental_assay_ranking_results.csv\n",
      "Experimental Assay Selected: 3D Collagen Gel Contraction\n",
      "Candidate Generation Goal: “Identify novel anti-fibrotic compounds by screening small-molecule libraries in the 3D collagen gel contraction assay and selecting candidates that significantly inhibit fibroblast-mediated matrix contraction as leads for idiopathic pulmonary fibrosis therapy.”\n"
     ]
    }
   ],
   "source": [
    "candidate_generation_goal = await experimental_assay(configuration=config)"
   ]
  },
  {
   "cell_type": "markdown",
   "metadata": {},
   "source": [
    "### Therapeutic candidate generation"
   ]
  },
  {
   "cell_type": "code",
   "execution_count": null,
   "metadata": {},
   "outputs": [
    {
     "name": "stdout",
     "output_type": "stream",
     "text": [
      "Starting generation of 30 therapeutic candidates.\n",
      "———————————————————————————————————————————————————————————————\n",
      "\n",
      "Step 1: Formulating relevant queries for literature search...\n",
      "Generated Queries:\n",
      "1. high-throughput screening of small-molecule libraries AND “3D collagen gel contraction assay” AND “primary human pulmonary fibroblasts” AND “idiopathic pulmonary fibrosis” AND (target validation OR mechanism confirmation) AND (in vivo efficacy OR preclinical model)\n",
      "2. Comprehensive reviews and original research reporting anti-fibrotic small molecules or repurposed drugs that inhibit fibroblast-mediated 3D collagen gel contraction with available pharmacokinetic ADME, safety profiles, tissue distribution data, and demonstrated efficacy in IPF animal or human studies\n",
      "3. Optimization and validation of 3D collagen gel contraction assays as phenotypic screens for anti-fibrotic drug discovery: assay sensitivity, reproducibility, throughput, dynamic range, quality control metrics in IPF fibroblasts and translational relevance to lung remodeling\n",
      "4. Structure-activity relationship studies of chemical scaffolds targeting fibroblast contractility and myofibroblast differentiation: analysis of small-molecule analogues that modulate 3D matrix contraction, with confirmatory in vitro target engagement assays and in vivo pulmonary fibrosis efficacy data\n",
      "5. Identification and validation of novel molecular targets driving fibroblast-mediated matrix contraction in IPF: genome-wide CRISPR or siRNA screens, candidate target prioritization, and small-molecule inhibitors with demonstrated binding affinity, pathway modulation, and functional contraction assay inhibition\n",
      "6. Mechanistic studies on TGF-β signaling in IPF fibroblasts: downstream SMAD and non-SMAD pathways, cross-talk with mechanotransduction, genetic loss-of-function validation, and small-molecule inhibitors tested in 3D collagen contraction assays and relevant in vivo fibrotic lung models\n",
      "7. Role of integrin αvβ6, αvβ1, and mechanotransduction receptors in fibroblast activation and matrix contraction during pulmonary fibrosis: functional validation studies, integrin antagonists’ efficacy in 3D contraction assays, pharmacokinetics, and safety in preclinical IPF models\n",
      "8. Epigenetic regulation of fibroblast activation in IPF through histone deacetylases, BET bromodomain proteins, and DNA methyltransferases: genetic validation, chromatin remodeler inhibitors’ effects on 3D collagen gel contraction, gene expression, and preclinical fibrosis reversal\n",
      "9. Emerging profibrotic mediators beyond TGF-β in IPF, such as PDGF, CTGF, IL-11 and their receptors: pathophysiological evidence, target validation, and small-molecule inhibitors or neutralizing agents assessed for inhibition of fibroblast-driven 3D matrix contraction and lung fibrosis\n",
      "10. Single-cell transcriptomic and proteomic profiling of fibroblast subpopulations in IPF lungs to identify hypercontractile myofibroblast clusters: discovery of subtype-specific targets, functional validation in 3D contraction assays, and candidate small-molecule modulators\n",
      "\n",
      "Step 2: Conducting literature search with FutureHouse platform...\n",
      "Successfully wrote: query_1_high.txt to: robin_notebook/Idiopathic_Pulmonary_Fibrosis_2025-05-15_09-23/therapeutic_candidate_literature_reviews/query_1_high.txt\n",
      "Successfully wrote: query_2_comprehensive.txt to: robin_notebook/Idiopathic_Pulmonary_Fibrosis_2025-05-15_09-23/therapeutic_candidate_literature_reviews/query_2_comprehensive.txt\n",
      "Successfully wrote: query_3_optimization.txt to: robin_notebook/Idiopathic_Pulmonary_Fibrosis_2025-05-15_09-23/therapeutic_candidate_literature_reviews/query_3_optimization.txt\n",
      "Successfully wrote: query_4_structure.txt to: robin_notebook/Idiopathic_Pulmonary_Fibrosis_2025-05-15_09-23/therapeutic_candidate_literature_reviews/query_4_structure.txt\n",
      "Successfully wrote: query_5_identification.txt to: robin_notebook/Idiopathic_Pulmonary_Fibrosis_2025-05-15_09-23/therapeutic_candidate_literature_reviews/query_5_identification.txt\n",
      "Successfully wrote: query_6_mechanistic.txt to: robin_notebook/Idiopathic_Pulmonary_Fibrosis_2025-05-15_09-23/therapeutic_candidate_literature_reviews/query_6_mechanistic.txt\n",
      "Successfully wrote: query_7_role.txt to: robin_notebook/Idiopathic_Pulmonary_Fibrosis_2025-05-15_09-23/therapeutic_candidate_literature_reviews/query_7_role.txt\n",
      "Successfully wrote: query_8_epigenetic.txt to: robin_notebook/Idiopathic_Pulmonary_Fibrosis_2025-05-15_09-23/therapeutic_candidate_literature_reviews/query_8_epigenetic.txt\n",
      "Successfully wrote: query_9_emerging.txt to: robin_notebook/Idiopathic_Pulmonary_Fibrosis_2025-05-15_09-23/therapeutic_candidate_literature_reviews/query_9_emerging.txt\n",
      "Successfully wrote: query_10_single.txt to: robin_notebook/Idiopathic_Pulmonary_Fibrosis_2025-05-15_09-23/therapeutic_candidate_literature_reviews/query_10_single.txt\n",
      "\n",
      "Step 3: Generating 30 ideas for therapeutic candidates...\n",
      "\n",
      "Successfully parsed 30 candidate ideas.\n",
      "Candidate: Galunisertib (LY2157299, Selleckchem S2673)<|>Hypothesis: Galunisertib, a selective small...\n",
      "Candidate: SB-525334 (Tocris 2290)<|>Hypothesis: SB-525334, a potent ATP-competitive inhibitor of AL...\n",
      "Candidate: CCG-257081 (CCG-257081, Cayman 10009426)<|>Hypothesis: CCG-257081, an inhibitor of myocar...\n",
      "Candidate: KD025 (SLx-2119, Selleckchem S7258)<|>Hypothesis: KD025, a selective ROCK2 inhibitor, wil...\n",
      "Candidate: BMS-986278 (Bristol-Myers Squibb)<|>Hypothesis: BMS-986278, a selective LPA1 receptor ant...\n",
      "Candidate: GLPG1690 (Autotaxin inhibitor, Galapagos)<|>Hypothesis: GLPG1690 will treat IPF by inhibi...\n",
      "Candidate: GB0139 (TD139, Galectin-3 inhibitor, Galecto)<|>Hypothesis: GB0139, a selective galectin-...\n",
      "Candidate: GSK3008348 (GSK, clinical candidate)<|>Hypothesis: GSK3008348, a small‐molecule αvβ6 inte...\n",
      "Candidate: Vorinostat (SAHA, Selleckchem S1047)<|>Hypothesis: Vorinostat, a pan‐HDAC inhibitor, will...\n",
      "Candidate: JQ1 (Cayman 15237)<|>Hypothesis: JQ1, a BET bromodomain inhibitor, will treat IPF by disp...\n",
      "Candidate: Metformin (Selleckchem S1952)<|>Hypothesis: Metformin, an AMPK activator, will reduce IPF...\n",
      "Candidate: Rapamycin (Sirolimus, Selleckchem S1039)<|>Hypothesis: Rapamycin, an mTORC1 inhibitor, wi...\n",
      "Candidate: Dimethyl Fumarate (BG-12, Selleckchem S2874)<|>Hypothesis: Dimethyl fumarate (DMF) will m...\n",
      "Candidate: Pamrevlumab (FG-3019, FibroGen)<|>Hypothesis: Pamrevlumab, a fully human anti‐CTGF monocl...\n",
      "Candidate: A-485 (CBP/p300 inhibitor, Cayman 17811)<|>Hypothesis: A-485, a selective inhibitor of hi...\n",
      "Candidate: BIX01294 (G9a inhibitor, Selleckchem S7580)<|>Hypothesis: BIX01294, a G9a histone methylt...\n",
      "Candidate: CC-90001 (JNK Inhibitor, Celgene)<|>Hypothesis: CC-90001, a selective JNK1/2 inhibitor, w...\n",
      "Candidate: BI 1015550 (PDE4B Inhibitor, Boehringer Ingelheim)<|>Hypothesis: BI 1015550, a selective ...\n",
      "Candidate: GKT137831 (Setanaxib, Genkyotex)<|>Hypothesis: GKT137831, a dual NOX1/NOX4 inhibitor, wil...\n",
      "Candidate: SAR441566 (NOX4 inhibitor, Merck)<|>Hypothesis: SAR441566, a selective NOX4 inhibitor, wi...\n",
      "Candidate: Navitoclax (ABT-263, Selleckchem S1001)<|>Hypothesis: Navitoclax, a BCL-2/BCL-XL inhibito...\n",
      "Candidate: Pexidartinib (CSF1R Inhibitor, PLX3397)<|>Hypothesis: Pexidartinib, a CSF1R kinase inhibi...\n",
      "Candidate: Obeticholic Acid (OCA, Selleckchem S8140)<|>Hypothesis: Obeticholic acid, an FXR agonist,...\n",
      "Candidate: MK-2206 (AKT Inhibitor, Selleckchem S1078)<|>Hypothesis: MK-2206, an allosteric pan-AKT i...\n",
      "Candidate: Mdivi-1 (Drp1 Inhibitor, Selleckchem S8439)<|>Hypothesis: Mdivi-1, a mitochondrial fissio...\n",
      "Candidate: Resolvin D1 (BioLegend 480017)<|>Hypothesis: Resolvin D1, a pro‐resolving lipid mediator,...\n",
      "Candidate: X203 (Anti–IL-11 Monoclonal Antibody)<|>Hypothesis: X203, a neutralizing anti–IL-11 mAb, ...\n",
      "Candidate: Lenvatinib (E7080, Selleckchem S2184)<|>Hypothesis: Lenvatinib, a multi‐kinase inhibitor ...\n",
      "Candidate: KX2-391 (Src Inhibitor, Selleckchem S7434)<|>Hypothesis: KX2-391, a Src kinase inhibitor,...\n",
      "Candidate: Simtuzumab (GS-6624, Gilead)<|>Hypothesis: Simtuzumab, a humanized anti‐LOXL2 antibody, w...\n",
      "Successfully exported to robin_notebook/Idiopathic_Pulmonary_Fibrosis_2025-05-15_09-23/therapeutic_candidates_summary.txt\n",
      "\n",
      "Step 4: Detailed investigation and evaluation for candidates...\n",
      "Successfully wrote: therapeutic_candidate_1_galunisertib.txt to: robin_notebook/Idiopathic_Pulmonary_Fibrosis_2025-05-15_09-23/therapeutic_candidate_detailed_hypotheses/therapeutic_candidate_1_galunisertib.txt\n",
      "Successfully wrote: therapeutic_candidate_2_sb.txt to: robin_notebook/Idiopathic_Pulmonary_Fibrosis_2025-05-15_09-23/therapeutic_candidate_detailed_hypotheses/therapeutic_candidate_2_sb.txt\n",
      "Successfully wrote: therapeutic_candidate_3_ccg.txt to: robin_notebook/Idiopathic_Pulmonary_Fibrosis_2025-05-15_09-23/therapeutic_candidate_detailed_hypotheses/therapeutic_candidate_3_ccg.txt\n",
      "Successfully wrote: therapeutic_candidate_4_kd025.txt to: robin_notebook/Idiopathic_Pulmonary_Fibrosis_2025-05-15_09-23/therapeutic_candidate_detailed_hypotheses/therapeutic_candidate_4_kd025.txt\n",
      "Successfully wrote: therapeutic_candidate_5_bms.txt to: robin_notebook/Idiopathic_Pulmonary_Fibrosis_2025-05-15_09-23/therapeutic_candidate_detailed_hypotheses/therapeutic_candidate_5_bms.txt\n",
      "Successfully wrote: therapeutic_candidate_6_glpg1690.txt to: robin_notebook/Idiopathic_Pulmonary_Fibrosis_2025-05-15_09-23/therapeutic_candidate_detailed_hypotheses/therapeutic_candidate_6_glpg1690.txt\n",
      "Successfully wrote: therapeutic_candidate_7_gb0139.txt to: robin_notebook/Idiopathic_Pulmonary_Fibrosis_2025-05-15_09-23/therapeutic_candidate_detailed_hypotheses/therapeutic_candidate_7_gb0139.txt\n",
      "Successfully wrote: therapeutic_candidate_8_gsk3008348.txt to: robin_notebook/Idiopathic_Pulmonary_Fibrosis_2025-05-15_09-23/therapeutic_candidate_detailed_hypotheses/therapeutic_candidate_8_gsk3008348.txt\n",
      "Successfully wrote: therapeutic_candidate_9_vorinostat.txt to: robin_notebook/Idiopathic_Pulmonary_Fibrosis_2025-05-15_09-23/therapeutic_candidate_detailed_hypotheses/therapeutic_candidate_9_vorinostat.txt\n",
      "Successfully wrote: therapeutic_candidate_10_jq1.txt to: robin_notebook/Idiopathic_Pulmonary_Fibrosis_2025-05-15_09-23/therapeutic_candidate_detailed_hypotheses/therapeutic_candidate_10_jq1.txt\n",
      "Successfully wrote: therapeutic_candidate_11_metformin.txt to: robin_notebook/Idiopathic_Pulmonary_Fibrosis_2025-05-15_09-23/therapeutic_candidate_detailed_hypotheses/therapeutic_candidate_11_metformin.txt\n",
      "Successfully wrote: therapeutic_candidate_12_rapamycin.txt to: robin_notebook/Idiopathic_Pulmonary_Fibrosis_2025-05-15_09-23/therapeutic_candidate_detailed_hypotheses/therapeutic_candidate_12_rapamycin.txt\n",
      "Successfully wrote: therapeutic_candidate_13_dimethyl.txt to: robin_notebook/Idiopathic_Pulmonary_Fibrosis_2025-05-15_09-23/therapeutic_candidate_detailed_hypotheses/therapeutic_candidate_13_dimethyl.txt\n",
      "Successfully wrote: therapeutic_candidate_14_pamrevlumab.txt to: robin_notebook/Idiopathic_Pulmonary_Fibrosis_2025-05-15_09-23/therapeutic_candidate_detailed_hypotheses/therapeutic_candidate_14_pamrevlumab.txt\n",
      "Successfully wrote: therapeutic_candidate_15_a.txt to: robin_notebook/Idiopathic_Pulmonary_Fibrosis_2025-05-15_09-23/therapeutic_candidate_detailed_hypotheses/therapeutic_candidate_15_a.txt\n",
      "Successfully wrote: therapeutic_candidate_16_bix01294.txt to: robin_notebook/Idiopathic_Pulmonary_Fibrosis_2025-05-15_09-23/therapeutic_candidate_detailed_hypotheses/therapeutic_candidate_16_bix01294.txt\n",
      "Successfully wrote: therapeutic_candidate_17_cc.txt to: robin_notebook/Idiopathic_Pulmonary_Fibrosis_2025-05-15_09-23/therapeutic_candidate_detailed_hypotheses/therapeutic_candidate_17_cc.txt\n",
      "Successfully wrote: therapeutic_candidate_18_bi.txt to: robin_notebook/Idiopathic_Pulmonary_Fibrosis_2025-05-15_09-23/therapeutic_candidate_detailed_hypotheses/therapeutic_candidate_18_bi.txt\n",
      "Successfully wrote: therapeutic_candidate_19_gkt137831.txt to: robin_notebook/Idiopathic_Pulmonary_Fibrosis_2025-05-15_09-23/therapeutic_candidate_detailed_hypotheses/therapeutic_candidate_19_gkt137831.txt\n",
      "Successfully wrote: therapeutic_candidate_20_sar441566.txt to: robin_notebook/Idiopathic_Pulmonary_Fibrosis_2025-05-15_09-23/therapeutic_candidate_detailed_hypotheses/therapeutic_candidate_20_sar441566.txt\n",
      "Successfully wrote: therapeutic_candidate_21_navitoclax.txt to: robin_notebook/Idiopathic_Pulmonary_Fibrosis_2025-05-15_09-23/therapeutic_candidate_detailed_hypotheses/therapeutic_candidate_21_navitoclax.txt\n",
      "Successfully wrote: therapeutic_candidate_22_pexidartinib.txt to: robin_notebook/Idiopathic_Pulmonary_Fibrosis_2025-05-15_09-23/therapeutic_candidate_detailed_hypotheses/therapeutic_candidate_22_pexidartinib.txt\n",
      "Successfully wrote: therapeutic_candidate_23_obeticholic.txt to: robin_notebook/Idiopathic_Pulmonary_Fibrosis_2025-05-15_09-23/therapeutic_candidate_detailed_hypotheses/therapeutic_candidate_23_obeticholic.txt\n",
      "Successfully wrote: therapeutic_candidate_24_mk.txt to: robin_notebook/Idiopathic_Pulmonary_Fibrosis_2025-05-15_09-23/therapeutic_candidate_detailed_hypotheses/therapeutic_candidate_24_mk.txt\n",
      "Successfully wrote: therapeutic_candidate_25_mdivi.txt to: robin_notebook/Idiopathic_Pulmonary_Fibrosis_2025-05-15_09-23/therapeutic_candidate_detailed_hypotheses/therapeutic_candidate_25_mdivi.txt\n",
      "Successfully wrote: therapeutic_candidate_26_resolvin.txt to: robin_notebook/Idiopathic_Pulmonary_Fibrosis_2025-05-15_09-23/therapeutic_candidate_detailed_hypotheses/therapeutic_candidate_26_resolvin.txt\n",
      "Successfully wrote: therapeutic_candidate_27_x203.txt to: robin_notebook/Idiopathic_Pulmonary_Fibrosis_2025-05-15_09-23/therapeutic_candidate_detailed_hypotheses/therapeutic_candidate_27_x203.txt\n",
      "Successfully wrote: therapeutic_candidate_28_lenvatinib.txt to: robin_notebook/Idiopathic_Pulmonary_Fibrosis_2025-05-15_09-23/therapeutic_candidate_detailed_hypotheses/therapeutic_candidate_28_lenvatinib.txt\n",
      "Successfully wrote: therapeutic_candidate_29_kx2.txt to: robin_notebook/Idiopathic_Pulmonary_Fibrosis_2025-05-15_09-23/therapeutic_candidate_detailed_hypotheses/therapeutic_candidate_29_kx2.txt\n",
      "Successfully wrote: therapeutic_candidate_30_simtuzumab.txt to: robin_notebook/Idiopathic_Pulmonary_Fibrosis_2025-05-15_09-23/therapeutic_candidate_detailed_hypotheses/therapeutic_candidate_30_simtuzumab.txt\n",
      "\n",
      "Step 5: Ranking the strength of the therapeutic candidates...\n",
      "Processing file: therapeutic_candidate_4_kd025.txt...\n",
      "Processing file: therapeutic_candidate_21_navitoclax.txt...\n",
      "Processing file: therapeutic_candidate_10_jq1.txt...\n",
      "Processing file: therapeutic_candidate_14_pamrevlumab.txt...\n",
      "Processing file: therapeutic_candidate_20_sar441566.txt...\n",
      "Processing file: therapeutic_candidate_1_galunisertib.txt...\n",
      "Processing file: therapeutic_candidate_2_sb.txt...\n",
      "Processing file: therapeutic_candidate_25_mdivi.txt...\n",
      "Processing file: therapeutic_candidate_24_mk.txt...\n",
      "Processing file: therapeutic_candidate_12_rapamycin.txt...\n",
      "Processing file: therapeutic_candidate_23_obeticholic.txt...\n",
      "Processing file: therapeutic_candidate_30_simtuzumab.txt...\n",
      "Processing file: therapeutic_candidate_29_kx2.txt...\n",
      "Processing file: therapeutic_candidate_9_vorinostat.txt...\n",
      "Processing file: therapeutic_candidate_22_pexidartinib.txt...\n",
      "Processing file: therapeutic_candidate_28_lenvatinib.txt...\n",
      "Processing file: therapeutic_candidate_11_metformin.txt...\n",
      "Processing file: therapeutic_candidate_15_a.txt...\n",
      "Processing file: therapeutic_candidate_19_gkt137831.txt...\n",
      "Processing file: therapeutic_candidate_26_resolvin.txt...\n",
      "Processing file: therapeutic_candidate_13_dimethyl.txt...\n",
      "Processing file: therapeutic_candidate_16_bix01294.txt...\n",
      "Processing file: therapeutic_candidate_8_gsk3008348.txt...\n",
      "Processing file: therapeutic_candidate_17_cc.txt...\n",
      "Processing file: therapeutic_candidate_7_gb0139.txt...\n",
      "Processing file: therapeutic_candidate_27_x203.txt...\n",
      "Processing file: therapeutic_candidate_3_ccg.txt...\n",
      "Processing file: therapeutic_candidate_6_glpg1690.txt...\n",
      "Processing file: therapeutic_candidate_18_bi.txt...\n",
      "Processing file: therapeutic_candidate_5_bms.txt...\n",
      "Starting comparisons for 300 pairs with max concurrency 100...\n"
     ]
    },
    {
     "name": "stderr",
     "output_type": "stream",
     "text": [
      "Comparing Hypotheses: 100%|██████████| 300/300 [00:51<00:00,  5.86it/s]\n"
     ]
    },
    {
     "name": "stdout",
     "output_type": "stream",
     "text": [
      "\n",
      "Finished processing pairs.\n",
      " - Successful comparisons: 300\n",
      " - Errors encountered: 0\n",
      "Successfully saved 300 results to robin_notebook/Idiopathic_Pulmonary_Fibrosis_2025-05-15_09-23/therapeutic_candidate_ranking_results.csv\n",
      "Therapeutic candidate generation finished! Saved final rankings to robin_notebook/Idiopathic_Pulmonary_Fibrosis_2025-05-15_09-23/ranked_therapeutic_candidates.csv\n"
     ]
    }
   ],
   "source": [
    "await therapeutic_candidates(\n",
    "    candidate_generation_goal=candidate_generation_goal, configuration=config\n",
    ")"
   ]
  }
 ],
 "metadata": {
  "kernelspec": {
   "display_name": "poplar",
   "language": "python",
   "name": "python3"
  },
  "language_info": {
   "codemirror_mode": {
    "name": "ipython",
    "version": 3
   },
   "file_extension": ".py",
   "mimetype": "text/x-python",
   "name": "python",
   "nbconvert_exporter": "python",
   "pygments_lexer": "ipython3"
  }
 },
 "nbformat": 4,
 "nbformat_minor": 2
}
