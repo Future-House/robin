{
 "cells": [
  {
   "cell_type": "markdown",
   "metadata": {},
   "source": [
    "# Robin: Hypothesis Generation for Drug Repurposing"
   ]
  },
  {
   "cell_type": "code",
   "execution_count": null,
   "metadata": {},
   "outputs": [],
   "source": [
    "import logging\n",
    "\n",
    "from robin.assays import experimental_assay\n",
    "from robin.candidates import therapeutic_candidates\n",
    "from robin.configuration import RobinConfiguration"
   ]
  },
  {
   "cell_type": "markdown",
   "metadata": {},
   "source": [
    "## Robin Set Up"
   ]
  },
  {
   "cell_type": "code",
   "execution_count": null,
   "metadata": {},
   "outputs": [],
   "source": [
    "config = RobinConfiguration(\n",
    "    disease_name=\"celiac disease\", num_assays=10, num_candidates=30, num_queries=5\n",
    ")\n",
    "\n",
    "logger = logging.getLogger(\"robin\")\n",
    "logger.setLevel(logging.INFO)"
   ]
  },
  {
   "cell_type": "markdown",
   "metadata": {},
   "source": [
    "# Initial therapeutic hypothesis generation"
   ]
  },
  {
   "cell_type": "markdown",
   "metadata": {},
   "source": [
    "### Experimental assay generation"
   ]
  },
  {
   "cell_type": "code",
   "execution_count": null,
   "metadata": {},
   "outputs": [
    {
     "name": "stdout",
     "output_type": "stream",
     "text": [
      "Starting selection of a relevant experimental assay.\n",
      "————————————————————————————————————————————————————\n",
      "\n",
      "Step 1: Formulating relevant queries for literature search...\n",
      "Generated Queries:\n",
      "1. What are the molecular mechanisms by which tissue transglutaminase modifies gliadin peptides in the intestinal lumen and how can in vitro cell culture models replicate transglutaminase activity, gliadin uptake, deamidation, and epitope formation for subsequent immune activation assays? \n",
      "2.  What are the signaling pathways and cytokine profiles, particularly involving IL-15, IFN-γ, IL-21 and NF-κB, that drive epithelial stress, enterocyte apoptosis and intraepithelial lymphocyte activation in celiac disease, and how can these be quantitatively assessed in human intestinal epithelial cell lines or patient‐derived organoid co-cultures? \n",
      "3.  How do zonulin-mediated tight junction regulation and epithelial barrier dysfunction contribute to gliadin peptide translocation in celiac disease, and which cell-based assays (e.g., TEER, paracellular tracer flux, tight junction protein imaging) most faithfully model dynamic barrier integrity changes upon gliadin exposure and therapeutic intervention? \n",
      "4.  What are the optimal co-culture or three-dimensional organoid platforms incorporating HLA-DQ2/8-positive antigen-presenting cells, dendritic cells or monocyte-derived macrophages and gluten-specific T cells to study antigen processing, presentation dynamics and T-cell receptor activation in response to deamidated gliadin, and which functional readouts (e.g., cytokine secretion profiles, T-cell proliferation, activation markers) yield mechanistic insight? \n",
      "5.  Which high-content screening-compatible phenotypic and biochemical assays (e.g., fluorescence polarization, FRET-based inhibition sensors, activity-based probes for transglutaminase, mass spectrometry-based peptidomics, cytokine multiplex panels) are best suited to measure inhibition of gliadin-tTG interactions, antigen presentation, epithelial stress responses or immune cell activation in celiac disease cell culture platforms?\n",
      "\n",
      "Step 2: Conducting literature search with FutureHouse platform...\n",
      "Successfully wrote: query_1_what.txt to: robin_notebook/celiac_disease_2025-05-15_13-27/experimental_assay_literature_reviews/query_1_what.txt\n",
      "Successfully wrote: query_2_what.txt to: robin_notebook/celiac_disease_2025-05-15_13-27/experimental_assay_literature_reviews/query_2_what.txt\n",
      "Successfully wrote: query_3_how.txt to: robin_notebook/celiac_disease_2025-05-15_13-27/experimental_assay_literature_reviews/query_3_how.txt\n",
      "Successfully wrote: query_4_what.txt to: robin_notebook/celiac_disease_2025-05-15_13-27/experimental_assay_literature_reviews/query_4_what.txt\n",
      "Successfully wrote: query_5_which.txt to: robin_notebook/celiac_disease_2025-05-15_13-27/experimental_assay_literature_reviews/query_5_which.txt\n",
      "\n",
      "Step 3: Generating ideas for relevant experimental assays...\n",
      "Strategy: TG2 Enzymatic Inhibition<|>Reasoning: Employs a cell‐based fluorescent activity probe (e.g...\n",
      "Strategy: Barrier Integrity Restoration<|>Reasoning: Monitors transepithelial electrical resistance ...\n",
      "Strategy: Paracellular Permeability Blockade<|>Reasoning: Quantifies FITC-dextran flux across gliadi...\n",
      "Strategy: Epithelial Apoptosis Prevention<|>Reasoning: Measures caspase-3/7 activity in Caco-2 cells...\n",
      "Strategy: NF-κB Signaling Suppression<|>Reasoning: Uses Caco-2 or HT-29 cells stably transfected wit...\n",
      "Strategy: Gliadin Uptake Inhibition<|>Reasoning: Employs fluorescently labeled immunodominant gliadi...\n",
      "Strategy: Peptide–MHC Presentation Blockade<|>Reasoning: Detects surface display of deamidated gliad...\n",
      "Strategy: T-cell Activation Suppression<|>Reasoning: Co-cultures deamidated gliadin-loaded HLA-DQ2-p...\n",
      "Strategy: Pro-inflammatory Cytokine Modulation<|>Reasoning: Implements a co-culture of intestinal ep...\n",
      "Strategy: Gliadin Modification Profiling<|>Reasoning: Applies LC-MS/MS peptidomics to cell culture s...\n",
      "Successfully exported to robin_notebook/celiac_disease_2025-05-15_13-27/experimental_assay_summary.txt\n",
      "\n",
      "Step 4: Detailed investigation and evaluation for each assay...\n",
      "Successfully wrote: assay_hypothesis_1_tg2.txt to: robin_notebook/celiac_disease_2025-05-15_13-27/experimental_assay_detailed_hypotheses/assay_hypothesis_1_tg2.txt\n",
      "Successfully wrote: assay_hypothesis_2_barrier.txt to: robin_notebook/celiac_disease_2025-05-15_13-27/experimental_assay_detailed_hypotheses/assay_hypothesis_2_barrier.txt\n",
      "Successfully wrote: assay_hypothesis_3_paracellular.txt to: robin_notebook/celiac_disease_2025-05-15_13-27/experimental_assay_detailed_hypotheses/assay_hypothesis_3_paracellular.txt\n",
      "Successfully wrote: assay_hypothesis_4_epithelial.txt to: robin_notebook/celiac_disease_2025-05-15_13-27/experimental_assay_detailed_hypotheses/assay_hypothesis_4_epithelial.txt\n",
      "Successfully wrote: assay_hypothesis_5_nf.txt to: robin_notebook/celiac_disease_2025-05-15_13-27/experimental_assay_detailed_hypotheses/assay_hypothesis_5_nf.txt\n",
      "Successfully wrote: assay_hypothesis_6_gliadin.txt to: robin_notebook/celiac_disease_2025-05-15_13-27/experimental_assay_detailed_hypotheses/assay_hypothesis_6_gliadin.txt\n",
      "Successfully wrote: assay_hypothesis_7_peptide.txt to: robin_notebook/celiac_disease_2025-05-15_13-27/experimental_assay_detailed_hypotheses/assay_hypothesis_7_peptide.txt\n",
      "Successfully wrote: assay_hypothesis_8_t.txt to: robin_notebook/celiac_disease_2025-05-15_13-27/experimental_assay_detailed_hypotheses/assay_hypothesis_8_t.txt\n",
      "Successfully wrote: assay_hypothesis_9_pro.txt to: robin_notebook/celiac_disease_2025-05-15_13-27/experimental_assay_detailed_hypotheses/assay_hypothesis_9_pro.txt\n",
      "Successfully wrote: assay_hypothesis_10_gliadin.txt to: robin_notebook/celiac_disease_2025-05-15_13-27/experimental_assay_detailed_hypotheses/assay_hypothesis_10_gliadin.txt\n",
      "\n",
      "Step 5: Selecting the top experimental assay...\n",
      "Starting comparisons for 45 pairs with max concurrency 100...\n"
     ]
    },
    {
     "name": "stderr",
     "output_type": "stream",
     "text": [
      "Comparing Hypotheses: 100%|██████████| 45/45 [00:19<00:00,  2.30it/s]\n"
     ]
    },
    {
     "name": "stdout",
     "output_type": "stream",
     "text": [
      "\n",
      "Finished processing pairs.\n",
      " - Successful comparisons: 45\n",
      " - Errors encountered: 0\n",
      "Successfully saved 45 results to robin_notebook/celiac_disease_2025-05-15_13-27/experimental_assay_ranking_results.csv\n",
      "Experimental Assay Selected: Barrier Integrity Restoration\n",
      "Candidate Generation Goal: To screen diverse compound libraries in the Barrier Integrity Restoration assay for their ability to reverse gluten‐induced epithelial permeability, thereby identifying novel therapeutic candidates for celiac disease.\n"
     ]
    }
   ],
   "source": [
    "candidate_generation_goal = await experimental_assay(configuration=config)"
   ]
  },
  {
   "cell_type": "markdown",
   "metadata": {},
   "source": [
    "### Therapeutic candidate generation"
   ]
  },
  {
   "cell_type": "code",
   "execution_count": null,
   "metadata": {},
   "outputs": [
    {
     "name": "stdout",
     "output_type": "stream",
     "text": [
      "Starting generation of 30 therapeutic candidates.\n",
      "———————————————————————————————————————————————————————————————\n",
      "\n",
      "Step 1: Formulating relevant queries for literature search...\n",
      "Generated Queries:\n",
      "1. High-throughput screening approaches and small-molecule libraries evaluated for restoration of intestinal epithelial barrier integrity in gluten-induced permeability models of celiac disease, including assay protocols, hit identification criteria, and validation strategies in cell and organoid systems\n",
      "2. Known or emerging molecular targets and pathways modulating tight junction assembly and barrier function in intestinal epithelium dysregulated by gliadin or zonulin in celiac disease, with evidence from genetic or pharmacological intervention studies demonstrating target validation\n",
      "3. Efficacy of candidate therapies in disease-relevant in vitro and in vivo celiac disease models, such as patient-derived intestinal organoids or HLA-DQ8 transgenic mice, measuring reversal of gliadin-induced barrier disruption and downstream inflammatory markers\n",
      "4. Mechanistic studies confirming small molecule engagement with specific pathways implicated in intestinal epithelial barrier restoration under gluten exposure, such as zonulin receptor antagonism, MLCK inhibition, or PI3K/Akt pathway modulation, using biophysical, biochemical, or imaging-based target engagement assays in cellular or ex vivo human mucosal models\n",
      "5. Pharmacokinetic, absorption, distribution, metabolism, excretion, and safety profiles of candidate barrier protective compounds, including preclinical ADME/Tox studies, human pharmacokinetic data, tissue distribution to intestinal mucosa, and tolerability outcomes from early-phase clinical or compassionate use reports\n",
      "6. Molecular mechanisms underlying gluten-induced intestinal epithelial barrier dysfunction in celiac disease, focusing on the role of zonulin signaling, tight junction protein modulation, and epithelial cytoskeleton rearrangement in early disease pathogenesis\n",
      "7. Genetic and functional evidence linking specific tight junction proteins (e.g., claudin-2, occludin, ZO-1) and their regulators to celiac disease susceptibility or severity, including GWAS, knockout, or overexpression studies in disease models\n",
      "8. Key inflammatory and signaling pathways activated by gluten peptides in celiac disease, such as MyD88/TLR, NF-κB, and IL-15-mediated responses in intestinal epithelial cells, and their impact on barrier integrity and immune cell recruitment\n",
      "9. Emerging novel molecular targets implicated in celiac disease beyond traditional HLA-DQ2/8-mediated T-cell responses, including epithelial stress sensors, autophagy pathways, endoplasmic reticulum stress modulators, and microbiome-derived metabolites affecting intestinal barrier function and immune activation\n",
      "10. Biomarkers of intestinal barrier dysfunction in celiac disease, including serum zonulin, fecal calprotectin, tight junction protein fragments, and transcriptomic or proteomic signatures from intestinal biopsies correlating with in vivo permeability changes and clinical severity\n",
      "\n",
      "Step 2: Conducting literature search with FutureHouse platform...\n",
      "Successfully wrote: query_1_high.txt to: robin_notebook/celiac_disease_2025-05-15_13-27/therapeutic_candidate_literature_reviews/query_1_high.txt\n",
      "Successfully wrote: query_2_known.txt to: robin_notebook/celiac_disease_2025-05-15_13-27/therapeutic_candidate_literature_reviews/query_2_known.txt\n",
      "Successfully wrote: query_3_efficacy.txt to: robin_notebook/celiac_disease_2025-05-15_13-27/therapeutic_candidate_literature_reviews/query_3_efficacy.txt\n",
      "Successfully wrote: query_4_mechanistic.txt to: robin_notebook/celiac_disease_2025-05-15_13-27/therapeutic_candidate_literature_reviews/query_4_mechanistic.txt\n",
      "Successfully wrote: query_5_pharmacokinetic.txt to: robin_notebook/celiac_disease_2025-05-15_13-27/therapeutic_candidate_literature_reviews/query_5_pharmacokinetic.txt\n",
      "Successfully wrote: query_6_molecular.txt to: robin_notebook/celiac_disease_2025-05-15_13-27/therapeutic_candidate_literature_reviews/query_6_molecular.txt\n",
      "Successfully wrote: query_7_genetic.txt to: robin_notebook/celiac_disease_2025-05-15_13-27/therapeutic_candidate_literature_reviews/query_7_genetic.txt\n",
      "Successfully wrote: query_8_key.txt to: robin_notebook/celiac_disease_2025-05-15_13-27/therapeutic_candidate_literature_reviews/query_8_key.txt\n",
      "Successfully wrote: query_9_emerging.txt to: robin_notebook/celiac_disease_2025-05-15_13-27/therapeutic_candidate_literature_reviews/query_9_emerging.txt\n",
      "Successfully wrote: query_10_biomarkers.txt to: robin_notebook/celiac_disease_2025-05-15_13-27/therapeutic_candidate_literature_reviews/query_10_biomarkers.txt\n",
      "\n",
      "Step 3: Generating 30 ideas for therapeutic candidates...\n",
      "\n",
      "Successfully parsed 30 candidate ideas.\n",
      "Candidate: AMG 487 (CXCR3 antagonist)<|>Hypothesis: By competitively binding to the CXCR3 receptor o...\n",
      "Candidate: ENMD-1068 (PAR2 antagonist)<|>Hypothesis: ENMD-1068 will antagonize PAR2 on intestinal ep...\n",
      "Candidate: AG1478 (EGFR tyrosine kinase inhibitor)<|>Hypothesis: AG1478 will inhibit EGFR tyrosine k...\n",
      "Candidate: Gö6976 (PKCα inhibitor)<|>Hypothesis: Gö6976 will selectively inhibit PKCα in epithelial ...\n",
      "Candidate: ML-7 (MLCK inhibitor)<|>Hypothesis: ML-7 will inhibit myosin light chain kinase, blocking...\n",
      "Candidate: LY294002 (PI3K inhibitor)<|>Hypothesis: LY294002 will inhibit PI3K/Akt signaling implicat...\n",
      "Candidate: ZED1227 (TG2 inhibitor)<|>Hypothesis: ZED1227 will inhibit tissue transglutaminase-2 (TG2...\n",
      "Candidate: AMG 714 (anti-IL-15 monoclonal antibody)<|>Hypothesis: AMG 714 will neutralize IL-15 in t...\n",
      "Candidate: Tofacitinib (JAK inhibitor)<|>Hypothesis: Tofacitinib will inhibit JAK1/3 signaling downs...\n",
      "Candidate: BAY 11-7082 (IKK/NF-κB inhibitor)<|>Hypothesis: BAY 11-7082 will inhibit IκB kinase, prev...\n",
      "Candidate: 4-Phenylbutyric acid (4-PBA)<|>Hypothesis: 4-PBA will act as a chemical chaperone to amel...\n",
      "Candidate: Spermidine<|>Hypothesis: Spermidine will activate autophagy pathways in intestinal epithe...\n",
      "Candidate: Dimethyl fumarate (DMF)<|>Hypothesis: DMF will activate the Nrf2 antioxidant pathway in e...\n",
      "Candidate: Sodium butyrate<|>Hypothesis: Sodium butyrate will act via GPR41/GPR43 signaling and HDAC...\n",
      "Candidate: BL-7010 (gliadin-binding polymer)<|>Hypothesis: BL-7010 will sequester α-gliadin peptides...\n",
      "Candidate: Latiglutenase (ALV003)<|>Hypothesis: ALV003, a combination of two prolyl endopeptidases, ...\n",
      "Candidate: Aspergillus niger prolyl endopeptidase (AN-PEP)<|>Hypothesis: AN-PEP will degrade immunog...\n",
      "Candidate: Bifidobacterium longum CECT 7347<|>Hypothesis: B. longum CECT 7347 will modulate the gut ...\n",
      "Candidate: Lactobacillus casei ATCC 9595<|>Hypothesis: L. casei ATCC 9595 will secrete bioactive met...\n",
      "Candidate: Obeticholic acid (OCA)<|>Hypothesis: OCA, an FXR agonist, will enhance expression of barr...\n",
      "Candidate: TAK-242 (Resatorvid, TLR4 antagonist)<|>Hypothesis: TAK-242 will inhibit TLR4 signaling o...\n",
      "Candidate: N-Acetylcysteine (NAC)<|>Hypothesis: NAC will replenish intracellular glutathione, scaven...\n",
      "Candidate: Rifaximin<|>Hypothesis: Rifaximin will activate the pregnane X receptor (PXR) in enterocy...\n",
      "Candidate: Diphenyleneiodonium chloride (DPI)<|>Hypothesis: DPI will inhibit NADPH oxidase (NOX) com...\n",
      "Candidate: Apigenin<|>Hypothesis: Apigenin will inhibit MLCK and NF-κB activation in intestinal epit...\n",
      "Candidate: Curcumin<|>Hypothesis: Curcumin will modulate PKC and NF-κB pathways in enterocytes, supp...\n",
      "Candidate: Oleanolic acid<|>Hypothesis: Oleanolic acid will activate PPARα and PXR in intestinal epi...\n",
      "Candidate: Quercetin<|>Hypothesis: Quercetin will inhibit MLCK and ER stress signaling in enterocyte...\n",
      "Candidate: Epigallocatechin gallate (EGCG)<|>Hypothesis: EGCG will reduce zonulin release by competi...\n",
      "Candidate: Resveratrol<|>Hypothesis: Resveratrol will activate SIRT1 and Nrf2 in enterocytes, reduce...\n",
      "Successfully exported to robin_notebook/celiac_disease_2025-05-15_13-27/therapeutic_candidates_summary.txt\n",
      "\n",
      "Step 4: Detailed investigation and evaluation for candidates...\n",
      "Successfully wrote: therapeutic_candidate_1_amg.txt to: robin_notebook/celiac_disease_2025-05-15_13-27/therapeutic_candidate_detailed_hypotheses/therapeutic_candidate_1_amg.txt\n",
      "Successfully wrote: therapeutic_candidate_2_enmd.txt to: robin_notebook/celiac_disease_2025-05-15_13-27/therapeutic_candidate_detailed_hypotheses/therapeutic_candidate_2_enmd.txt\n",
      "Successfully wrote: therapeutic_candidate_3_ag1478.txt to: robin_notebook/celiac_disease_2025-05-15_13-27/therapeutic_candidate_detailed_hypotheses/therapeutic_candidate_3_ag1478.txt\n",
      "Successfully wrote: therapeutic_candidate_4_g.txt to: robin_notebook/celiac_disease_2025-05-15_13-27/therapeutic_candidate_detailed_hypotheses/therapeutic_candidate_4_g.txt\n",
      "Successfully wrote: therapeutic_candidate_5_ml.txt to: robin_notebook/celiac_disease_2025-05-15_13-27/therapeutic_candidate_detailed_hypotheses/therapeutic_candidate_5_ml.txt\n",
      "Successfully wrote: therapeutic_candidate_6_ly294002.txt to: robin_notebook/celiac_disease_2025-05-15_13-27/therapeutic_candidate_detailed_hypotheses/therapeutic_candidate_6_ly294002.txt\n",
      "Successfully wrote: therapeutic_candidate_7_zed1227.txt to: robin_notebook/celiac_disease_2025-05-15_13-27/therapeutic_candidate_detailed_hypotheses/therapeutic_candidate_7_zed1227.txt\n",
      "Successfully wrote: therapeutic_candidate_8_amg.txt to: robin_notebook/celiac_disease_2025-05-15_13-27/therapeutic_candidate_detailed_hypotheses/therapeutic_candidate_8_amg.txt\n",
      "Successfully wrote: therapeutic_candidate_9_tofacitinib.txt to: robin_notebook/celiac_disease_2025-05-15_13-27/therapeutic_candidate_detailed_hypotheses/therapeutic_candidate_9_tofacitinib.txt\n",
      "Successfully wrote: therapeutic_candidate_10_bay.txt to: robin_notebook/celiac_disease_2025-05-15_13-27/therapeutic_candidate_detailed_hypotheses/therapeutic_candidate_10_bay.txt\n",
      "Successfully wrote: therapeutic_candidate_11_4.txt to: robin_notebook/celiac_disease_2025-05-15_13-27/therapeutic_candidate_detailed_hypotheses/therapeutic_candidate_11_4.txt\n",
      "Successfully wrote: therapeutic_candidate_12_spermidine.txt to: robin_notebook/celiac_disease_2025-05-15_13-27/therapeutic_candidate_detailed_hypotheses/therapeutic_candidate_12_spermidine.txt\n",
      "Successfully wrote: therapeutic_candidate_13_dimethyl.txt to: robin_notebook/celiac_disease_2025-05-15_13-27/therapeutic_candidate_detailed_hypotheses/therapeutic_candidate_13_dimethyl.txt\n",
      "Successfully wrote: therapeutic_candidate_14_sodium.txt to: robin_notebook/celiac_disease_2025-05-15_13-27/therapeutic_candidate_detailed_hypotheses/therapeutic_candidate_14_sodium.txt\n",
      "Successfully wrote: therapeutic_candidate_15_bl.txt to: robin_notebook/celiac_disease_2025-05-15_13-27/therapeutic_candidate_detailed_hypotheses/therapeutic_candidate_15_bl.txt\n",
      "Successfully wrote: therapeutic_candidate_16_latiglutenase.txt to: robin_notebook/celiac_disease_2025-05-15_13-27/therapeutic_candidate_detailed_hypotheses/therapeutic_candidate_16_latiglutenase.txt\n",
      "Successfully wrote: therapeutic_candidate_17_aspergillus.txt to: robin_notebook/celiac_disease_2025-05-15_13-27/therapeutic_candidate_detailed_hypotheses/therapeutic_candidate_17_aspergillus.txt\n",
      "Successfully wrote: therapeutic_candidate_18_bifidobacterium.txt to: robin_notebook/celiac_disease_2025-05-15_13-27/therapeutic_candidate_detailed_hypotheses/therapeutic_candidate_18_bifidobacterium.txt\n",
      "Successfully wrote: therapeutic_candidate_19_lactobacillus.txt to: robin_notebook/celiac_disease_2025-05-15_13-27/therapeutic_candidate_detailed_hypotheses/therapeutic_candidate_19_lactobacillus.txt\n",
      "Successfully wrote: therapeutic_candidate_20_obeticholic.txt to: robin_notebook/celiac_disease_2025-05-15_13-27/therapeutic_candidate_detailed_hypotheses/therapeutic_candidate_20_obeticholic.txt\n",
      "Successfully wrote: therapeutic_candidate_21_tak.txt to: robin_notebook/celiac_disease_2025-05-15_13-27/therapeutic_candidate_detailed_hypotheses/therapeutic_candidate_21_tak.txt\n",
      "Successfully wrote: therapeutic_candidate_22_n.txt to: robin_notebook/celiac_disease_2025-05-15_13-27/therapeutic_candidate_detailed_hypotheses/therapeutic_candidate_22_n.txt\n",
      "Successfully wrote: therapeutic_candidate_23_rifaximin.txt to: robin_notebook/celiac_disease_2025-05-15_13-27/therapeutic_candidate_detailed_hypotheses/therapeutic_candidate_23_rifaximin.txt\n",
      "Successfully wrote: therapeutic_candidate_24_diphenyleneiodonium.txt to: robin_notebook/celiac_disease_2025-05-15_13-27/therapeutic_candidate_detailed_hypotheses/therapeutic_candidate_24_diphenyleneiodonium.txt\n",
      "Successfully wrote: therapeutic_candidate_25_apigenin.txt to: robin_notebook/celiac_disease_2025-05-15_13-27/therapeutic_candidate_detailed_hypotheses/therapeutic_candidate_25_apigenin.txt\n",
      "Successfully wrote: therapeutic_candidate_26_curcumin.txt to: robin_notebook/celiac_disease_2025-05-15_13-27/therapeutic_candidate_detailed_hypotheses/therapeutic_candidate_26_curcumin.txt\n",
      "Successfully wrote: therapeutic_candidate_27_oleanolic.txt to: robin_notebook/celiac_disease_2025-05-15_13-27/therapeutic_candidate_detailed_hypotheses/therapeutic_candidate_27_oleanolic.txt\n",
      "Successfully wrote: therapeutic_candidate_28_quercetin.txt to: robin_notebook/celiac_disease_2025-05-15_13-27/therapeutic_candidate_detailed_hypotheses/therapeutic_candidate_28_quercetin.txt\n",
      "Successfully wrote: therapeutic_candidate_29_epigallocatechin.txt to: robin_notebook/celiac_disease_2025-05-15_13-27/therapeutic_candidate_detailed_hypotheses/therapeutic_candidate_29_epigallocatechin.txt\n",
      "Successfully wrote: therapeutic_candidate_30_resveratrol.txt to: robin_notebook/celiac_disease_2025-05-15_13-27/therapeutic_candidate_detailed_hypotheses/therapeutic_candidate_30_resveratrol.txt\n",
      "\n",
      "Step 5: Ranking the strength of the therapeutic candidates...\n",
      "Processing file: therapeutic_candidate_25_apigenin.txt...\n",
      "Processing file: therapeutic_candidate_18_bifidobacterium.txt...\n",
      "Processing file: therapeutic_candidate_27_oleanolic.txt...\n",
      "Processing file: therapeutic_candidate_16_latiglutenase.txt...\n",
      "Processing file: therapeutic_candidate_19_lactobacillus.txt...\n",
      "Processing file: therapeutic_candidate_28_quercetin.txt...\n",
      "Processing file: therapeutic_candidate_15_bl.txt...\n",
      "Processing file: therapeutic_candidate_6_ly294002.txt...\n",
      "Processing file: therapeutic_candidate_12_spermidine.txt...\n",
      "Processing file: therapeutic_candidate_1_amg.txt...\n",
      "Processing file: therapeutic_candidate_29_epigallocatechin.txt...\n",
      "Processing file: therapeutic_candidate_7_zed1227.txt...\n",
      "Processing file: therapeutic_candidate_26_curcumin.txt...\n",
      "Processing file: therapeutic_candidate_5_ml.txt...\n",
      "Processing file: therapeutic_candidate_8_amg.txt...\n",
      "Processing file: therapeutic_candidate_30_resveratrol.txt...\n",
      "Processing file: therapeutic_candidate_23_rifaximin.txt...\n",
      "Processing file: therapeutic_candidate_9_tofacitinib.txt...\n",
      "Processing file: therapeutic_candidate_10_bay.txt...\n",
      "Processing file: therapeutic_candidate_11_4.txt...\n",
      "Processing file: therapeutic_candidate_13_dimethyl.txt...\n",
      "Processing file: therapeutic_candidate_22_n.txt...\n",
      "Processing file: therapeutic_candidate_21_tak.txt...\n",
      "Processing file: therapeutic_candidate_3_ag1478.txt...\n",
      "Processing file: therapeutic_candidate_4_g.txt...\n",
      "Processing file: therapeutic_candidate_14_sodium.txt...\n",
      "Processing file: therapeutic_candidate_24_diphenyleneiodonium.txt...\n",
      "Processing file: therapeutic_candidate_2_enmd.txt...\n",
      "Processing file: therapeutic_candidate_17_aspergillus.txt...\n",
      "Processing file: therapeutic_candidate_20_obeticholic.txt...\n",
      "Starting comparisons for 300 pairs with max concurrency 100...\n"
     ]
    },
    {
     "name": "stderr",
     "output_type": "stream",
     "text": [
      "Comparing Hypotheses:  50%|█████     | 150/300 [00:22<00:13, 10.80it/s]"
     ]
    },
    {
     "name": "stdout",
     "output_type": "stream",
     "text": [
      "\n",
      "JSON Decode Error for pair (11, 12) (Index 28): Invalid control character at: line 1 column 838 (char 837)\n",
      "Raw Content: {\"Analysis\":\"Candidate 1, ZED1227, is a rationally designed, irreversible covalent inhibitor of tissue transglutaminase 2 (TG2), the key enzyme in celiac disease pathogenesis. TG2 has a well‐validated role in gluten deamidation and immune activation. ZED1227 exhibits >900‐fold selectivity over other transglutaminases, localizes to the intestinal lumen, and has demonstrated efficacy in rodent gluten‐challenge models and phase I/II human trials, with significant reduction in mucosal damage and favorable safety. Its MoA is direct, upstream, and disease‐specific. PK/PD and delivery to the target site have been characterized, and early clinical data support tolerability and on‐target engagement. Potential long‐term safety questions remain around irreversible inhibition of a ubiquitous enzyme, but current human data are reassuring.\n",
      "\n",
      "Candidate 2, Curcumin, is a natural polyphenol with anti‐inflammatory and barrier‐protective properties via NF-κB and PKC inhibition and antioxidant effects. It has a robust safety record as a dietary supplement and preclinical efficacy in general inflammatory and barrier models. However, it lacks direct clinical evidence in celiac disease, has poor and variable bioavailability, and its MoA is indirect—it does not block the core trigger of gliadin deamidation. Without specific celiac clinical data or optimized formulations, its translational risk is high. While scientifically interesting and novel, curcumin’s nonspecific pleiotropic effects and PK challenges make it a less compelling single‐agent candidate.\",\"Reasoning\":\"ZED1227 (Candidate 1) surpasses curcumin on every prioritized criterion. It directly targets the validated root cause of celiac disease with a well‐defined, disease‐specific MoA. It has robust preclinical and clinical evidence demonstrating efficacy and safety in celiac patients under gluten challenge. In contrast, curcumin’s evidence is limited to in vitro and non‐celiac inflammatory models, lacks celiac‐specific clinical validation, and suffers from bioavailability issues that undermine its feasibility. Although curcumin is safe and mechanistically plausible, it remains an adjunctive approach rather than a core disease‐modifying therapy. The strong human data, target specificity, translational readiness, and mechanistic clarity of ZED1227 clearly designate it as the superior candidate.\",\"Winner\":\"(ZED1227, 11)\",\"Loser\":\"(Curcumin, 12)\"}\n"
     ]
    },
    {
     "name": "stderr",
     "output_type": "stream",
     "text": [
      "Comparing Hypotheses:  63%|██████▎   | 189/300 [00:26<00:09, 11.83it/s]"
     ]
    },
    {
     "name": "stdout",
     "output_type": "stream",
     "text": [
      "\n",
      "JSON Decode Error for pair (13, 27) (Index 207): Invalid control character at: line 2 column 1018 (char 1019)\n",
      "Raw Content: {\n",
      "  \"Analysis\": \"Candidate 1 (ML-7) and Candidate 2 (ENMD-1068) both aim to restore epithelial barrier integrity in celiac disease but differ substantially in evidence strength, target specificity, potency, and translational readiness. ML-7 is a potent (IC₅₀ ~300 nM) ATP-competitive MLCK inhibitor with extensive in vitro and ex vivo validation: multiple studies in Caco-2 monolayers and patient-derived intestinal organoids show reduced MLC phosphorylation, preservation of ZO-1/occludin localization, restored TEER, and diminished paracellular flux under inflammatory or gliadin challenge. Although ML-7 lacks direct clinical data in celiac disease, its target (MLCK) is a proximal and central mediator of tight junction regulation, and intestinal distribution is well documented. Safety concerns center on off-target kinase inhibition, but these can be mitigated through gut-targeted delivery or isoform-selective analogs. Feasibility is high given its membrane permeability and precedent for localized GI delivery.\n",
      "\n",
      "ENMD-1068 antagonizes PAR2 to block the zonulin/PAR2–EGFR–PLC–PKCα signaling cascade upstream of junction disassembly. Its mechanism is clear and directly relevant to gluten-induced zonulin release, and it has been characterized in epithelial inflammation models and HLA-DQ8 mice. However its moderate potency (IC₅₀ ~16 μM) raises translational challenges in achieving sufficient receptor occupancy without off-target effects. There is no published direct evidence of barrier rescue in gliadin-challenged celiac models or clinical studies. PAR2 has physiological roles in repair and immune defense, posing safety and compensatory-pathway risks for chronic blockade. While pharmacokinetic data exist, the lack of proof-of-concept in celiac‐specific assays limits confidence in on-target efficacy and optimal dosing.\n",
      "\n",
      "Comparing the two: ML-7 offers stronger, disease-relevant preclinical proof, higher potency, and a direct mechanism on a central barrier regulator. ENMD-1068’s pathway is plausible but supported by weaker potency and no direct celiac‐model data. ML-7’s safety liabilities are manageable via localized delivery, whereas ENMD-1068’s impact on PAR2’s physiological functions remains uncertain. Thus ML-7 has a higher probability of successful experimental validation and translation.\",\n",
      "  \"Reasoning\": \"ML-7 is superior because it directly targets MLCK, a proximal driver of tight junction opening in celiac‐relevant inflammation, with high potency and robust in vitro and organoid evidence of barrier restoration. Its intestinal distribution and mechanism have been repeatedly validated, providing a stronger translational foundation. In contrast, ENMD-1068, while mechanistically sound, suffers from moderate potency, absence of direct celiac‐model data, and uncertainties around chronic PAR2 blockade. These factors reduce confidence in its ability to achieve efficacious concentrations and maintain safety in celiac disease. Therefore, ML-7 (ID 13) is predicted to have a higher likelihood of experimental success and eventual clinical translation.\",\n",
      "  \"Winner\": \"(ML-7, 13)\",\n",
      "  \"Loser\": \"(ENMD-1068, 27)\"\n",
      "}\n"
     ]
    },
    {
     "name": "stderr",
     "output_type": "stream",
     "text": [
      "Comparing Hypotheses:  73%|███████▎  | 220/300 [00:30<00:09,  8.23it/s]"
     ]
    },
    {
     "name": "stdout",
     "output_type": "stream",
     "text": [
      "\n",
      "JSON Decode Error for pair (11, 26) (Index 191): Invalid control character at: line 1 column 948 (char 947)\n",
      "Raw Content: {\"Analysis\":\"Candidate 1 (ZED1227) targets the core disease mechanism in celiac disease by irreversibly inhibiting tissue transglutaminase 2 (TG2), the enzyme responsible for deamidating gluten peptides and triggering pathogenic T-cell responses. It is backed by robust biochemical, structural, preclinical rodent gluten challenge models, and phase 1/2 human trial data demonstrating safety, intestinal localization, high target selectivity (>900-fold over other TG isoforms), and histological improvement (villus/crypt ratio, intraepithelial lymphocytes). Its MoA is clear, direct, and specific to celiac pathogenesis. Known safety data are favorable, with minimal systemic exposure and few adverse events at therapeutic doses, though long-term, broad irreversible inhibition of TG2 warrants monitoring. ZED1227’s drug-like physicochemistry and limited permeability support intestinal-lumen delivery and feasibility in real-world gluten exposure.\n",
      "\n",
      "Candidate 2 (DPI) is a broad-spectrum flavoprotein inhibitor used primarily as a research tool to block NADPH oxidase (NOX)-derived ROS in vitro. Its MoA is indirect—aiming to reduce oxidative stress and protect epithelial tight junction integrity—but it lacks specificity (inhibits multiple oxidases, mitochondrial enzymes, cytochrome P450 reductase) and has no precedent in clinical or veterinary use. DPI’s narrow therapeutic window, off-target toxicity, potential mitochondrial dysfunction, immune defense compromise, and absence of in vivo celiac models or safety/efficacy data severely limit its translational potential. While useful for target validation experiments, DPI’s non-selectivity and toxicity profile represent major barriers to drug development.\",\"Reasoning\":\"ZED1227 clearly surpasses DPI in evidence strength, translational readiness, target specificity, and safety. ZED1227 directly addresses the key pathogenic enzyme in celiac disease, has advanced into human clinical trials with positive outcomes, and demonstrates feasible intestinal delivery with a favorable tolerability profile. In contrast, DPI is a non‐selective research probe with no clinical data, broad off‐target liabilities, and significant safety concerns, making it unsuitable for therapeutic development. Thus, ZED1227 is the superior candidate for further development.\",\"Winner\":\"(ZED1227, 11)\",\"Loser\":\"(Diphenyleneiodonium chloride, 26)\"}\n"
     ]
    },
    {
     "name": "stderr",
     "output_type": "stream",
     "text": [
      "Comparing Hypotheses: 100%|██████████| 300/300 [00:48<00:00,  6.14it/s]\n"
     ]
    },
    {
     "name": "stdout",
     "output_type": "stream",
     "text": [
      "\n",
      "Finished processing pairs.\n",
      " - Successful comparisons: 297\n",
      " - Errors encountered: 3\n",
      "Successfully saved 297 results to robin_notebook/celiac_disease_2025-05-15_13-27/therapeutic_candidate_ranking_results.csv\n",
      "Therapeutic candidate generation finished! Saved final rankings to robin_notebook/celiac_disease_2025-05-15_13-27/ranked_therapeutic_candidates.csv\n"
     ]
    }
   ],
   "source": [
    "await therapeutic_candidates(\n",
    "    candidate_generation_goal=candidate_generation_goal, configuration=config\n",
    ")"
   ]
  }
 ],
 "metadata": {
  "kernelspec": {
   "display_name": "poplar",
   "language": "python",
   "name": "python3"
  },
  "language_info": {
   "codemirror_mode": {
    "name": "ipython",
    "version": 3
   },
   "file_extension": ".py",
   "mimetype": "text/x-python",
   "name": "python",
   "nbconvert_exporter": "python",
   "pygments_lexer": "ipython3"
  }
 },
 "nbformat": 4,
 "nbformat_minor": 2
}
