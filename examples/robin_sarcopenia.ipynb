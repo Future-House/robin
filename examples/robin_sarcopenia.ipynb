{
 "cells": [
  {
   "cell_type": "markdown",
   "metadata": {},
   "source": [
    "# Robin: Hypothesis Generation for Drug Repurposing"
   ]
  },
  {
   "cell_type": "code",
   "execution_count": null,
   "metadata": {},
   "outputs": [],
   "source": [
    "import logging\n",
    "\n",
    "from robin.assays import experimental_assay\n",
    "from robin.candidates import therapeutic_candidates\n",
    "from robin.configuration import RobinConfiguration"
   ]
  },
  {
   "cell_type": "markdown",
   "metadata": {},
   "source": [
    "## Robin Set Up"
   ]
  },
  {
   "cell_type": "code",
   "execution_count": null,
   "metadata": {},
   "outputs": [],
   "source": [
    "config = RobinConfiguration(\n",
    "    disease_name=\"sarcopenia\", num_assays=10, num_candidates=30, num_queries=5\n",
    ")\n",
    "\n",
    "logger = logging.getLogger(\"robin\")\n",
    "logger.setLevel(logging.INFO)"
   ]
  },
  {
   "cell_type": "markdown",
   "metadata": {},
   "source": [
    "# Initial therapeutic hypothesis generation"
   ]
  },
  {
   "cell_type": "markdown",
   "metadata": {},
   "source": [
    "### Experimental assay generation"
   ]
  },
  {
   "cell_type": "code",
   "execution_count": null,
   "metadata": {},
   "outputs": [
    {
     "name": "stdout",
     "output_type": "stream",
     "text": [
      "Starting selection of a relevant experimental assay.\n",
      "————————————————————————————————————————————————————\n",
      "\n",
      "Step 1: Formulating relevant queries for literature search...\n",
      "Generated Queries:\n",
      "1. Comprehensive overview of molecular and cellular pathways driving age-related skeletal muscle atrophy, including satellite cell dysfunction, proteostasis imbalance via ubiquitin–proteasome and autophagy–lysosome systems, mitochondrial dysfunction, inflammatory cytokine signaling, anabolic resistance, and neuromuscular junction degeneration\n",
      "2. Characterization of in vitro cell culture models for sarcopenia research, focusing on primary human myoblasts, C2C12 myotubes, and induced pluripotent stem cell-derived myofibers, detailing differentiation protocols, phenotypic readouts, morphological markers, contractility assays, and replicative senescence induction\n",
      "3. Identification of key biochemical biomarkers and readouts for high-throughput screening of anti-sarcopenic compounds in cell-based assays, encompassing measurements of muscle protein synthesis rates, degradation markers (MuRF1, Atrogin-1), mitochondrial respiration, ROS levels, and calcium flux\n",
      "4. Mechanistic investigation of inflammatory and endocrine modulators (IL-6, TNF-α, myostatin, IGF-1, GDF15, TGF-β) in muscle cell atrophy models, including dose-response parameters, downstream SMAD/STAT/MAPK signaling cascades, and cross-talk with anabolic pathways in culture systems\n",
      "5. Development of co-culture systems and microphysiological platforms recapitulating muscle–nerve–immune interactions in sarcopenia, leveraging 3D bioprinted muscle constructs, microfluidic perfusion, and real-time imaging to assess neuromuscular junction integrity, inflammatory infiltration, and functional contraction\n",
      "\n",
      "Step 2: Conducting literature search with FutureHouse platform...\n",
      "Successfully wrote: query_1_comprehensive.txt to: robin_notebook/sarcopenia_2025-05-14_11-03/experimental_assay_literature_reviews/query_1_comprehensive.txt\n",
      "Successfully wrote: query_2_characterization.txt to: robin_notebook/sarcopenia_2025-05-14_11-03/experimental_assay_literature_reviews/query_2_characterization.txt\n",
      "Successfully wrote: query_3_identification.txt to: robin_notebook/sarcopenia_2025-05-14_11-03/experimental_assay_literature_reviews/query_3_identification.txt\n",
      "Successfully wrote: query_4_mechanistic.txt to: robin_notebook/sarcopenia_2025-05-14_11-03/experimental_assay_literature_reviews/query_4_mechanistic.txt\n",
      "Successfully wrote: query_5_development.txt to: robin_notebook/sarcopenia_2025-05-14_11-03/experimental_assay_literature_reviews/query_5_development.txt\n",
      "\n",
      "Step 3: Generating ideas for relevant experimental assays...\n",
      "Strategy: Satellite cell proliferation assay<|>Reasoning: Quantify drug effects on aged human primar...\n",
      "Strategy: Myotube diameter rescue assay<|>Reasoning: Induce atrophy in differentiated C2C12 myotubes...\n",
      "Strategy: Protein synthesis (SUnSET) assay<|>Reasoning: Measure translational recovery by puromycin ...\n",
      "Strategy: Ubiquitin ligase reporter assay<|>Reasoning: Use a luciferase reporter under control of th...\n",
      "Strategy: Autophagy flux assay<|>Reasoning: Employ tandem GFP-mCherry-LC3 expression in C2C12 myotub...\n",
      "Strategy: Mitochondrial respiration assay<|>Reasoning: Use Seahorse extracellular flux analysis in d...\n",
      "Strategy: ROS quantification assay<|>Reasoning: Quantify intracellular reactive oxygen species in my...\n",
      "Strategy: Calcium transient assay<|>Reasoning: Monitor excitation–contraction coupling in electrical...\n",
      "Strategy: Neuromuscular junction co‐culture assay<|>Reasoning: Co‐culture C2C12 myotubes with motor ...\n",
      "Strategy: Inflammatory signaling inhibition assay<|>Reasoning: Treat myotubes with TNF-α or IL-6 to ...\n",
      "Successfully exported to robin_notebook/sarcopenia_2025-05-14_11-03/experimental_assay_summary.txt\n",
      "\n",
      "Step 4: Detailed investigation and evaluation for each assay...\n",
      "Successfully wrote: assay_hypothesis_1_satellite.txt to: robin_notebook/sarcopenia_2025-05-14_11-03/experimental_assay_detailed_hypotheses/assay_hypothesis_1_satellite.txt\n",
      "Successfully wrote: assay_hypothesis_2_myotube.txt to: robin_notebook/sarcopenia_2025-05-14_11-03/experimental_assay_detailed_hypotheses/assay_hypothesis_2_myotube.txt\n",
      "Successfully wrote: assay_hypothesis_3_protein.txt to: robin_notebook/sarcopenia_2025-05-14_11-03/experimental_assay_detailed_hypotheses/assay_hypothesis_3_protein.txt\n",
      "Successfully wrote: assay_hypothesis_4_ubiquitin.txt to: robin_notebook/sarcopenia_2025-05-14_11-03/experimental_assay_detailed_hypotheses/assay_hypothesis_4_ubiquitin.txt\n",
      "Successfully wrote: assay_hypothesis_5_autophagy.txt to: robin_notebook/sarcopenia_2025-05-14_11-03/experimental_assay_detailed_hypotheses/assay_hypothesis_5_autophagy.txt\n",
      "Successfully wrote: assay_hypothesis_6_mitochondrial.txt to: robin_notebook/sarcopenia_2025-05-14_11-03/experimental_assay_detailed_hypotheses/assay_hypothesis_6_mitochondrial.txt\n",
      "Successfully wrote: assay_hypothesis_7_ros.txt to: robin_notebook/sarcopenia_2025-05-14_11-03/experimental_assay_detailed_hypotheses/assay_hypothesis_7_ros.txt\n",
      "Successfully wrote: assay_hypothesis_8_calcium.txt to: robin_notebook/sarcopenia_2025-05-14_11-03/experimental_assay_detailed_hypotheses/assay_hypothesis_8_calcium.txt\n",
      "Successfully wrote: assay_hypothesis_9_neuromuscular.txt to: robin_notebook/sarcopenia_2025-05-14_11-03/experimental_assay_detailed_hypotheses/assay_hypothesis_9_neuromuscular.txt\n",
      "Successfully wrote: assay_hypothesis_10_inflammatory.txt to: robin_notebook/sarcopenia_2025-05-14_11-03/experimental_assay_detailed_hypotheses/assay_hypothesis_10_inflammatory.txt\n",
      "\n",
      "Step 5: Selecting the top experimental assay...\n",
      "Starting comparisons for 45 pairs with max concurrency 100...\n"
     ]
    },
    {
     "name": "stderr",
     "output_type": "stream",
     "text": [
      "Comparing Hypotheses: 100%|██████████| 45/45 [00:16<00:00,  2.76it/s]\n"
     ]
    },
    {
     "name": "stdout",
     "output_type": "stream",
     "text": [
      "\n",
      "Finished processing pairs.\n",
      " - Successful comparisons: 45\n",
      " - Errors encountered: 0\n",
      "Successfully saved 45 results to robin_notebook/sarcopenia_2025-05-14_11-03/experimental_assay_ranking_results.csv\n",
      "Experimental Assay Selected: Calcium transient assay\n",
      "Candidate Generation Goal: Establish a high-throughput calcium transient assay in aged human myotubes to screen diverse small-molecule libraries for compounds that restore calcium signaling and contractile function as novel sarcopenia therapeutics.\n"
     ]
    }
   ],
   "source": [
    "candidate_generation_goal = await experimental_assay(configuration=config)"
   ]
  },
  {
   "cell_type": "markdown",
   "metadata": {},
   "source": [
    "### Therapeutic candidate generation"
   ]
  },
  {
   "cell_type": "code",
   "execution_count": null,
   "metadata": {},
   "outputs": [
    {
     "name": "stdout",
     "output_type": "stream",
     "text": [
      "Starting generation of 30 therapeutic candidates.\n",
      "———————————————————————————————————————————————————————————————\n",
      "\n",
      "Step 1: Formulating relevant queries for literature search...\n",
      "Generated Queries:\n",
      "1. What are the optimal protocols and reagents for establishing a high-throughput fluorescent or luminescent calcium transient assay in aged human skeletal myotubes, including dye selection, genetically encoded Ca²⁺ sensor optimization, automation integration, assay sensitivity, dynamic range, signal-to-noise ratio, and reproducibility metrics?\n",
      "2. Which small-molecule screening platforms and library compositions have demonstrated success in identifying modulators that restore calcium signaling and contractile function in patient-derived or aged human myotube models, and what validation assays confirmed their target engagement, dose-response relationships, and functional rescue of muscle contraction?\n",
      "3. What published data exist on the efficacy and mechanism of action of small-molecule SERCA activators in aging skeletal muscle, including quantitative measurements of SR Ca²⁺ reuptake rates, improvements in twitch and tetanic force in ex vivo or in vivo sarcopenia models, and analyses of off-target effects or isoform specificity?\n",
      "4. What are the latest reported small-molecule modulators of ryanodine receptor (RyR) stabilization or junctophilin–RyR interactions that have been tested in aged human or rodent sarcopenic muscle models, including evidence of reduced pathological Ca²⁺ leak, enhanced transient amplitude, improved fatigue resistance, and in vivo muscle strength restoration?\n",
      "5. Which candidate compounds with known pharmacokinetic, ADME, and safety profiles—particularly oral bioavailability, skeletal muscle tissue penetration, metabolic stability, and human tolerability data—have been evaluated for modulating calcium-handling proteins in preclinical models of muscle aging or related myopathies?\n",
      "6. What are the key molecular mechanisms driving sarcopenia-associated dysregulation of intracellular calcium homeostasis in aged human skeletal muscle, including roles of oxidative post-translational modifications on RyR1, SERCA pump downregulation, altered ER–mitochondrial Ca²⁺ exchange, and store-operated calcium entry channel dysfunction?\n",
      "7. Which genetic, transcriptomic, or proteomic studies provide strong validation that specific calcium-handling proteins such as SERCA1/2, RyR1, STIM1, or Orai1 play causative roles in sarcopenia pathophysiology, ideally including knockout or patient mutation analyses in aged myotube or animal models with functional readouts?\n",
      "8. What is the contribution of chronic low-grade inflammation and oxidative stress to impairment of Ca²⁺ transients in aged myotubes, including cytokine-mediated kinase cascades, redox modifications of calcium channels, and downstream effects on sarcomere structure and contractile apparatus integrity?\n",
      "9. What are the emerging contractile function assays for aged skeletal muscle cells—such as impedance-based measurements, traction force microscopy, high-throughput optogenetic or electrical stimulation—and how do these technologies correlate with calcium transient amplitude, kinetics, and fatigue profiles in sarcopenia models?\n",
      "10. What preclinical or early clinical studies report detailed ADME, pharmacokinetic, and safety data for novel SERCA activators, RyR stabilizers, or store-operated calcium entry modulators, including plasma half-life, tissue distribution to skeletal muscle, maximum tolerated dose, pharmacodynamic target engagement, and early efficacy signals?\n",
      "\n",
      "Step 2: Conducting literature search with FutureHouse platform...\n",
      "Successfully wrote: query_1_what.txt to: robin_notebook/sarcopenia_2025-05-14_11-03/therapeutic_candidate_literature_reviews/query_1_what.txt\n",
      "Successfully wrote: query_2_which.txt to: robin_notebook/sarcopenia_2025-05-14_11-03/therapeutic_candidate_literature_reviews/query_2_which.txt\n",
      "Successfully wrote: query_3_what.txt to: robin_notebook/sarcopenia_2025-05-14_11-03/therapeutic_candidate_literature_reviews/query_3_what.txt\n",
      "Successfully wrote: query_4_what.txt to: robin_notebook/sarcopenia_2025-05-14_11-03/therapeutic_candidate_literature_reviews/query_4_what.txt\n",
      "Successfully wrote: query_5_which.txt to: robin_notebook/sarcopenia_2025-05-14_11-03/therapeutic_candidate_literature_reviews/query_5_which.txt\n",
      "Successfully wrote: query_6_what.txt to: robin_notebook/sarcopenia_2025-05-14_11-03/therapeutic_candidate_literature_reviews/query_6_what.txt\n",
      "Successfully wrote: query_7_which.txt to: robin_notebook/sarcopenia_2025-05-14_11-03/therapeutic_candidate_literature_reviews/query_7_which.txt\n",
      "Successfully wrote: query_8_what.txt to: robin_notebook/sarcopenia_2025-05-14_11-03/therapeutic_candidate_literature_reviews/query_8_what.txt\n",
      "Successfully wrote: query_9_what.txt to: robin_notebook/sarcopenia_2025-05-14_11-03/therapeutic_candidate_literature_reviews/query_9_what.txt\n",
      "Successfully wrote: query_10_what.txt to: robin_notebook/sarcopenia_2025-05-14_11-03/therapeutic_candidate_literature_reviews/query_10_what.txt\n",
      "\n",
      "Step 3: Generating 30 ideas for therapeutic candidates...\n",
      "\n",
      "Successfully parsed 30 candidate ideas.\n",
      "Candidate: CDN1163 (CAS 1088261-38-9)<|>Hypothesis: CDN1163 selectively binds and stabilizes the SER...\n",
      "Candidate: ARM210 (S48168)<|>Hypothesis: ARM210, a benzothiazepine Rycal, reconstitutes the FKBP12–R...\n",
      "Candidate: S107 (K201/JTV519)<|>Hypothesis: S107 binds near the FKBP12 regulatory site on RyR1 in ag...\n",
      "Candidate: Myricetin (Sigma-Aldrich M-7379)<|>Hypothesis: Myricetin directly interacts with RyR1 in ...\n",
      "Candidate: Chloroxine (Sigma-Aldrich C-9878)<|>Hypothesis: Chloroxine binds to the RyR1 calmodulin-i...\n",
      "Candidate: CK-2127107 (Reldesemtiv)<|>Hypothesis: CK-2127107 binds the fast skeletal troponin comple...\n",
      "Candidate: Tirasemtiv<|>Hypothesis: Tirasemtiv selectively binds to fast skeletal troponin C in aged...\n",
      "Candidate: BGP-15 (O-(3-piperidino-2-hydroxy-1-propyl)nicotinic acid amidoxime)<|>Hypothesis: BGP-15...\n",
      "Candidate: 78-c (CD38 inhibitor)<|>Hypothesis: The small molecule 78-c (N-(4-(4-bromophenyl)thiazol-...\n",
      "Candidate: SRT2104<|>Hypothesis: SRT2104, a selective SIRT1 activator, deacetylates and activates SE...\n",
      "Candidate: Apelin-13 analog (Aib2-Apelin-13)<|>Hypothesis: Aib2-Apelin-13, a stabilized apelin recep...\n",
      "Candidate: Urolithin A<|>Hypothesis: Urolithin A, a gut microbiome-derived metabolite, induces mitop...\n",
      "Candidate: Spermidine<|>Hypothesis: Spermidine supplementation in aged human myotubes enhances autop...\n",
      "Candidate: GKT137831 (Setanaxib)<|>Hypothesis: GKT137831 inhibits NOX4 in aged human myotubes, lower...\n",
      "Candidate: KN-93<|>Hypothesis: KN-93, a selective CaMKII inhibitor, prevents pathological phosphoryl...\n",
      "Candidate: Synthetic DWORF peptide (catalog custom synthesis)<|>Hypothesis: Exogenous DWORF, a micro...\n",
      "Candidate: FKBP12.6-mimetic peptide (Peptide sequence FRLCLARK)<|>Hypothesis: A designed 10-amino-ac...\n",
      "Candidate: DS16570511<|>Hypothesis: DS16570511, a small-molecule MCU activator, enhances mitochondri...\n",
      "Candidate: IA-65 (ORAI1 agonist)<|>Hypothesis: IA-65 enhances ORAI1-mediated SOCE in aged human myot...\n",
      "Candidate: PS Compound 5 (from Luraghi et al., J Med Chem 2022)<|>Hypothesis: PS Compound 5, origina...\n",
      "Candidate: Tautomycetin<|>Hypothesis: Tautomycetin, a selective protein phosphatase 1 (PP1) inhibito...\n",
      "Candidate: ML-9<|>Hypothesis: ML-9, an aminopyridine inhibitor of STIM1 oligomerization, modulates s...\n",
      "Candidate: Rolipram<|>Hypothesis: Rolipram, a PDE4 inhibitor, elevates cAMP in aged myotubes, activa...\n",
      "Candidate: Maxadilan<|>Hypothesis: Maxadilan, a PAC1 receptor agonist peptide, enhances cAMP/PKA sig...\n",
      "Candidate: SLN inhibitor Compound-X (e.g., salvigenin derivative)<|>Hypothesis: Compound-X binds sar...\n",
      "Candidate: AVE-0991<|>Hypothesis: AVE-0991, a non-peptide Mas receptor agonist, activates the ACE2/A...\n",
      "Candidate: Infliximab<|>Hypothesis: Infliximab, an anti-TNF-α monoclonal antibody, neutralizes chron...\n",
      "Candidate: Tocilizumab<|>Hypothesis: Tocilizumab, an anti-IL-6R antibody, blocks IL-6-mediated JAK/S...\n",
      "Candidate: Rosiglitazone<|>Hypothesis: Rosiglitazone, a PPARγ agonist, enhances mitochondrial biogen...\n",
      "Candidate: Elamipretide (SS-31)<|>Hypothesis: Elamipretide, a mitochondria-targeted tetrapeptide, pr...\n",
      "Successfully exported to robin_notebook/sarcopenia_2025-05-14_11-03/therapeutic_candidates_summary.txt\n",
      "\n",
      "Step 4: Detailed investigation and evaluation for candidates...\n",
      "Successfully wrote: therapeutic_candidate_1_cdn1163.txt to: robin_notebook/sarcopenia_2025-05-14_11-03/therapeutic_candidate_detailed_hypotheses/therapeutic_candidate_1_cdn1163.txt\n",
      "Successfully wrote: therapeutic_candidate_2_arm210.txt to: robin_notebook/sarcopenia_2025-05-14_11-03/therapeutic_candidate_detailed_hypotheses/therapeutic_candidate_2_arm210.txt\n",
      "Successfully wrote: therapeutic_candidate_3_s107.txt to: robin_notebook/sarcopenia_2025-05-14_11-03/therapeutic_candidate_detailed_hypotheses/therapeutic_candidate_3_s107.txt\n",
      "Successfully wrote: therapeutic_candidate_4_myricetin.txt to: robin_notebook/sarcopenia_2025-05-14_11-03/therapeutic_candidate_detailed_hypotheses/therapeutic_candidate_4_myricetin.txt\n",
      "Successfully wrote: therapeutic_candidate_5_chloroxine.txt to: robin_notebook/sarcopenia_2025-05-14_11-03/therapeutic_candidate_detailed_hypotheses/therapeutic_candidate_5_chloroxine.txt\n",
      "Successfully wrote: therapeutic_candidate_6_ck.txt to: robin_notebook/sarcopenia_2025-05-14_11-03/therapeutic_candidate_detailed_hypotheses/therapeutic_candidate_6_ck.txt\n",
      "Successfully wrote: therapeutic_candidate_7_tirasemtiv.txt to: robin_notebook/sarcopenia_2025-05-14_11-03/therapeutic_candidate_detailed_hypotheses/therapeutic_candidate_7_tirasemtiv.txt\n",
      "Successfully wrote: therapeutic_candidate_8_bgp.txt to: robin_notebook/sarcopenia_2025-05-14_11-03/therapeutic_candidate_detailed_hypotheses/therapeutic_candidate_8_bgp.txt\n",
      "Successfully wrote: therapeutic_candidate_9_78.txt to: robin_notebook/sarcopenia_2025-05-14_11-03/therapeutic_candidate_detailed_hypotheses/therapeutic_candidate_9_78.txt\n",
      "Successfully wrote: therapeutic_candidate_10_srt2104.txt to: robin_notebook/sarcopenia_2025-05-14_11-03/therapeutic_candidate_detailed_hypotheses/therapeutic_candidate_10_srt2104.txt\n",
      "Successfully wrote: therapeutic_candidate_11_apelin.txt to: robin_notebook/sarcopenia_2025-05-14_11-03/therapeutic_candidate_detailed_hypotheses/therapeutic_candidate_11_apelin.txt\n",
      "Successfully wrote: therapeutic_candidate_12_urolithin.txt to: robin_notebook/sarcopenia_2025-05-14_11-03/therapeutic_candidate_detailed_hypotheses/therapeutic_candidate_12_urolithin.txt\n",
      "Successfully wrote: therapeutic_candidate_13_spermidine.txt to: robin_notebook/sarcopenia_2025-05-14_11-03/therapeutic_candidate_detailed_hypotheses/therapeutic_candidate_13_spermidine.txt\n",
      "Successfully wrote: therapeutic_candidate_14_gkt137831.txt to: robin_notebook/sarcopenia_2025-05-14_11-03/therapeutic_candidate_detailed_hypotheses/therapeutic_candidate_14_gkt137831.txt\n",
      "Successfully wrote: therapeutic_candidate_15_kn.txt to: robin_notebook/sarcopenia_2025-05-14_11-03/therapeutic_candidate_detailed_hypotheses/therapeutic_candidate_15_kn.txt\n",
      "Successfully wrote: therapeutic_candidate_16_synthetic.txt to: robin_notebook/sarcopenia_2025-05-14_11-03/therapeutic_candidate_detailed_hypotheses/therapeutic_candidate_16_synthetic.txt\n",
      "Successfully wrote: therapeutic_candidate_17_fkbp12.txt to: robin_notebook/sarcopenia_2025-05-14_11-03/therapeutic_candidate_detailed_hypotheses/therapeutic_candidate_17_fkbp12.txt\n",
      "Successfully wrote: therapeutic_candidate_18_ds16570511.txt to: robin_notebook/sarcopenia_2025-05-14_11-03/therapeutic_candidate_detailed_hypotheses/therapeutic_candidate_18_ds16570511.txt\n",
      "Successfully wrote: therapeutic_candidate_19_ia.txt to: robin_notebook/sarcopenia_2025-05-14_11-03/therapeutic_candidate_detailed_hypotheses/therapeutic_candidate_19_ia.txt\n",
      "Successfully wrote: therapeutic_candidate_20_ps.txt to: robin_notebook/sarcopenia_2025-05-14_11-03/therapeutic_candidate_detailed_hypotheses/therapeutic_candidate_20_ps.txt\n",
      "Successfully wrote: therapeutic_candidate_21_tautomycetin.txt to: robin_notebook/sarcopenia_2025-05-14_11-03/therapeutic_candidate_detailed_hypotheses/therapeutic_candidate_21_tautomycetin.txt\n",
      "Successfully wrote: therapeutic_candidate_22_ml.txt to: robin_notebook/sarcopenia_2025-05-14_11-03/therapeutic_candidate_detailed_hypotheses/therapeutic_candidate_22_ml.txt\n",
      "Successfully wrote: therapeutic_candidate_23_rolipram.txt to: robin_notebook/sarcopenia_2025-05-14_11-03/therapeutic_candidate_detailed_hypotheses/therapeutic_candidate_23_rolipram.txt\n",
      "Successfully wrote: therapeutic_candidate_24_maxadilan.txt to: robin_notebook/sarcopenia_2025-05-14_11-03/therapeutic_candidate_detailed_hypotheses/therapeutic_candidate_24_maxadilan.txt\n",
      "Successfully wrote: therapeutic_candidate_25_sln.txt to: robin_notebook/sarcopenia_2025-05-14_11-03/therapeutic_candidate_detailed_hypotheses/therapeutic_candidate_25_sln.txt\n",
      "Successfully wrote: therapeutic_candidate_26_ave.txt to: robin_notebook/sarcopenia_2025-05-14_11-03/therapeutic_candidate_detailed_hypotheses/therapeutic_candidate_26_ave.txt\n",
      "Successfully wrote: therapeutic_candidate_27_infliximab.txt to: robin_notebook/sarcopenia_2025-05-14_11-03/therapeutic_candidate_detailed_hypotheses/therapeutic_candidate_27_infliximab.txt\n",
      "Successfully wrote: therapeutic_candidate_28_tocilizumab.txt to: robin_notebook/sarcopenia_2025-05-14_11-03/therapeutic_candidate_detailed_hypotheses/therapeutic_candidate_28_tocilizumab.txt\n",
      "Successfully wrote: therapeutic_candidate_29_rosiglitazone.txt to: robin_notebook/sarcopenia_2025-05-14_11-03/therapeutic_candidate_detailed_hypotheses/therapeutic_candidate_29_rosiglitazone.txt\n",
      "Successfully wrote: therapeutic_candidate_30_elamipretide.txt to: robin_notebook/sarcopenia_2025-05-14_11-03/therapeutic_candidate_detailed_hypotheses/therapeutic_candidate_30_elamipretide.txt\n",
      "\n",
      "Step 5: Ranking the strength of the therapeutic candidates...\n",
      "Processing file: therapeutic_candidate_4_myricetin.txt...\n",
      "Processing file: therapeutic_candidate_25_zln005.txt...\n",
      "  - Could not find text between 'Proposal for' and 'Overview' in therapeutic_candidate_25_zln005.txt\n",
      "Processing file: therapeutic_candidate_11_oleuropein.txt...\n",
      "  - Could not find text between 'Proposal for' and 'Overview' in therapeutic_candidate_11_oleuropein.txt\n",
      "Processing file: therapeutic_candidate_2_istaroxime.txt...\n",
      "  - Could not find text between 'Proposal for' and 'Overview' in therapeutic_candidate_2_istaroxime.txt\n",
      "Processing file: therapeutic_candidate_17_fkbp12.txt...\n",
      "Processing file: therapeutic_candidate_30_elamipretide.txt...\n",
      "Processing file: therapeutic_candidate_29_rosiglitazone.txt...\n",
      "Processing file: therapeutic_candidate_24_srt2104.txt...\n",
      "  - Could not find text between 'Proposal for' and 'Overview' in therapeutic_candidate_24_srt2104.txt\n",
      "Processing file: therapeutic_candidate_5_chloroxine.txt...\n",
      "Processing file: therapeutic_candidate_21_tautomycetin.txt...\n",
      "Processing file: therapeutic_candidate_25_sln.txt...\n",
      "Processing file: therapeutic_candidate_7_cm4620.txt...\n",
      "  - Could not find text between 'Proposal for' and 'Overview' in therapeutic_candidate_7_cm4620.txt\n",
      "Processing file: therapeutic_candidate_6_dantrolene.txt...\n",
      "  - Could not find text between 'Proposal for' and 'Overview' in therapeutic_candidate_6_dantrolene.txt\n",
      "Processing file: therapeutic_candidate_7_tirasemtiv.txt...\n",
      "Processing file: therapeutic_candidate_22_ml.txt...\n",
      "Processing file: therapeutic_candidate_30_sildenafil.txt...\n",
      "  - Could not find text between 'Proposal for' and 'Overview' in therapeutic_candidate_30_sildenafil.txt\n",
      "Processing file: therapeutic_candidate_6_ck.txt...\n",
      "Processing file: therapeutic_candidate_18_rapamycin.txt...\n",
      "  - Could not find text between 'Proposal for' and 'Overview' in therapeutic_candidate_18_rapamycin.txt\n",
      "Processing file: therapeutic_candidate_17_spermidine.txt...\n",
      "  - Could not find text between 'Proposal for' and 'Overview' in therapeutic_candidate_17_spermidine.txt\n",
      "Processing file: therapeutic_candidate_28_salbutamol.txt...\n",
      "  - Could not find text between 'Proposal for' and 'Overview' in therapeutic_candidate_28_salbutamol.txt\n",
      "Processing file: therapeutic_candidate_22_nicotinamide.txt...\n",
      "  - Could not find text between 'Proposal for' and 'Overview' in therapeutic_candidate_22_nicotinamide.txt\n",
      "Processing file: therapeutic_candidate_16_sja.txt...\n",
      "  - Could not find text between 'Proposal for' and 'Overview' in therapeutic_candidate_16_sja.txt\n",
      "Processing file: therapeutic_candidate_20_ps.txt...\n",
      "Processing file: therapeutic_candidate_9_78.txt...\n",
      "Processing file: therapeutic_candidate_15_mdl.txt...\n",
      "  - Could not find text between 'Proposal for' and 'Overview' in therapeutic_candidate_15_mdl.txt\n",
      "Processing file: therapeutic_candidate_10_srt2104.txt...\n",
      "Processing file: therapeutic_candidate_13_spermidine.txt...\n",
      "Processing file: therapeutic_candidate_23_resveratrol.txt...\n",
      "  - Could not find text between 'Proposal for' and 'Overview' in therapeutic_candidate_23_resveratrol.txt\n",
      "Processing file: therapeutic_candidate_19_aicar.txt...\n",
      "  - Could not find text between 'Proposal for' and 'Overview' in therapeutic_candidate_19_aicar.txt\n",
      "Processing file: therapeutic_candidate_24_maxadilan.txt...\n",
      "Processing file: therapeutic_candidate_23_rolipram.txt...\n",
      "Processing file: therapeutic_candidate_9_ml.txt...\n",
      "  - Could not find text between 'Proposal for' and 'Overview' in therapeutic_candidate_9_ml.txt\n",
      "Processing file: therapeutic_candidate_12_urolithin.txt...\n",
      "Processing file: therapeutic_candidate_27_infliximab.txt...\n",
      "Processing file: therapeutic_candidate_8_bgp.txt...\n",
      "Processing file: therapeutic_candidate_3_s107.txt...\n",
      "Processing file: therapeutic_candidate_4_jtv519.txt...\n",
      "  - Could not find text between 'Proposal for' and 'Overview' in therapeutic_candidate_4_jtv519.txt\n",
      "Processing file: therapeutic_candidate_13_elamipretide.txt...\n",
      "  - Could not find text between 'Proposal for' and 'Overview' in therapeutic_candidate_13_elamipretide.txt\n",
      "Processing file: therapeutic_candidate_5_arm210.txt...\n",
      "  - Could not find text between 'Proposal for' and 'Overview' in therapeutic_candidate_5_arm210.txt\n",
      "Processing file: therapeutic_candidate_21_nicotinamide.txt...\n",
      "  - Could not find text between 'Proposal for' and 'Overview' in therapeutic_candidate_21_nicotinamide.txt\n",
      "Processing file: therapeutic_candidate_16_synthetic.txt...\n",
      "Processing file: therapeutic_candidate_14_mitoq.txt...\n",
      "  - Could not find text between 'Proposal for' and 'Overview' in therapeutic_candidate_14_mitoq.txt\n",
      "Processing file: therapeutic_candidate_11_apelin.txt...\n",
      "Processing file: therapeutic_candidate_10_synta.txt...\n",
      "  - Could not find text between 'Proposal for' and 'Overview' in therapeutic_candidate_10_synta.txt\n",
      "Processing file: therapeutic_candidate_19_ia.txt...\n",
      "Processing file: therapeutic_candidate_20_metformin.txt...\n",
      "  - Could not find text between 'Proposal for' and 'Overview' in therapeutic_candidate_20_metformin.txt\n",
      "Processing file: therapeutic_candidate_29_tadalafil.txt...\n",
      "  - Could not find text between 'Proposal for' and 'Overview' in therapeutic_candidate_29_tadalafil.txt\n",
      "Processing file: therapeutic_candidate_26_bimagrumab.txt...\n",
      "  - Could not find text between 'Proposal for' and 'Overview' in therapeutic_candidate_26_bimagrumab.txt\n",
      "Processing file: therapeutic_candidate_18_ds16570511.txt...\n",
      "Processing file: therapeutic_candidate_8_btp2.txt...\n",
      "  - Could not find text between 'Proposal for' and 'Overview' in therapeutic_candidate_8_btp2.txt\n",
      "Processing file: therapeutic_candidate_14_gkt137831.txt...\n",
      "Processing file: therapeutic_candidate_1_cdn1163.txt...\n",
      "Processing file: therapeutic_candidate_26_ave.txt...\n",
      "Processing file: therapeutic_candidate_15_kn.txt...\n",
      "Processing file: therapeutic_candidate_2_arm210.txt...\n",
      "Processing file: therapeutic_candidate_28_tocilizumab.txt...\n",
      "Processing file: therapeutic_candidate_27_formoterol.txt...\n",
      "  - Could not find text between 'Proposal for' and 'Overview' in therapeutic_candidate_27_formoterol.txt\n",
      "Starting comparisons for 300 pairs with max concurrency 100...\n"
     ]
    },
    {
     "name": "stderr",
     "output_type": "stream",
     "text": [
      "Comparing Hypotheses:  12%|█▏        | 37/300 [00:10<00:17, 15.01it/s]"
     ]
    },
    {
     "name": "stdout",
     "output_type": "stream",
     "text": [
      "\n",
      "JSON Decode Error for pair (3, 12) (Index 183): Invalid control character at: line 2 column 779 (char 780)\n",
      "Raw Content: ```json\n",
      "{\n",
      "  \"Analysis\": \"Candidate 1 (Istaroxime) is a dual‐action inotrope that both inhibits Na+/K+-ATPase and enhances SERCA2a-mediated Ca2+ uptake into the sarcoplasmic reticulum. While its primary development has been in heart failure, the mechanism of improving calcium handling and contractile function in muscle cells has theoretical relevance to counteracting age-related declines in skeletal muscle performance. No direct preclinical data in sarcopenia exist, but extensive in vivo safety and PK data from clinical heart failure studies indicate a manageable risk profile at therapeutic doses and established routes of administration. Key risks include arrhythmias at supratherapeutic levels and off-target cardiac effects, but these are well characterized and can be monitored.\n",
      "\n",
      "Candidate 2 (Dantrolene) is a ryanodine receptor blocker that reduces Ca2+ release from the sarcoplasmic reticulum, effectively producing muscle relaxation. Its approved use in malignant hyperthermia and spasticity rests on its muscle-weakening properties, which run counter to the goals of improving strength and mass in sarcopenia. Chronic use carries known risks of hepatotoxicity, sedation, and profound muscle weakness. There is no supportive evidence that blunting Ca2+ release can restore or enhance muscle mass or function in aged skeletal muscle; on the contrary, it may exacerbate weakness. Preclinical or clinical data for sarcopenia are absent, and the MoA is mechanistically misaligned with the pathology. The safety and tolerability profile is poor for a chronic therapy aimed at increasing muscle strength.\",\n",
      "\n",
      "  \"Reasoning\": \"Between the two, Istaroxime offers a more direct approach to enhancing skeletal muscle contractility via SERCA activation and improved calcium recycling, with an existing clinical safety database and defined PK/PD parameters. Although neither candidate has been explicitly tested in sarcopenia models, Istaroxime’s mechanism addresses a core dysfunction in aged muscle—impaired calcium handling—and risks can be managed based on heart failure experience. Dantrolene, by contrast, induces muscle relaxation and carries hepatotoxicity and sedation liabilities, fundamentally opposing the therapeutic goal of reversing muscle loss and weakness. Therefore, Istaroxime (ID: 3) is superior for a translational program in sarcopenia.\",\n",
      "\n",
      "  \"Winner\": \"(Istaroxime, 3)\",\n",
      "  \"Loser\": \"(Dantrolene, 12)\"\n",
      "}\n",
      "```\n"
     ]
    },
    {
     "name": "stderr",
     "output_type": "stream",
     "text": [
      "Comparing Hypotheses:  78%|███████▊  | 233/300 [00:34<00:05, 12.24it/s]"
     ]
    },
    {
     "name": "stdout",
     "output_type": "stream",
     "text": [
      "\n",
      "JSON Decode Error for pair (36, 39) (Index 23): Invalid control character at: line 1 column 1021 (char 1020)\n",
      "Raw Content: {\"Analysis\":\"Candidate 1: JTV519 (K201) is a ryanodine receptor stabilizer that prevents pathological Ca2+ leak from the sarcoplasmic reticulum. Preclinical studies in rodent models of heart failure and ageing have shown improved excitation–contraction coupling and reduced muscle fatigue, suggesting relevance to sarcopenia. However, most data come from cardiac or cardiac‐skeletal cross‐talk models, with limited direct evidence in aged skeletal muscle or functional sarcopenia endpoints. Mechanistically, the MoA is clear and directly targets a core pathology (Ca2+ dysregulation) in muscle fibres. But JTV519 has known off‐target effects on RyR2 in cardiac tissue, raising safety concerns (arrhythmias, hypotension) and uncertain muscle‐specific PK/PD. Its drug‐delivery feasibility for skeletal muscle (bioavailability, dosing) and human safety profile remain poorly defined. No clinical human data exist for sarcopenia, and failures in other muscle‐related indications have not been reported but remain unexplored.\n",
      "\n",
      "Candidate 2: Nicotinamide riboside (NR) is an NAD+ precursor with extensive preclinical and emerging clinical data. In aged mice, NR supplementation restores NAD+ levels, enhances mitochondrial biogenesis, improves muscle oxidative capacity, and attenuates age‐related muscle decline. Phase I/II human trials demonstrate safety, tolerability, oral bioavailability, and NAD+ boosting in blood and tissues. While the mechanism (enhancing sirtuin activity, mitochondrial health) is more indirect than targeting excitation–contraction coupling, it addresses a central upstream driver of sarcopenia—mitochondrial dysfunction and impaired cellular energy metabolism. NR has a well‐characterized safety profile, minimal off‐target toxicity, and a feasible oral dosing regimen. Direct evidence in human muscle function is emerging, with early signals of improved performance in aged cohorts. This repurposed nutraceutical approach carries lower translational risk.\",\"Reasoning\":\"While JTV519 offers a more direct MoA against Ca2+ leak, its safety profile, lack of human data in skeletal muscle, and unclear PK/PD pose high translational risk. In contrast, nicotinamide riboside combines strong, directly relevant preclinical evidence in aged muscle models, a clear upstream mechanism in mitochondrial health, and an established safety and bioavailability profile in human trials. These factors collectively confer a higher probability of successful experimental outcomes and eventual clinical translation in sarcopenia.\",\"Winner\":\"(Nicotinamide riboside, 39)\",\"Loser\":\"(JTV519, 36)\"}\n"
     ]
    },
    {
     "name": "stderr",
     "output_type": "stream",
     "text": [
      "Comparing Hypotheses: 100%|██████████| 300/300 [00:56<00:00,  5.28it/s]"
     ]
    },
    {
     "name": "stdout",
     "output_type": "stream",
     "text": [
      "\n",
      "Finished processing pairs.\n",
      " - Successful comparisons: 298\n",
      " - Errors encountered: 2\n",
      "Successfully saved 298 results to robin_notebook/sarcopenia_2025-05-14_11-03/therapeutic_candidate_ranking_results.csv\n",
      "Therapeutic candidate generation finished! Saved final rankings to robin_notebook/sarcopenia_2025-05-14_11-03/ranked_therapeutic_candidates.csv\n"
     ]
    },
    {
     "name": "stderr",
     "output_type": "stream",
     "text": [
      "\n"
     ]
    }
   ],
   "source": [
    "await therapeutic_candidates(\n",
    "    candidate_generation_goal=candidate_generation_goal, configuration=config\n",
    ")"
   ]
  }
 ],
 "metadata": {
  "kernelspec": {
   "display_name": "poplar",
   "language": "python",
   "name": "python3"
  },
  "language_info": {
   "codemirror_mode": {
    "name": "ipython",
    "version": 3
   },
   "file_extension": ".py",
   "mimetype": "text/x-python",
   "name": "python",
   "nbconvert_exporter": "python",
   "pygments_lexer": "ipython3"
  }
 },
 "nbformat": 4,
 "nbformat_minor": 2
}
