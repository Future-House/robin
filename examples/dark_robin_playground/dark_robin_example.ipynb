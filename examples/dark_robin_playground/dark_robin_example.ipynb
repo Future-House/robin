{
 "cells": [
  {
   "cell_type": "code",
   "execution_count": 13,
   "metadata": {},
   "outputs": [],
   "source": [
    "import logging\n",
    "from datetime import datetime\n",
    "import os\n",
    "\n",
    "from robin.mesh_hypotheses import (\n",
    "    mesh_hypotheses_lit_review,\n",
    "    generate_hypotheses_from_mesh,\n",
    "    mesh_hypotheses_ranking,\n",
    ")\n",
    "\n",
    "from robin.configuration import RobinConfiguration"
   ]
  },
  {
   "cell_type": "code",
   "execution_count": 14,
   "metadata": {},
   "outputs": [],
   "source": [
    "disease_name=\"celiac disease\" \n",
    "\n",
    "def get_timestamp_suffix():\n",
    "    return datetime.now().strftime(\"%Y%m%d_%H%M%S\")\n",
    "\n",
    "save_path = f\"dark_robin_results/{disease_name.replace(' ', '_')}_{get_timestamp_suffix()}\"\n",
    "os.makedirs(save_path, exist_ok=True)"
   ]
  },
  {
   "cell_type": "code",
   "execution_count": 15,
   "metadata": {},
   "outputs": [],
   "source": [
    "config = RobinConfiguration(\n",
    "    disease_name=disease_name,\n",
    "    llm_name = \"claude-sonnet-4\", # choose between claude-sonnet-4, claude-opus-4, gemini-2.5-flash, or o4-mini\n",
    "    num_mesh_hypotheses=5,\n",
    "    num_queries=2,\n",
    "    num_assays=2,\n",
    "    num_candidates=2,\n",
    "    )\n",
    "\n",
    "\n",
    "logger = logging.getLogger(\"robin\")\n",
    "logger.setLevel(logging.INFO)"
   ]
  },
  {
   "cell_type": "code",
   "execution_count": null,
   "metadata": {},
   "outputs": [],
   "source": [
    "from copy import deepcopy\n",
    "import json\n",
    "\n",
    "#we dont want to save the API keys in the config file\n",
    "config_dict = deepcopy(config.model_dump())\n",
    "for model in config_dict.get(\"llm_config\", {}).get(\"model_list\", []):\n",
    "    if \"api_key\" in model.get(\"litellm_params\", {}):\n",
    "        model[\"litellm_params\"][\"api_key\"] = None\n",
    "\n",
    "with open(f\"{save_path}/config.json\", \"w\") as f:\n",
    "    json.dump(config_dict, f, indent=2)"
   ]
  },
  {
   "cell_type": "code",
   "execution_count": 4,
   "metadata": {},
   "outputs": [
    {
     "name": "stdout",
     "output_type": "stream",
     "text": [
      "2025-06-13 16:42:50,122 - robin.mesh_hypotheses - INFO - \n",
      "\n",
      "Step 1: Generating hypotheses from MeSH terms...\n",
      "2025-06-13 16:43:10,881 - robin.mesh_hypotheses - INFO - Hypotheses Generated from MeSH Terms:\n",
      "2025-06-13 16:43:10,882 - robin.mesh_hypotheses - INFO - 1. <**Hypothesis**: Viral infections trigger epigenetic modifications in intestinal epithelial cells, altering tight junction protein expression and creating a permeable barrier that facilitates gluten peptide translocation and immune activation in genetically susceptible individuals.\n",
      "\n",
      "**Rationale**: Recent evidence suggests viral infections can induce lasting epigenetic changes. Rotavirus and other enteric viruses are associated with celiac disease onset, potentially through chromatin remodeling affecting barrier function genes.\n",
      "\n",
      "**Therapeutic Implications**: Epigenetic modulators like HDAC inhibitors or DNA methyltransferase inhibitors could restore normal tight junction expression, reducing intestinal permeability and preventing gluten-induced inflammation.\n",
      "\n",
      "**MeSH terms**: Celiac Disease/virology, Epigenesis Genetic, Tight Junctions, Intestinal Mucosa/pathology>\n",
      "\n",
      "<**Hypothesis**: Parasitic helminths modulate regulatory T-cell populations through metabolic reprogramming, and their absence in developed countries contributes to loss of immune tolerance to dietary antigens including gluten proteins.\n",
      "\n",
      "**Rationale**: The hygiene hypothesis suggests reduced parasitic exposure correlates with autoimmune disease prevalence. Helminths induce Treg expansion through metabolic shifts favoring oxidative phosphorylation over glycolysis.\n",
      "\n",
      "**Therapeutic Implications**: Controlled helminth therapy or metabolic modulators that mimic helminth-induced Treg metabolic profiles could restore immune tolerance and prevent or treat celiac disease in susceptible populations.\n",
      "\n",
      "**MeSH terms**: Celiac Disease/parasitology, T-Lymphocytes Regulatory, Cell Metabolism, Immune Tolerance>\n",
      "\n",
      "<**Hypothesis**: Dysregulated tryptophan metabolism via the kynurenine pathway creates an immunosuppressive microenvironment that paradoxically promotes Th17 cell differentiation and IL-17-mediated tissue damage in celiac disease patients.\n",
      "\n",
      "**Rationale**: Tryptophan catabolism through IDO1/TDO2 produces kynurenine metabolites. While generally immunosuppressive, certain kynurenines can promote Th17 responses under inflammatory conditions, explaining celiac pathology.\n",
      "\n",
      "**Therapeutic Implications**: Selective inhibition of specific kynurenine pathway enzymes or kynurenine receptor antagonists could rebalance immune responses, reducing Th17-mediated inflammation while preserving beneficial immunoregulation.\n",
      "\n",
      "**MeSH terms**: Celiac Disease/metabolism, Tryptophan, Kynurenine, Th17 Cells, Interleukin-17>\n",
      "\n",
      "<**Hypothesis**: Congenital variations in intestinal stem cell niche architecture predispose to aberrant crypt development, creating microenvironments where gluten-reactive T cells preferentially expand and maintain pathogenic memory responses.\n",
      "\n",
      "**Rationale**: Intestinal stem cell niches show individual variation in structure and cellular composition. Altered niche architecture could create specialized microenvironments that favor pathogenic T cell persistence and reactivation.\n",
      "\n",
      "**Therapeutic Implications**: Stem cell niche modulators or engineered probiotics that reshape crypt architecture could eliminate pathogenic T cell reservoirs, potentially providing long-term remission even with gluten exposure.\n",
      "\n",
      "**MeSH terms**: Celiac Disease/congenital, Intestinal Mucosa/embryology, Stem Cell Niche, T-Lymphocytes/pathology>\n",
      "\n",
      "<**Hypothesis**: Microbial production of tissue transglutaminase-modifying enzymes alters autoantigen structure and immunogenicity, with specific bacterial strains either promoting or protecting against celiac disease through post-translational modifications.\n",
      "\n",
      "**Rationale**: Gut microbiota produce diverse enzymes that can modify host proteins. Bacterial enzymes could alter tissue transglutaminase structure, affecting its recognition by autoantibodies and T cells in celiac disease.\n",
      "\n",
      "**Therapeutic Implications**: Engineered probiotic bacteria expressing protective transglutaminase-modifying enzymes could reduce autoantigen immunogenicity, while targeting pathogenic bacterial enzymes could prevent disease-promoting modifications.\n",
      "\n",
      "**MeSH terms**: Celiac Disease/microbiology, Transglutaminases, Protein Processing Post-Translational, Gastrointestinal Microbiome>\n"
     ]
    }
   ],
   "source": [
    "hypotheses = await generate_hypotheses_from_mesh(config)\n",
    "\n",
    "with open(f\"{save_path}/hypotheses.txt\", 'w') as f:\n",
    "    for hypothesis in hypotheses:\n",
    "        f.write(f\"{hypothesis}\\n____________________________\\n\")"
   ]
  },
  {
   "cell_type": "code",
   "execution_count": 5,
   "metadata": {},
   "outputs": [
    {
     "name": "stdout",
     "output_type": "stream",
     "text": [
      "2025-06-13 16:43:10,896 - robin.mesh_hypotheses - INFO - \n",
      "\n",
      "Step 2: Conducting literature search with FutureHouse platform...\n",
      "2025-06-13 16:43:11,464 - robin.utils - INFO - Starting literature search for 5 queries using job-futurehouse-chimp.\n",
      "2025-06-13 16:55:39,333 - robin.utils - INFO - Finished processing 5 tasks.\n",
      "2025-06-13 16:55:39,338 - robin.utils - INFO - Successfully wrote: query_1_given.txt to: robin_output/celiac_disease_2025-06-13_16-42-49/mesh_hypotheses_literature_reviews/query_1_given.txt\n",
      "2025-06-13 16:55:39,339 - robin.utils - INFO - Successfully wrote: query_2_given.txt to: robin_output/celiac_disease_2025-06-13_16-42-49/mesh_hypotheses_literature_reviews/query_2_given.txt\n",
      "2025-06-13 16:55:39,340 - robin.utils - INFO - Successfully wrote: query_3_given.txt to: robin_output/celiac_disease_2025-06-13_16-42-49/mesh_hypotheses_literature_reviews/query_3_given.txt\n",
      "2025-06-13 16:55:39,341 - robin.utils - INFO - Successfully wrote: query_4_given.txt to: robin_output/celiac_disease_2025-06-13_16-42-49/mesh_hypotheses_literature_reviews/query_4_given.txt\n",
      "2025-06-13 16:55:39,342 - robin.utils - INFO - Successfully wrote: query_5_given.txt to: robin_output/celiac_disease_2025-06-13_16-42-49/mesh_hypotheses_literature_reviews/query_5_given.txt\n"
     ]
    }
   ],
   "source": [
    "chimp_result = await mesh_hypotheses_lit_review(config, hypotheses)\n",
    "\n",
    "with open(f'{save_path}/chimp_result.txt', 'w') as f:\n",
    "    f.write(chimp_result)"
   ]
  },
  {
   "cell_type": "code",
   "execution_count": 6,
   "metadata": {},
   "outputs": [
    {
     "name": "stdout",
     "output_type": "stream",
     "text": [
      "2025-06-13 16:55:39,347 - robin.mesh_hypotheses - INFO - \n",
      "\n",
      "Step 3: Choosing the best hypotheses based on literature review...\n"
     ]
    }
   ],
   "source": [
    "best_hypotheses = await mesh_hypotheses_ranking(config, chimp_result)\n",
    "\n",
    "with open(f'{save_path}/best_hypotheses.txt', 'w') as f:\n",
    "    f.write(best_hypotheses)"
   ]
  }
 ],
 "metadata": {
  "kernelspec": {
   "display_name": "robin",
   "language": "python",
   "name": "python3"
  },
  "language_info": {
   "codemirror_mode": {
    "name": "ipython",
    "version": 3
   },
   "file_extension": ".py",
   "mimetype": "text/x-python",
   "name": "python",
   "nbconvert_exporter": "python",
   "pygments_lexer": "ipython3",
   "version": "3.13.3"
  }
 },
 "nbformat": 4,
 "nbformat_minor": 2
}
