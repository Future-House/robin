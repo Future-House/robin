{
 "cells": [
  {
   "cell_type": "markdown",
   "metadata": {},
   "source": [
    "# Robin: Hypothesis Generation for Drug Repurposing"
   ]
  },
  {
   "cell_type": "code",
   "execution_count": null,
   "metadata": {},
   "outputs": [],
   "source": [
    "import logging\n",
    "\n",
    "from robin.assays import experimental_assay\n",
    "from robin.candidates import therapeutic_candidates\n",
    "from robin.configuration import RobinConfiguration"
   ]
  },
  {
   "cell_type": "markdown",
   "metadata": {},
   "source": [
    "## Robin Set Up"
   ]
  },
  {
   "cell_type": "code",
   "execution_count": null,
   "metadata": {},
   "outputs": [],
   "source": [
    "config = RobinConfiguration(\n",
    "    disease_name=\"Polycystic Ovary Syndrome\",\n",
    "    num_assays=10,\n",
    "    num_candidates=30,\n",
    "    num_queries=5,\n",
    ")\n",
    "\n",
    "logger = logging.getLogger(\"robin\")\n",
    "logger.setLevel(logging.INFO)"
   ]
  },
  {
   "cell_type": "markdown",
   "metadata": {},
   "source": [
    "# Initial therapeutic hypothesis generation"
   ]
  },
  {
   "cell_type": "markdown",
   "metadata": {},
   "source": [
    "### Experimental assay generation"
   ]
  },
  {
   "cell_type": "code",
   "execution_count": null,
   "metadata": {},
   "outputs": [
    {
     "name": "stdout",
     "output_type": "stream",
     "text": [
      "Starting selection of a relevant experimental assay.\n",
      "————————————————————————————————————————————————————\n",
      "\n",
      "Step 1: Formulating relevant queries for literature search...\n",
      "Generated Queries:\n",
      "1. Comprehensive review of intracellular signaling pathways dysregulated in PCOS ovarian granulosa and theca cells including insulin receptor, PI3K/Akt, MAPK, AMPK, androgen receptor cross-talk, and downstream transcription factors relevant for cell culture assay design\n",
      "2. Mechanistic studies on hyperandrogenism-mediated effects on human ovarian follicular cells: molecular basis of steroidogenesis enzyme regulation, LH/FSH receptor signaling, CYP17A1 and CYP19A1 transcriptional networks, androgen receptor coactivators, and potential in vitro phenotypic readout parameters\n",
      "3. Characterization of insulin resistance and metabolic dysfunction in PCOS cell models: glucose transporter expression, insulin receptor substrate phosphorylation, mitochondrial biogenesis and respiration assays, reactive oxygen species generation, lipid droplet accumulation, and candidate biochemical endpoints for high-content screening\n",
      "4. Inflammatory and immune dysregulation in PCOS pathogenesis: pro-inflammatory cytokine profiles, NF-κB and JAK/STAT pathway activation in ovarian stromal and adipose-derived cells, toll-like receptor expression, and cell-based assay methodologies to quantify inflammatory signaling and cytokine secretion dynamics\n",
      "5. Design principles and validation strategies for advanced cell culture assays targeting PCOS therapeutic interventions: three-dimensional ovarian follicle organoids, microfluidic co-culture systems with theca and granulosa cells, multiplexed reporter gene constructs, quantitative hormone release measurements, and metrics for assay robustness and reproducibility\n",
      "\n",
      "Step 2: Conducting literature search with FutureHouse platform...\n",
      "Successfully wrote: query_1_comprehensive.txt to: robin_notebook/Polycystic_Ovary_Syndrome_2025-05-15_13-27/experimental_assay_literature_reviews/query_1_comprehensive.txt\n",
      "Successfully wrote: query_2_mechanistic.txt to: robin_notebook/Polycystic_Ovary_Syndrome_2025-05-15_13-27/experimental_assay_literature_reviews/query_2_mechanistic.txt\n",
      "Successfully wrote: query_3_characterization.txt to: robin_notebook/Polycystic_Ovary_Syndrome_2025-05-15_13-27/experimental_assay_literature_reviews/query_3_characterization.txt\n",
      "Successfully wrote: query_4_inflammatory.txt to: robin_notebook/Polycystic_Ovary_Syndrome_2025-05-15_13-27/experimental_assay_literature_reviews/query_4_inflammatory.txt\n",
      "Successfully wrote: query_5_design.txt to: robin_notebook/Polycystic_Ovary_Syndrome_2025-05-15_13-27/experimental_assay_literature_reviews/query_5_design.txt\n",
      "\n",
      "Step 3: Generating ideas for relevant experimental assays...\n",
      "Strategy: Insulin Sensitization Assay<|>Reasoning: Quantify insulin-stimulated glucose uptake in hum...\n",
      "Strategy: Akt Signaling Reporter<|>Reasoning: Employ a luciferase reporter under FOXO-responsive ele...\n",
      "Strategy: Energy Sensor Activation Screen<|>Reasoning: Measure AMPK phosphorylation in theca cells v...\n",
      "Strategy: Androgen Receptor Activity Assay<|>Reasoning: Use an androgen-response element (ARE) lucif...\n",
      "Strategy: Aromatase Activity Assay<|>Reasoning: Apply a fluorescent substrate assay to measure CYP19...\n",
      "Strategy: Steroid Secretion Profiling<|>Reasoning: Perform multiplex ELISA on culture supernatants o...\n",
      "Strategy: Lipid Accumulation Assay<|>Reasoning: Use Nile Red staining and high-content imaging to qu...\n",
      "Strategy: Mitochondrial Respiration Assay<|>Reasoning: Measure oxygen consumption rate (OCR) and ext...\n",
      "Strategy: Inflammation Reporter Assay<|>Reasoning: Deploy an NF-κB-driven luciferase reporter in ova...\n",
      "Strategy: Cytokine Secretion Profiling<|>Reasoning: Use multiplex bead-based immunoassays (e.g., Lum...\n",
      "Successfully exported to robin_notebook/Polycystic_Ovary_Syndrome_2025-05-15_13-27/experimental_assay_summary.txt\n",
      "\n",
      "Step 4: Detailed investigation and evaluation for each assay...\n",
      "Successfully wrote: assay_hypothesis_1_insulin.txt to: robin_notebook/Polycystic_Ovary_Syndrome_2025-05-15_13-27/experimental_assay_detailed_hypotheses/assay_hypothesis_1_insulin.txt\n",
      "Successfully wrote: assay_hypothesis_2_akt.txt to: robin_notebook/Polycystic_Ovary_Syndrome_2025-05-15_13-27/experimental_assay_detailed_hypotheses/assay_hypothesis_2_akt.txt\n",
      "Successfully wrote: assay_hypothesis_3_energy.txt to: robin_notebook/Polycystic_Ovary_Syndrome_2025-05-15_13-27/experimental_assay_detailed_hypotheses/assay_hypothesis_3_energy.txt\n",
      "Successfully wrote: assay_hypothesis_4_androgen.txt to: robin_notebook/Polycystic_Ovary_Syndrome_2025-05-15_13-27/experimental_assay_detailed_hypotheses/assay_hypothesis_4_androgen.txt\n",
      "Successfully wrote: assay_hypothesis_5_aromatase.txt to: robin_notebook/Polycystic_Ovary_Syndrome_2025-05-15_13-27/experimental_assay_detailed_hypotheses/assay_hypothesis_5_aromatase.txt\n",
      "Successfully wrote: assay_hypothesis_6_steroid.txt to: robin_notebook/Polycystic_Ovary_Syndrome_2025-05-15_13-27/experimental_assay_detailed_hypotheses/assay_hypothesis_6_steroid.txt\n",
      "Successfully wrote: assay_hypothesis_7_lipid.txt to: robin_notebook/Polycystic_Ovary_Syndrome_2025-05-15_13-27/experimental_assay_detailed_hypotheses/assay_hypothesis_7_lipid.txt\n",
      "Successfully wrote: assay_hypothesis_8_mitochondrial.txt to: robin_notebook/Polycystic_Ovary_Syndrome_2025-05-15_13-27/experimental_assay_detailed_hypotheses/assay_hypothesis_8_mitochondrial.txt\n",
      "Successfully wrote: assay_hypothesis_9_inflammation.txt to: robin_notebook/Polycystic_Ovary_Syndrome_2025-05-15_13-27/experimental_assay_detailed_hypotheses/assay_hypothesis_9_inflammation.txt\n",
      "Successfully wrote: assay_hypothesis_10_cytokine.txt to: robin_notebook/Polycystic_Ovary_Syndrome_2025-05-15_13-27/experimental_assay_detailed_hypotheses/assay_hypothesis_10_cytokine.txt\n",
      "\n",
      "Step 5: Selecting the top experimental assay...\n",
      "Starting comparisons for 45 pairs with max concurrency 100...\n"
     ]
    },
    {
     "name": "stderr",
     "output_type": "stream",
     "text": [
      "Comparing Hypotheses: 100%|██████████| 45/45 [00:19<00:00,  2.35it/s]\n"
     ]
    },
    {
     "name": "stdout",
     "output_type": "stream",
     "text": [
      "\n",
      "Finished processing pairs.\n",
      " - Successful comparisons: 45\n",
      " - Errors encountered: 0\n",
      "Successfully saved 45 results to robin_notebook/Polycystic_Ovary_Syndrome_2025-05-15_13-27/experimental_assay_ranking_results.csv\n",
      "Experimental Assay Selected: Insulin Sensitization Assay\n",
      "Candidate Generation Goal: Utilize the Insulin Sensitization Assay to screen a targeted small-molecule library for compounds that significantly enhance insulin-stimulated glucose uptake and signaling in PCOS-relevant ovarian cell models.\n"
     ]
    }
   ],
   "source": [
    "candidate_generation_goal = await experimental_assay(configuration=config)"
   ]
  },
  {
   "cell_type": "markdown",
   "metadata": {},
   "source": [
    "### Therapeutic candidate generation"
   ]
  },
  {
   "cell_type": "code",
   "execution_count": null,
   "metadata": {},
   "outputs": [
    {
     "name": "stdout",
     "output_type": "stream",
     "text": [
      "Starting generation of 30 therapeutic candidates.\n",
      "———————————————————————————————————————————————————————————————\n",
      "\n",
      "Step 1: Formulating relevant queries for literature search...\n",
      "Generated Queries:\n",
      "1. Studies reporting the use of insulin sensitizing small molecules in PCOS-derived granulosa or theca cell insulin uptake and signaling assays, including target validation data, mechanistic specificity, pharmacodynamics, and ADME/safety profiles \n",
      "2.  High throughput screening of targeted small molecule libraries for modulators of insulin receptor signaling in PCOS-relevant ovarian cell models: reporting compound potency, target engagement assays, insulin-stimulated glucose uptake enhancement, pharmacokinetics, and safety data \n",
      "3.  Evidence of PPARγ agonists or novel insulin sensitizers enhancing insulin-stimulated glucose uptake and PI3K-Akt signaling in patient-derived PCOS ovarian granulosa cells, including mechanistic confirmation and in vivo pharmacodynamics studies with ADME characterization \n",
      "4.  Preclinical and clinical efficacy of small-molecule modulators of insulin signaling (e.g., IRS-1, PI3K, Akt activators) in ameliorating insulin resistance in PCOS animal models and primary human ovarian cell cultures, with ADME and toxicity assessments \n",
      "5.  Studies on structure-activity relationships and lead optimization of small-molecule insulin sensitizers with specificity for ovarian insulin signaling pathways in PCOS, including pharmacokinetic parameters and safety profiles for translational screening and high-content insulin uptake assays \n",
      "6.  Comprehensive analyses of insulin signaling pathway dysregulation in PCOS ovarian tissues: IRS-1 serine phosphorylation, PI3K-Akt pathway attenuation, GLUT4 translocation deficiency, including molecular mechanisms, genetic polymorphisms, and functional consequences in granulosa cells \n",
      "7.  Role of inflammatory cytokines, oxidative stress, and hyperandrogenism in disrupting insulin-mediated glucose uptake and downstream signaling in granulosa and theca cells of PCOS patients: mechanistic studies identifying novel modulators of insulin sensitization \n",
      "8.  Genetic and functional studies linking androgen receptor signaling alterations and adipokine imbalances with insulin resistance in PCOS ovaries, focusing on molecular mechanisms driving impaired glucose uptake and signaling in ovarian cell subpopulations \n",
      "9.  Mechanistic insights into the crosstalk between cellular energy sensors (AMPK, mTOR, SIRT1) and insulin receptor signaling in PCOS ovarian cell models: implications for targeted activation of insulin sensitization pathways and evidence of pathway-specific pharmacological modulation \n",
      "10.  Longitudinal clinical and preclinical evidence correlating ovarian insulin resistance biomarkers with PCOS severity, reproductive outcomes, and metabolic profiles: identification of predictive biomarkers and molecular targets for rational insulin sensitizer development\n",
      "\n",
      "Step 2: Conducting literature search with FutureHouse platform...\n",
      "Successfully wrote: query_1_studies.txt to: robin_notebook/Polycystic_Ovary_Syndrome_2025-05-15_13-27/therapeutic_candidate_literature_reviews/query_1_studies.txt\n",
      "Successfully wrote: query_2_high.txt to: robin_notebook/Polycystic_Ovary_Syndrome_2025-05-15_13-27/therapeutic_candidate_literature_reviews/query_2_high.txt\n",
      "Successfully wrote: query_3_evidence.txt to: robin_notebook/Polycystic_Ovary_Syndrome_2025-05-15_13-27/therapeutic_candidate_literature_reviews/query_3_evidence.txt\n",
      "Successfully wrote: query_4_preclinical.txt to: robin_notebook/Polycystic_Ovary_Syndrome_2025-05-15_13-27/therapeutic_candidate_literature_reviews/query_4_preclinical.txt\n",
      "Successfully wrote: query_5_studies.txt to: robin_notebook/Polycystic_Ovary_Syndrome_2025-05-15_13-27/therapeutic_candidate_literature_reviews/query_5_studies.txt\n",
      "Successfully wrote: query_6_comprehensive.txt to: robin_notebook/Polycystic_Ovary_Syndrome_2025-05-15_13-27/therapeutic_candidate_literature_reviews/query_6_comprehensive.txt\n",
      "Successfully wrote: query_7_role.txt to: robin_notebook/Polycystic_Ovary_Syndrome_2025-05-15_13-27/therapeutic_candidate_literature_reviews/query_7_role.txt\n",
      "Successfully wrote: query_8_genetic.txt to: robin_notebook/Polycystic_Ovary_Syndrome_2025-05-15_13-27/therapeutic_candidate_literature_reviews/query_8_genetic.txt\n",
      "Successfully wrote: query_9_mechanistic.txt to: robin_notebook/Polycystic_Ovary_Syndrome_2025-05-15_13-27/therapeutic_candidate_literature_reviews/query_9_mechanistic.txt\n",
      "Successfully wrote: query_10_longitudinal.txt to: robin_notebook/Polycystic_Ovary_Syndrome_2025-05-15_13-27/therapeutic_candidate_literature_reviews/query_10_longitudinal.txt\n",
      "\n",
      "Step 3: Generating 30 ideas for therapeutic candidates...\n"
     ]
    },
    {
     "name": "stderr",
     "output_type": "stream",
     "text": [
      "Skipping malformed block not starting with <CANDIDATE START>: <CANDIDATESTART>\n",
      "CANDIDATE: Fasiglifam (TAK-875; MedChemExpress catalog #HY-103830)\n",
      "HYPOTHESIS: Fasi...\n"
     ]
    },
    {
     "name": "stdout",
     "output_type": "stream",
     "text": [
      "\n",
      "Successfully parsed 29 candidate ideas.\n",
      "Candidate: A-769662 (Sigma-Aldrich catalog #SML0035)<|>Hypothesis: Direct allosteric activation of A...\n",
      "Candidate: SRT1720 (Cayman Chemical catalog #10009164)<|>Hypothesis: SRT1720-mediated activation of ...\n",
      "Candidate: Everolimus (Novartis; FDA-approved mTOR inhibitor)<|>Hypothesis: Everolimus will inhibit ...\n",
      "Candidate: Trodusquemine (MSI-1436; Tocris Bioscience catalog #5993)<|>Hypothesis: Trodusquemine wil...\n",
      "Candidate: AdipoRon (Enzo Life Sciences catalog #BML-SA298)<|>Hypothesis: Activation of adiponectin ...\n",
      "Candidate: SC79 (Sigma-Aldrich catalog #S7944)<|>Hypothesis: SC79 will allosterically activate Akt i...\n",
      "Candidate: INT131 (Ligand Pharmaceuticals; PPARγ partial agonist)<|>Hypothesis: INT131 will selectiv...\n",
      "Candidate: MSDC-0602K (Cirius Therapeutics; PPARγ modulating MPC inhibitor)<|>Hypothesis: MSDC-0602K...\n",
      "Candidate: GW501516 (Sigma-Aldrich catalog #SML001)<|>Hypothesis: GW501516 activation of PPARδ in PC...\n",
      "Candidate: Sitagliptin (Merck; DPP-4 inhibitor)<|>Hypothesis: Sitagliptin will elevate endogenous GL...\n",
      "Candidate: Empagliflozin (Boehringer Ingelheim; SGLT2 inhibitor)<|>Hypothesis: Empagliflozin-induced...\n",
      "Candidate: MCC950 (Sigma-Aldrich catalog #SML0952)<|>Hypothesis: MCC950 inhibition of the NLRP3 infl...\n",
      "Candidate: SP600125 (Sigma-Aldrich catalog #S5567)<|>Hypothesis: SP600125 will inhibit JNK in PCOS t...\n",
      "Candidate: 4-Phenylbutyric acid (4-PBA; Sigma-Aldrich catalog #P21005)<|>Hypothesis: Chemical chaper...\n",
      "Candidate: Anakinra (Kineret; IL-1 receptor antagonist)<|>Hypothesis: Anakinra blockade of IL-1 sign...\n",
      "Candidate: Roflumilast (Novartis; PDE4 inhibitor)<|>Hypothesis: Roflumilast-mediated PDE4 inhibition...\n",
      "Candidate: Cilostazol (Otsuka Pharmaceutical; PDE3 inhibitor)<|>Hypothesis: Cilostazol inhibition of...\n",
      "Candidate: Obeticholic acid (Intercept Pharmaceuticals; FXR agonist)<|>Hypothesis: Obeticholic acid ...\n",
      "Candidate: Pterostilbene (Sigma-Aldrich catalog #SML1275)<|>Hypothesis: Pterostilbene activation of ...\n",
      "Candidate: Dihydroberberine (Sigma-Aldrich catalog #D9879)<|>Hypothesis: Dihydroberberine will enhan...\n",
      "Candidate: Dapagliflozin (AstraZeneca; SGLT2 inhibitor)<|>Hypothesis: Dapagliflozin-induced reductio...\n",
      "Candidate: N-Acetylcysteine (NAC; Sigma-Aldrich catalog #A7250)<|>Hypothesis: NAC antioxidant activi...\n",
      "Candidate: Salubrinal (Sigma-Aldrich catalog #SML0343)<|>Hypothesis: Salubrinal inhibition of eIF2α ...\n",
      "Candidate: Bardoxolone methyl (Reata Pharmaceuticals; Nrf2 activator)<|>Hypothesis: Bardoxolone meth...\n",
      "Candidate: BGP-15 (N-desmethyltacrolimus; Active Biochem catalog #A-3010)<|>Hypothesis: BGP-15 will ...\n",
      "Candidate: Pyrvinium pamoate (Sigma-Aldrich catalog #P0022)<|>Hypothesis: Pyrvinium pamoate will inh...\n",
      "Candidate: Celastrol (Sigma-Aldrich catalog #C0869)<|>Hypothesis: Celastrol activation of HSF1 and s...\n",
      "Candidate: MK-4007 (MedKoo Biosciences catalog #345998)<|>Hypothesis: MK-4007, a small molecule PTP1...\n",
      "Candidate: TDZD-8 (4-benzyl-2-thiozolyl-5-thiazolidinone; Sigma-Aldrich catalog #597072)<|>Hypothesi...\n",
      "Successfully exported to robin_notebook/Polycystic_Ovary_Syndrome_2025-05-15_13-27/therapeutic_candidates_summary.txt\n",
      "\n",
      "Step 4: Detailed investigation and evaluation for candidates...\n",
      "Successfully wrote: therapeutic_candidate_1_a.txt to: robin_notebook/Polycystic_Ovary_Syndrome_2025-05-15_13-27/therapeutic_candidate_detailed_hypotheses/therapeutic_candidate_1_a.txt\n",
      "Successfully wrote: therapeutic_candidate_2_srt1720.txt to: robin_notebook/Polycystic_Ovary_Syndrome_2025-05-15_13-27/therapeutic_candidate_detailed_hypotheses/therapeutic_candidate_2_srt1720.txt\n",
      "Successfully wrote: therapeutic_candidate_3_everolimus.txt to: robin_notebook/Polycystic_Ovary_Syndrome_2025-05-15_13-27/therapeutic_candidate_detailed_hypotheses/therapeutic_candidate_3_everolimus.txt\n",
      "Successfully wrote: therapeutic_candidate_4_trodusquemine.txt to: robin_notebook/Polycystic_Ovary_Syndrome_2025-05-15_13-27/therapeutic_candidate_detailed_hypotheses/therapeutic_candidate_4_trodusquemine.txt\n",
      "Successfully wrote: therapeutic_candidate_5_adiporon.txt to: robin_notebook/Polycystic_Ovary_Syndrome_2025-05-15_13-27/therapeutic_candidate_detailed_hypotheses/therapeutic_candidate_5_adiporon.txt\n",
      "Successfully wrote: therapeutic_candidate_6_sc79.txt to: robin_notebook/Polycystic_Ovary_Syndrome_2025-05-15_13-27/therapeutic_candidate_detailed_hypotheses/therapeutic_candidate_6_sc79.txt\n",
      "Successfully wrote: therapeutic_candidate_7_int131.txt to: robin_notebook/Polycystic_Ovary_Syndrome_2025-05-15_13-27/therapeutic_candidate_detailed_hypotheses/therapeutic_candidate_7_int131.txt\n",
      "Successfully wrote: therapeutic_candidate_8_msdc.txt to: robin_notebook/Polycystic_Ovary_Syndrome_2025-05-15_13-27/therapeutic_candidate_detailed_hypotheses/therapeutic_candidate_8_msdc.txt\n",
      "Successfully wrote: therapeutic_candidate_9_gw501516.txt to: robin_notebook/Polycystic_Ovary_Syndrome_2025-05-15_13-27/therapeutic_candidate_detailed_hypotheses/therapeutic_candidate_9_gw501516.txt\n",
      "Successfully wrote: therapeutic_candidate_10_sitagliptin.txt to: robin_notebook/Polycystic_Ovary_Syndrome_2025-05-15_13-27/therapeutic_candidate_detailed_hypotheses/therapeutic_candidate_10_sitagliptin.txt\n",
      "Successfully wrote: therapeutic_candidate_11_empagliflozin.txt to: robin_notebook/Polycystic_Ovary_Syndrome_2025-05-15_13-27/therapeutic_candidate_detailed_hypotheses/therapeutic_candidate_11_empagliflozin.txt\n",
      "Successfully wrote: therapeutic_candidate_12_mcc950.txt to: robin_notebook/Polycystic_Ovary_Syndrome_2025-05-15_13-27/therapeutic_candidate_detailed_hypotheses/therapeutic_candidate_12_mcc950.txt\n",
      "Successfully wrote: therapeutic_candidate_13_sp600125.txt to: robin_notebook/Polycystic_Ovary_Syndrome_2025-05-15_13-27/therapeutic_candidate_detailed_hypotheses/therapeutic_candidate_13_sp600125.txt\n",
      "Successfully wrote: therapeutic_candidate_14_4.txt to: robin_notebook/Polycystic_Ovary_Syndrome_2025-05-15_13-27/therapeutic_candidate_detailed_hypotheses/therapeutic_candidate_14_4.txt\n",
      "Successfully wrote: therapeutic_candidate_15_anakinra.txt to: robin_notebook/Polycystic_Ovary_Syndrome_2025-05-15_13-27/therapeutic_candidate_detailed_hypotheses/therapeutic_candidate_15_anakinra.txt\n",
      "Successfully wrote: therapeutic_candidate_16_roflumilast.txt to: robin_notebook/Polycystic_Ovary_Syndrome_2025-05-15_13-27/therapeutic_candidate_detailed_hypotheses/therapeutic_candidate_16_roflumilast.txt\n",
      "Successfully wrote: therapeutic_candidate_17_cilostazol.txt to: robin_notebook/Polycystic_Ovary_Syndrome_2025-05-15_13-27/therapeutic_candidate_detailed_hypotheses/therapeutic_candidate_17_cilostazol.txt\n",
      "Successfully wrote: therapeutic_candidate_18_obeticholic.txt to: robin_notebook/Polycystic_Ovary_Syndrome_2025-05-15_13-27/therapeutic_candidate_detailed_hypotheses/therapeutic_candidate_18_obeticholic.txt\n",
      "Successfully wrote: therapeutic_candidate_19_pterostilbene.txt to: robin_notebook/Polycystic_Ovary_Syndrome_2025-05-15_13-27/therapeutic_candidate_detailed_hypotheses/therapeutic_candidate_19_pterostilbene.txt\n",
      "Successfully wrote: therapeutic_candidate_20_dihydroberberine.txt to: robin_notebook/Polycystic_Ovary_Syndrome_2025-05-15_13-27/therapeutic_candidate_detailed_hypotheses/therapeutic_candidate_20_dihydroberberine.txt\n",
      "Successfully wrote: therapeutic_candidate_21_dapagliflozin.txt to: robin_notebook/Polycystic_Ovary_Syndrome_2025-05-15_13-27/therapeutic_candidate_detailed_hypotheses/therapeutic_candidate_21_dapagliflozin.txt\n",
      "Successfully wrote: therapeutic_candidate_22_n.txt to: robin_notebook/Polycystic_Ovary_Syndrome_2025-05-15_13-27/therapeutic_candidate_detailed_hypotheses/therapeutic_candidate_22_n.txt\n",
      "Successfully wrote: therapeutic_candidate_23_salubrinal.txt to: robin_notebook/Polycystic_Ovary_Syndrome_2025-05-15_13-27/therapeutic_candidate_detailed_hypotheses/therapeutic_candidate_23_salubrinal.txt\n",
      "Successfully wrote: therapeutic_candidate_24_bardoxolone.txt to: robin_notebook/Polycystic_Ovary_Syndrome_2025-05-15_13-27/therapeutic_candidate_detailed_hypotheses/therapeutic_candidate_24_bardoxolone.txt\n",
      "Successfully wrote: therapeutic_candidate_25_bgp.txt to: robin_notebook/Polycystic_Ovary_Syndrome_2025-05-15_13-27/therapeutic_candidate_detailed_hypotheses/therapeutic_candidate_25_bgp.txt\n",
      "Successfully wrote: therapeutic_candidate_26_pyrvinium.txt to: robin_notebook/Polycystic_Ovary_Syndrome_2025-05-15_13-27/therapeutic_candidate_detailed_hypotheses/therapeutic_candidate_26_pyrvinium.txt\n",
      "Successfully wrote: therapeutic_candidate_27_celastrol.txt to: robin_notebook/Polycystic_Ovary_Syndrome_2025-05-15_13-27/therapeutic_candidate_detailed_hypotheses/therapeutic_candidate_27_celastrol.txt\n",
      "Successfully wrote: therapeutic_candidate_28_mk.txt to: robin_notebook/Polycystic_Ovary_Syndrome_2025-05-15_13-27/therapeutic_candidate_detailed_hypotheses/therapeutic_candidate_28_mk.txt\n",
      "Successfully wrote: therapeutic_candidate_29_tdzd.txt to: robin_notebook/Polycystic_Ovary_Syndrome_2025-05-15_13-27/therapeutic_candidate_detailed_hypotheses/therapeutic_candidate_29_tdzd.txt\n",
      "\n",
      "Step 5: Ranking the strength of the therapeutic candidates...\n",
      "Processing file: therapeutic_candidate_13_sp600125.txt...\n",
      "Processing file: therapeutic_candidate_4_trodusquemine.txt...\n",
      "Processing file: therapeutic_candidate_3_everolimus.txt...\n",
      "Processing file: therapeutic_candidate_18_obeticholic.txt...\n",
      "Processing file: therapeutic_candidate_8_msdc.txt...\n",
      "Processing file: therapeutic_candidate_26_pyrvinium.txt...\n",
      "Processing file: therapeutic_candidate_9_gw501516.txt...\n",
      "Processing file: therapeutic_candidate_20_dihydroberberine.txt...\n",
      "Processing file: therapeutic_candidate_28_mk.txt...\n",
      "Processing file: therapeutic_candidate_10_sitagliptin.txt...\n",
      "Processing file: therapeutic_candidate_23_salubrinal.txt...\n",
      "Processing file: therapeutic_candidate_27_celastrol.txt...\n",
      "Processing file: therapeutic_candidate_17_cilostazol.txt...\n",
      "Processing file: therapeutic_candidate_24_bardoxolone.txt...\n",
      "Processing file: therapeutic_candidate_7_int131.txt...\n",
      "Processing file: therapeutic_candidate_15_anakinra.txt...\n",
      "Processing file: therapeutic_candidate_29_tdzd.txt...\n",
      "Processing file: therapeutic_candidate_25_bgp.txt...\n",
      "Processing file: therapeutic_candidate_6_sc79.txt...\n",
      "Processing file: therapeutic_candidate_19_pterostilbene.txt...\n",
      "Processing file: therapeutic_candidate_1_a.txt...\n",
      "Processing file: therapeutic_candidate_16_roflumilast.txt...\n",
      "Processing file: therapeutic_candidate_22_n.txt...\n",
      "Processing file: therapeutic_candidate_11_empagliflozin.txt...\n",
      "Processing file: therapeutic_candidate_12_mcc950.txt...\n",
      "Processing file: therapeutic_candidate_21_dapagliflozin.txt...\n",
      "Processing file: therapeutic_candidate_5_adiporon.txt...\n",
      "Processing file: therapeutic_candidate_2_srt1720.txt...\n",
      "Processing file: therapeutic_candidate_14_4.txt...\n",
      "Starting comparisons for 300 pairs with max concurrency 100...\n"
     ]
    },
    {
     "name": "stderr",
     "output_type": "stream",
     "text": [
      "Comparing Hypotheses: 100%|██████████| 300/300 [00:59<00:00,  5.08it/s]\n"
     ]
    },
    {
     "name": "stdout",
     "output_type": "stream",
     "text": [
      "\n",
      "Finished processing pairs.\n",
      " - Successful comparisons: 300\n",
      " - Errors encountered: 0\n",
      "Successfully saved 300 results to robin_notebook/Polycystic_Ovary_Syndrome_2025-05-15_13-27/therapeutic_candidate_ranking_results.csv\n",
      "Therapeutic candidate generation finished! Saved final rankings to robin_notebook/Polycystic_Ovary_Syndrome_2025-05-15_13-27/ranked_therapeutic_candidates.csv\n"
     ]
    }
   ],
   "source": [
    "await therapeutic_candidates(\n",
    "    candidate_generation_goal=candidate_generation_goal, configuration=config\n",
    ")"
   ]
  }
 ],
 "metadata": {
  "kernelspec": {
   "display_name": "poplar",
   "language": "python",
   "name": "python3"
  },
  "language_info": {
   "codemirror_mode": {
    "name": "ipython",
    "version": 3
   },
   "file_extension": ".py",
   "mimetype": "text/x-python",
   "name": "python",
   "nbconvert_exporter": "python",
   "pygments_lexer": "ipython3"
  }
 },
 "nbformat": 4,
 "nbformat_minor": 2
}
