{
 "cells": [
  {
   "cell_type": "markdown",
   "metadata": {},
   "source": [
    "# Robin: Hypothesis Generation for Drug Repurposing"
   ]
  },
  {
   "cell_type": "code",
   "execution_count": null,
   "metadata": {},
   "outputs": [],
   "source": [
    "import logging\n",
    "\n",
    "from robin.assays import experimental_assay\n",
    "from robin.candidates import therapeutic_candidates\n",
    "from robin.configuration import RobinConfiguration"
   ]
  },
  {
   "cell_type": "markdown",
   "metadata": {},
   "source": [
    "## Robin Set Up"
   ]
  },
  {
   "cell_type": "code",
   "execution_count": null,
   "metadata": {},
   "outputs": [],
   "source": [
    "config = RobinConfiguration(\n",
    "    disease_name=\"Friedreich's Ataxia\", num_assays=10, num_candidates=30, num_queries=5\n",
    ")\n",
    "\n",
    "logger = logging.getLogger(\"robin\")\n",
    "logger.setLevel(logging.INFO)"
   ]
  },
  {
   "cell_type": "markdown",
   "metadata": {},
   "source": [
    "# Initial therapeutic hypothesis generation"
   ]
  },
  {
   "cell_type": "markdown",
   "metadata": {},
   "source": [
    "### Experimental assay generation"
   ]
  },
  {
   "cell_type": "code",
   "execution_count": null,
   "metadata": {},
   "outputs": [
    {
     "name": "stdout",
     "output_type": "stream",
     "text": [
      "Starting selection of a relevant experimental assay.\n",
      "————————————————————————————————————————————————————\n",
      "\n",
      "Step 1: Formulating relevant queries for literature search...\n",
      "Generated Queries:\n",
      "1. Comprehensive review of frataxin’s role in mitochondrial iron-sulfur cluster assembly, regulation of iron homeostasis and reactive oxygen species production including downstream signaling cascades and cell viability metrics in fibroblasts and neuronal cell models for assay design\n",
      "2. Strategies for quantifying mitochondrial function in Friedreich’s ataxia cell culture systems, focusing on high-throughput assays for oxygen consumption rate, membrane potential, ATP production, and iron-mediated oxidative damage as pharmacodynamic readouts\n",
      "3. Mechanisms of epigenetic silencing and transcriptional regulation of the FXN gene in Friedreich’s ataxia, including histone modifications, DNA methylation, and involvement of non-coding RNAs, and potential reporter-based screening assay development\n",
      "4. High-content imaging assays to monitor mitochondrial morphology changes, iron accumulation (ferritin and labile iron pool), lipid peroxidation, and calcium homeostasis in iPSC-derived neurons and cardiomyocytes modeling Friedreich’s ataxia, including quantification methodologies and throughput considerations for assay scalability\n",
      "5. Characterization of cellular models for Friedreich’s ataxia including patient fibroblasts, iPSC-derived cell types, shRNA/CRISPR-mediated FXN knockdown lines, and identification of robust phenotypic biomarkers suitable for medium-to-high throughput drug screening, and reproducibility assessments\n",
      "\n",
      "Step 2: Conducting literature search with FutureHouse platform...\n",
      "Successfully wrote: query_1_comprehensive.txt to: robin_notebook/Friedreich's_Ataxia_2025-05-15_13-27/experimental_assay_literature_reviews/query_1_comprehensive.txt\n",
      "Successfully wrote: query_2_strategies.txt to: robin_notebook/Friedreich's_Ataxia_2025-05-15_13-27/experimental_assay_literature_reviews/query_2_strategies.txt\n",
      "Successfully wrote: query_3_mechanisms.txt to: robin_notebook/Friedreich's_Ataxia_2025-05-15_13-27/experimental_assay_literature_reviews/query_3_mechanisms.txt\n",
      "Successfully wrote: query_4_high.txt to: robin_notebook/Friedreich's_Ataxia_2025-05-15_13-27/experimental_assay_literature_reviews/query_4_high.txt\n",
      "Successfully wrote: query_5_characterization.txt to: robin_notebook/Friedreich's_Ataxia_2025-05-15_13-27/experimental_assay_literature_reviews/query_5_characterization.txt\n",
      "\n",
      "Step 3: Generating ideas for relevant experimental assays...\n",
      "Strategy: Fe–S Cluster Enzyme Activity Assay<|>Reasoning: Direct quantification of mitochondrial aco...\n",
      "Strategy: Mitochondrial Labile Iron Quantification<|>Reasoning: Use of mitochondrial‐targeted fluore...\n",
      "Strategy: Reactive Oxygen Species Profiling<|>Reasoning: Simultaneous measurement of cytosolic (DCFD...\n",
      "Strategy: Bioenergetic Flux Analysis<|>Reasoning: Real-time extracellular flux analysis (e.g., Seaho...\n",
      "Strategy: Mitochondrial Membrane Potential Assay<|>Reasoning: Fluorescent potentiometric dyes (TMRM ...\n",
      "Strategy: Cellular ATP Luminescence Assay<|>Reasoning: Luciferase-based ATP quantification (e.g., Ce...\n",
      "Strategy: Lipid Peroxidation Readout<|>Reasoning: Monitoring lipid ROS with BODIPY C11 or malondiald...\n",
      "Strategy: Ferroptosis Sensitivity Assay<|>Reasoning: Challenge of frataxin-deficient cells with ferr...\n",
      "Strategy: High-Content Mitochondrial Morphology Imaging<|>Reasoning: Automated high‐content analysis...\n",
      "Strategy: FXN Promoter-Reporter Screening<|>Reasoning: CRISPR-engineered cell lines harboring a luci...\n",
      "Successfully exported to robin_notebook/Friedreich's_Ataxia_2025-05-15_13-27/experimental_assay_summary.txt\n",
      "\n",
      "Step 4: Detailed investigation and evaluation for each assay...\n",
      "Successfully wrote: assay_hypothesis_1_fe.txt to: robin_notebook/Friedreich's_Ataxia_2025-05-15_13-27/experimental_assay_detailed_hypotheses/assay_hypothesis_1_fe.txt\n",
      "Successfully wrote: assay_hypothesis_2_mitochondrial.txt to: robin_notebook/Friedreich's_Ataxia_2025-05-15_13-27/experimental_assay_detailed_hypotheses/assay_hypothesis_2_mitochondrial.txt\n",
      "Successfully wrote: assay_hypothesis_3_reactive.txt to: robin_notebook/Friedreich's_Ataxia_2025-05-15_13-27/experimental_assay_detailed_hypotheses/assay_hypothesis_3_reactive.txt\n",
      "Successfully wrote: assay_hypothesis_4_bioenergetic.txt to: robin_notebook/Friedreich's_Ataxia_2025-05-15_13-27/experimental_assay_detailed_hypotheses/assay_hypothesis_4_bioenergetic.txt\n",
      "Successfully wrote: assay_hypothesis_5_mitochondrial.txt to: robin_notebook/Friedreich's_Ataxia_2025-05-15_13-27/experimental_assay_detailed_hypotheses/assay_hypothesis_5_mitochondrial.txt\n",
      "Successfully wrote: assay_hypothesis_6_cellular.txt to: robin_notebook/Friedreich's_Ataxia_2025-05-15_13-27/experimental_assay_detailed_hypotheses/assay_hypothesis_6_cellular.txt\n",
      "Successfully wrote: assay_hypothesis_7_lipid.txt to: robin_notebook/Friedreich's_Ataxia_2025-05-15_13-27/experimental_assay_detailed_hypotheses/assay_hypothesis_7_lipid.txt\n",
      "Successfully wrote: assay_hypothesis_8_ferroptosis.txt to: robin_notebook/Friedreich's_Ataxia_2025-05-15_13-27/experimental_assay_detailed_hypotheses/assay_hypothesis_8_ferroptosis.txt\n",
      "Successfully wrote: assay_hypothesis_9_high.txt to: robin_notebook/Friedreich's_Ataxia_2025-05-15_13-27/experimental_assay_detailed_hypotheses/assay_hypothesis_9_high.txt\n",
      "Successfully wrote: assay_hypothesis_10_fxn.txt to: robin_notebook/Friedreich's_Ataxia_2025-05-15_13-27/experimental_assay_detailed_hypotheses/assay_hypothesis_10_fxn.txt\n",
      "\n",
      "Step 5: Selecting the top experimental assay...\n",
      "Starting comparisons for 45 pairs with max concurrency 100...\n"
     ]
    },
    {
     "name": "stderr",
     "output_type": "stream",
     "text": [
      "Comparing Hypotheses: 100%|██████████| 45/45 [00:16<00:00,  2.81it/s]\n"
     ]
    },
    {
     "name": "stdout",
     "output_type": "stream",
     "text": [
      "\n",
      "Finished processing pairs.\n",
      " - Successful comparisons: 45\n",
      " - Errors encountered: 0\n",
      "Successfully saved 45 results to robin_notebook/Friedreich's_Ataxia_2025-05-15_13-27/experimental_assay_ranking_results.csv\n",
      "Experimental Assay Selected: Bioenergetic Flux Analysis\n",
      "Candidate Generation Goal: Leverage Bioenergetic Flux Analysis to screen and identify novel small molecules that enhance mitochondrial respiratory capacity and correct bioenergetic deficits in Friedreich’s Ataxia patient‐derived cells.\n"
     ]
    }
   ],
   "source": [
    "candidate_generation_goal = await experimental_assay(configuration=config)"
   ]
  },
  {
   "cell_type": "markdown",
   "metadata": {},
   "source": [
    "### Therapeutic candidate generation"
   ]
  },
  {
   "cell_type": "code",
   "execution_count": null,
   "metadata": {},
   "outputs": [
    {
     "name": "stdout",
     "output_type": "stream",
     "text": [
      "Starting generation of 30 therapeutic candidates.\n",
      "———————————————————————————————————————————————————————————————\n",
      "\n",
      "Step 1: Formulating relevant queries for literature search...\n",
      "Generated Queries:\n",
      "1. Identify studies reporting high-throughput or targeted screening of novel small molecules in Friedreich’s ataxia patient-derived cellular models using bioenergetic flux analysis (eg. Seahorse XF) to enhance mitochondrial respiratory capacity with target validation data\n",
      "2. Search for preclinical studies evaluating efficacy of candidate small molecules or repurposed drugs on mitochondrial oxygen consumption rates, coupling efficiency, and ATP production in Friedreich’s ataxia animal models or patient-derived neurons, with detailed target mechanism confirmation\n",
      "3. Identify reports of small molecule modulators of mitochondrial biogenesis regulators (e.g., PGC-1α, AMPK, SIRT1) tested in Friedreich’s ataxia models or patient fibroblasts, with mechanistic specificity, functional correction of bioenergetic deficits, and pathway engagement validation\n",
      "4. Retrieve pharmacokinetic and safety profiles, including ADME, tissue distribution, and human phase I/II trial data, for compounds shown to increase mitochondrial respiratory capacity in neurodegenerative or mitochondrial disease contexts relevant to Friedreich’s ataxia\n",
      "5. Survey existing clinical or pilot studies of repurposed metabolic modulators (e.g., NAD+ precursors, dichloroacetate, elamipretide) in Friedreich’s ataxia or related mitochondrial dysfunction disorders, focusing on bioenergetic flux outcomes, safety, and translational potential\n",
      "6. Compile genetic and functional studies demonstrating frataxin deficiency’s causative role in iron-sulfur cluster biogenesis disruption, mitochondrial respiratory complex assembly, and oxidative phosphorylation failure in Friedreich’s ataxia patient-derived cells\n",
      "7. Extract biochemical analyses of mitochondrial electron transport chain complexes I–IV activity in Friedreich’s ataxia fibroblasts or neurons, including detailed correlation between frataxin levels, iron accumulation, respiratory flux deficits, and reactive oxygen species generation\n",
      "8. Identify studies exploring dysregulated iron metabolism, mitochondrial iron overload, and associated oxidative stress pathways in Friedreich’s ataxia models, with emphasis on validated molecular targets for therapeutic intervention to restore bioenergetics\n",
      "9. Find research on mitochondrial dynamics, including fission/fusion imbalance, mitophagy impairment, and mitochondrial membrane potential loss in Friedreich’s ataxia cellular models, highlighting mechanistic insights and potential small molecule modulators of these processes\n",
      "10. Investigate epigenetic and transcriptional regulation of the FXN gene and mitochondrial biogenesis pathways in Friedreich’s ataxia, including histone deacetylase inhibitors or demethylating agents that upregulate frataxin expression and rescue bioenergetic deficits\n",
      "\n",
      "Step 2: Conducting literature search with FutureHouse platform...\n",
      "Successfully wrote: query_1_identify.txt to: robin_notebook/Friedreich's_Ataxia_2025-05-15_13-27/therapeutic_candidate_literature_reviews/query_1_identify.txt\n",
      "Successfully wrote: query_2_search.txt to: robin_notebook/Friedreich's_Ataxia_2025-05-15_13-27/therapeutic_candidate_literature_reviews/query_2_search.txt\n",
      "Successfully wrote: query_3_identify.txt to: robin_notebook/Friedreich's_Ataxia_2025-05-15_13-27/therapeutic_candidate_literature_reviews/query_3_identify.txt\n",
      "Successfully wrote: query_4_retrieve.txt to: robin_notebook/Friedreich's_Ataxia_2025-05-15_13-27/therapeutic_candidate_literature_reviews/query_4_retrieve.txt\n",
      "Successfully wrote: query_5_survey.txt to: robin_notebook/Friedreich's_Ataxia_2025-05-15_13-27/therapeutic_candidate_literature_reviews/query_5_survey.txt\n",
      "Successfully wrote: query_6_compile.txt to: robin_notebook/Friedreich's_Ataxia_2025-05-15_13-27/therapeutic_candidate_literature_reviews/query_6_compile.txt\n",
      "Successfully wrote: query_7_extract.txt to: robin_notebook/Friedreich's_Ataxia_2025-05-15_13-27/therapeutic_candidate_literature_reviews/query_7_extract.txt\n",
      "Successfully wrote: query_8_identify.txt to: robin_notebook/Friedreich's_Ataxia_2025-05-15_13-27/therapeutic_candidate_literature_reviews/query_8_identify.txt\n",
      "Successfully wrote: query_9_find.txt to: robin_notebook/Friedreich's_Ataxia_2025-05-15_13-27/therapeutic_candidate_literature_reviews/query_9_find.txt\n",
      "Successfully wrote: query_10_investigate.txt to: robin_notebook/Friedreich's_Ataxia_2025-05-15_13-27/therapeutic_candidate_literature_reviews/query_10_investigate.txt\n",
      "\n",
      "Step 3: Generating 30 ideas for therapeutic candidates...\n",
      "\n",
      "Successfully parsed 30 candidate ideas.\n",
      "Candidate: Omaveloxolone (RTA 408)<|>Hypothesis: Omaveloxolone will activate the Nrf2 pathway in FRD...\n",
      "Candidate: Sulforaphane (Cayman Cat#10005594)<|>Hypothesis: Sulforaphane will induce Nrf2 nuclear tr...\n",
      "Candidate: Dimethyl fumarate (Tecfidera)<|>Hypothesis: Dimethyl fumarate will activate Nrf2 and AMPK...\n",
      "Candidate: EPI-743 (Vatiquinone)<|>Hypothesis: EPI-743 will function as a cofactor for NAD(P)H quino...\n",
      "Candidate: MitoQ<|>Hypothesis: MitoQ will selectively accumulate in FRDA mitochondria via its triphe...\n",
      "Candidate: SS-31 (Elamipretide; Stealth BioTherapeutics)<|>Hypothesis: SS-31 will bind cardiolipin i...\n",
      "Candidate: KH176<|>Hypothesis: KH176 will reduce mitochondrial ROS in FRDA cells by modulating redox...\n",
      "Candidate: Nicotinamide riboside (Niagen; ChromaDex)<|>Hypothesis: Nicotinamide riboside supplementa...\n",
      "Candidate: Nicotinamide mononucleotide (NMN)<|>Hypothesis: NMN will rapidly increase intracellular N...\n",
      "Candidate: Deferiprone (Ferriprox)<|>Hypothesis: Deferiprone will chelate excess mitochondrial labil...\n",
      "Candidate: Deferasirox (Exjade)<|>Hypothesis: Deferasirox will bind mitochondrial iron with high aff...\n",
      "Candidate: Mdivi-1<|>Hypothesis: Mdivi-1, a selective DRP1 inhibitor, will rebalance fission–fusion ...\n",
      "Candidate: A-769662<|>Hypothesis: A-769662 will directly activate AMPK in FRDA patient-derived cardi...\n",
      "Candidate: SRT1720<|>Hypothesis: SRT1720 will activate SIRT1 in FRDA patient fibroblasts, enhancing ...\n",
      "Candidate: Resveratrol<|>Hypothesis: Resveratrol will activate SIRT1 in FRDA patient-derived neurons...\n",
      "Candidate: Metformin<|>Hypothesis: Metformin will activate AMPK and inhibit mitochondrial complex I ...\n",
      "Candidate: AICAR<|>Hypothesis: AICAR will mimic AMP in FRDA patient fibroblasts, directly activating...\n",
      "Candidate: Pioglitazone (Actos)<|>Hypothesis: Pioglitazone will activate PPARγ in FRDA patient fibro...\n",
      "Candidate: Leriglitazone<|>Hypothesis: Leriglitazone will selectively modulate PPARγ in FRDA iPSC-de...\n",
      "Candidate: RG2833 (HDAC Inhibitor)<|>Hypothesis: RG2833 will selectively inhibit class I HDACs (HDAC...\n",
      "Candidate: A-196 (SUV4-20 H1 Inhibitor)<|>Hypothesis: A-196 will inhibit SUV4-20 H1 in FRDA fibrobla...\n",
      "Candidate: Compound A3 (SUV4-20 H1 Analogue)<|>Hypothesis: Compound A3 will more potently inhibit SU...\n",
      "Candidate: MitoTEMPO<|>Hypothesis: MitoTEMPO will accumulate in FRDA mitochondria and selectively sc...\n",
      "Candidate: Dynasore<|>Hypothesis: Dynasore will inhibit GTPase-dependent DRP1 activity in FRDA patie...\n",
      "Candidate: Rapamycin<|>Hypothesis: Rapamycin will inhibit mTORC1 in FRDA patient-derived fibroblasts...\n",
      "Candidate: Urolithin A<|>Hypothesis: Urolithin A will induce mitophagy via PINK1/Parkin in FRDA neur...\n",
      "Candidate: Spermidine<|>Hypothesis: Spermidine will activate autophagy and mitophagy pathways in FRD...\n",
      "Candidate: VBIT-4<|>Hypothesis: VBIT-4 will prevent pathological VDAC1 oligomerization in FRDA mitoc...\n",
      "Candidate: Elamipretide (SS-31)<|>Hypothesis: Elamipretide will enhance mitochondrial cristae integr...\n",
      "Candidate: Dichloroacetate (DCA)<|>Hypothesis: DCA will inhibit pyruvate dehydrogenase kinase in FRD...\n",
      "Successfully exported to robin_notebook/Friedreich's_Ataxia_2025-05-15_13-27/therapeutic_candidates_summary.txt\n",
      "\n",
      "Step 4: Detailed investigation and evaluation for candidates...\n",
      "Successfully wrote: therapeutic_candidate_1_omaveloxolone.txt to: robin_notebook/Friedreich's_Ataxia_2025-05-15_13-27/therapeutic_candidate_detailed_hypotheses/therapeutic_candidate_1_omaveloxolone.txt\n",
      "Successfully wrote: therapeutic_candidate_2_sulforaphane.txt to: robin_notebook/Friedreich's_Ataxia_2025-05-15_13-27/therapeutic_candidate_detailed_hypotheses/therapeutic_candidate_2_sulforaphane.txt\n",
      "Successfully wrote: therapeutic_candidate_3_dimethyl.txt to: robin_notebook/Friedreich's_Ataxia_2025-05-15_13-27/therapeutic_candidate_detailed_hypotheses/therapeutic_candidate_3_dimethyl.txt\n",
      "Successfully wrote: therapeutic_candidate_4_epi.txt to: robin_notebook/Friedreich's_Ataxia_2025-05-15_13-27/therapeutic_candidate_detailed_hypotheses/therapeutic_candidate_4_epi.txt\n",
      "Successfully wrote: therapeutic_candidate_5_mitoq.txt to: robin_notebook/Friedreich's_Ataxia_2025-05-15_13-27/therapeutic_candidate_detailed_hypotheses/therapeutic_candidate_5_mitoq.txt\n",
      "Successfully wrote: therapeutic_candidate_6_ss.txt to: robin_notebook/Friedreich's_Ataxia_2025-05-15_13-27/therapeutic_candidate_detailed_hypotheses/therapeutic_candidate_6_ss.txt\n",
      "Successfully wrote: therapeutic_candidate_7_kh176.txt to: robin_notebook/Friedreich's_Ataxia_2025-05-15_13-27/therapeutic_candidate_detailed_hypotheses/therapeutic_candidate_7_kh176.txt\n",
      "Successfully wrote: therapeutic_candidate_8_nicotinamide.txt to: robin_notebook/Friedreich's_Ataxia_2025-05-15_13-27/therapeutic_candidate_detailed_hypotheses/therapeutic_candidate_8_nicotinamide.txt\n",
      "Successfully wrote: therapeutic_candidate_9_nicotinamide.txt to: robin_notebook/Friedreich's_Ataxia_2025-05-15_13-27/therapeutic_candidate_detailed_hypotheses/therapeutic_candidate_9_nicotinamide.txt\n",
      "Successfully wrote: therapeutic_candidate_10_deferiprone.txt to: robin_notebook/Friedreich's_Ataxia_2025-05-15_13-27/therapeutic_candidate_detailed_hypotheses/therapeutic_candidate_10_deferiprone.txt\n",
      "Successfully wrote: therapeutic_candidate_11_deferasirox.txt to: robin_notebook/Friedreich's_Ataxia_2025-05-15_13-27/therapeutic_candidate_detailed_hypotheses/therapeutic_candidate_11_deferasirox.txt\n",
      "Successfully wrote: therapeutic_candidate_12_mdivi.txt to: robin_notebook/Friedreich's_Ataxia_2025-05-15_13-27/therapeutic_candidate_detailed_hypotheses/therapeutic_candidate_12_mdivi.txt\n",
      "Successfully wrote: therapeutic_candidate_13_a.txt to: robin_notebook/Friedreich's_Ataxia_2025-05-15_13-27/therapeutic_candidate_detailed_hypotheses/therapeutic_candidate_13_a.txt\n",
      "Successfully wrote: therapeutic_candidate_14_srt1720.txt to: robin_notebook/Friedreich's_Ataxia_2025-05-15_13-27/therapeutic_candidate_detailed_hypotheses/therapeutic_candidate_14_srt1720.txt\n",
      "Successfully wrote: therapeutic_candidate_15_resveratrol.txt to: robin_notebook/Friedreich's_Ataxia_2025-05-15_13-27/therapeutic_candidate_detailed_hypotheses/therapeutic_candidate_15_resveratrol.txt\n",
      "Successfully wrote: therapeutic_candidate_16_metformin.txt to: robin_notebook/Friedreich's_Ataxia_2025-05-15_13-27/therapeutic_candidate_detailed_hypotheses/therapeutic_candidate_16_metformin.txt\n",
      "Successfully wrote: therapeutic_candidate_17_aicar.txt to: robin_notebook/Friedreich's_Ataxia_2025-05-15_13-27/therapeutic_candidate_detailed_hypotheses/therapeutic_candidate_17_aicar.txt\n",
      "Successfully wrote: therapeutic_candidate_18_pioglitazone.txt to: robin_notebook/Friedreich's_Ataxia_2025-05-15_13-27/therapeutic_candidate_detailed_hypotheses/therapeutic_candidate_18_pioglitazone.txt\n",
      "Successfully wrote: therapeutic_candidate_19_leriglitazone.txt to: robin_notebook/Friedreich's_Ataxia_2025-05-15_13-27/therapeutic_candidate_detailed_hypotheses/therapeutic_candidate_19_leriglitazone.txt\n",
      "Successfully wrote: therapeutic_candidate_20_rg2833.txt to: robin_notebook/Friedreich's_Ataxia_2025-05-15_13-27/therapeutic_candidate_detailed_hypotheses/therapeutic_candidate_20_rg2833.txt\n",
      "Successfully wrote: therapeutic_candidate_21_a.txt to: robin_notebook/Friedreich's_Ataxia_2025-05-15_13-27/therapeutic_candidate_detailed_hypotheses/therapeutic_candidate_21_a.txt\n",
      "Successfully wrote: therapeutic_candidate_22_compound.txt to: robin_notebook/Friedreich's_Ataxia_2025-05-15_13-27/therapeutic_candidate_detailed_hypotheses/therapeutic_candidate_22_compound.txt\n",
      "Successfully wrote: therapeutic_candidate_23_mitotempo.txt to: robin_notebook/Friedreich's_Ataxia_2025-05-15_13-27/therapeutic_candidate_detailed_hypotheses/therapeutic_candidate_23_mitotempo.txt\n",
      "Successfully wrote: therapeutic_candidate_24_dynasore.txt to: robin_notebook/Friedreich's_Ataxia_2025-05-15_13-27/therapeutic_candidate_detailed_hypotheses/therapeutic_candidate_24_dynasore.txt\n",
      "Successfully wrote: therapeutic_candidate_25_rapamycin.txt to: robin_notebook/Friedreich's_Ataxia_2025-05-15_13-27/therapeutic_candidate_detailed_hypotheses/therapeutic_candidate_25_rapamycin.txt\n",
      "Successfully wrote: therapeutic_candidate_26_urolithin.txt to: robin_notebook/Friedreich's_Ataxia_2025-05-15_13-27/therapeutic_candidate_detailed_hypotheses/therapeutic_candidate_26_urolithin.txt\n",
      "Successfully wrote: therapeutic_candidate_27_spermidine.txt to: robin_notebook/Friedreich's_Ataxia_2025-05-15_13-27/therapeutic_candidate_detailed_hypotheses/therapeutic_candidate_27_spermidine.txt\n",
      "Successfully wrote: therapeutic_candidate_28_vbit.txt to: robin_notebook/Friedreich's_Ataxia_2025-05-15_13-27/therapeutic_candidate_detailed_hypotheses/therapeutic_candidate_28_vbit.txt\n",
      "Successfully wrote: therapeutic_candidate_29_elamipretide.txt to: robin_notebook/Friedreich's_Ataxia_2025-05-15_13-27/therapeutic_candidate_detailed_hypotheses/therapeutic_candidate_29_elamipretide.txt\n",
      "Successfully wrote: therapeutic_candidate_30_dichloroacetate.txt to: robin_notebook/Friedreich's_Ataxia_2025-05-15_13-27/therapeutic_candidate_detailed_hypotheses/therapeutic_candidate_30_dichloroacetate.txt\n",
      "\n",
      "Step 5: Ranking the strength of the therapeutic candidates...\n",
      "Processing file: therapeutic_candidate_24_dynasore.txt...\n",
      "Processing file: therapeutic_candidate_3_dimethyl.txt...\n",
      "Processing file: therapeutic_candidate_5_mitoq.txt...\n",
      "Processing file: therapeutic_candidate_28_vbit.txt...\n",
      "Processing file: therapeutic_candidate_21_a.txt...\n",
      "Processing file: therapeutic_candidate_30_dichloroacetate.txt...\n",
      "Processing file: therapeutic_candidate_7_kh176.txt...\n",
      "Processing file: therapeutic_candidate_26_urolithin.txt...\n",
      "Processing file: therapeutic_candidate_25_rapamycin.txt...\n",
      "Processing file: therapeutic_candidate_19_leriglitazone.txt...\n",
      "Processing file: therapeutic_candidate_16_metformin.txt...\n",
      "Processing file: therapeutic_candidate_22_compound.txt...\n",
      "Processing file: therapeutic_candidate_2_sulforaphane.txt...\n",
      "Processing file: therapeutic_candidate_10_deferiprone.txt...\n",
      "Processing file: therapeutic_candidate_6_ss.txt...\n",
      "Processing file: therapeutic_candidate_1_omaveloxolone.txt...\n",
      "Processing file: therapeutic_candidate_27_spermidine.txt...\n",
      "Processing file: therapeutic_candidate_11_deferasirox.txt...\n",
      "Processing file: therapeutic_candidate_14_srt1720.txt...\n",
      "Processing file: therapeutic_candidate_13_a.txt...\n",
      "Processing file: therapeutic_candidate_17_aicar.txt...\n",
      "Processing file: therapeutic_candidate_29_elamipretide.txt...\n",
      "Processing file: therapeutic_candidate_8_nicotinamide.txt...\n",
      "Processing file: therapeutic_candidate_12_mdivi.txt...\n",
      "Processing file: therapeutic_candidate_4_epi.txt...\n",
      "Processing file: therapeutic_candidate_23_mitotempo.txt...\n",
      "Processing file: therapeutic_candidate_20_rg2833.txt...\n",
      "Processing file: therapeutic_candidate_15_resveratrol.txt...\n",
      "Processing file: therapeutic_candidate_9_nicotinamide.txt...\n",
      "Processing file: therapeutic_candidate_18_pioglitazone.txt...\n",
      "Starting comparisons for 300 pairs with max concurrency 100...\n"
     ]
    },
    {
     "name": "stderr",
     "output_type": "stream",
     "text": [
      "Comparing Hypotheses:  13%|█▎        | 39/300 [00:11<00:22, 11.85it/s]"
     ]
    },
    {
     "name": "stdout",
     "output_type": "stream",
     "text": [
      "\n",
      "JSON Decode Error for pair (2, 22) (Index 87): Invalid control character at: line 2 column 809 (char 810)\n",
      "Raw Content: {\n",
      "  \"Analysis\": \"Both MitoQ and nicotinamide riboside (NR) target mitochondrial dysfunction in Friedreich’s Ataxia (FRDA) but by distinct mechanisms. MitoQ is a mitochondria-targeted antioxidant that accumulates via its TPP+ moiety and scavenges ROS at the inner membrane. It has robust preclinical data showing improved ATP production and OCR in neuronal and fibroblast models, and a well-established safety profile from multiple clinical trials in Parkinson’s, MS, CVD, and other disorders with mitochondrial oxidative stress. However, MitoQ addresses secondary oxidative damage without directly correcting the upstream bioenergetic or Fe-S cluster assembly defect in FRDA. There is no direct FRDA clinical data, and antioxidant approaches alone have historically yielded modest benefit in neurodegeneration.\n",
      "\n",
      "NR is a NAD+ precursor that elevates intracellular NAD+ levels, activating SIRT1/3 and the PGC-1α axis to drive mitochondrial biogenesis, enhance oxidative phosphorylation efficiency, and boost endogenous antioxidant defenses via SIRT3-mediated deacetylation of Mn-SOD. Preclinical models in metabolic, neurodegenerative, and mitochondrial disease contexts demonstrate consistent improvements in NAD+ levels, mitochondrial DNA copy number, OCR, and reduced ROS. Early-phase human trials confirm oral bioavailability, safety, and sustained NAD+ elevation, including pilot FRDA trials with exercise showing biomarker shifts. NR’s mechanism targets a core FRDA pathology—bioenergetic failure due to frataxin deficiency—by increasing mitochondrial mass and function rather than only quenching ROS. Although large-scale FRDA efficacy data are pending and combination with other FRDA-specific strategies may be optimal, the directness of the mechanism, relevant preclinical FRDA-related evidence, and translational readiness via existing clinical safety data confer higher probability of successful translation into a viable therapy compared to MitoQ’s more downstream antioxidant approach.\",\n",
      "  \"Reasoning\": \"Nicotinamide riboside (ID:22) better meets the criteria for successful translation in FRDA because its mechanism of enhancing mitochondrial biogenesis and enzyme function via NAD+ elevation directly addresses the primary bioenergetic deficit of frataxin deficiency. It is supported by relevant preclinical data in mitochondrial disease models, preliminary FRDA biomarker trials, and a strong human safety and bioavailability record. MitoQ (ID:2), while safe and antioxidative, acts downstream on oxidative stress and lacks direct FRDA clinical or robust mechanistic correction of Fe-S assembly. Thus NR holds greater promise for durable functional benefit and clinical impact in FRDA.\",\n",
      "  \"Winner\": \"(Nicotinamide riboside, 22)\",\n",
      "  \"Loser\": \"(MitoQ, 2)\"\n",
      "}\n"
     ]
    },
    {
     "name": "stderr",
     "output_type": "stream",
     "text": [
      "Comparing Hypotheses: 100%|██████████| 300/300 [00:41<00:00,  7.15it/s]\n"
     ]
    },
    {
     "name": "stdout",
     "output_type": "stream",
     "text": [
      "\n",
      "Finished processing pairs.\n",
      " - Successful comparisons: 299\n",
      " - Errors encountered: 1\n",
      "Successfully saved 299 results to robin_notebook/Friedreich's_Ataxia_2025-05-15_13-27/therapeutic_candidate_ranking_results.csv\n",
      "Therapeutic candidate generation finished! Saved final rankings to robin_notebook/Friedreich's_Ataxia_2025-05-15_13-27/ranked_therapeutic_candidates.csv\n"
     ]
    }
   ],
   "source": [
    "await therapeutic_candidates(\n",
    "    candidate_generation_goal=candidate_generation_goal, configuration=config\n",
    ")"
   ]
  }
 ],
 "metadata": {
  "kernelspec": {
   "display_name": "poplar",
   "language": "python",
   "name": "python3"
  },
  "language_info": {
   "codemirror_mode": {
    "name": "ipython",
    "version": 3
   },
   "file_extension": ".py",
   "mimetype": "text/x-python",
   "name": "python",
   "nbconvert_exporter": "python",
   "pygments_lexer": "ipython3"
  }
 },
 "nbformat": 4,
 "nbformat_minor": 2
}
