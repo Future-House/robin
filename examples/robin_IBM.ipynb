{
 "cells": [
  {
   "cell_type": "markdown",
   "metadata": {},
   "source": [
    "# Robin: Hypothesis Generation for Drug Repurposing"
   ]
  },
  {
   "cell_type": "code",
   "execution_count": null,
   "metadata": {},
   "outputs": [],
   "source": [
    "import logging\n",
    "\n",
    "from robin.assays import experimental_assay\n",
    "from robin.candidates import therapeutic_candidates\n",
    "from robin.configuration import RobinConfiguration"
   ]
  },
  {
   "cell_type": "markdown",
   "metadata": {},
   "source": [
    "## Robin Set Up"
   ]
  },
  {
   "cell_type": "code",
   "execution_count": null,
   "metadata": {},
   "outputs": [],
   "source": [
    "config = RobinConfiguration(\n",
    "    disease_name=\"Inclusion Body Myositis\",\n",
    "    num_assays=10,\n",
    "    num_candidates=30,\n",
    "    num_queries=5,\n",
    ")\n",
    "\n",
    "logger = logging.getLogger(\"robin\")\n",
    "logger.setLevel(logging.INFO)"
   ]
  },
  {
   "cell_type": "markdown",
   "metadata": {},
   "source": [
    "# Initial therapeutic hypothesis generation"
   ]
  },
  {
   "cell_type": "markdown",
   "metadata": {},
   "source": [
    "### Experimental assay generation"
   ]
  },
  {
   "cell_type": "code",
   "execution_count": null,
   "metadata": {},
   "outputs": [
    {
     "name": "stdout",
     "output_type": "stream",
     "text": [
      "Starting selection of a relevant experimental assay.\n",
      "————————————————————————————————————————————————————\n",
      "\n",
      "Step 1: Formulating relevant queries for literature search...\n",
      "Generated Queries:\n",
      "1. Comprehensive investigation of the molecular and cellular mechanisms driving inclusion body myositis pathology, focusing on β-amyloid precursor protein processing, phosphorylated tau accumulation, TDP-43 mislocalization, mitochondrial dysfunction and ER stress pathways in human skeletal muscle cells under proinflammatory conditions\n",
      "2. Identification and validation of scalable in vitro skeletal muscle models for IBM drug screening, encompassing primary human myoblast differentiation and fusion protocols, iPSC-derived myotube formation, application of cytokine or growth factor stimuli, and functional readouts for myofiber integrity, contractility and metabolic profiling\n",
      "3. Characterization of the interplay between chronic CD8+ cytotoxic T-cell infiltration, proinflammatory cytokines (e.g., IFN-γ, TNF-α), MHC-I upregulation and muscle cell stress responses in IBM co-culture assays, including quantification of muscle cell apoptosis, cytokine release, T-cell activation markers and immune synapse formation\n",
      "4. Elucidation of autophagy-lysosomal and ubiquitin-proteasome system dysfunction in IBM, detailing robust assays for monitoring LC3-II flux, p62/SQSTM1 accumulation, proteasome catalytic activity, mitochondrial clearance and apoptotic signaling in cultured human myotubes subjected to proteostatic stressors\n",
      "5. Design of high-throughput, high-content imaging assays to quantify pathological protein aggregates (amyloid-β oligomers, phosphorylated tau, TDP-43 inclusions) and evaluate candidate autophagy or proteostasis modulators in differentiating myoblast cultures, including development of fluorescent reporter constructs, automated image segmentation and multiparametric analysis pipelines\n",
      "\n",
      "Step 2: Conducting literature search with FutureHouse platform...\n",
      "Successfully wrote: query_1_comprehensive.txt to: robin_notebook/Inclusion_Body_Myositis_2025-05-15_13-27/experimental_assay_literature_reviews/query_1_comprehensive.txt\n",
      "Successfully wrote: query_2_identification.txt to: robin_notebook/Inclusion_Body_Myositis_2025-05-15_13-27/experimental_assay_literature_reviews/query_2_identification.txt\n",
      "Successfully wrote: query_3_characterization.txt to: robin_notebook/Inclusion_Body_Myositis_2025-05-15_13-27/experimental_assay_literature_reviews/query_3_characterization.txt\n",
      "Successfully wrote: query_4_elucidation.txt to: robin_notebook/Inclusion_Body_Myositis_2025-05-15_13-27/experimental_assay_literature_reviews/query_4_elucidation.txt\n",
      "Successfully wrote: query_5_design.txt to: robin_notebook/Inclusion_Body_Myositis_2025-05-15_13-27/experimental_assay_literature_reviews/query_5_design.txt\n",
      "\n",
      "Step 3: Generating ideas for relevant experimental assays...\n",
      "Strategy: Beta-secretase activity assay<|>Reasoning: Quantifying BACE-mediated APP cleavage in human...\n",
      "Strategy: Phospho-tau quantification assay<|>Reasoning: An AlphaLISA or ELISA targeting phosphorylat...\n",
      "Strategy: TDP-43 localization reporter assay<|>Reasoning: Expressing a GFP-TDP-43 fusion in differen...\n",
      "Strategy: Mitochondrial membrane potential assay<|>Reasoning: TMRE or JC-1 staining in human skeleta...\n",
      "Strategy: UPR reporter assay<|>Reasoning: An XBP1-luciferase or CHOP-GFP reporter stably integrated ...\n",
      "Strategy: Myotube contractility assay<|>Reasoning: Applying electrical field stimulation to iPSC-der...\n",
      "Strategy: Immune co-culture apoptosis assay<|>Reasoning: Co-culturing primary human myotubes with au...\n",
      "Strategy: Autophagic flux imaging assay<|>Reasoning: GFP-LC3 cleavage and puncta formation quantifie...\n",
      "Strategy: Proteasome catalytic activity assay<|>Reasoning: Measuring chymotrypsin-like, trypsin-like...\n",
      "Strategy: High-content aggregate quantification<|>Reasoning: Automated immunofluorescence for amyloi...\n",
      "Successfully exported to robin_notebook/Inclusion_Body_Myositis_2025-05-15_13-27/experimental_assay_summary.txt\n",
      "\n",
      "Step 4: Detailed investigation and evaluation for each assay...\n",
      "Successfully wrote: assay_hypothesis_1_beta.txt to: robin_notebook/Inclusion_Body_Myositis_2025-05-15_13-27/experimental_assay_detailed_hypotheses/assay_hypothesis_1_beta.txt\n",
      "Successfully wrote: assay_hypothesis_2_phospho.txt to: robin_notebook/Inclusion_Body_Myositis_2025-05-15_13-27/experimental_assay_detailed_hypotheses/assay_hypothesis_2_phospho.txt\n",
      "Successfully wrote: assay_hypothesis_3_tdp.txt to: robin_notebook/Inclusion_Body_Myositis_2025-05-15_13-27/experimental_assay_detailed_hypotheses/assay_hypothesis_3_tdp.txt\n",
      "Successfully wrote: assay_hypothesis_4_mitochondrial.txt to: robin_notebook/Inclusion_Body_Myositis_2025-05-15_13-27/experimental_assay_detailed_hypotheses/assay_hypothesis_4_mitochondrial.txt\n",
      "Successfully wrote: assay_hypothesis_5_upr.txt to: robin_notebook/Inclusion_Body_Myositis_2025-05-15_13-27/experimental_assay_detailed_hypotheses/assay_hypothesis_5_upr.txt\n",
      "Successfully wrote: assay_hypothesis_6_myotube.txt to: robin_notebook/Inclusion_Body_Myositis_2025-05-15_13-27/experimental_assay_detailed_hypotheses/assay_hypothesis_6_myotube.txt\n",
      "Successfully wrote: assay_hypothesis_7_immune.txt to: robin_notebook/Inclusion_Body_Myositis_2025-05-15_13-27/experimental_assay_detailed_hypotheses/assay_hypothesis_7_immune.txt\n",
      "Successfully wrote: assay_hypothesis_8_autophagic.txt to: robin_notebook/Inclusion_Body_Myositis_2025-05-15_13-27/experimental_assay_detailed_hypotheses/assay_hypothesis_8_autophagic.txt\n",
      "Successfully wrote: assay_hypothesis_9_proteasome.txt to: robin_notebook/Inclusion_Body_Myositis_2025-05-15_13-27/experimental_assay_detailed_hypotheses/assay_hypothesis_9_proteasome.txt\n",
      "Successfully wrote: assay_hypothesis_10_high.txt to: robin_notebook/Inclusion_Body_Myositis_2025-05-15_13-27/experimental_assay_detailed_hypotheses/assay_hypothesis_10_high.txt\n",
      "\n",
      "Step 5: Selecting the top experimental assay...\n",
      "Starting comparisons for 45 pairs with max concurrency 100...\n"
     ]
    },
    {
     "name": "stderr",
     "output_type": "stream",
     "text": [
      "Comparing Hypotheses:  47%|████▋     | 21/45 [00:08<00:02,  9.49it/s]"
     ]
    },
    {
     "name": "stdout",
     "output_type": "stream",
     "text": [
      "\n",
      "JSON Decode Error for pair (2, 3) (Index 40): Invalid control character at: line 1 column 885 (char 884)\n",
      "Raw Content: {\"Analysis\":\"Both assays target key pathological features of Inclusion Body Myositis (IBM) in a simplified in vitro context. The TDP-43 localization reporter assay directly monitors a hallmark of IBM—cytoplasmic mislocalization and aggregation of TDP-43—using GFP-tagged fusion protein in differentiating human myotubes under inflammatory stress. It offers quantifiable nuclear/cytoplasmic ratio readouts in a 96-well format, enabling medium-throughput screening and real-time observation of protein dynamics tied to RNA metabolism, autophagy, and mitochondrial pathways. However, it requires stable or transient transfection, overexpression of tagged TDP-43 (risking artefacts), and sophisticated imaging plus potential follow-up biochemical fractionation to confirm pathological species. The simplified muscle cell environment also omits immune-cell interactions and chronic stress.\n",
      "\n",
      "The mitochondrial membrane potential (Δψm) assay measures a central functional endpoint—mitochondrial health—in human skeletal muscle cells exposed to proinflammatory cytokines. Using established fluorescent dyes (TMRE or JC-1), it yields rapid, live-cell, ratiometric or intensity-based readouts of mitochondrial depolarization/hyperpolarization, which correlate with ATP production deficits, ROS generation, and apoptotic susceptibility in IBM. This assay is operationally simple (no genetic manipulation), amenable to high-throughput (96- or 384-well) live-cell imaging or plate readers, and directly quantifies a bioenergetic parameter fundamental to IBM pathogenesis. Limitations include dye loading variability and the need to complement Δψm with additional bioenergetic or morphological endpoints, but these are well-characterized and manageable in standard labs.\",\"Reasoning\":\"While the TDP-43 reporter assay provides mechanistic insight into protein mislocalization—a signature of IBM—it is technically more complex, slower, and susceptible to artefacts from overexpression and simplified cell culture conditions. In contrast, the mitochondrial membrane potential assay delivers a direct, functional, and quantitative measurement of mitochondrial health, central to IBM pathology, with minimal manipulation, rapid readout, and robust adaptability to high-throughput formats. Its simplicity, direct link to cell bioenergetics, and translational relevance in human skeletal muscle cells make it the superior choice for early-stage therapeutic screening.\",\"Winner\":\"(Mitochondrial membrane potential assay, 3)\",\"Loser\":\"(TDP-43 localization reporter assay, 2)\"}\n"
     ]
    },
    {
     "name": "stderr",
     "output_type": "stream",
     "text": [
      "Comparing Hypotheses: 100%|██████████| 45/45 [00:14<00:00,  3.01it/s]\n"
     ]
    },
    {
     "name": "stdout",
     "output_type": "stream",
     "text": [
      "\n",
      "Finished processing pairs.\n",
      " - Successful comparisons: 44\n",
      " - Errors encountered: 1\n",
      "Successfully saved 44 results to robin_notebook/Inclusion_Body_Myositis_2025-05-15_13-27/experimental_assay_ranking_results.csv\n",
      "Experimental Assay Selected: Myotube contractility assay\n",
      "Candidate Generation Goal: Screen a diverse compound library using the myotube contractility assay in IBM patient-derived myotubes to identify novel therapeutics that restore contractile function.\n"
     ]
    }
   ],
   "source": [
    "candidate_generation_goal = await experimental_assay(configuration=config)"
   ]
  },
  {
   "cell_type": "markdown",
   "metadata": {},
   "source": [
    "### Therapeutic candidate generation"
   ]
  },
  {
   "cell_type": "code",
   "execution_count": null,
   "metadata": {},
   "outputs": [
    {
     "name": "stdout",
     "output_type": "stream",
     "text": [
      "Starting generation of 30 therapeutic candidates.\n",
      "———————————————————————————————————————————————————————————————\n",
      "\n",
      "Step 1: Formulating relevant queries for literature search...\n",
      "Generated Queries:\n",
      "1. High-throughput screening AND contractility-based phenotypic assays AND human IBM patient-derived myotubes AND small-molecule libraries restoring muscle force OR contractile amplitude AND target validation, mechanism confirmation, pharmacokinetic and safety profiles in disease-relevant models\n",
      "2. Small-molecule modulators AND myotube contractile dysfunction in Inclusion Body Myositis AND restoration of sarcomere function in patient-derived skeletal muscle cells AND evidence of on-target engagement AND data on ADME and toxicity\n",
      "3. Phenotypic drug discovery AND contractility assay development in IBM myotubes AND comparison of chemical scaffolds and hit validation AND mechanistic studies demonstrating modulation of proteostasis, autophagy, or inflammatory pathways with safety data\n",
      "4. Disease-relevant models AND small-molecule efficacy in patient-derived IBM myotubes AND rescue of contractile deficits AND confirmation of target modulation by biochemical assays AND PK/PD and preclinical toxicology data from animal and cell-based studies\n",
      "5. Chemical library screening AND rescue of contractile strength deficits in IBM-derived myotubes AND multi-parametric phenotypic profiling AND structure-activity relationships AND elucidation of precise molecular targets with minimal off-target effects and functional validation\n",
      "6. Molecular pathogenesis of Inclusion Body Myositis AND genetic and functional evidence linking proteostasis dysregulation, rimmed vacuoles, TDP-43 and β-amyloid inclusions to contractile dysfunction in patient muscle fibers, in vitro and in vivo studies analyzing morphological and functional correlates\n",
      "7. Autophagy and proteasome impairment in Inclusion Body Myositis AND mechanistic studies detailing how disruption of protein clearance pathways contributes to muscle fiber degeneration and contractile weakness in patient-derived models AND potential interventions\n",
      "8. Inflammatory signaling pathways in IBM skeletal muscle AND specific roles of IL-1β, TNFα, type I interferons, NF-κB activation in myotube dysfunction AND modulation by genetic or pharmacological interventions with impact on contractile performance\n",
      "9. Molecular validation of therapeutic targets in IBM AND evidence from CRISPR or RNAi studies confirming causative roles of VCP, SQSTM1, TARDBP, or mitochondrial genes in contractile impairment within patient-derived myotubes AND downstream pathway analyses\n",
      "10. Biophysical and biochemical characterization of sarcomere disorganization in Inclusion Body Myositis AND high-resolution imaging and contractility measurements correlating structural defects with functional deficits AND potential rescue by pathway-specific interventions or candidate small molecules\n",
      "\n",
      "Step 2: Conducting literature search with FutureHouse platform...\n",
      "Successfully wrote: query_1_high.txt to: robin_notebook/Inclusion_Body_Myositis_2025-05-15_13-27/therapeutic_candidate_literature_reviews/query_1_high.txt\n",
      "Successfully wrote: query_2_small.txt to: robin_notebook/Inclusion_Body_Myositis_2025-05-15_13-27/therapeutic_candidate_literature_reviews/query_2_small.txt\n",
      "Successfully wrote: query_3_phenotypic.txt to: robin_notebook/Inclusion_Body_Myositis_2025-05-15_13-27/therapeutic_candidate_literature_reviews/query_3_phenotypic.txt\n",
      "Successfully wrote: query_4_disease.txt to: robin_notebook/Inclusion_Body_Myositis_2025-05-15_13-27/therapeutic_candidate_literature_reviews/query_4_disease.txt\n",
      "Successfully wrote: query_5_chemical.txt to: robin_notebook/Inclusion_Body_Myositis_2025-05-15_13-27/therapeutic_candidate_literature_reviews/query_5_chemical.txt\n",
      "Successfully wrote: query_6_molecular.txt to: robin_notebook/Inclusion_Body_Myositis_2025-05-15_13-27/therapeutic_candidate_literature_reviews/query_6_molecular.txt\n",
      "Successfully wrote: query_7_autophagy.txt to: robin_notebook/Inclusion_Body_Myositis_2025-05-15_13-27/therapeutic_candidate_literature_reviews/query_7_autophagy.txt\n",
      "Successfully wrote: query_8_inflammatory.txt to: robin_notebook/Inclusion_Body_Myositis_2025-05-15_13-27/therapeutic_candidate_literature_reviews/query_8_inflammatory.txt\n",
      "Successfully wrote: query_9_molecular.txt to: robin_notebook/Inclusion_Body_Myositis_2025-05-15_13-27/therapeutic_candidate_literature_reviews/query_9_molecular.txt\n",
      "Successfully wrote: query_10_biophysical.txt to: robin_notebook/Inclusion_Body_Myositis_2025-05-15_13-27/therapeutic_candidate_literature_reviews/query_10_biophysical.txt\n",
      "\n",
      "Step 3: Generating 30 ideas for therapeutic candidates...\n",
      "\n",
      "Successfully parsed 30 candidate ideas.\n",
      "Candidate: Rapamycin (Sirolimus)<|>Hypothesis: Inhibition of mTORC1 by rapamycin will restore autoph...\n",
      "Candidate: Arimoclomol<|>Hypothesis: Co-induction of heat shock proteins by arimoclomol will enhance...\n",
      "Candidate: Spermidine<|>Hypothesis: As a natural polyamine autophagy inducer, spermidine will activa...\n",
      "Candidate: SMER28<|>Hypothesis: SMER28, a small-molecule enhancer of rapamycin-induced autophagy, wi...\n",
      "Candidate: Urolithin A<|>Hypothesis: Urolithin A will activate mitophagy in IBM myotubes by upregula...\n",
      "Candidate: Metformin<|>Hypothesis: Activation of AMPK by metformin will inhibit mTORC1 and stimulate...\n",
      "Candidate: Trehalose<|>Hypothesis: Trehalose will induce autophagy via TFEB nuclear translocation in...\n",
      "Candidate: Tofacitinib<|>Hypothesis: JAK1/3 inhibition by tofacitinib will suppress type I interfero...\n",
      "Candidate: Ruxolitinib<|>Hypothesis: Ruxolitinib-mediated JAK1/2 blockade will attenuate IFNγ and IF...\n",
      "Candidate: MCC950<|>Hypothesis: Inhibition of NLRP3 inflammasome by MCC950 will reduce IL-1β maturat...\n",
      "Candidate: IU1<|>Hypothesis: Inhibition of USP14 deubiquitinase by IU1 will enhance proteasome activ...\n",
      "Candidate: Celastrol<|>Hypothesis: Celastrol will upregulate HSF1-dependent heat shock response in I...\n",
      "Candidate: Geranylgeranylacetone (GGA)<|>Hypothesis: GGA-induced HSP70 upregulation will alleviate p...\n",
      "Candidate: BGP-15<|>Hypothesis: BGP-15-mediated induction of HSP72 and inhibition of PARP will impro...\n",
      "Candidate: SRT1720<|>Hypothesis: Activation of SIRT1 by SRT1720 in IBM myotubes will stimulate mitoc...\n",
      "Candidate: TCH-165<|>Hypothesis: TCH-165 will directly activate the 20S proteasome in IBM myotubes, ...\n",
      "Candidate: Anle138b<|>Hypothesis: Anle138b will inhibit oligomerization of misfolded proteins (TDP-4...\n",
      "Candidate: Roflumilast<|>Hypothesis: PDE4 inhibition by roflumilast will elevate cAMP in IBM myotube...\n",
      "Candidate: Reldesemtiv (CK-2127107)<|>Hypothesis: Selective activation of fast skeletal troponin by ...\n",
      "Candidate: ML-SA1<|>Hypothesis: Activation of lysosomal TRPML1 channels by ML-SA1 will enhance lysos...\n",
      "Candidate: Pexidartinib<|>Hypothesis: CSF1R inhibition by pexidartinib will reduce macrophage-mediat...\n",
      "Candidate: Sulforaphane<|>Hypothesis: Nrf2 activation by sulforaphane will induce antioxidant and pr...\n",
      "Candidate: Dimethyl Fumarate<|>Hypothesis: Through Nrf2 pathway activation and immunomodulation, dim...\n",
      "Candidate: MLN120B<|>Hypothesis: Selective IKKβ inhibition by MLN120B will block NF-κB–mediated tran...\n",
      "Candidate: RAD140 (Testolone)<|>Hypothesis: Selective androgen receptor modulation by RAD140 will st...\n",
      "Candidate: Tauroursodeoxycholic Acid (TUDCA)<|>Hypothesis: TUDCA will alleviate ER stress and unfold...\n",
      "Candidate: Elamipretide (SS-31)<|>Hypothesis: Mitochondrial-targeted peptide elamipretide will bind ...\n",
      "Candidate: Fasudil<|>Hypothesis: Rho kinase inhibition by fasudil will enhance myotube contractility...\n",
      "Candidate: 20-Hydroxyecdysone (BIO101)<|>Hypothesis: 20-Hydroxyecdysone will stimulate PI3K/Akt sign...\n",
      "Candidate: Selinexor<|>Hypothesis: Inhibition of XPO1-mediated nuclear export by selinexor will reta...\n",
      "Successfully exported to robin_notebook/Inclusion_Body_Myositis_2025-05-15_13-27/therapeutic_candidates_summary.txt\n",
      "\n",
      "Step 4: Detailed investigation and evaluation for candidates...\n",
      "Successfully wrote: therapeutic_candidate_1_rapamycin.txt to: robin_notebook/Inclusion_Body_Myositis_2025-05-15_13-27/therapeutic_candidate_detailed_hypotheses/therapeutic_candidate_1_rapamycin.txt\n",
      "Successfully wrote: therapeutic_candidate_2_arimoclomol.txt to: robin_notebook/Inclusion_Body_Myositis_2025-05-15_13-27/therapeutic_candidate_detailed_hypotheses/therapeutic_candidate_2_arimoclomol.txt\n",
      "Successfully wrote: therapeutic_candidate_3_spermidine.txt to: robin_notebook/Inclusion_Body_Myositis_2025-05-15_13-27/therapeutic_candidate_detailed_hypotheses/therapeutic_candidate_3_spermidine.txt\n",
      "Successfully wrote: therapeutic_candidate_4_smer28.txt to: robin_notebook/Inclusion_Body_Myositis_2025-05-15_13-27/therapeutic_candidate_detailed_hypotheses/therapeutic_candidate_4_smer28.txt\n",
      "Successfully wrote: therapeutic_candidate_5_urolithin.txt to: robin_notebook/Inclusion_Body_Myositis_2025-05-15_13-27/therapeutic_candidate_detailed_hypotheses/therapeutic_candidate_5_urolithin.txt\n",
      "Successfully wrote: therapeutic_candidate_6_metformin.txt to: robin_notebook/Inclusion_Body_Myositis_2025-05-15_13-27/therapeutic_candidate_detailed_hypotheses/therapeutic_candidate_6_metformin.txt\n",
      "Successfully wrote: therapeutic_candidate_7_trehalose.txt to: robin_notebook/Inclusion_Body_Myositis_2025-05-15_13-27/therapeutic_candidate_detailed_hypotheses/therapeutic_candidate_7_trehalose.txt\n",
      "Successfully wrote: therapeutic_candidate_8_tofacitinib.txt to: robin_notebook/Inclusion_Body_Myositis_2025-05-15_13-27/therapeutic_candidate_detailed_hypotheses/therapeutic_candidate_8_tofacitinib.txt\n",
      "Successfully wrote: therapeutic_candidate_9_ruxolitinib.txt to: robin_notebook/Inclusion_Body_Myositis_2025-05-15_13-27/therapeutic_candidate_detailed_hypotheses/therapeutic_candidate_9_ruxolitinib.txt\n",
      "Successfully wrote: therapeutic_candidate_10_mcc950.txt to: robin_notebook/Inclusion_Body_Myositis_2025-05-15_13-27/therapeutic_candidate_detailed_hypotheses/therapeutic_candidate_10_mcc950.txt\n",
      "Successfully wrote: therapeutic_candidate_11_iu1.txt to: robin_notebook/Inclusion_Body_Myositis_2025-05-15_13-27/therapeutic_candidate_detailed_hypotheses/therapeutic_candidate_11_iu1.txt\n",
      "Successfully wrote: therapeutic_candidate_12_celastrol.txt to: robin_notebook/Inclusion_Body_Myositis_2025-05-15_13-27/therapeutic_candidate_detailed_hypotheses/therapeutic_candidate_12_celastrol.txt\n",
      "Successfully wrote: therapeutic_candidate_13_geranylgeranylacetone.txt to: robin_notebook/Inclusion_Body_Myositis_2025-05-15_13-27/therapeutic_candidate_detailed_hypotheses/therapeutic_candidate_13_geranylgeranylacetone.txt\n",
      "Successfully wrote: therapeutic_candidate_14_bgp.txt to: robin_notebook/Inclusion_Body_Myositis_2025-05-15_13-27/therapeutic_candidate_detailed_hypotheses/therapeutic_candidate_14_bgp.txt\n",
      "Successfully wrote: therapeutic_candidate_15_srt1720.txt to: robin_notebook/Inclusion_Body_Myositis_2025-05-15_13-27/therapeutic_candidate_detailed_hypotheses/therapeutic_candidate_15_srt1720.txt\n",
      "Successfully wrote: therapeutic_candidate_16_tch.txt to: robin_notebook/Inclusion_Body_Myositis_2025-05-15_13-27/therapeutic_candidate_detailed_hypotheses/therapeutic_candidate_16_tch.txt\n",
      "Successfully wrote: therapeutic_candidate_17_anle138b.txt to: robin_notebook/Inclusion_Body_Myositis_2025-05-15_13-27/therapeutic_candidate_detailed_hypotheses/therapeutic_candidate_17_anle138b.txt\n",
      "Successfully wrote: therapeutic_candidate_18_roflumilast.txt to: robin_notebook/Inclusion_Body_Myositis_2025-05-15_13-27/therapeutic_candidate_detailed_hypotheses/therapeutic_candidate_18_roflumilast.txt\n",
      "Successfully wrote: therapeutic_candidate_19_reldesemtiv.txt to: robin_notebook/Inclusion_Body_Myositis_2025-05-15_13-27/therapeutic_candidate_detailed_hypotheses/therapeutic_candidate_19_reldesemtiv.txt\n",
      "Successfully wrote: therapeutic_candidate_20_ml.txt to: robin_notebook/Inclusion_Body_Myositis_2025-05-15_13-27/therapeutic_candidate_detailed_hypotheses/therapeutic_candidate_20_ml.txt\n",
      "Successfully wrote: therapeutic_candidate_21_pexidartinib.txt to: robin_notebook/Inclusion_Body_Myositis_2025-05-15_13-27/therapeutic_candidate_detailed_hypotheses/therapeutic_candidate_21_pexidartinib.txt\n",
      "Successfully wrote: therapeutic_candidate_22_sulforaphane.txt to: robin_notebook/Inclusion_Body_Myositis_2025-05-15_13-27/therapeutic_candidate_detailed_hypotheses/therapeutic_candidate_22_sulforaphane.txt\n",
      "Successfully wrote: therapeutic_candidate_23_dimethyl.txt to: robin_notebook/Inclusion_Body_Myositis_2025-05-15_13-27/therapeutic_candidate_detailed_hypotheses/therapeutic_candidate_23_dimethyl.txt\n",
      "Successfully wrote: therapeutic_candidate_24_mln120b.txt to: robin_notebook/Inclusion_Body_Myositis_2025-05-15_13-27/therapeutic_candidate_detailed_hypotheses/therapeutic_candidate_24_mln120b.txt\n",
      "Successfully wrote: therapeutic_candidate_25_rad140.txt to: robin_notebook/Inclusion_Body_Myositis_2025-05-15_13-27/therapeutic_candidate_detailed_hypotheses/therapeutic_candidate_25_rad140.txt\n",
      "Successfully wrote: therapeutic_candidate_26_tauroursodeoxycholic.txt to: robin_notebook/Inclusion_Body_Myositis_2025-05-15_13-27/therapeutic_candidate_detailed_hypotheses/therapeutic_candidate_26_tauroursodeoxycholic.txt\n",
      "Successfully wrote: therapeutic_candidate_27_elamipretide.txt to: robin_notebook/Inclusion_Body_Myositis_2025-05-15_13-27/therapeutic_candidate_detailed_hypotheses/therapeutic_candidate_27_elamipretide.txt\n",
      "Successfully wrote: therapeutic_candidate_28_fasudil.txt to: robin_notebook/Inclusion_Body_Myositis_2025-05-15_13-27/therapeutic_candidate_detailed_hypotheses/therapeutic_candidate_28_fasudil.txt\n",
      "Successfully wrote: therapeutic_candidate_29_20.txt to: robin_notebook/Inclusion_Body_Myositis_2025-05-15_13-27/therapeutic_candidate_detailed_hypotheses/therapeutic_candidate_29_20.txt\n",
      "Successfully wrote: therapeutic_candidate_30_selinexor.txt to: robin_notebook/Inclusion_Body_Myositis_2025-05-15_13-27/therapeutic_candidate_detailed_hypotheses/therapeutic_candidate_30_selinexor.txt\n",
      "\n",
      "Step 5: Ranking the strength of the therapeutic candidates...\n",
      "Processing file: therapeutic_candidate_1_rapamycin.txt...\n",
      "Processing file: therapeutic_candidate_20_ml.txt...\n",
      "Processing file: therapeutic_candidate_15_srt1720.txt...\n",
      "Processing file: therapeutic_candidate_13_geranylgeranylacetone.txt...\n",
      "Processing file: therapeutic_candidate_6_metformin.txt...\n",
      "Processing file: therapeutic_candidate_26_tauroursodeoxycholic.txt...\n",
      "Processing file: therapeutic_candidate_2_arimoclomol.txt...\n",
      "Processing file: therapeutic_candidate_5_urolithin.txt...\n",
      "Processing file: therapeutic_candidate_19_reldesemtiv.txt...\n",
      "Processing file: therapeutic_candidate_16_tch.txt...\n",
      "Processing file: therapeutic_candidate_4_smer28.txt...\n",
      "Processing file: therapeutic_candidate_24_mln120b.txt...\n",
      "Processing file: therapeutic_candidate_30_selinexor.txt...\n",
      "Processing file: therapeutic_candidate_9_ruxolitinib.txt...\n",
      "Processing file: therapeutic_candidate_28_fasudil.txt...\n",
      "Processing file: therapeutic_candidate_23_dimethyl.txt...\n",
      "Processing file: therapeutic_candidate_7_trehalose.txt...\n",
      "Processing file: therapeutic_candidate_21_pexidartinib.txt...\n",
      "Processing file: therapeutic_candidate_17_anle138b.txt...\n",
      "Processing file: therapeutic_candidate_29_20.txt...\n",
      "Processing file: therapeutic_candidate_3_spermidine.txt...\n",
      "Processing file: therapeutic_candidate_22_sulforaphane.txt...\n",
      "Processing file: therapeutic_candidate_25_rad140.txt...\n",
      "Processing file: therapeutic_candidate_27_elamipretide.txt...\n",
      "Processing file: therapeutic_candidate_18_roflumilast.txt...\n",
      "Processing file: therapeutic_candidate_11_iu1.txt...\n",
      "Processing file: therapeutic_candidate_8_tofacitinib.txt...\n",
      "Processing file: therapeutic_candidate_10_mcc950.txt...\n",
      "Processing file: therapeutic_candidate_12_celastrol.txt...\n",
      "Processing file: therapeutic_candidate_14_bgp.txt...\n",
      "Starting comparisons for 300 pairs with max concurrency 100...\n"
     ]
    },
    {
     "name": "stderr",
     "output_type": "stream",
     "text": [
      "Comparing Hypotheses:  33%|███▎      | 98/300 [00:16<00:22,  9.08it/s]"
     ]
    },
    {
     "name": "stdout",
     "output_type": "stream",
     "text": [
      "\n",
      "JSON Decode Error for pair (21, 22) (Index 27): Invalid control character at: line 1 column 823 (char 822)\n",
      "Raw Content: {\"Analysis\":\"Candidate 1 (Sulforaphane, SFN) and Candidate 2 (RAD140) both lack direct clinical data in IBM, but their preclinical profiles diverge significantly in relevance and risk. SFN has a well‐established safety profile in humans and extensive preclinical data in muscle models showing activation of Nrf2, reduced oxidative stress, improved proteostasis, and enhanced mitochondrial function—mechanisms directly targeting key IBM hallmarks such as protein aggregation and redox imbalance. SFN’s oral bioavailability, nutritional origins, and demonstrated proteasome and autophagy induction make its translation into IBM models feasible. Its main weakness is the absence of IBM‐specific trials and uncertain impact on immune‐mediated pathology, but these can be addressed in combination or through dosing strategies. \n",
      "\n",
      "RAD140, by contrast, offers potent anabolic stimulation through selective AR modulation, increasing muscle mass and hypertrophy in preclinical and early‐phase cachexia studies. However, IBM pathology is driven by a combination of degeneration, aggregation, and inflammation, not solely anabolic insufficiency. RAD140’s mechanism does not address oxidative or proteostatic deficits or inflammatory components. Safety concerns include potential hepatotoxicity and unknown long‐term effects of chronic AR modulation. While its tissue selectivity is appealing, the risk of off‐target effects at higher doses and absence of IBM‐specific data weaken its translational promise for this disease. \n",
      "\n",
      "Overall, SFN’s direct engagement of core IBM pathophysiology, strong safety record, and feasibility for rapid repurposing outweigh RAD140’s anabolic benefits, which address only one dimension of IBM and carry higher translational risk.\",\"Reasoning\":\"Sulforaphane is superior because it directly modulates Nrf2‐driven antioxidant and proteostatic pathways that underlie IBM pathogenesis, enjoys decades of human safety data, and has demonstrated efficacy in muscle and aggregation models. RAD140, while effective at stimulating muscle growth, does not target protein aggregation or inflammation, has a less mature safety profile in chronic use, and poses hepatic risks. The multifaceted and low‐risk strategy of SFN offers a higher probability of successful preclinical outcomes and translation into a viable therapy for IBM.\",\"Winner\":\"(Sulforaphane, 21)\",\"Loser\":\"(RAD140, 22)\"}\n"
     ]
    },
    {
     "name": "stderr",
     "output_type": "stream",
     "text": [
      "Comparing Hypotheses:  48%|████▊     | 144/300 [00:22<00:11, 13.13it/s]"
     ]
    },
    {
     "name": "stdout",
     "output_type": "stream",
     "text": [
      "\n",
      "JSON Decode Error for pair (17, 27) (Index 239): Invalid control character at: line 1 column 983 (char 982)\n",
      "Raw Content: {\"Analysis\":\"Both candidates address key inflammatory components of Inclusion Body Myositis (IBM) but differ markedly in evidence depth, mechanistic specificity, safety, and translational readiness. Pexidartinib (ID:17) is an FDA‐approved CSF1R inhibitor with robust clinical data in tenosynovial giant cell tumor, demonstrating potent macrophage depletion, oral bioavailability, and well-characterized PK/PD. However, evidence for IBM is entirely indirect, drawn from oncology and fibrotic/muscle injury models, with no published preclinical or clinical IBM studies. Its mechanism—macrophage depletion—while plausible, is upstream and non‐specific to IL‐1β–driven proteostatic stress in myofibers. Moreover, hepatotoxicity risk under chronic administration raises safety concerns in a non‐malignant, long-term indication. Experimental feasibility is high given known dosing regimens, but lack of muscle‐specific data and potential interference with muscle repair temper enthusiasm.\n",
      "\n",
      "MCC950 (ID:27) is a highly selective NLRP3 inflammasome inhibitor with detailed biochemical targeting of the NACHT ATPase domain, directly blocking IL-1β/IL-18 maturation and pyroptosis. Preclinical studies in multiple inflammatory and muscle injury models (including rodent muscle inflammation) show efficacy in reducing inflammatory cytokines, preventing pyroptosis, and improving muscle function. Oral bioavailability and favorable half-life support translational feasibility. While lacking clinical IBM data, its mechanism addresses a core inflammasome‐driven pathogenesis in IBM, offering a direct intervention on IL-1β–mediated proteostatic and contractile dysfunction. Early‐phase safety in humans is limited but no major toxicity signals have emerged; preclinical selectivity minimizes off-target immune suppression.\n",
      "\n",
      "Overall, MCC950 provides greater mechanistic specificity to a validated inflammatory node in IBM, stronger relevance of preclinical muscle data, and a favorable safety/feasibility profile for chronic use compared to repurposing risks and hepatotoxicity concerns with pexidartinib.\",\"Reasoning\":\"MCC950 is superior because it directly targets NLRP3 inflammasome activation—a core driver of IL-1β–mediated muscle damage in IBM—and has strong, disease-relevant preclinical data in muscle inflammation models. Its high target specificity minimizes off-target effects, and oral PK supports chronic administration. In contrast, pexidartinib’s CSF1R inhibition is less specific to the inflammasome axis, relies on extrapolation from oncology and fibrosis models, and carries hepatic toxicity risk that complicates long-term use in a benign but chronic disease. Thus, the directness of mechanism, quality of muscle‐relevant evidence, and translational feasibility favor MCC950.\",\"Winner\":\"(MCC950, 27)\",\"Loser\":\"(Pexidartinib, 17)\"}\n"
     ]
    },
    {
     "name": "stderr",
     "output_type": "stream",
     "text": [
      "Comparing Hypotheses:  59%|█████▉    | 177/300 [00:26<00:12,  9.89it/s]"
     ]
    },
    {
     "name": "stdout",
     "output_type": "stream",
     "text": [
      "\n",
      "JSON Decode Error for pair (24, 27) (Index 190): Invalid control character at: line 1 column 805 (char 804)\n",
      "Raw Content: {\"Analysis\":\"Both candidates present compelling mechanistic rationales for targeting key IBM pathologies—chronic inflammation, proteostasis defects, and muscle degeneration—but differ substantially in the strength of existing evidence, translational readiness, and risk profiles. Roflumilast (Candidate 24) is a clinically approved PDE4 inhibitor with extensive human safety and PK/PD data in COPD, plus preclinical evidence in muscle‐wasting models that it elevates cAMP to dampen NF-κB–mediated inflammation and enhance autophagy and mitochondrial function in skeletal muscle. Its safety profile is known (mostly gastrointestinal effects and weight loss), and oral dosing is established. However, no direct IBM data exist; efficacy must be extrapolated from COPD‐cachexia and general myotube studies.  \n",
      "\n",
      "MCC950 (Candidate 27) is a highly selective small‐molecule inhibitor of the NLRP3 inflammasome, with robust in vitro and in vivo data in multiple inflammatory disease models (including rodent muscle inflammation) showing potent IL-1β/IL-18 suppression, reduced pyroptosis, and improved tissue function. Its mechanism is exceptionally clear and direct for inflammasome‐driven inflammation, minimizing off‐target effects. Yet MCC950 remains in preclinical/early‐phase evaluation with limited human safety data, and has never been tested in IBM or advanced muscle‐disease models. The lack of clinical PK/PD and safety in the relevant patient population raises translational risk and timing concerns.  \n",
      "\n",
      "On key criteria: 1) Strength/Relevance of Evidence: Roflumilast benefits from large clinical trial data in humans plus muscle‐wasting preclinical models. MCC950 has strong preclinical but no human or muscle‐disease–specific evidence. 2) MoA Specificity and Disease Directness: MCC950 is highly specific for NLRP3, but only addresses IL-1β/pyroptosis. Roflumilast covers inflammation, autophagy induction, and proteostasis. 3) Safety/Tolerability: Roflumilast’s adverse profile is well characterized; MCC950’s human safety is largely unknown. 4) Feasibility: Roflumilast has an established path forward for repurposing. MCC950 requires de novo clinical development. 5) Novelty vs. Risk Balance: MCC950 is more novel but carries greater translational risk. Roflumilast’s repurposing offers faster potential impact. Overall, roflumilast presents a stronger integrated package of clinical safety, mechanistic breadth (inflammation + autophagy/proteostasis), and translational readiness, outweighing MCC950’s specificity and novelty but unproven clinical track record.\",\"Reasoning\":\"Roflumilast (Candidate 24) is superior because it combines a well‐established human safety profile and oral PK/PD data with mechanistic action addressing multiple IBM pathologies—anti‐inflammatory cytokine suppression, autophagy induction (ULK1 phosphorylation), proteostasis preservation, and mitochondrial support—backed by preclinical muscle‐wasting evidence. Its repurposing pathway is clear and expedited. In contrast, MCC950 (Candidate 27), while mechanistically precise and potent against NLRP3, has no IBM‐specific or human safety data, and only addresses one arm (IL-1β/pyroptosis) of the multifactorial IBM pathology. The translational risk, absence of clinical precedent, and narrow mechanistic scope make MCC950 the less favorable candidate for near‐term IBM therapy development.\",\"Winner\":\"(Roflumilast, 24)\",\"Loser\":\"(MCC950, 27)\"}\n"
     ]
    },
    {
     "name": "stderr",
     "output_type": "stream",
     "text": [
      "Comparing Hypotheses: 100%|██████████| 300/300 [00:58<00:00,  5.15it/s]\n"
     ]
    },
    {
     "name": "stdout",
     "output_type": "stream",
     "text": [
      "\n",
      "Finished processing pairs.\n",
      " - Successful comparisons: 297\n",
      " - Errors encountered: 3\n",
      "Successfully saved 297 results to robin_notebook/Inclusion_Body_Myositis_2025-05-15_13-27/therapeutic_candidate_ranking_results.csv\n",
      "Therapeutic candidate generation finished! Saved final rankings to robin_notebook/Inclusion_Body_Myositis_2025-05-15_13-27/ranked_therapeutic_candidates.csv\n"
     ]
    }
   ],
   "source": [
    "await therapeutic_candidates(\n",
    "    candidate_generation_goal=candidate_generation_goal, configuration=config\n",
    ")"
   ]
  }
 ],
 "metadata": {
  "kernelspec": {
   "display_name": "poplar",
   "language": "python",
   "name": "python3"
  },
  "language_info": {
   "codemirror_mode": {
    "name": "ipython",
    "version": 3
   },
   "file_extension": ".py",
   "mimetype": "text/x-python",
   "name": "python",
   "nbconvert_exporter": "python",
   "pygments_lexer": "ipython3"
  }
 },
 "nbformat": 4,
 "nbformat_minor": 2
}
