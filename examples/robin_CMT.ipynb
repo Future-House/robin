{
 "cells": [
  {
   "cell_type": "markdown",
   "metadata": {},
   "source": [
    "# Robin"
   ]
  },
  {
   "cell_type": "code",
   "execution_count": null,
   "metadata": {},
   "outputs": [],
   "source": [
    "import logging\n",
    "\n",
    "from robin.assays import experimental_assay\n",
    "from robin.candidates import therapeutic_candidates\n",
    "from robin.configuration import RobinConfiguration"
   ]
  },
  {
   "cell_type": "markdown",
   "metadata": {},
   "source": [
    "## Robin Set Up"
   ]
  },
  {
   "cell_type": "code",
   "execution_count": null,
   "metadata": {},
   "outputs": [],
   "source": [
    "config = RobinConfiguration(\n",
    "    disease_name=\"Charcot-Marie-Tooth Disease\",\n",
    "    num_assays=10,\n",
    "    num_candidates=30,\n",
    "    num_queries=5,\n",
    ")\n",
    "\n",
    "logger = logging.getLogger(\"robin\")\n",
    "logger.setLevel(logging.INFO)"
   ]
  },
  {
   "cell_type": "markdown",
   "metadata": {},
   "source": [
    "# Initial therapeutic hypothesis generation"
   ]
  },
  {
   "cell_type": "markdown",
   "metadata": {},
   "source": [
    "### Experimental assay generation"
   ]
  },
  {
   "cell_type": "code",
   "execution_count": null,
   "metadata": {},
   "outputs": [
    {
     "name": "stdout",
     "output_type": "stream",
     "text": [
      "Starting selection of a relevant experimental assay.\n",
      "————————————————————————————————————————————————————\n",
      "\n",
      "Step 1: Formulating relevant queries for literature search...\n",
      "Generated Queries:\n",
      "1. Comprehensive mechanisms by which PMP22 gene dosage imbalances, MPZ mutations, GJB1 defects and MFN2 alterations drive Schwann cell pathology, demyelination, axonal degeneration in CMT; upstream regulators, signaling pathways, cellular stress responses, calcium homeostasis.\n",
      "2. Optimized protocols and differentiation strategies for generating mature myelinating Schwann cells or sensory neurons from human iPSCs or primary cultures; media composition, growth factors, co-culture conditions, extracellular matrix substrates, scalability for drug testing assays.\n",
      "3. Quantitative biochemical and imaging-based readouts for assessing myelination, nodal architecture, axonal integrity, mitochondrial function and lipid metabolism in Schwann cell-neuron co-cultures; validated biomarkers, fluorescent reporter constructs, automated image analysis pipelines.\n",
      "4. Mechanistic insights into ER stress, unfolded protein response, proteasomal degradation and autophagy pathways in CMT Schwann cells; cross-talk with mitochondrial dynamics, mitophagy, ROS generation, calcium signaling, and potential rescue biomarkers for cell-based assay readouts.\n",
      "5. Designing robust high-throughput phenotypic screening platforms for CMT cell models: assay miniaturization, reproducibility metrics, Z’-factor optimization, integration of multi-parametric imaging, label-free sensors, electrophysiological endpoints, and data analysis workflows for hit identification.\n",
      "\n",
      "Step 2: Conducting literature search with FutureHouse platform...\n",
      "Successfully wrote: query_1_comprehensive.txt to: robin_notebook/Charcot-Marie-Tooth_Disease_2025-05-14_11-09/experimental_assay_literature_reviews/query_1_comprehensive.txt\n",
      "Successfully wrote: query_2_optimized.txt to: robin_notebook/Charcot-Marie-Tooth_Disease_2025-05-14_11-09/experimental_assay_literature_reviews/query_2_optimized.txt\n",
      "Successfully wrote: query_3_quantitative.txt to: robin_notebook/Charcot-Marie-Tooth_Disease_2025-05-14_11-09/experimental_assay_literature_reviews/query_3_quantitative.txt\n",
      "Successfully wrote: query_4_mechanistic.txt to: robin_notebook/Charcot-Marie-Tooth_Disease_2025-05-14_11-09/experimental_assay_literature_reviews/query_4_mechanistic.txt\n",
      "Successfully wrote: query_5_designing.txt to: robin_notebook/Charcot-Marie-Tooth_Disease_2025-05-14_11-09/experimental_assay_literature_reviews/query_5_designing.txt\n",
      "\n",
      "Step 3: Generating ideas for relevant experimental assays...\n",
      "Strategy: ER stress reporter assay<|>Reasoning: PMP22 overexpression induces ER stress and UPR in Sc...\n",
      "Strategy: Myelination index assay<|>Reasoning: Immunofluorescent quantification of MBP relative to N...\n",
      "Strategy: Gap junction coupling assay<|>Reasoning: GJB1 mutations impair connexin32 channels in Schw...\n",
      "Strategy: Mitochondrial morphology assay<|>Reasoning: MFN2 mutations lead to mitochondrial fragmenta...\n",
      "Strategy: Calcium flux assay<|>Reasoning: Disrupted ER–mitochondria Ca2+ exchange in CMT models can ...\n",
      "Strategy: Autophagic flux assay<|>Reasoning: MPZ and PMP22 misfolding trigger autophagy in Schwann c...\n",
      "Strategy: Proteasome activity assay<|>Reasoning: Excess misfolded PMP22 overloads proteasomal degrad...\n",
      "Strategy: Axonal transport assay<|>Reasoning: Demyelination compromises axonal mitochondrial motilit...\n",
      "Strategy: Lipid incorporation assay<|>Reasoning: Myelin integrity depends on lipid metabolism; uptak...\n",
      "Strategy: Nodal domain formation assay<|>Reasoning: Restoration of compact myelin should re‐establis...\n",
      "Successfully exported to robin_notebook/Charcot-Marie-Tooth_Disease_2025-05-14_11-09/experimental_assay_summary.txt\n",
      "\n",
      "Step 4: Detailed investigation and evaluation for each assay...\n",
      "Successfully wrote: assay_hypothesis_1_er.txt to: robin_notebook/Charcot-Marie-Tooth_Disease_2025-05-14_11-09/experimental_assay_detailed_hypotheses/assay_hypothesis_1_er.txt\n",
      "Successfully wrote: assay_hypothesis_2_myelination.txt to: robin_notebook/Charcot-Marie-Tooth_Disease_2025-05-14_11-09/experimental_assay_detailed_hypotheses/assay_hypothesis_2_myelination.txt\n",
      "Successfully wrote: assay_hypothesis_3_gap.txt to: robin_notebook/Charcot-Marie-Tooth_Disease_2025-05-14_11-09/experimental_assay_detailed_hypotheses/assay_hypothesis_3_gap.txt\n",
      "Successfully wrote: assay_hypothesis_4_mitochondrial.txt to: robin_notebook/Charcot-Marie-Tooth_Disease_2025-05-14_11-09/experimental_assay_detailed_hypotheses/assay_hypothesis_4_mitochondrial.txt\n",
      "Successfully wrote: assay_hypothesis_5_calcium.txt to: robin_notebook/Charcot-Marie-Tooth_Disease_2025-05-14_11-09/experimental_assay_detailed_hypotheses/assay_hypothesis_5_calcium.txt\n",
      "Successfully wrote: assay_hypothesis_6_autophagic.txt to: robin_notebook/Charcot-Marie-Tooth_Disease_2025-05-14_11-09/experimental_assay_detailed_hypotheses/assay_hypothesis_6_autophagic.txt\n",
      "Successfully wrote: assay_hypothesis_7_proteasome.txt to: robin_notebook/Charcot-Marie-Tooth_Disease_2025-05-14_11-09/experimental_assay_detailed_hypotheses/assay_hypothesis_7_proteasome.txt\n",
      "Successfully wrote: assay_hypothesis_8_axonal.txt to: robin_notebook/Charcot-Marie-Tooth_Disease_2025-05-14_11-09/experimental_assay_detailed_hypotheses/assay_hypothesis_8_axonal.txt\n",
      "Successfully wrote: assay_hypothesis_9_lipid.txt to: robin_notebook/Charcot-Marie-Tooth_Disease_2025-05-14_11-09/experimental_assay_detailed_hypotheses/assay_hypothesis_9_lipid.txt\n",
      "Successfully wrote: assay_hypothesis_10_nodal.txt to: robin_notebook/Charcot-Marie-Tooth_Disease_2025-05-14_11-09/experimental_assay_detailed_hypotheses/assay_hypothesis_10_nodal.txt\n",
      "\n",
      "Step 5: Selecting the top experimental assay...\n",
      "Starting comparisons for 45 pairs with max concurrency 100...\n"
     ]
    },
    {
     "name": "stderr",
     "output_type": "stream",
     "text": [
      "Comparing Hypotheses: 100%|██████████| 45/45 [00:20<00:00,  2.24it/s]\n"
     ]
    },
    {
     "name": "stdout",
     "output_type": "stream",
     "text": [
      "\n",
      "Finished processing pairs.\n",
      " - Successful comparisons: 45\n",
      " - Errors encountered: 0\n",
      "Successfully saved 45 results to robin_notebook/Charcot-Marie-Tooth_Disease_2025-05-14_11-09/experimental_assay_ranking_results.csv\n",
      "Experimental Assay Selected: Nodal domain formation assay\n",
      "Candidate Generation Goal: Screen a focused library of candidate compounds using the nodal domain formation assay to identify molecules that restore paranodal architecture and improve axoglial integrity in Charcot-Marie-Tooth disease models.\n"
     ]
    }
   ],
   "source": [
    "candidate_generation_goal = await experimental_assay(configuration=config)"
   ]
  },
  {
   "cell_type": "markdown",
   "metadata": {},
   "source": [
    "### Therapeutic candidate generation"
   ]
  },
  {
   "cell_type": "code",
   "execution_count": null,
   "metadata": {},
   "outputs": [
    {
     "name": "stdout",
     "output_type": "stream",
     "text": [
      "Starting generation of 30 therapeutic candidates.\n",
      "———————————————————————————————————————————————————————————————\n",
      "\n",
      "Step 1: Formulating relevant queries for literature search...\n",
      "Generated Queries:\n",
      "1. Search for studies employing high-throughput small-molecule libraries screened using nodal domain formation or paranodal junction assembly assays in peripheral demyelinating neuropathies, specifically evaluating compounds that restore axoglial integrity and molecular markers of nodal/paranodal architecture in cell and animal models of Charcot-Marie-Tooth disease, with emphasis on target validation, mechanism confirmation, and preliminary pharmacokinetics/safety data\n",
      "2. Identify repurposed FDA-approved compounds or clinical-stage molecules that modulate expression, localization, or interaction of paranodal proteins (Caspr, Contactin-1, Neurofascin-155) in CMT patient-derived Schwann cell or dorsal root ganglion neuron coculture models, including data on dose–response, target engagement assays, and functional readouts of conduction velocity or nodal domain restoration\n",
      "3. Survey phenotypic screening campaigns focused on small molecules or biologics that enhance myelin–axon adhesion or paranodal septate junction assembly in rodent or iPSC-derived models of demyelinating neuropathy, prioritizing studies that report rescue of electrophysiological deficits, ultrastructural improvements, and ADME/toxicity profiles predictive of peripheral nerve exposure\n",
      "4. Query literature for mechanism-of-action studies of lead compounds identified in assays of nodal domain recovery—particularly inhibitors or activators of key signaling pathways (e.g., neuregulin-ErbB2/3, FAK/Src, RhoA/ROCK)—that demonstrate target engagement by biochemical or imaging methods in disease-relevant CMT models, including any translational PK/PD correlations\n",
      "5. Seek reports of small-molecule modulators of Schwann cell cytoskeletal regulators or membrane trafficking proteins (e.g., Fyn kinase, Annexin A2, endosomal recycling factors) that improve paranodal junction assembly and nerve conduction in in vivo CMT rodent models, with supporting safety and pharmacokinetic characterization\n",
      "6. Investigate genetic and functional studies delineating the role of paranodal cell adhesion molecules (Caspr1, Neurofascin-155, Contactin-1) in the formation and maintenance of nodal domains in peripheral nerves, with specific references to CMT mutations or animal knockout/knock-in models that phenocopy human disease pathophysiology\n",
      "7. Review the impact of common CMT-causing mutations (PMP22 duplication/triplication, MPZ, GJB1, MFN2) on Schwann cell–axon interactions, nodal/paranodal architecture, and conduction properties in both rodent models and patient-derived iPSC systems, including evidence for causative vs. secondary pathology\n",
      "8. Search ultrastructural and advanced imaging analyses (EM, super-resolution, live-cell) of nodal gap spacing, paranodal septate junction integrity, and axoglial contact sites in CMT patient nerve biopsies or experimental models, correlating structural defects with specific molecular disruptions\n",
      "9. Identify studies of intracellular signaling cascades that regulate Schwann cell adhesion and nodal domain stability—such as Rho GTPase cycles, FAK/Src pathways, and endocytic trafficking—where genetic manipulation or pharmacological inhibition/rescue experiments validate these pathways as therapeutic targets in CMT\n",
      "10. Compile evidence on mitochondrial dynamics, metabolic stress, and redox imbalance in Schwann cells and peripheral neurons as drivers of axoglial disjunction in Charcot-Marie-Tooth disease, focusing on target validation via genetic knockdown or small-molecule modulators that restore paranodal architecture and nerve function in preclinical models\n",
      "\n",
      "Step 2: Conducting literature search with FutureHouse platform...\n",
      "Successfully wrote: query_1_search.txt to: robin_notebook/Charcot-Marie-Tooth_Disease_2025-05-14_11-09/therapeutic_candidate_literature_reviews/query_1_search.txt\n",
      "Successfully wrote: query_2_identify.txt to: robin_notebook/Charcot-Marie-Tooth_Disease_2025-05-14_11-09/therapeutic_candidate_literature_reviews/query_2_identify.txt\n",
      "Successfully wrote: query_3_survey.txt to: robin_notebook/Charcot-Marie-Tooth_Disease_2025-05-14_11-09/therapeutic_candidate_literature_reviews/query_3_survey.txt\n",
      "Successfully wrote: query_4_query.txt to: robin_notebook/Charcot-Marie-Tooth_Disease_2025-05-14_11-09/therapeutic_candidate_literature_reviews/query_4_query.txt\n",
      "Successfully wrote: query_5_seek.txt to: robin_notebook/Charcot-Marie-Tooth_Disease_2025-05-14_11-09/therapeutic_candidate_literature_reviews/query_5_seek.txt\n",
      "Successfully wrote: query_6_investigate.txt to: robin_notebook/Charcot-Marie-Tooth_Disease_2025-05-14_11-09/therapeutic_candidate_literature_reviews/query_6_investigate.txt\n",
      "Successfully wrote: query_7_review.txt to: robin_notebook/Charcot-Marie-Tooth_Disease_2025-05-14_11-09/therapeutic_candidate_literature_reviews/query_7_review.txt\n",
      "Successfully wrote: query_8_search.txt to: robin_notebook/Charcot-Marie-Tooth_Disease_2025-05-14_11-09/therapeutic_candidate_literature_reviews/query_8_search.txt\n",
      "Successfully wrote: query_9_identify.txt to: robin_notebook/Charcot-Marie-Tooth_Disease_2025-05-14_11-09/therapeutic_candidate_literature_reviews/query_9_identify.txt\n",
      "Successfully wrote: query_10_compile.txt to: robin_notebook/Charcot-Marie-Tooth_Disease_2025-05-14_11-09/therapeutic_candidate_literature_reviews/query_10_compile.txt\n",
      "\n",
      "Step 3: Generating 30 ideas for therapeutic candidates...\n",
      "\n",
      "Successfully parsed 40 candidate ideas.\n",
      "Candidate: 4-Aminopyridine (4-AP; Sigma-Aldrich catalog # A2124)<|>Hypothesis: 4-AP will restore ner...\n",
      "Candidate: Ricolinostat (ACY-1215; Selleckchem catalog # S8040)<|>Hypothesis: Ricolinostat, a select...\n",
      "Candidate: ACY-738 (HDAC6 inhibitor; MedChemExpress catalog # HY-11010)<|>Hypothesis: ACY-738 will r...\n",
      "Candidate: CKD-504 (HDAC6 inhibitor; ChemDiv catalog # 05-2951)<|>Hypothesis: CKD-504 will improve a...\n",
      "Candidate: Fingolimod (FTY720; Cayman Chemical catalog # 11040)<|>Hypothesis: Fingolimod will enhanc...\n",
      "Candidate: Y-27632 (ROCK inhibitor; Tocris catalog # 1254)<|>Hypothesis: Y-27632 will promote parano...\n",
      "Candidate: Fasudil (HA-1077; Sigma-Aldrich catalog # F1620)<|>Hypothesis: Fasudil will restore paran...\n",
      "Candidate: LM22A-4 (TrkB agonist; Tocris catalog # 5030)<|>Hypothesis: LM22A-4 will enhance nodal an...\n",
      "Candidate: BNN-27 (TrkB agonist; lab synthesizable per protocol in Cattaneo et al., 2008)<|>Hypothes...\n",
      "Candidate: Recombinant Human Neuregulin-1β1 EGF-like Domain (rhNRG1β1; R&D Systems catalog # 396-NR)...\n",
      "Candidate: MitoQ (mitoquinone; Sigma-Aldrich catalog # SML0737)<|>Hypothesis: MitoQ will protect par...\n",
      "Candidate: SS-31 (Elamipretide; Stealth BioTherapeutics research-grade)<|>Hypothesis: SS-31 will sta...\n",
      "Candidate: Mdivi-1 (Drp1 inhibitor; Sigma-Aldrich catalog # D2215)<|>Hypothesis: Mdivi-1 will improv...\n",
      "Candidate: N-Acetylcysteine (NAC; Sigma-Aldrich catalog # A7250)<|>Hypothesis: NAC will restore para...\n",
      "Candidate: Pioglitazone (PPARγ agonist; Cayman Chemical catalog # 71740)<|>Hypothesis: Pioglitazone ...\n",
      "Candidate: Saroglitazar (PPARα/γ dual agonist; Cadila Pharmaceuticals research grade)<|>Hypothesis: ...\n",
      "Candidate: Curcumin (Sigma-Aldrich catalog # C1386)<|>Hypothesis: Curcumin will restore paranodal ju...\n",
      "Candidate: Guanabenz (eIF2α phosphatase inhibitor; Sigma-Aldrich catalog # G0089)<|>Hypothesis: Guan...\n",
      "Candidate: Forskolin (adenylate cyclase activator; Sigma-Aldrich catalog # F6886)<|>Hypothesis: Fors...\n",
      "Candidate: Simvastatin (HMG-CoA reductase inhibitor; Sigma-Aldrich catalog # S6196)<|>Hypothesis: Si...\n",
      "Candidate: Clemastine (mAChR antagonist; Sigma-Aldrich catalog # C4512)<|>Hypothesis: Clemastine wil...\n",
      "Candidate: Benztropine (mAChR antagonist; Sigma-Aldrich catalog # B1253)<|>Hypothesis: Benztropine w...\n",
      "Candidate: Seribantumab (MM-121; Merrimack Pharmaceuticals)<|>Hypothesis: Seribantumab will enhance ...\n",
      "Candidate: Pevonedistat (MLN4924; Cayman Chemical catalog # 20701)<|>Hypothesis: Pevonedistat will p...\n",
      "Candidate: Belumosudil (SLX-2119; Cayman Chemical catalog # 22621)<|>Hypothesis: Belumosudil will re...\n",
      "Candidate: GSK269962A (ROCK inhibitor; Tocris catalog # 4845)<|>Hypothesis: GSK269962A will enhance ...\n",
      "Candidate: SC79 (Akt activator; MedChemExpress catalog # HY-18749)<|>Hypothesis: SC79 will promote p...\n",
      "Candidate: XMU-MP-1 (MST1/2 inhibitor; MedChemExpress catalog # HY-112256)<|>Hypothesis: XMU-MP-1 wi...\n",
      "Candidate: DAPT (γ-secretase inhibitor; Sigma-Aldrich catalog # D5942)<|>Hypothesis: DAPT will impro...\n",
      "Candidate: Imatinib (c-Abl/PDGFR inhibitor; Sigma-Aldrich catalog # SML1027)<|>Hypothesis: Imatinib ...\n",
      "Candidate: Fingolimod-phosphate (FTY720-P; Cayman Chemical catalog # 11042)<|>Hypothesis: Fingolimod...\n",
      "Candidate: Valproic Acid (HDAC inhibitor; Sigma-Aldrich catalog # P4543)<|>Hypothesis: Valproic acid...\n",
      "Candidate: Clemastine Fumarate (Biogen formulation–equivalent to Tocris catalog # 2756)<|>Hypothesis...\n",
      "Candidate: Tetrandrine (calcium channel blocker; Sigma-Aldrich catalog # T0550)<|>Hypothesis: Tetran...\n",
      "Candidate: Phlorizin (SGLT inhibitor; Sigma-Aldrich catalog # P3692)<|>Hypothesis: Phlorizin will st...\n",
      "Candidate: Zonisamide (anticonvulsant; Sigma-Aldrich catalog # Z4777)<|>Hypothesis: Zonisamide will ...\n",
      "Candidate: Arimoclomol (HSF1 co-inducer; Orphazyme research grade)<|>Hypothesis: Arimoclomol will re...\n",
      "Candidate: BIIB113 (Nav1.6 blocker; Biogen investigational)<|>Hypothesis: BIIB113 will enhance condu...\n",
      "Candidate: TUDCA (tauroursodeoxycholic acid; Sigma-Aldrich catalog # T0261)<|>Hypothesis: TUDCA will...\n",
      "Candidate: Edaravone (radical scavenger; Mitsubishi Tanabe research-grade)<|>Hypothesis: Edaravone w...\n",
      "Successfully exported to robin_notebook/Charcot-Marie-Tooth_Disease_2025-05-14_11-09/therapeutic_candidates_summary.txt\n",
      "\n",
      "Step 4: Detailed investigation and evaluation for candidates...\n",
      "Successfully wrote: therapeutic_candidate_1_4.txt to: robin_notebook/Charcot-Marie-Tooth_Disease_2025-05-14_11-09/therapeutic_candidate_detailed_hypotheses/therapeutic_candidate_1_4.txt\n",
      "Successfully wrote: therapeutic_candidate_2_ricolinostat.txt to: robin_notebook/Charcot-Marie-Tooth_Disease_2025-05-14_11-09/therapeutic_candidate_detailed_hypotheses/therapeutic_candidate_2_ricolinostat.txt\n",
      "Successfully wrote: therapeutic_candidate_3_acy.txt to: robin_notebook/Charcot-Marie-Tooth_Disease_2025-05-14_11-09/therapeutic_candidate_detailed_hypotheses/therapeutic_candidate_3_acy.txt\n",
      "Successfully wrote: therapeutic_candidate_4_ckd.txt to: robin_notebook/Charcot-Marie-Tooth_Disease_2025-05-14_11-09/therapeutic_candidate_detailed_hypotheses/therapeutic_candidate_4_ckd.txt\n",
      "Successfully wrote: therapeutic_candidate_5_fingolimod.txt to: robin_notebook/Charcot-Marie-Tooth_Disease_2025-05-14_11-09/therapeutic_candidate_detailed_hypotheses/therapeutic_candidate_5_fingolimod.txt\n",
      "Successfully wrote: therapeutic_candidate_6_y.txt to: robin_notebook/Charcot-Marie-Tooth_Disease_2025-05-14_11-09/therapeutic_candidate_detailed_hypotheses/therapeutic_candidate_6_y.txt\n",
      "Successfully wrote: therapeutic_candidate_7_fasudil.txt to: robin_notebook/Charcot-Marie-Tooth_Disease_2025-05-14_11-09/therapeutic_candidate_detailed_hypotheses/therapeutic_candidate_7_fasudil.txt\n",
      "Successfully wrote: therapeutic_candidate_8_lm22a.txt to: robin_notebook/Charcot-Marie-Tooth_Disease_2025-05-14_11-09/therapeutic_candidate_detailed_hypotheses/therapeutic_candidate_8_lm22a.txt\n",
      "Successfully wrote: therapeutic_candidate_9_bnn.txt to: robin_notebook/Charcot-Marie-Tooth_Disease_2025-05-14_11-09/therapeutic_candidate_detailed_hypotheses/therapeutic_candidate_9_bnn.txt\n",
      "Successfully wrote: therapeutic_candidate_10_recombinant.txt to: robin_notebook/Charcot-Marie-Tooth_Disease_2025-05-14_11-09/therapeutic_candidate_detailed_hypotheses/therapeutic_candidate_10_recombinant.txt\n",
      "Successfully wrote: therapeutic_candidate_11_mitoq.txt to: robin_notebook/Charcot-Marie-Tooth_Disease_2025-05-14_11-09/therapeutic_candidate_detailed_hypotheses/therapeutic_candidate_11_mitoq.txt\n",
      "Successfully wrote: therapeutic_candidate_12_ss.txt to: robin_notebook/Charcot-Marie-Tooth_Disease_2025-05-14_11-09/therapeutic_candidate_detailed_hypotheses/therapeutic_candidate_12_ss.txt\n",
      "Successfully wrote: therapeutic_candidate_13_mdivi.txt to: robin_notebook/Charcot-Marie-Tooth_Disease_2025-05-14_11-09/therapeutic_candidate_detailed_hypotheses/therapeutic_candidate_13_mdivi.txt\n",
      "Successfully wrote: therapeutic_candidate_14_n.txt to: robin_notebook/Charcot-Marie-Tooth_Disease_2025-05-14_11-09/therapeutic_candidate_detailed_hypotheses/therapeutic_candidate_14_n.txt\n",
      "Successfully wrote: therapeutic_candidate_15_pioglitazone.txt to: robin_notebook/Charcot-Marie-Tooth_Disease_2025-05-14_11-09/therapeutic_candidate_detailed_hypotheses/therapeutic_candidate_15_pioglitazone.txt\n",
      "Successfully wrote: therapeutic_candidate_16_saroglitazar.txt to: robin_notebook/Charcot-Marie-Tooth_Disease_2025-05-14_11-09/therapeutic_candidate_detailed_hypotheses/therapeutic_candidate_16_saroglitazar.txt\n",
      "Successfully wrote: therapeutic_candidate_17_curcumin.txt to: robin_notebook/Charcot-Marie-Tooth_Disease_2025-05-14_11-09/therapeutic_candidate_detailed_hypotheses/therapeutic_candidate_17_curcumin.txt\n",
      "Successfully wrote: therapeutic_candidate_18_guanabenz.txt to: robin_notebook/Charcot-Marie-Tooth_Disease_2025-05-14_11-09/therapeutic_candidate_detailed_hypotheses/therapeutic_candidate_18_guanabenz.txt\n",
      "Successfully wrote: therapeutic_candidate_19_forskolin.txt to: robin_notebook/Charcot-Marie-Tooth_Disease_2025-05-14_11-09/therapeutic_candidate_detailed_hypotheses/therapeutic_candidate_19_forskolin.txt\n",
      "Successfully wrote: therapeutic_candidate_20_simvastatin.txt to: robin_notebook/Charcot-Marie-Tooth_Disease_2025-05-14_11-09/therapeutic_candidate_detailed_hypotheses/therapeutic_candidate_20_simvastatin.txt\n",
      "Successfully wrote: therapeutic_candidate_21_clemastine.txt to: robin_notebook/Charcot-Marie-Tooth_Disease_2025-05-14_11-09/therapeutic_candidate_detailed_hypotheses/therapeutic_candidate_21_clemastine.txt\n",
      "Successfully wrote: therapeutic_candidate_22_benztropine.txt to: robin_notebook/Charcot-Marie-Tooth_Disease_2025-05-14_11-09/therapeutic_candidate_detailed_hypotheses/therapeutic_candidate_22_benztropine.txt\n",
      "Successfully wrote: therapeutic_candidate_23_seribantumab.txt to: robin_notebook/Charcot-Marie-Tooth_Disease_2025-05-14_11-09/therapeutic_candidate_detailed_hypotheses/therapeutic_candidate_23_seribantumab.txt\n",
      "Successfully wrote: therapeutic_candidate_24_pevonedistat.txt to: robin_notebook/Charcot-Marie-Tooth_Disease_2025-05-14_11-09/therapeutic_candidate_detailed_hypotheses/therapeutic_candidate_24_pevonedistat.txt\n",
      "Successfully wrote: therapeutic_candidate_25_belumosudil.txt to: robin_notebook/Charcot-Marie-Tooth_Disease_2025-05-14_11-09/therapeutic_candidate_detailed_hypotheses/therapeutic_candidate_25_belumosudil.txt\n",
      "Successfully wrote: therapeutic_candidate_26_gsk269962a.txt to: robin_notebook/Charcot-Marie-Tooth_Disease_2025-05-14_11-09/therapeutic_candidate_detailed_hypotheses/therapeutic_candidate_26_gsk269962a.txt\n",
      "Successfully wrote: therapeutic_candidate_27_sc79.txt to: robin_notebook/Charcot-Marie-Tooth_Disease_2025-05-14_11-09/therapeutic_candidate_detailed_hypotheses/therapeutic_candidate_27_sc79.txt\n",
      "Successfully wrote: therapeutic_candidate_28_xmu.txt to: robin_notebook/Charcot-Marie-Tooth_Disease_2025-05-14_11-09/therapeutic_candidate_detailed_hypotheses/therapeutic_candidate_28_xmu.txt\n",
      "Successfully wrote: therapeutic_candidate_29_dapt.txt to: robin_notebook/Charcot-Marie-Tooth_Disease_2025-05-14_11-09/therapeutic_candidate_detailed_hypotheses/therapeutic_candidate_29_dapt.txt\n",
      "Successfully wrote: therapeutic_candidate_30_imatinib.txt to: robin_notebook/Charcot-Marie-Tooth_Disease_2025-05-14_11-09/therapeutic_candidate_detailed_hypotheses/therapeutic_candidate_30_imatinib.txt\n",
      "Successfully wrote: therapeutic_candidate_31_fingolimod.txt to: robin_notebook/Charcot-Marie-Tooth_Disease_2025-05-14_11-09/therapeutic_candidate_detailed_hypotheses/therapeutic_candidate_31_fingolimod.txt\n",
      "Successfully wrote: therapeutic_candidate_32_valproic.txt to: robin_notebook/Charcot-Marie-Tooth_Disease_2025-05-14_11-09/therapeutic_candidate_detailed_hypotheses/therapeutic_candidate_32_valproic.txt\n",
      "Successfully wrote: therapeutic_candidate_33_clemastine.txt to: robin_notebook/Charcot-Marie-Tooth_Disease_2025-05-14_11-09/therapeutic_candidate_detailed_hypotheses/therapeutic_candidate_33_clemastine.txt\n",
      "Successfully wrote: therapeutic_candidate_34_tetrandrine.txt to: robin_notebook/Charcot-Marie-Tooth_Disease_2025-05-14_11-09/therapeutic_candidate_detailed_hypotheses/therapeutic_candidate_34_tetrandrine.txt\n",
      "Successfully wrote: therapeutic_candidate_35_phlorizin.txt to: robin_notebook/Charcot-Marie-Tooth_Disease_2025-05-14_11-09/therapeutic_candidate_detailed_hypotheses/therapeutic_candidate_35_phlorizin.txt\n",
      "Successfully wrote: therapeutic_candidate_36_zonisamide.txt to: robin_notebook/Charcot-Marie-Tooth_Disease_2025-05-14_11-09/therapeutic_candidate_detailed_hypotheses/therapeutic_candidate_36_zonisamide.txt\n",
      "Successfully wrote: therapeutic_candidate_37_arimoclomol.txt to: robin_notebook/Charcot-Marie-Tooth_Disease_2025-05-14_11-09/therapeutic_candidate_detailed_hypotheses/therapeutic_candidate_37_arimoclomol.txt\n",
      "Successfully wrote: therapeutic_candidate_38_biib113.txt to: robin_notebook/Charcot-Marie-Tooth_Disease_2025-05-14_11-09/therapeutic_candidate_detailed_hypotheses/therapeutic_candidate_38_biib113.txt\n",
      "Successfully wrote: therapeutic_candidate_39_tudca.txt to: robin_notebook/Charcot-Marie-Tooth_Disease_2025-05-14_11-09/therapeutic_candidate_detailed_hypotheses/therapeutic_candidate_39_tudca.txt\n",
      "Successfully wrote: therapeutic_candidate_40_edaravone.txt to: robin_notebook/Charcot-Marie-Tooth_Disease_2025-05-14_11-09/therapeutic_candidate_detailed_hypotheses/therapeutic_candidate_40_edaravone.txt\n",
      "\n",
      "Step 5: Ranking the strength of the therapeutic candidates...\n",
      "Processing file: therapeutic_candidate_35_phlorizin.txt...\n",
      "Processing file: therapeutic_candidate_29_dapt.txt...\n",
      "Processing file: therapeutic_candidate_19_forskolin.txt...\n",
      "Processing file: therapeutic_candidate_6_y.txt...\n",
      "Processing file: therapeutic_candidate_3_acy.txt...\n",
      "Processing file: therapeutic_candidate_27_sc79.txt...\n",
      "Processing file: therapeutic_candidate_30_imatinib.txt...\n",
      "Processing file: therapeutic_candidate_7_fasudil.txt...\n",
      "Processing file: therapeutic_candidate_16_saroglitazar.txt...\n",
      "Processing file: therapeutic_candidate_10_recombinant.txt...\n",
      "Processing file: therapeutic_candidate_22_benztropine.txt...\n",
      "Processing file: therapeutic_candidate_8_lm22a.txt...\n",
      "Processing file: therapeutic_candidate_37_arimoclomol.txt...\n",
      "Processing file: therapeutic_candidate_14_n.txt...\n",
      "Processing file: therapeutic_candidate_9_bnn.txt...\n",
      "Processing file: therapeutic_candidate_15_pioglitazone.txt...\n",
      "Processing file: therapeutic_candidate_18_guanabenz.txt...\n",
      "Processing file: therapeutic_candidate_11_mitoq.txt...\n",
      "Processing file: therapeutic_candidate_38_biib113.txt...\n",
      "Processing file: therapeutic_candidate_32_valproic.txt...\n",
      "Processing file: therapeutic_candidate_17_curcumin.txt...\n",
      "Processing file: therapeutic_candidate_13_mdivi.txt...\n",
      "Processing file: therapeutic_candidate_28_xmu.txt...\n",
      "Processing file: therapeutic_candidate_40_edaravone.txt...\n",
      "Processing file: therapeutic_candidate_33_clemastine.txt...\n",
      "Processing file: therapeutic_candidate_1_4.txt...\n",
      "Processing file: therapeutic_candidate_21_clemastine.txt...\n",
      "Processing file: therapeutic_candidate_20_simvastatin.txt...\n",
      "Processing file: therapeutic_candidate_24_pevonedistat.txt...\n",
      "Processing file: therapeutic_candidate_25_belumosudil.txt...\n",
      "Processing file: therapeutic_candidate_2_ricolinostat.txt...\n",
      "Processing file: therapeutic_candidate_36_zonisamide.txt...\n",
      "Processing file: therapeutic_candidate_4_ckd.txt...\n",
      "Processing file: therapeutic_candidate_39_tudca.txt...\n",
      "Processing file: therapeutic_candidate_34_tetrandrine.txt...\n",
      "Processing file: therapeutic_candidate_5_fingolimod.txt...\n",
      "Processing file: therapeutic_candidate_12_ss.txt...\n",
      "Processing file: therapeutic_candidate_31_fingolimod.txt...\n",
      "Processing file: therapeutic_candidate_23_seribantumab.txt...\n",
      "Processing file: therapeutic_candidate_26_gsk269962a.txt...\n",
      "Starting comparisons for 300 pairs with max concurrency 100...\n"
     ]
    },
    {
     "name": "stderr",
     "output_type": "stream",
     "text": [
      "Comparing Hypotheses: 100%|██████████| 300/300 [00:52<00:00,  5.67it/s]"
     ]
    },
    {
     "name": "stdout",
     "output_type": "stream",
     "text": [
      "\n",
      "Finished processing pairs.\n",
      " - Successful comparisons: 300\n",
      " - Errors encountered: 0\n",
      "Successfully saved 300 results to robin_notebook/Charcot-Marie-Tooth_Disease_2025-05-14_11-09/therapeutic_candidate_ranking_results.csv\n",
      "Therapeutic candidate generation finished! Saved final rankings to robin_notebook/Charcot-Marie-Tooth_Disease_2025-05-14_11-09/ranked_therapeutic_candidates.csv\n"
     ]
    },
    {
     "name": "stderr",
     "output_type": "stream",
     "text": [
      "\n"
     ]
    }
   ],
   "source": [
    "await therapeutic_candidates(\n",
    "    candidate_generation_goal=candidate_generation_goal, configuration=config\n",
    ")"
   ]
  }
 ],
 "metadata": {
  "kernelspec": {
   "display_name": "poplar",
   "language": "python",
   "name": "python3"
  },
  "language_info": {
   "codemirror_mode": {
    "name": "ipython",
    "version": 3
   },
   "file_extension": ".py",
   "mimetype": "text/x-python",
   "name": "python",
   "nbconvert_exporter": "python",
   "pygments_lexer": "ipython3"
  }
 },
 "nbformat": 4,
 "nbformat_minor": 2
}
