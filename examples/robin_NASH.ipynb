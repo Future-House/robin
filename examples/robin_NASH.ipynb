{
 "cells": [
  {
   "cell_type": "markdown",
   "metadata": {},
   "source": [
    "# Robin: Hypothesis Generation for Drug Repurposing"
   ]
  },
  {
   "cell_type": "code",
   "execution_count": null,
   "metadata": {},
   "outputs": [],
   "source": [
    "import logging\n",
    "\n",
    "from robin.assays import experimental_assay\n",
    "from robin.candidates import therapeutic_candidates\n",
    "from robin.configuration import RobinConfiguration"
   ]
  },
  {
   "cell_type": "markdown",
   "metadata": {},
   "source": [
    "## Robin Set Up"
   ]
  },
  {
   "cell_type": "code",
   "execution_count": null,
   "metadata": {},
   "outputs": [],
   "source": [
    "config = RobinConfiguration(\n",
    "    disease_name=\"Non-alcoholic Steatohepatitis\",\n",
    "    num_assays=10,\n",
    "    num_candidates=30,\n",
    "    num_queries=5,\n",
    ")\n",
    "\n",
    "logger = logging.getLogger(\"robin\")\n",
    "logger.setLevel(logging.INFO)"
   ]
  },
  {
   "cell_type": "markdown",
   "metadata": {},
   "source": [
    "# Initial therapeutic hypothesis generation"
   ]
  },
  {
   "cell_type": "markdown",
   "metadata": {},
   "source": [
    "### Experimental assay generation"
   ]
  },
  {
   "cell_type": "code",
   "execution_count": null,
   "metadata": {},
   "outputs": [
    {
     "name": "stdout",
     "output_type": "stream",
     "text": [
      "Starting selection of a relevant experimental assay.\n",
      "————————————————————————————————————————————————————\n",
      "\n",
      "Step 1: Formulating relevant queries for literature search...\n",
      "Generated Queries:\n",
      "1. Investigate the molecular mechanisms driving hepatic lipid accumulation, altered lipid droplet dynamics, de novo lipogenesis, fatty acid oxidation impairment, and insulin resistance in Non-alcoholic Steatohepatitis pathogenesis, including key transcriptional regulators and metabolic enzymes \n",
      "2.  Characterize the roles of Kupffer cells, hepatic stellate cells, and infiltrating immune cells in NASH progression, focusing on TLR-mediated signaling, inflammasome activation, pro-inflammatory cytokine networks (TNFα, IL-1β, IL-6), chemokine release, and cell–cell cross-talk in vitro \n",
      "3.  Elucidate endoplasmic reticulum stress responses, unfolded protein response pathways (PERK, ATF6, IRE1α), mitochondrial dysfunction mechanisms, ROS generation, and downstream apoptotic and fibrogenic signaling cascades in hepatocytes under lipotoxic conditions relevant to NASH \n",
      "4.  Compile best practices for developing cell culture assays for NASH drug screening, including optimal hepatocyte lines or iPSC-derived models, co-culture with non-parenchymal cells, induction protocols for steatosis and inflammation, endpoint biomarkers (lipid staining, cytokine panels, fibrogenic markers), and quantitative readouts \n",
      "5.  Survey high-content phenotypic screening approaches and mechanistic biomarker panels for evaluating anti-steatotic, anti-inflammatory, and anti-fibrotic compounds in vitro, covering lipid droplet quantification methodologies, transcriptomic/proteomic profiling, multiplex cytokine assays, and collagen deposition measurements\n",
      "\n",
      "Step 2: Conducting literature search with FutureHouse platform...\n",
      "Successfully wrote: query_1_investigate.txt to: robin_notebook/Non-alcoholic_Steatohepatitis_2025-05-15_09-27/experimental_assay_literature_reviews/query_1_investigate.txt\n",
      "Successfully wrote: query_2_characterize.txt to: robin_notebook/Non-alcoholic_Steatohepatitis_2025-05-15_09-27/experimental_assay_literature_reviews/query_2_characterize.txt\n",
      "Successfully wrote: query_3_elucidate.txt to: robin_notebook/Non-alcoholic_Steatohepatitis_2025-05-15_09-27/experimental_assay_literature_reviews/query_3_elucidate.txt\n",
      "Successfully wrote: query_4_compile.txt to: robin_notebook/Non-alcoholic_Steatohepatitis_2025-05-15_09-27/experimental_assay_literature_reviews/query_4_compile.txt\n",
      "Successfully wrote: query_5_survey.txt to: robin_notebook/Non-alcoholic_Steatohepatitis_2025-05-15_09-27/experimental_assay_literature_reviews/query_5_survey.txt\n",
      "\n",
      "Step 3: Generating ideas for relevant experimental assays...\n",
      "Strategy: Steatosis quantification assay<|>Reasoning: Quantify intracellular triglyceride accumulati...\n",
      "Strategy: Lipogenesis flux assay<|>Reasoning: Measure de novo lipogenesis by tracking incorporation ...\n",
      "Strategy: Fatty acid oxidation assay<|>Reasoning: Assess mitochondrial and peroxisomal β‐oxidation i...\n",
      "Strategy: Insulin signaling assay<|>Reasoning: Evaluate restoration of insulin sensitivity by quanti...\n",
      "Strategy: SREBP1c transcriptional reporter<|>Reasoning: Use hepatocyte lines stably expressing a luc...\n",
      "Strategy: PNPLA3 functional assay<|>Reasoning: Overexpress wild‐type or I148M PNPLA3 in hepatocytes ...\n",
      "Strategy: Kupffer cell cytokine release assay<|>Reasoning: Stimulate Kupffer cell cultures or monocy...\n",
      "Strategy: Hepatic stellate cell activation assay<|>Reasoning: Expose human LX‐2 stellate cells to TG...\n",
      "Strategy: ER stress response assay<|>Reasoning: Treat hepatocytes with saturated FFAs to induce lipo...\n",
      "Strategy: Hepatocyte-stellate co-culture fibrosis assay<|>Reasoning: Co-culture primary hepatocytes ...\n",
      "Successfully exported to robin_notebook/Non-alcoholic_Steatohepatitis_2025-05-15_09-27/experimental_assay_summary.txt\n",
      "\n",
      "Step 4: Detailed investigation and evaluation for each assay...\n",
      "Successfully wrote: assay_hypothesis_1_steatosis.txt to: robin_notebook/Non-alcoholic_Steatohepatitis_2025-05-15_09-27/experimental_assay_detailed_hypotheses/assay_hypothesis_1_steatosis.txt\n",
      "Successfully wrote: assay_hypothesis_2_lipogenesis.txt to: robin_notebook/Non-alcoholic_Steatohepatitis_2025-05-15_09-27/experimental_assay_detailed_hypotheses/assay_hypothesis_2_lipogenesis.txt\n",
      "Successfully wrote: assay_hypothesis_3_fatty.txt to: robin_notebook/Non-alcoholic_Steatohepatitis_2025-05-15_09-27/experimental_assay_detailed_hypotheses/assay_hypothesis_3_fatty.txt\n",
      "Successfully wrote: assay_hypothesis_4_insulin.txt to: robin_notebook/Non-alcoholic_Steatohepatitis_2025-05-15_09-27/experimental_assay_detailed_hypotheses/assay_hypothesis_4_insulin.txt\n",
      "Successfully wrote: assay_hypothesis_5_srebp1c.txt to: robin_notebook/Non-alcoholic_Steatohepatitis_2025-05-15_09-27/experimental_assay_detailed_hypotheses/assay_hypothesis_5_srebp1c.txt\n",
      "Successfully wrote: assay_hypothesis_6_pnpla3.txt to: robin_notebook/Non-alcoholic_Steatohepatitis_2025-05-15_09-27/experimental_assay_detailed_hypotheses/assay_hypothesis_6_pnpla3.txt\n",
      "Successfully wrote: assay_hypothesis_7_kupffer.txt to: robin_notebook/Non-alcoholic_Steatohepatitis_2025-05-15_09-27/experimental_assay_detailed_hypotheses/assay_hypothesis_7_kupffer.txt\n",
      "Successfully wrote: assay_hypothesis_8_hepatic.txt to: robin_notebook/Non-alcoholic_Steatohepatitis_2025-05-15_09-27/experimental_assay_detailed_hypotheses/assay_hypothesis_8_hepatic.txt\n",
      "Successfully wrote: assay_hypothesis_9_er.txt to: robin_notebook/Non-alcoholic_Steatohepatitis_2025-05-15_09-27/experimental_assay_detailed_hypotheses/assay_hypothesis_9_er.txt\n",
      "Successfully wrote: assay_hypothesis_10_hepatocyte.txt to: robin_notebook/Non-alcoholic_Steatohepatitis_2025-05-15_09-27/experimental_assay_detailed_hypotheses/assay_hypothesis_10_hepatocyte.txt\n",
      "\n",
      "Step 5: Selecting the top experimental assay...\n",
      "Starting comparisons for 45 pairs with max concurrency 100...\n"
     ]
    },
    {
     "name": "stderr",
     "output_type": "stream",
     "text": [
      "Comparing Hypotheses: 100%|██████████| 45/45 [00:15<00:00,  2.86it/s]\n"
     ]
    },
    {
     "name": "stdout",
     "output_type": "stream",
     "text": [
      "\n",
      "Finished processing pairs.\n",
      " - Successful comparisons: 45\n",
      " - Errors encountered: 0\n",
      "Successfully saved 45 results to robin_notebook/Non-alcoholic_Steatohepatitis_2025-05-15_09-27/experimental_assay_ranking_results.csv\n",
      "Experimental Assay Selected: Fatty acid oxidation assay\n",
      "Candidate Generation Goal: Screen a structurally diverse small-molecule library using the fatty acid oxidation assay in NASH-model hepatocytes to identify compounds that significantly enhance mitochondrial β-oxidation and normalize lipid accumulation as candidate therapeutics.\n"
     ]
    }
   ],
   "source": [
    "candidate_generation_goal = await experimental_assay(configuration=config)"
   ]
  },
  {
   "cell_type": "markdown",
   "metadata": {},
   "source": [
    "### Therapeutic candidate generation"
   ]
  },
  {
   "cell_type": "code",
   "execution_count": null,
   "metadata": {},
   "outputs": [
    {
     "name": "stdout",
     "output_type": "stream",
     "text": [
      "Starting generation of 30 therapeutic candidates.\n",
      "———————————————————————————————————————————————————————————————\n",
      "\n",
      "Step 1: Formulating relevant queries for literature search...\n",
      "Generated Queries:\n",
      "1. High-throughput small-molecule library screening studies aiming to enhance mitochondrial fatty acid β-oxidation in NASH-model hepatocytes, focusing on hit identification statistics, structural diversity metrics, target validation assays, efficacy in patient-derived cells, and pharmacokinetics, safety, and ADME profiles \n",
      "2.  Preclinical evaluation of candidate therapeutics targeting hepatic mitochondrial β-oxidation in NASH models, detailing efficacy and mechanism of action in rodent or patient-derived hepatocyte systems, dose–response relationships, target engagement confirmation by biochemical assays, and in vivo tolerability assessments \n",
      "3.  Literature on commercially available small molecules modulating key regulators of mitochondrial β-oxidation (eg, CPT1 activators, PPARα agonists, AMPK modulators) in NASH-model hepatocytes, including vendor catalog numbers, potency, selectivity, preclinical efficacy outcomes, mechanistic specificity, and preliminary safety data \n",
      "4.  Reports of pharmacokinetic and safety assessments for novel mitochondrial β-oxidation activators in preclinical and early clinical studies for NASH or related metabolic liver diseases, emphasizing dosing regimens that achieve target engagement in liver tissue, bioavailability, half-life, and observed adverse effects \n",
      "5.  Mechanism-specific small-molecule modulators screened or repurposed for NASH that normalize hepatocyte lipid accumulation via enhancing β-oxidation or modulating upstream regulators (PGC1α, SIRT1, FXR), including evidence for direct target engagement, efficacy in 3D spheroid or primary human hepatocyte models, and ADME/Tox profiles \n",
      "6.  Genetic, biochemical, and functional evidence implicating mitochondrial fatty acid β-oxidation impairment in NASH pathogenesis, with studies linking dysregulation or mutation of CPT1, ACADs, and related enzymes to disease severity and metabolic dysfunction in human liver samples and animal models \n",
      "7.  Role of key transcriptional and epigenetic regulators of hepatic β-oxidation such as PPARα, PPARδ, PGC1α, SIRT1, and AMPK in NASH development, including target validation studies assessing modulation effects on lipid accumulation, inflammation, and fibrosis in hepatocyte and rodent NASH models \n",
      "8.  Mechanistic interplay between mitochondrial dysfunction, oxidative stress, ER stress, and impaired fatty acid oxidation during NASH progression: in-depth analyses of reactive oxygen species effects on β-oxidation enzymes, stress-response signaling, and identification of potential molecular intervention points \n",
      "9.  Disease models recapitulating human NASH hepatocyte lipid metabolism dysregulation: evaluation of primary human hepatocytes, iPSC-derived hepatocyte-like cells, and 3D organoid/spheroid systems for assessing fatty acid oxidation deficits and screening mitochondrial β-oxidation enhancers \n",
      "10.  Comprehensive review of validated readouts and biomarkers for mitochondrial β-oxidation activity and lipid accumulation in NASH research, including acyl-carnitine profiling, high-resolution respirometry, radiolabeled palmitate oxidation, lipid droplet quantification, and relevance for small-molecule screening strategies\n",
      "\n",
      "Step 2: Conducting literature search with FutureHouse platform...\n",
      "Successfully wrote: query_1_high.txt to: robin_notebook/Non-alcoholic_Steatohepatitis_2025-05-15_09-27/therapeutic_candidate_literature_reviews/query_1_high.txt\n",
      "Successfully wrote: query_2_preclinical.txt to: robin_notebook/Non-alcoholic_Steatohepatitis_2025-05-15_09-27/therapeutic_candidate_literature_reviews/query_2_preclinical.txt\n",
      "Successfully wrote: query_3_literature.txt to: robin_notebook/Non-alcoholic_Steatohepatitis_2025-05-15_09-27/therapeutic_candidate_literature_reviews/query_3_literature.txt\n",
      "Successfully wrote: query_4_reports.txt to: robin_notebook/Non-alcoholic_Steatohepatitis_2025-05-15_09-27/therapeutic_candidate_literature_reviews/query_4_reports.txt\n",
      "Successfully wrote: query_5_mechanism.txt to: robin_notebook/Non-alcoholic_Steatohepatitis_2025-05-15_09-27/therapeutic_candidate_literature_reviews/query_5_mechanism.txt\n",
      "Successfully wrote: query_6_genetic.txt to: robin_notebook/Non-alcoholic_Steatohepatitis_2025-05-15_09-27/therapeutic_candidate_literature_reviews/query_6_genetic.txt\n",
      "Successfully wrote: query_7_role.txt to: robin_notebook/Non-alcoholic_Steatohepatitis_2025-05-15_09-27/therapeutic_candidate_literature_reviews/query_7_role.txt\n",
      "Successfully wrote: query_8_mechanistic.txt to: robin_notebook/Non-alcoholic_Steatohepatitis_2025-05-15_09-27/therapeutic_candidate_literature_reviews/query_8_mechanistic.txt\n",
      "Successfully wrote: query_9_disease.txt to: robin_notebook/Non-alcoholic_Steatohepatitis_2025-05-15_09-27/therapeutic_candidate_literature_reviews/query_9_disease.txt\n",
      "Successfully wrote: query_10_comprehensive.txt to: robin_notebook/Non-alcoholic_Steatohepatitis_2025-05-15_09-27/therapeutic_candidate_literature_reviews/query_10_comprehensive.txt\n",
      "\n",
      "Step 3: Generating 30 ideas for therapeutic candidates...\n",
      "\n",
      "Successfully parsed 30 candidate ideas.\n",
      "Candidate: C75 (Sigma-Aldrich catalog #C9492)<|>Hypothesis: C75, a fatty acid synthase inhibitor, wi...\n",
      "Candidate: Pemafibrate (Kowa Pharmaceuticals)<|>Hypothesis: Pemafibrate, a selective PPARα modulator...\n",
      "Candidate: Elafibranor (Genfit)<|>Hypothesis: As a dual PPARα/δ agonist, elafibranor will synergisti...\n",
      "Candidate: Saroglitazar (Zydus Cadila)<|>Hypothesis: Saroglitazar, a PPARα/γ agonist, will enhance β...\n",
      "Candidate: Seladelpar (Medivir)<|>Hypothesis: Seladelpar, a selective PPARδ agonist, will drive hepa...\n",
      "Candidate: PXL770 (Mydicar)<|>Hypothesis: PXL770, a direct AMPK activator, will phosphorylate and in...\n",
      "Candidate: A-769662 (Tocris Bioscience, Cat. #3748)<|>Hypothesis: A-769662, a selective allosteric A...\n",
      "Candidate: ZLN005 (Sigma-Aldrich, Cat. #SML1555)<|>Hypothesis: ZLN005, a PGC1α transcriptional activ...\n",
      "Candidate: SRT1720 (Cayman Chemical, Cat. #12010)<|>Hypothesis: SRT1720, a SIRT1 activator, will dea...\n",
      "Candidate: Nicotinamide Riboside (NR, ChromaDex Niagen)<|>Hypothesis: NR supplementation will elevat...\n",
      "Candidate: Nicotinamide Mononucleotide (NMN, Cayman Chemical #B119460)<|>Hypothesis: NMN, an NAD+ pr...\n",
      "Candidate: BAM15 (Sigma-Aldrich, Cat. #SML0763)<|>Hypothesis: BAM15, a mitochondrial protonophore, w...\n",
      "Candidate: MitoQ (Antipodean Pharmaceuticals)<|>Hypothesis: MitoQ, a mitochondria-targeted antioxida...\n",
      "Candidate: Urolithin A (MITOPURE, Amazentis)<|>Hypothesis: Urolithin A will induce mitophagy in NASH...\n",
      "Candidate: Sulforaphane (Sigma-Aldrich, Cat. #S4441)<|>Hypothesis: Sulforaphane, an Nrf2 activator, ...\n",
      "Candidate: GW501516 (Sigma-Aldrich, Cat. #PZ0265)<|>Hypothesis: GW501516, a potent PPARδ agonist, wi...\n",
      "Candidate: Resmetirom (MGL-3196, Madrigal Pharmaceuticals)<|>Hypothesis: Resmetirom, a selective thy...\n",
      "Candidate: VK2809 (Viking Therapeutics)<|>Hypothesis: VK2809, a liver-targeted THRβ agonist prodrug,...\n",
      "Candidate: Cilofexor (GS-9674, Gilead Sciences)<|>Hypothesis: Cilofexor, an FXR agonist, will upregu...\n",
      "Candidate: Tropifexor (LJN452, Novartis)<|>Hypothesis: Tropifexor, a potent non-steroidal FXR agonis...\n",
      "Candidate: EDP-305 (Enanta Pharmaceuticals)<|>Hypothesis: EDP-305, a potent FXR agonist, will induce...\n",
      "Candidate: Pegbelfermin (BMS-986036, BMS)<|>Hypothesis: Pegbelfermin, a PEGylated FGF21 analog, will...\n",
      "Candidate: Bempedoic Acid (Esperion Therapeutics)<|>Hypothesis: Bempedoic acid, an ATP-citrate lyase...\n",
      "Candidate: SR9009 (Cayman Chemical, Cat. #10013104)<|>Hypothesis: SR9009, a Rev-Erbα agonist, will e...\n",
      "Candidate: XCT790 (Tocris Bioscience, Cat. #4392)<|>Hypothesis: XCT790, an inverse agonist of ERRα, ...\n",
      "Candidate: Metformin (generic)<|>Hypothesis: Metformin, via hepatic AMPK activation, will inhibit AC...\n",
      "Candidate: Empagliflozin (Boehringer Ingelheim)<|>Hypothesis: Empagliflozin, an SGLT2 inhibitor, wil...\n",
      "Candidate: Honokiol (Sigma-Aldrich, Cat. #H4910)<|>Hypothesis: Honokiol, a natural biphenolic compou...\n",
      "Candidate: Mito-TEMPO (Sigma-Aldrich, Cat. #SML0737)<|>Hypothesis: Mito-TEMPO, a mitochondria-target...\n",
      "Candidate: Aldafermin (NGM282, NGM Biopharmaceuticals)<|>Hypothesis: Aldafermin, an FGF19 analog, wi...\n",
      "Successfully exported to robin_notebook/Non-alcoholic_Steatohepatitis_2025-05-15_09-27/therapeutic_candidates_summary.txt\n",
      "\n",
      "Step 4: Detailed investigation and evaluation for candidates...\n",
      "Successfully wrote: therapeutic_candidate_1_c75.txt to: robin_notebook/Non-alcoholic_Steatohepatitis_2025-05-15_09-27/therapeutic_candidate_detailed_hypotheses/therapeutic_candidate_1_c75.txt\n",
      "Successfully wrote: therapeutic_candidate_2_pemafibrate.txt to: robin_notebook/Non-alcoholic_Steatohepatitis_2025-05-15_09-27/therapeutic_candidate_detailed_hypotheses/therapeutic_candidate_2_pemafibrate.txt\n",
      "Successfully wrote: therapeutic_candidate_3_elafibranor.txt to: robin_notebook/Non-alcoholic_Steatohepatitis_2025-05-15_09-27/therapeutic_candidate_detailed_hypotheses/therapeutic_candidate_3_elafibranor.txt\n",
      "Successfully wrote: therapeutic_candidate_4_saroglitazar.txt to: robin_notebook/Non-alcoholic_Steatohepatitis_2025-05-15_09-27/therapeutic_candidate_detailed_hypotheses/therapeutic_candidate_4_saroglitazar.txt\n",
      "Successfully wrote: therapeutic_candidate_5_seladelpar.txt to: robin_notebook/Non-alcoholic_Steatohepatitis_2025-05-15_09-27/therapeutic_candidate_detailed_hypotheses/therapeutic_candidate_5_seladelpar.txt\n",
      "Successfully wrote: therapeutic_candidate_6_pxl770.txt to: robin_notebook/Non-alcoholic_Steatohepatitis_2025-05-15_09-27/therapeutic_candidate_detailed_hypotheses/therapeutic_candidate_6_pxl770.txt\n",
      "Successfully wrote: therapeutic_candidate_7_a.txt to: robin_notebook/Non-alcoholic_Steatohepatitis_2025-05-15_09-27/therapeutic_candidate_detailed_hypotheses/therapeutic_candidate_7_a.txt\n",
      "Successfully wrote: therapeutic_candidate_8_zln005.txt to: robin_notebook/Non-alcoholic_Steatohepatitis_2025-05-15_09-27/therapeutic_candidate_detailed_hypotheses/therapeutic_candidate_8_zln005.txt\n",
      "Successfully wrote: therapeutic_candidate_9_srt1720.txt to: robin_notebook/Non-alcoholic_Steatohepatitis_2025-05-15_09-27/therapeutic_candidate_detailed_hypotheses/therapeutic_candidate_9_srt1720.txt\n",
      "Successfully wrote: therapeutic_candidate_10_nicotinamide.txt to: robin_notebook/Non-alcoholic_Steatohepatitis_2025-05-15_09-27/therapeutic_candidate_detailed_hypotheses/therapeutic_candidate_10_nicotinamide.txt\n",
      "Successfully wrote: therapeutic_candidate_11_nicotinamide.txt to: robin_notebook/Non-alcoholic_Steatohepatitis_2025-05-15_09-27/therapeutic_candidate_detailed_hypotheses/therapeutic_candidate_11_nicotinamide.txt\n",
      "Successfully wrote: therapeutic_candidate_12_bam15.txt to: robin_notebook/Non-alcoholic_Steatohepatitis_2025-05-15_09-27/therapeutic_candidate_detailed_hypotheses/therapeutic_candidate_12_bam15.txt\n",
      "Successfully wrote: therapeutic_candidate_13_mitoq.txt to: robin_notebook/Non-alcoholic_Steatohepatitis_2025-05-15_09-27/therapeutic_candidate_detailed_hypotheses/therapeutic_candidate_13_mitoq.txt\n",
      "Successfully wrote: therapeutic_candidate_14_urolithin.txt to: robin_notebook/Non-alcoholic_Steatohepatitis_2025-05-15_09-27/therapeutic_candidate_detailed_hypotheses/therapeutic_candidate_14_urolithin.txt\n",
      "Successfully wrote: therapeutic_candidate_15_sulforaphane.txt to: robin_notebook/Non-alcoholic_Steatohepatitis_2025-05-15_09-27/therapeutic_candidate_detailed_hypotheses/therapeutic_candidate_15_sulforaphane.txt\n",
      "Successfully wrote: therapeutic_candidate_16_gw501516.txt to: robin_notebook/Non-alcoholic_Steatohepatitis_2025-05-15_09-27/therapeutic_candidate_detailed_hypotheses/therapeutic_candidate_16_gw501516.txt\n",
      "Successfully wrote: therapeutic_candidate_17_resmetirom.txt to: robin_notebook/Non-alcoholic_Steatohepatitis_2025-05-15_09-27/therapeutic_candidate_detailed_hypotheses/therapeutic_candidate_17_resmetirom.txt\n",
      "Successfully wrote: therapeutic_candidate_18_vk2809.txt to: robin_notebook/Non-alcoholic_Steatohepatitis_2025-05-15_09-27/therapeutic_candidate_detailed_hypotheses/therapeutic_candidate_18_vk2809.txt\n",
      "Successfully wrote: therapeutic_candidate_19_cilofexor.txt to: robin_notebook/Non-alcoholic_Steatohepatitis_2025-05-15_09-27/therapeutic_candidate_detailed_hypotheses/therapeutic_candidate_19_cilofexor.txt\n",
      "Successfully wrote: therapeutic_candidate_20_tropifexor.txt to: robin_notebook/Non-alcoholic_Steatohepatitis_2025-05-15_09-27/therapeutic_candidate_detailed_hypotheses/therapeutic_candidate_20_tropifexor.txt\n",
      "Successfully wrote: therapeutic_candidate_21_edp.txt to: robin_notebook/Non-alcoholic_Steatohepatitis_2025-05-15_09-27/therapeutic_candidate_detailed_hypotheses/therapeutic_candidate_21_edp.txt\n",
      "Successfully wrote: therapeutic_candidate_22_pegbelfermin.txt to: robin_notebook/Non-alcoholic_Steatohepatitis_2025-05-15_09-27/therapeutic_candidate_detailed_hypotheses/therapeutic_candidate_22_pegbelfermin.txt\n",
      "Successfully wrote: therapeutic_candidate_23_bempedoic.txt to: robin_notebook/Non-alcoholic_Steatohepatitis_2025-05-15_09-27/therapeutic_candidate_detailed_hypotheses/therapeutic_candidate_23_bempedoic.txt\n",
      "Successfully wrote: therapeutic_candidate_24_sr9009.txt to: robin_notebook/Non-alcoholic_Steatohepatitis_2025-05-15_09-27/therapeutic_candidate_detailed_hypotheses/therapeutic_candidate_24_sr9009.txt\n",
      "Successfully wrote: therapeutic_candidate_25_xct790.txt to: robin_notebook/Non-alcoholic_Steatohepatitis_2025-05-15_09-27/therapeutic_candidate_detailed_hypotheses/therapeutic_candidate_25_xct790.txt\n",
      "Successfully wrote: therapeutic_candidate_26_metformin.txt to: robin_notebook/Non-alcoholic_Steatohepatitis_2025-05-15_09-27/therapeutic_candidate_detailed_hypotheses/therapeutic_candidate_26_metformin.txt\n",
      "Successfully wrote: therapeutic_candidate_27_empagliflozin.txt to: robin_notebook/Non-alcoholic_Steatohepatitis_2025-05-15_09-27/therapeutic_candidate_detailed_hypotheses/therapeutic_candidate_27_empagliflozin.txt\n",
      "Successfully wrote: therapeutic_candidate_28_honokiol.txt to: robin_notebook/Non-alcoholic_Steatohepatitis_2025-05-15_09-27/therapeutic_candidate_detailed_hypotheses/therapeutic_candidate_28_honokiol.txt\n",
      "Successfully wrote: therapeutic_candidate_29_mito.txt to: robin_notebook/Non-alcoholic_Steatohepatitis_2025-05-15_09-27/therapeutic_candidate_detailed_hypotheses/therapeutic_candidate_29_mito.txt\n",
      "Successfully wrote: therapeutic_candidate_30_aldafermin.txt to: robin_notebook/Non-alcoholic_Steatohepatitis_2025-05-15_09-27/therapeutic_candidate_detailed_hypotheses/therapeutic_candidate_30_aldafermin.txt\n",
      "\n",
      "Step 5: Ranking the strength of the therapeutic candidates...\n",
      "Processing file: therapeutic_candidate_9_srt1720.txt...\n",
      "Processing file: therapeutic_candidate_26_metformin.txt...\n",
      "Processing file: therapeutic_candidate_16_gw501516.txt...\n",
      "Processing file: therapeutic_candidate_21_edp.txt...\n",
      "Processing file: therapeutic_candidate_30_aldafermin.txt...\n",
      "Processing file: therapeutic_candidate_15_sulforaphane.txt...\n",
      "Processing file: therapeutic_candidate_29_mito.txt...\n",
      "Processing file: therapeutic_candidate_24_sr9009.txt...\n",
      "Processing file: therapeutic_candidate_4_saroglitazar.txt...\n",
      "Processing file: therapeutic_candidate_6_pxl770.txt...\n",
      "Processing file: therapeutic_candidate_1_c75.txt...\n",
      "Processing file: therapeutic_candidate_18_vk2809.txt...\n",
      "Processing file: therapeutic_candidate_14_urolithin.txt...\n",
      "Processing file: therapeutic_candidate_2_pemafibrate.txt...\n",
      "Processing file: therapeutic_candidate_7_a.txt...\n",
      "Processing file: therapeutic_candidate_20_tropifexor.txt...\n",
      "Processing file: therapeutic_candidate_10_nicotinamide.txt...\n",
      "Processing file: therapeutic_candidate_8_zln005.txt...\n",
      "Processing file: therapeutic_candidate_25_xct790.txt...\n",
      "Processing file: therapeutic_candidate_17_resmetirom.txt...\n",
      "Processing file: therapeutic_candidate_13_mitoq.txt...\n",
      "Processing file: therapeutic_candidate_28_honokiol.txt...\n",
      "Processing file: therapeutic_candidate_12_bam15.txt...\n",
      "Processing file: therapeutic_candidate_3_elafibranor.txt...\n",
      "Processing file: therapeutic_candidate_22_pegbelfermin.txt...\n",
      "Processing file: therapeutic_candidate_11_nicotinamide.txt...\n",
      "Processing file: therapeutic_candidate_23_bempedoic.txt...\n",
      "Processing file: therapeutic_candidate_19_cilofexor.txt...\n",
      "Processing file: therapeutic_candidate_27_empagliflozin.txt...\n",
      "Processing file: therapeutic_candidate_5_seladelpar.txt...\n",
      "Starting comparisons for 300 pairs with max concurrency 100...\n"
     ]
    },
    {
     "name": "stderr",
     "output_type": "stream",
     "text": [
      "Comparing Hypotheses:  42%|████▏     | 127/300 [00:20<00:21,  8.05it/s]"
     ]
    },
    {
     "name": "stdout",
     "output_type": "stream",
     "text": [
      "\n",
      "JSON Decode Error for pair (7, 27) (Index 209): Invalid control character at: line 2 column 663 (char 664)\n",
      "Raw Content: {\n",
      "  \"Analysis\": \"Candidate 1 (SR9009) is a REV-ERBα agonist with compelling preclinical efficacy in rodent models of diet-induced obesity and NASH. It demonstrates modulation of lipid metabolism, inflammation, and fibrosis via circadian regulation, β-oxidation enhancement, and transcriptional repression of lipogenic and inflammatory genes. However, SR9009 lacks any clinical safety or efficacy data in humans, and off-target liabilities and PK/PD optimization remain unaddressed. The translational gap is wide: no registered human trials, limited hepatocyte-specific mechanistic confirmation, and uncertain ADME/PK profiles to support liver exposure in patients.\n",
      "\n",
      "Candidate 2 (Cilofexor) is a non-steroidal FXR agonist with robust structure–activity optimization for solubility, permeability, and oral bioavailability. It has advanced through Phase 1 and multiple Phase 2 trials in non-cirrhotic and cirrhotic NASH patients, demonstrating dose-dependent target engagement (FGF19 induction, C4 suppression), MRI-PDFF reduction, liver enzyme improvements, and favorable tolerability. Mechanistically, cilofexor addresses core NASH pathology by suppressing bile acid synthesis (CYP7A1), downregulating de novo lipogenesis (SREBP-1c, ACC), and enhancing β-oxidation (via CPT1 relief), while also exerting indirect anti-inflammatory and anti-fibrotic effects. Known safety liabilities (pruritus, LDL rise) are manageable with dose optimization. Combination trials further support synergy with ACC and ASK1 inhibitors, reinforcing its clinical potential.\n",
      "\n",
      "On all key criteria—strength and relevance of evidence, MoA clarity and validation, safety profile, translational feasibility, and balanced novelty—cilofexor clearly outperforms SR9009. Its progression into human trials with positive biomarker and imaging outcomes gives it a significantly higher probability of success as a NASH therapy.\",\n",
      "  \"Reasoning\": \"Cilofexor (GS-9674) is the superior candidate because it targets FXR, a well validated nuclear receptor in NASH, with a clear, direct MoA affecting bile acid homeostasis, lipogenesis suppression, and β-oxidation enhancement. It has extensive clinical data demonstrating target engagement, efficacy in reducing hepatic steatosis, and acceptable safety in NASH patients plus evidence of anti-fibrotic effects. In contrast, SR9009’s only support is preclinical rodent work with no human translation or established safety profile. Cilofexor’s advanced clinical development, human PK/PD validation, and combination trial success confer far greater confidence in its eventual translation into a viable NASH therapy.\",\n",
      "  \"Winner\": \"(Cilofexor, 27)\",\n",
      "  \"Loser\": \"(SR9009, 7)\"\n",
      "}\n"
     ]
    },
    {
     "name": "stderr",
     "output_type": "stream",
     "text": [
      "Comparing Hypotheses:  58%|█████▊    | 174/300 [00:25<00:11, 11.45it/s]"
     ]
    },
    {
     "name": "stdout",
     "output_type": "stream",
     "text": [
      "\n",
      "JSON Decode Error for pair (3, 11) (Index 119): Invalid control character at: line 1 column 926 (char 925)\n",
      "Raw Content: {\"Analysis\":\"Candidate 1 (EDP-305) and Candidate 2 (VK2809) both target core metabolic drivers of NASH—hepatic lipid accumulation—but via distinct nuclear receptor pathways. EDP-305 is a highly potent, selective FXR agonist with rich preclinical and emerging clinical data demonstrating reductions in steatosis, inflammation, and fibrosis in rodent models and favorable PK with high liver exposure and manageable pruritus in Phase I/II. Its mechanism links directly to downregulation of SREBP-1c, promotion of β-oxidation via reduced malonyl-CoA, repression of CYP7A1, anti-inflammatory effects in macrophages, and inhibition of stellate cell activation, addressing upstream drivers of NASH and fibrosis. The FXR agonist class has advanced to late‐stage trials (e.g., obeticholic acid), providing strong translational precedence, albeit with class‐specific risks of pruritus and dyslipidemia that EDP-305 appears to mitigate.\n",
      "\n",
      "VK2809 is a liver-targeted THRβ prodrug with an EC50 ~0.24 nM, designed to limit systemic THRα-mediated toxicity. Preclinical models and Phase II imaging (MRI-PDFF) show significant fat reduction, gene upregulation of β-oxidation pathways, and improved lipid profiles. The prodrug strategy favors hepatic activation but raises potential interpatient variability via CYP3A metabolism. While THRβ agonism robustly drives β-oxidation and LDL clearance, evidence for anti-inflammatory or anti-fibrotic effects and histologic improvement in fibrosis is less mature. Safety data are encouraging, with minimal thyroid off-target effects, but long-term histologic endpoints and variability in activation require further validation.\n",
      "\n",
      "In direct comparison, EDP-305 benefits from a more comprehensive evidence base—including anti-fibrotic data and progression toward histologic endpoints in ongoing trials—and targets multiple disease axes (lipid metabolism, inflammation, fibrosis) via FXR. VK2809 offers an elegant liver-selective design with strong steatosis and lipid data, but lacks robust fibrosis endpoints and faces activation variability. Thus, EDP-305 carries a higher probability of translatable success in NASH therapy.\",\"Reasoning\":\"EDP-305 is superior because it combines potent, selective FXR activation with demonstrable preclinical anti-fibrotic, anti-inflammatory, and metabolic benefits, supported by early human safety and liver-exposure data. The FXR agonist class has validated histologic endpoints in late‐stage trials, whereas VK2809, although promising for steatosis reduction, has limited evidence for fibrosis reversal and depends on variable CYP3A activation. EDP-305’s multifaceted MoA, translational precedence, and emerging clinical efficacy position it ahead in probability of therapeutic success.\",\"Winner\":\"(EDP-305, 3)\",\"Loser\":\"(VK2809, 11)\"}\n"
     ]
    },
    {
     "name": "stderr",
     "output_type": "stream",
     "text": [
      "Comparing Hypotheses: 100%|██████████| 300/300 [00:50<00:00,  5.89it/s]"
     ]
    },
    {
     "name": "stdout",
     "output_type": "stream",
     "text": [
      "\n",
      "JSON Decode Error for pair (14, 17) (Index 147): Invalid control character at: line 1 column 992 (char 991)\n",
      "Raw Content: {\"Analysis\":\"Both candidates aim to enhance fatty acid oxidation and ameliorate hepatic steatosis via metabolic pathway modulation, but differ markedly in evidence strength, mechanism specificity, and translational readiness. Candidate 1 (A-769662, ID 14) is a direct allosteric activator of AMPK with extensive preclinical validation in rodent high-fat diet and steatosis models. It engages a well-defined mechanism—binding the AMPK β1 subunit, promoting Thr172 phosphorylation, inactivating ACC, lowering malonyl-CoA, and disinhibiting CPT1—to drive mitochondrial β-oxidation. These effects correlate with reduced hepatic triglycerides, improved insulin sensitivity, and attenuated inflammation in disease-relevant models. Isoform specificity (β1) aligns with liver expression, and tolerability in rodents is established, although off-target Na+/K+-ATPase inhibition requires monitoring. The main development challenges are optimizing pharmacokinetics and formulation for clinical testing.\n",
      "\n",
      "Candidate 2 (ZLN005, ID 17) is a PGC1α transcriptional activator that enhances mitochondrial biogenesis and oxidative capacity. Preclinical data show benefits in ischemia-reperfusion injury and some steatosis models, including reduced liver triglycerides and increased mitochondrial markers. However, direct NASH-specific in vivo efficacy is limited, mechanistic action is indirect and broad, and safety and long-term toxicity have not been characterized in chronic models. While oral bioavailability is promising, the lack of robust NASH-focused PK/PD, safety profiling, and narrowly targeted action lowers its near-term translational confidence.\",\"Reasoning\":\"A-769662 is chosen over ZLN005 because it combines a clear, disease-relevant, and direct mechanism with robust preclinical efficacy in NASH models and an established tolerability profile. By targeting AMPK, A-769662 modulates core lipid metabolic pathways upstream of disease pathology, yielding reproducible biochemical and phenotypic improvements. In contrast, ZLN005’s indirect transcriptional approach and limited NASH-specific validation present greater translational risk and unknown safety liabilities.\",\"Winner\":\"(A-769662, 14)\",\"Loser\":\"(ZLN005, 17)\"}\n",
      "\n",
      "Finished processing pairs.\n",
      " - Successful comparisons: 297\n",
      " - Errors encountered: 3\n",
      "Successfully saved 297 results to robin_notebook/Non-alcoholic_Steatohepatitis_2025-05-15_09-27/therapeutic_candidate_ranking_results.csv\n",
      "Therapeutic candidate generation finished! Saved final rankings to robin_notebook/Non-alcoholic_Steatohepatitis_2025-05-15_09-27/ranked_therapeutic_candidates.csv\n"
     ]
    },
    {
     "name": "stderr",
     "output_type": "stream",
     "text": [
      "\n"
     ]
    }
   ],
   "source": [
    "await therapeutic_candidates(\n",
    "    candidate_generation_goal=candidate_generation_goal, configuration=config\n",
    ")"
   ]
  }
 ],
 "metadata": {
  "kernelspec": {
   "display_name": "poplar",
   "language": "python",
   "name": "python3"
  },
  "language_info": {
   "codemirror_mode": {
    "name": "ipython",
    "version": 3
   },
   "file_extension": ".py",
   "mimetype": "text/x-python",
   "name": "python",
   "nbconvert_exporter": "python",
   "pygments_lexer": "ipython3"
  }
 },
 "nbformat": 4,
 "nbformat_minor": 2
}
