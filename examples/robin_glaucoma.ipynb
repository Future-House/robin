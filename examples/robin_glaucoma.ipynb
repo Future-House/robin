{
 "cells": [
  {
   "cell_type": "markdown",
   "metadata": {},
   "source": [
    "# Robin: Hypothesis Generation for Drug Repurposing"
   ]
  },
  {
   "cell_type": "code",
   "execution_count": null,
   "metadata": {},
   "outputs": [],
   "source": [
    "import logging\n",
    "\n",
    "from robin.assays import experimental_assay\n",
    "from robin.candidates import therapeutic_candidates\n",
    "from robin.configuration import RobinConfiguration"
   ]
  },
  {
   "cell_type": "markdown",
   "metadata": {},
   "source": [
    "## Robin Set Up"
   ]
  },
  {
   "cell_type": "code",
   "execution_count": null,
   "metadata": {},
   "outputs": [],
   "source": [
    "config = RobinConfiguration(\n",
    "    disease_name=\"glaucoma\", num_assays=10, num_candidates=30, num_queries=5\n",
    ")\n",
    "\n",
    "logger = logging.getLogger(\"robin\")\n",
    "logger.setLevel(logging.INFO)"
   ]
  },
  {
   "cell_type": "markdown",
   "metadata": {},
   "source": [
    "# Initial therapeutic hypothesis generation"
   ]
  },
  {
   "cell_type": "markdown",
   "metadata": {},
   "source": [
    "### Experimental assay generation"
   ]
  },
  {
   "cell_type": "code",
   "execution_count": null,
   "metadata": {},
   "outputs": [
    {
     "name": "stdout",
     "output_type": "stream",
     "text": [
      "Starting selection of a relevant experimental assay.\n",
      "————————————————————————————————————————————————————\n",
      "\n",
      "Step 1: Formulating relevant queries for literature search...\n",
      "Generated Queries:\n",
      "1. Comprehensive review of molecular signaling pathways contributing to trabecular meshwork cell homeostasis, extracellular matrix regulation, and intraocular pressure elevation in glaucoma pathogenesis, emphasizing TGF-β, RhoA/ROCK, Wnt, oxidative stress, and fibrotic mechanisms \n",
      "2.  Identification and characterization of primary human trabecular meshwork cell culture models and immortalized retinal ganglion cell lines, including cell isolation protocols, culture media compositions, phenotype validation markers, and model applicability to high-throughput drug screening assays for glaucoma \n",
      "3.  Evaluation of mechanobiological and inflammatory mechanisms driving ocular hypertension in glaucoma, including the roles of shear stress, extracellular matrix stiffening, cytokine secretion, immune cell infiltration, and cell contractility in modulating aqueous humor outflow resistance, with implications for in vitro assay design \n",
      "4.  Advancements in high-content screening, live-cell imaging, and quantitative cytometry methods for assessing trabecular meshwork cell physiology, cytoskeletal dynamics, extracellular matrix remodeling, and cellular biomechanics under pharmacological interventions targeting intraocular pressure reduction in glaucoma preclinical assays \n",
      "5.  Systematic analysis of glaucoma-associated biomarkers, including matrix metalloproteinases, fibronectin, myocilin, alpha-SMA, oxidative stress markers like 4-HNE, and inflammatory cytokines in aqueous humor and trabecular meshwork cells, to define robust mechanistic endpoints and predictive therapeutic targets for cellular assay development\n",
      "\n",
      "Step 2: Conducting literature search with FutureHouse platform...\n",
      "Successfully wrote: query_1_comprehensive.txt to: robin_notebook/glaucoma_2025-05-15_13-27/experimental_assay_literature_reviews/query_1_comprehensive.txt\n",
      "Successfully wrote: query_2_identification.txt to: robin_notebook/glaucoma_2025-05-15_13-27/experimental_assay_literature_reviews/query_2_identification.txt\n",
      "Successfully wrote: query_3_evaluation.txt to: robin_notebook/glaucoma_2025-05-15_13-27/experimental_assay_literature_reviews/query_3_evaluation.txt\n",
      "Successfully wrote: query_4_advancements.txt to: robin_notebook/glaucoma_2025-05-15_13-27/experimental_assay_literature_reviews/query_4_advancements.txt\n",
      "Successfully wrote: query_5_systematic.txt to: robin_notebook/glaucoma_2025-05-15_13-27/experimental_assay_literature_reviews/query_5_systematic.txt\n",
      "\n",
      "Step 3: Generating ideas for relevant experimental assays...\n",
      "Strategy: Collagen gel contraction assay<|>Reasoning: Embed primary human TM cells in a type I colla...\n",
      "Strategy: TGF-β induced fibronectin deposition<|>Reasoning: Treat TM monolayers with TGF-β1 to stimu...\n",
      "Strategy: Wnt/β-catenin reporter assay<|>Reasoning: Stably transfect TM cells with a TOPFlash lucife...\n",
      "Strategy: Oxidative stress resistance assay<|>Reasoning: Expose TM cells to H2O2 and measure intrace...\n",
      "Strategy: Substrate stiffness YAP/TAZ localization<|>Reasoning: Culture TM cells on polyacrylamide g...\n",
      "Strategy: Gelatin‐FITC degradation assay<|>Reasoning: Plate TM cells on FITC‐labeled gelatin and mea...\n",
      "Strategy: Myocilin secretion ELISA<|>Reasoning: Induce myocilin overexpression in TM cells with dexa...\n",
      "Strategy: Traction force microscopy<|>Reasoning: Seed TM cells on fluorescent bead‐embedded hydrogel...\n",
      "Strategy: TNF-α induced IL-6 secretion<|>Reasoning: Stimulate TM cells with TNF-α and quantify IL-6 ...\n",
      "Strategy: Phagocytosis bead uptake assay<|>Reasoning: Incubate TM cells with fluorescent microsphere...\n",
      "Successfully exported to robin_notebook/glaucoma_2025-05-15_13-27/experimental_assay_summary.txt\n",
      "\n",
      "Step 4: Detailed investigation and evaluation for each assay...\n",
      "Successfully wrote: assay_hypothesis_1_collagen.txt to: robin_notebook/glaucoma_2025-05-15_13-27/experimental_assay_detailed_hypotheses/assay_hypothesis_1_collagen.txt\n",
      "Successfully wrote: assay_hypothesis_2_tgf.txt to: robin_notebook/glaucoma_2025-05-15_13-27/experimental_assay_detailed_hypotheses/assay_hypothesis_2_tgf.txt\n",
      "Successfully wrote: assay_hypothesis_3_wnt.txt to: robin_notebook/glaucoma_2025-05-15_13-27/experimental_assay_detailed_hypotheses/assay_hypothesis_3_wnt.txt\n",
      "Successfully wrote: assay_hypothesis_4_oxidative.txt to: robin_notebook/glaucoma_2025-05-15_13-27/experimental_assay_detailed_hypotheses/assay_hypothesis_4_oxidative.txt\n",
      "Successfully wrote: assay_hypothesis_5_substrate.txt to: robin_notebook/glaucoma_2025-05-15_13-27/experimental_assay_detailed_hypotheses/assay_hypothesis_5_substrate.txt\n",
      "Successfully wrote: assay_hypothesis_6_gelatin.txt to: robin_notebook/glaucoma_2025-05-15_13-27/experimental_assay_detailed_hypotheses/assay_hypothesis_6_gelatin.txt\n",
      "Successfully wrote: assay_hypothesis_7_myocilin.txt to: robin_notebook/glaucoma_2025-05-15_13-27/experimental_assay_detailed_hypotheses/assay_hypothesis_7_myocilin.txt\n",
      "Successfully wrote: assay_hypothesis_8_traction.txt to: robin_notebook/glaucoma_2025-05-15_13-27/experimental_assay_detailed_hypotheses/assay_hypothesis_8_traction.txt\n",
      "Successfully wrote: assay_hypothesis_9_tnf.txt to: robin_notebook/glaucoma_2025-05-15_13-27/experimental_assay_detailed_hypotheses/assay_hypothesis_9_tnf.txt\n",
      "Successfully wrote: assay_hypothesis_10_phagocytosis.txt to: robin_notebook/glaucoma_2025-05-15_13-27/experimental_assay_detailed_hypotheses/assay_hypothesis_10_phagocytosis.txt\n",
      "\n",
      "Step 5: Selecting the top experimental assay...\n",
      "Starting comparisons for 45 pairs with max concurrency 100...\n"
     ]
    },
    {
     "name": "stderr",
     "output_type": "stream",
     "text": [
      "Comparing Hypotheses: 100%|██████████| 45/45 [00:21<00:00,  2.08it/s]\n"
     ]
    },
    {
     "name": "stdout",
     "output_type": "stream",
     "text": [
      "\n",
      "Finished processing pairs.\n",
      " - Successful comparisons: 45\n",
      " - Errors encountered: 0\n",
      "Successfully saved 45 results to robin_notebook/glaucoma_2025-05-15_13-27/experimental_assay_ranking_results.csv\n",
      "Experimental Assay Selected: Collagen gel contraction assay\n",
      "Candidate Generation Goal: To screen a focused small-molecule library using a collagen gel contraction assay on glaucomatous human trabecular meshwork cells to identify inhibitors of TGF-β–driven ECM contraction as novel glaucoma therapeutics.\n"
     ]
    }
   ],
   "source": [
    "candidate_generation_goal = await experimental_assay(configuration=config)"
   ]
  },
  {
   "cell_type": "markdown",
   "metadata": {},
   "source": [
    "### Therapeutic candidate generation"
   ]
  },
  {
   "cell_type": "code",
   "execution_count": null,
   "metadata": {},
   "outputs": [
    {
     "name": "stdout",
     "output_type": "stream",
     "text": [
      "Starting generation of 30 therapeutic candidates.\n",
      "———————————————————————————————————————————————————————————————\n",
      "\n",
      "Step 1: Formulating relevant queries for literature search...\n",
      "Generated Queries:\n",
      "1. Studies on high-throughput screening of focused small-molecule libraries using collagen gel contraction assays in glaucomatous human trabecular meshwork cells to identify selective TGF-β signaling inhibitors with evidence of target engagement, pathway modulation, and ocular safety profiles\n",
      "2. Evidence of in vivo efficacy and safety of selective TGF-β pathway inhibitors for reducing intraocular pressure and preventing extracellular matrix remodeling in animal models of glaucoma, including detailed pharmacokinetic data on ocular tissue distribution, therapeutic window, and safety profiles\n",
      "3. Literature on small-molecule inhibitors originally developed for systemic fibrotic diseases (e.g., idiopathic pulmonary fibrosis) repurposed for ocular application: focusing on TGF-β receptor kinase inhibitors with evidence of trabecular meshwork ECM modulation, pharmacokinetics, and ocular safety from preclinical or early clinical studies\n",
      "4. Comprehensive review of scaffold-based and microenvironment-sensitive small-molecule delivery platforms targeting TGF-β-driven extracellular matrix contraction in ocular tissues, assessing biocompatibility, sustained release kinetics, and effects on trabecular meshwork cell contraction\n",
      "5. Analysis of clinical and translational studies evaluating safety, tolerability, and pharmacodynamics of intravitreal or topical TGF-β neutralizing biologics and small molecules in glaucoma or other ocular fibrotic conditions, including biomarkers of ECM remodeling and intraocular pressure changes\n",
      "6. Genetic association studies linking polymorphisms or mutations in TGF-β pathway components (e.g., TGFB1, TGFBR2, SMAD3) with primary open-angle glaucoma susceptibility and progression, and functional validation in trabecular meshwork cells\n",
      "7. Cellular and molecular mechanisms by which TGF-β induces extracellular matrix protein expression (e.g., fibronectin, collagen I and III) and actomyosin-mediated contraction in human trabecular meshwork cells, including cross-talk with ROCK, YAP/TAZ, and integrin signaling pathways\n",
      "8. Biomechanical characterization of glaucomatous trabecular meshwork extracellular matrix stiffness and contractile behavior: studies using collagen gel models, atomic force microscopy, and relevance to aqueous humor outflow resistance\n",
      "9. Pathophysiological role of oxidative stress and TGF-β signaling interactions in promoting fibrotic changes and impaired cellular contractility in trabecular meshwork cells from glaucoma patients, with insights into redox modulation strategies\n",
      "10. Comparative analysis of human donor-derived glaucomatous versus non-glaucomatous trabecular meshwork cell transcriptomic and proteomic signatures highlighting dysregulated ECM remodeling, TGF-β pathway activation, mechanotransduction, and candidate druggable targets\n",
      "\n",
      "Step 2: Conducting literature search with FutureHouse platform...\n",
      "Successfully wrote: query_1_studies.txt to: robin_notebook/glaucoma_2025-05-15_13-27/therapeutic_candidate_literature_reviews/query_1_studies.txt\n",
      "Successfully wrote: query_2_evidence.txt to: robin_notebook/glaucoma_2025-05-15_13-27/therapeutic_candidate_literature_reviews/query_2_evidence.txt\n",
      "Successfully wrote: query_3_literature.txt to: robin_notebook/glaucoma_2025-05-15_13-27/therapeutic_candidate_literature_reviews/query_3_literature.txt\n",
      "Successfully wrote: query_4_comprehensive.txt to: robin_notebook/glaucoma_2025-05-15_13-27/therapeutic_candidate_literature_reviews/query_4_comprehensive.txt\n",
      "Successfully wrote: query_5_analysis.txt to: robin_notebook/glaucoma_2025-05-15_13-27/therapeutic_candidate_literature_reviews/query_5_analysis.txt\n",
      "Successfully wrote: query_6_genetic.txt to: robin_notebook/glaucoma_2025-05-15_13-27/therapeutic_candidate_literature_reviews/query_6_genetic.txt\n",
      "Successfully wrote: query_7_cellular.txt to: robin_notebook/glaucoma_2025-05-15_13-27/therapeutic_candidate_literature_reviews/query_7_cellular.txt\n",
      "Successfully wrote: query_8_biomechanical.txt to: robin_notebook/glaucoma_2025-05-15_13-27/therapeutic_candidate_literature_reviews/query_8_biomechanical.txt\n",
      "Successfully wrote: query_9_pathophysiological.txt to: robin_notebook/glaucoma_2025-05-15_13-27/therapeutic_candidate_literature_reviews/query_9_pathophysiological.txt\n",
      "Successfully wrote: query_10_comparative.txt to: robin_notebook/glaucoma_2025-05-15_13-27/therapeutic_candidate_literature_reviews/query_10_comparative.txt\n",
      "\n",
      "Step 3: Generating 30 ideas for therapeutic candidates...\n"
     ]
    },
    {
     "name": "stderr",
     "output_type": "stream",
     "text": [
      "Missing CANDIDATE or HYPOTHESIS in block: <CANDIDATE START>\n",
      "CANDIDATE: Simtuzumab, an anti–LOXL2 monoclonal antibody.\n",
      "HYPOTHESIS: Simtuzumab w... Skipping.\n"
     ]
    },
    {
     "name": "stdout",
     "output_type": "stream",
     "text": [
      "\n",
      "Successfully parsed 29 candidate ideas.\n",
      "Candidate: ISTH0036, a locked nucleic acid–modified antisense oligonucleotide targeting TGF-β2 mRNA....\n",
      "Candidate: Pirfenidone (Sigma-Aldrich cat. P2116).<|>Hypothesis: Pirfenidone will inhibit TGF-β–indu...\n",
      "Candidate: SB431542 (Sigma-Aldrich cat. S4317).<|>Hypothesis: SB431542 will selectively inhibit ALK5...\n",
      "Candidate: LY2109761 (Sigma-Aldrich cat. SML0574).<|>Hypothesis: LY2109761 will dual‐block TGF-β rec...\n",
      "Candidate: Fresolimumab (GC-1008), a pan–TGF-β neutralizing monoclonal antibody.<|>Hypothesis: Subco...\n",
      "Candidate: SIS3 (Sigma-Aldrich cat. S7665), a selective SMAD3 phosphorylation inhibitor.<|>Hypothesi...\n",
      "Candidate: Y-27632 (Sigma-Aldrich cat. Y0503).<|>Hypothesis: Y-27632 will inhibit ROCK1/2 in trabecu...\n",
      "Candidate: Ripasudil (K-115), a rho kinase inhibitor approved for glaucoma in Japan.<|>Hypothesis: R...\n",
      "Candidate: Netarsudil, a dual rho kinase and norepinephrine transporter inhibitor.<|>Hypothesis: Net...\n",
      "Candidate: Fasudil (HA-1077), a rho kinase inhibitor.<|>Hypothesis: Fasudil will block ROCK-dependen...\n",
      "Candidate: Cilengitide (EMD 121974), an integrin αVβ3/αVβ5 antagonist.<|>Hypothesis: Cilengitide wil...\n",
      "Candidate: Pamrevlumab (FG-3019), an anti–CTGF monoclonal antibody.<|>Hypothesis: Pamrevlumab will n...\n",
      "Candidate: KD025 (SLx-2119), a selective ROCK2 inhibitor.<|>Hypothesis: KD025 will selectively inhib...\n",
      "Candidate: Rapamycin (Sirolimus).<|>Hypothesis: Rapamycin will inhibit mTORC1 in trabecular meshwork...\n",
      "Candidate: Bardoxolone methyl (CDDO-Me).<|>Hypothesis: Bardoxolone methyl will activate Nrf2 in trab...\n",
      "Candidate: Sulforaphane, an Nrf2 pathway activator (Cayman Chemical cat. 77919).<|>Hypothesis: Sulfo...\n",
      "Candidate: MitoQ, a mitochondria-targeted antioxidant.<|>Hypothesis: MitoQ will accumulate in trabec...\n",
      "Candidate: SS-31 (Elamipretide), a mitochondrial membrane‐targeting peptide.<|>Hypothesis: SS-31 wil...\n",
      "Candidate: Losartan, an angiotensin II type 1 receptor blocker.<|>Hypothesis: Losartan will prevent ...\n",
      "Candidate: Candesartan, an angiotensin II type 1 receptor blocker.<|>Hypothesis: Candesartan will bl...\n",
      "Candidate: Simvastatin.<|>Hypothesis: Simvastatin will inhibit HMG-CoA reductase in trabecular meshw...\n",
      "Candidate: Atorvastatin.<|>Hypothesis: Atorvastatin will reduce RhoA prenylation in trabecular meshw...\n",
      "Candidate: Verteporfin.<|>Hypothesis: Verteporfin will inhibit YAP/TAZ nuclear activity in trabecula...\n",
      "Candidate: Galunisertib (LY2157299).<|>Hypothesis: Galunisertib will selectively inhibit TGF-β recep...\n",
      "Candidate: PXS-5153A, a small-molecule LOXL2 inhibitor.<|>Hypothesis: PXS-5153A will inhibit LOXL2 e...\n",
      "Candidate: Halofuginone.<|>Hypothesis: Halofuginone will inhibit prolyl-tRNA synthetase in trabecula...\n",
      "Candidate: SB525334, a selective TGF-β receptor type I kinase inhibitor.<|>Hypothesis: SB525334 will...\n",
      "Candidate: Tranilast.<|>Hypothesis: Tranilast will inhibit the release and signaling of TGF-β in tra...\n",
      "Candidate: Calcipotriol, a vitamin D analog.<|>Hypothesis: Calcipotriol will activate the vitamin D ...\n",
      "Successfully exported to robin_notebook/glaucoma_2025-05-15_13-27/therapeutic_candidates_summary.txt\n",
      "\n",
      "Step 4: Detailed investigation and evaluation for candidates...\n",
      "Successfully wrote: therapeutic_candidate_1_isth0036.txt to: robin_notebook/glaucoma_2025-05-15_13-27/therapeutic_candidate_detailed_hypotheses/therapeutic_candidate_1_isth0036.txt\n",
      "Successfully wrote: therapeutic_candidate_2_pirfenidone.txt to: robin_notebook/glaucoma_2025-05-15_13-27/therapeutic_candidate_detailed_hypotheses/therapeutic_candidate_2_pirfenidone.txt\n",
      "Successfully wrote: therapeutic_candidate_3_sb431542.txt to: robin_notebook/glaucoma_2025-05-15_13-27/therapeutic_candidate_detailed_hypotheses/therapeutic_candidate_3_sb431542.txt\n",
      "Successfully wrote: therapeutic_candidate_4_ly2109761.txt to: robin_notebook/glaucoma_2025-05-15_13-27/therapeutic_candidate_detailed_hypotheses/therapeutic_candidate_4_ly2109761.txt\n",
      "Successfully wrote: therapeutic_candidate_5_fresolimumab.txt to: robin_notebook/glaucoma_2025-05-15_13-27/therapeutic_candidate_detailed_hypotheses/therapeutic_candidate_5_fresolimumab.txt\n",
      "Successfully wrote: therapeutic_candidate_6_sis3.txt to: robin_notebook/glaucoma_2025-05-15_13-27/therapeutic_candidate_detailed_hypotheses/therapeutic_candidate_6_sis3.txt\n",
      "Successfully wrote: therapeutic_candidate_7_y.txt to: robin_notebook/glaucoma_2025-05-15_13-27/therapeutic_candidate_detailed_hypotheses/therapeutic_candidate_7_y.txt\n",
      "Successfully wrote: therapeutic_candidate_8_ripasudil.txt to: robin_notebook/glaucoma_2025-05-15_13-27/therapeutic_candidate_detailed_hypotheses/therapeutic_candidate_8_ripasudil.txt\n",
      "Successfully wrote: therapeutic_candidate_9_netarsudil.txt to: robin_notebook/glaucoma_2025-05-15_13-27/therapeutic_candidate_detailed_hypotheses/therapeutic_candidate_9_netarsudil.txt\n",
      "Successfully wrote: therapeutic_candidate_10_fasudil.txt to: robin_notebook/glaucoma_2025-05-15_13-27/therapeutic_candidate_detailed_hypotheses/therapeutic_candidate_10_fasudil.txt\n",
      "Successfully wrote: therapeutic_candidate_11_cilengitide.txt to: robin_notebook/glaucoma_2025-05-15_13-27/therapeutic_candidate_detailed_hypotheses/therapeutic_candidate_11_cilengitide.txt\n",
      "Successfully wrote: therapeutic_candidate_12_pamrevlumab.txt to: robin_notebook/glaucoma_2025-05-15_13-27/therapeutic_candidate_detailed_hypotheses/therapeutic_candidate_12_pamrevlumab.txt\n",
      "Successfully wrote: therapeutic_candidate_13_kd025.txt to: robin_notebook/glaucoma_2025-05-15_13-27/therapeutic_candidate_detailed_hypotheses/therapeutic_candidate_13_kd025.txt\n",
      "Successfully wrote: therapeutic_candidate_14_rapamycin.txt to: robin_notebook/glaucoma_2025-05-15_13-27/therapeutic_candidate_detailed_hypotheses/therapeutic_candidate_14_rapamycin.txt\n",
      "Successfully wrote: therapeutic_candidate_15_bardoxolone.txt to: robin_notebook/glaucoma_2025-05-15_13-27/therapeutic_candidate_detailed_hypotheses/therapeutic_candidate_15_bardoxolone.txt\n",
      "Successfully wrote: therapeutic_candidate_16_sulforaphane.txt to: robin_notebook/glaucoma_2025-05-15_13-27/therapeutic_candidate_detailed_hypotheses/therapeutic_candidate_16_sulforaphane.txt\n",
      "Successfully wrote: therapeutic_candidate_17_mitoq.txt to: robin_notebook/glaucoma_2025-05-15_13-27/therapeutic_candidate_detailed_hypotheses/therapeutic_candidate_17_mitoq.txt\n",
      "Successfully wrote: therapeutic_candidate_18_ss.txt to: robin_notebook/glaucoma_2025-05-15_13-27/therapeutic_candidate_detailed_hypotheses/therapeutic_candidate_18_ss.txt\n",
      "Successfully wrote: therapeutic_candidate_19_losartan.txt to: robin_notebook/glaucoma_2025-05-15_13-27/therapeutic_candidate_detailed_hypotheses/therapeutic_candidate_19_losartan.txt\n",
      "Successfully wrote: therapeutic_candidate_20_candesartan.txt to: robin_notebook/glaucoma_2025-05-15_13-27/therapeutic_candidate_detailed_hypotheses/therapeutic_candidate_20_candesartan.txt\n",
      "Successfully wrote: therapeutic_candidate_21_simvastatin.txt to: robin_notebook/glaucoma_2025-05-15_13-27/therapeutic_candidate_detailed_hypotheses/therapeutic_candidate_21_simvastatin.txt\n",
      "Successfully wrote: therapeutic_candidate_22_atorvastatin.txt to: robin_notebook/glaucoma_2025-05-15_13-27/therapeutic_candidate_detailed_hypotheses/therapeutic_candidate_22_atorvastatin.txt\n",
      "Successfully wrote: therapeutic_candidate_23_verteporfin.txt to: robin_notebook/glaucoma_2025-05-15_13-27/therapeutic_candidate_detailed_hypotheses/therapeutic_candidate_23_verteporfin.txt\n",
      "Successfully wrote: therapeutic_candidate_24_galunisertib.txt to: robin_notebook/glaucoma_2025-05-15_13-27/therapeutic_candidate_detailed_hypotheses/therapeutic_candidate_24_galunisertib.txt\n",
      "Successfully wrote: therapeutic_candidate_25_pxs.txt to: robin_notebook/glaucoma_2025-05-15_13-27/therapeutic_candidate_detailed_hypotheses/therapeutic_candidate_25_pxs.txt\n",
      "Successfully wrote: therapeutic_candidate_26_halofuginone.txt to: robin_notebook/glaucoma_2025-05-15_13-27/therapeutic_candidate_detailed_hypotheses/therapeutic_candidate_26_halofuginone.txt\n",
      "Successfully wrote: therapeutic_candidate_27_sb525334.txt to: robin_notebook/glaucoma_2025-05-15_13-27/therapeutic_candidate_detailed_hypotheses/therapeutic_candidate_27_sb525334.txt\n",
      "Successfully wrote: therapeutic_candidate_28_tranilast.txt to: robin_notebook/glaucoma_2025-05-15_13-27/therapeutic_candidate_detailed_hypotheses/therapeutic_candidate_28_tranilast.txt\n",
      "Successfully wrote: therapeutic_candidate_29_calcipotriol.txt to: robin_notebook/glaucoma_2025-05-15_13-27/therapeutic_candidate_detailed_hypotheses/therapeutic_candidate_29_calcipotriol.txt\n",
      "\n",
      "Step 5: Ranking the strength of the therapeutic candidates...\n",
      "Processing file: therapeutic_candidate_23_verteporfin.txt...\n",
      "Processing file: therapeutic_candidate_28_tranilast.txt...\n",
      "Processing file: therapeutic_candidate_26_halofuginone.txt...\n",
      "Processing file: therapeutic_candidate_4_ly2109761.txt...\n",
      "Processing file: therapeutic_candidate_9_netarsudil.txt...\n",
      "Processing file: therapeutic_candidate_19_losartan.txt...\n",
      "Processing file: therapeutic_candidate_6_sis3.txt...\n",
      "Processing file: therapeutic_candidate_7_y.txt...\n",
      "Processing file: therapeutic_candidate_2_pirfenidone.txt...\n",
      "Processing file: therapeutic_candidate_17_mitoq.txt...\n",
      "Processing file: therapeutic_candidate_8_ripasudil.txt...\n",
      "Processing file: therapeutic_candidate_12_pamrevlumab.txt...\n",
      "Processing file: therapeutic_candidate_18_ss.txt...\n",
      "Processing file: therapeutic_candidate_14_rapamycin.txt...\n",
      "Processing file: therapeutic_candidate_13_kd025.txt...\n",
      "Processing file: therapeutic_candidate_16_sulforaphane.txt...\n",
      "Processing file: therapeutic_candidate_27_sb525334.txt...\n",
      "Processing file: therapeutic_candidate_22_atorvastatin.txt...\n",
      "Processing file: therapeutic_candidate_11_cilengitide.txt...\n",
      "Processing file: therapeutic_candidate_25_pxs.txt...\n",
      "Processing file: therapeutic_candidate_1_isth0036.txt...\n",
      "Processing file: therapeutic_candidate_5_fresolimumab.txt...\n",
      "Processing file: therapeutic_candidate_20_candesartan.txt...\n",
      "Processing file: therapeutic_candidate_24_galunisertib.txt...\n",
      "Processing file: therapeutic_candidate_15_bardoxolone.txt...\n",
      "Processing file: therapeutic_candidate_29_calcipotriol.txt...\n",
      "Processing file: therapeutic_candidate_10_fasudil.txt...\n",
      "Processing file: therapeutic_candidate_3_sb431542.txt...\n",
      "Processing file: therapeutic_candidate_21_simvastatin.txt...\n",
      "Starting comparisons for 300 pairs with max concurrency 100...\n"
     ]
    },
    {
     "name": "stderr",
     "output_type": "stream",
     "text": [
      "Comparing Hypotheses:  71%|███████   | 212/300 [00:30<00:07, 11.47it/s]"
     ]
    },
    {
     "name": "stdout",
     "output_type": "stream",
     "text": [
      "\n",
      "JSON Decode Error for pair (14, 18) (Index 44): Invalid control character at: line 2 column 1009 (char 1010)\n",
      "Raw Content: {\n",
      "  \"Analysis\": \"Both candidates propose mechanisms to address trabecular meshwork (TM) dysfunction and extracellular matrix (ECM) remodeling in glaucoma, but they differ in evidentiary support, translational readiness, and directness of effect on intraocular pressure (IOP). KD025 (SLx-2119) is a selective ROCK2 inhibitor within a drug class already proven in clinical practice to lower IOP (e.g., netarsudil, ripasudil). Its mechanism—attenuation of MLC phosphorylation, actomyosin relaxation, and reduction of ECM deposition in TM cells—is clear, direct, and central to glaucoma pathophysiology. KD025 benefits from substantial systemic safety and PK data from phase 1/2 trials in cGVHD and psoriasis, and its engineered selectivity promises fewer vascular side effects than dual ROCK inhibitors. The primary gap is the lack of direct ocular efficacy studies, but robust class precedents support translational feasibility, and topical ophthalmic delivery of small-molecule kinase inhibitors is established.\n",
      "\n",
      "Cilengitide is a cyclic RGD peptide antagonist of integrins αvβ3/αvβ5, aiming to block latent TGF-β activation upstream of fibrotic cascades in the TM. Its mechanism is scientifically plausible and novel, and extensive oncology trials confirm tolerability. However, cilengitide has no direct preclinical or clinical data in glaucoma or ocular fibrosis models. Its peptide nature and previous intravenous administration present significant formulation and delivery challenges for targeting the TM. Additionally, integrin inhibition addresses fibrosis but lacks the immediate cytoskeletal relaxation that directly enhances aqueous outflow. Evidence of biphasic activity and the multifactorial nature of glaucoma pathology suggest that integrin blockade alone may be insufficient to lower IOP effectively. Overall, KD025’s clearer MoA, strong class evidence for glaucoma, established safety, and more straightforward drug delivery pathway make it the stronger candidate for translation.\",  \n",
      "  \"Reasoning\": \"KD025 (14) is superior because it leverages a validated therapeutic class for lowering IOP via direct TM relaxation and ECM modulation, backed by extensive clinical safety and established ocular precedent for ROCK inhibition. Its selective ROCK2 targeting also promises an improved side-effect profile. Cilengitide (18), while novel in targeting upstream TGF-β activation, suffers from a lack of direct ocular data, formulation challenges for ocular delivery, and potential paradoxical effects at suboptimal doses. The translational risk and indirectness of its effect on IOP reduce its priority compared to the more mature and directly relevant KD025.\",  \n",
      "  \"Winner\": \"(KD025, 14)\",  \n",
      "  \"Loser\": \"(Cilengitide, 18)\"  \n",
      "}\n"
     ]
    },
    {
     "name": "stderr",
     "output_type": "stream",
     "text": [
      "Comparing Hypotheses:  75%|███████▍  | 224/300 [00:31<00:07, 10.26it/s]"
     ]
    },
    {
     "name": "stdout",
     "output_type": "stream",
     "text": [
      "\n",
      "JSON Decode Error for pair (10, 21) (Index 143): Invalid control character at: line 1 column 878 (char 877)\n",
      "Raw Content: {\"Analysis\":\"Candidate 1 (Ripasudil, K-115) boasts robust and directly relevant evidence in glaucoma: extensive preclinical models, phase II/III clinical trials, and regulatory approval in Japan for lowering intraocular pressure (IOP). Its mechanism—selective ROCK1/2 inhibition—directly targets trabecular meshwork (TM) cell contractility and extracellular matrix (ECM) deposition, addressing the core pathology of elevated outflow resistance. Its ocular delivery (topical eye drops) is validated, and PK/PD profiles in ocular tissues are well characterized. Safety is favorable, with only mild transient conjunctival hyperemia and a known risk profile supported by thousands of patient‐days of use. Methodologically, the experimental plan is straightforward: measure TM cell relaxation, stress fiber disassembly, and IOP reduction in established animal and human cell models.\n",
      "\n",
      "Candidate 2 (Fresolimumab) has a strong mechanistic rationale via pan–TGF-β neutralization to reduce TM fibrosis, and systemic safety/PD data in fibrotic and oncologic indications. However, the evidence for ocular efficacy is indirect. There are no published ocular administration studies or clinical trials in glaucoma; its PK/PD in the anterior chamber and ability to penetrate TM remain untested. Local delivery (subconjunctival or topical) raises substantial formulation, immunogenicity, and wound‐healing safety concerns, especially given TGF-β’s homeostatic roles in the eye. The feasibility of achieving therapeutic intraocular concentrations without systemic exposure or local toxicity is uncertain. While scientifically novel, the translational risk and lack of direct glaucoma data severely limit confidence in its success compared to ripasudil.\",\"Reasoning\":\"Ripasudil is supported by decades of cumulative evidence—from in vitro TM assays to animal models to large, randomized clinical trials—culminating in regulatory approval. Its direct MoA in improving outflow facility is proven and clinically validated, and its safety and delivery are established. Fresolimumab, despite a compelling anti-fibrotic hypothesis, lacks any direct ocular data, poses significant delivery and safety uncertainties, and would require extensive preclinical optimization before demonstrating proof of concept. Therefore, ripasudil has a far higher probability of successful experimental outcomes and eventual clinical translation in glaucoma.\",\"Winner\":\"(Ripasudil, 10)\",\"Loser\":\"(Fresolimumab, 21)\"}\n"
     ]
    },
    {
     "name": "stderr",
     "output_type": "stream",
     "text": [
      "Comparing Hypotheses: 100%|██████████| 300/300 [00:50<00:00,  5.93it/s]"
     ]
    },
    {
     "name": "stdout",
     "output_type": "stream",
     "text": [
      "\n",
      "Finished processing pairs.\n",
      " - Successful comparisons: 298\n",
      " - Errors encountered: 2\n",
      "Successfully saved 298 results to robin_notebook/glaucoma_2025-05-15_13-27/therapeutic_candidate_ranking_results.csv\n",
      "Therapeutic candidate generation finished! Saved final rankings to robin_notebook/glaucoma_2025-05-15_13-27/ranked_therapeutic_candidates.csv\n"
     ]
    },
    {
     "name": "stderr",
     "output_type": "stream",
     "text": [
      "\n"
     ]
    }
   ],
   "source": [
    "await therapeutic_candidates(\n",
    "    candidate_generation_goal=candidate_generation_goal, configuration=config\n",
    ")"
   ]
  }
 ],
 "metadata": {
  "kernelspec": {
   "display_name": "poplar",
   "language": "python",
   "name": "python3"
  },
  "language_info": {
   "codemirror_mode": {
    "name": "ipython",
    "version": 3
   },
   "file_extension": ".py",
   "mimetype": "text/x-python",
   "name": "python",
   "nbconvert_exporter": "python",
   "pygments_lexer": "ipython3"
  }
 },
 "nbformat": 4,
 "nbformat_minor": 2
}
